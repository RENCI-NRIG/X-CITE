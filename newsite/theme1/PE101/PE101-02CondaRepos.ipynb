{
 "cells": [
  {
   "cell_type": "markdown",
   "id": "40a3b7fa-272e-42ef-88d3-21e285351f18",
   "metadata": {},
   "source": [
    "# PE101-02: Repositories, Sharing, and Conda\n",
    "\n",
    "As we've mentioned, there is an awful lot of Python code out in the world completely free for us to use. There packages as broadly useful as \"SciPy\" (numerical methods for the sciences) and as narrowly interesting as \"bosch-thermostat-client\" for setting values in Bosch Thermostats. With so many packages available, if there is something you need to do in a Jupyter notebook or in a Python program, there is a good chance someone else has done at least part of it and made it available as a package.\n",
    "\n",
    "Publicly-available packages have to be kept somewhere to be useful. If programmers can't find them, then they might as well not be made public. Fortunately, the Python world has a central repository - [www.pypi.org](www.pypi.org). The repository (usually shortened to just \"repo\", both vowels are long) is searchable.\n",
    "\n",
    "One thing to notice in the repository is that packages there have version numbers. It's also pretty common for one package to require another - scikit-learn requires scipy, for instance. Sometimes the requirements also have version numbers. There can be cases where Package A requires Package B, and specifically Package B has to have a version number greater than or equal to 11.  When you have a lot of packages to import it can get cumbersome to check all the dependencies and make sure you have a combination that [satisfies all the constraints](https://en.wikipedia.org/wiki/Satisfiability).\n",
    "\n",
    "In fact, it's more than just cumbersome. Automatic checking is the only practical solution once the problem gets much size to it, and a piece of software that does this is called a [SAT solver](https://en.wikipedia.org/wiki/SAT_solver).\n",
    "\n",
    "## Conda - hard problems made solvable\n",
    "\n",
    "Fortunately, there is **Conda**, a software tool and a repository of its own. The conda developers keep a subset of the half billion packages that are available and they ensure that their repository reflects a combination of versions that should work together. They do the hard work, we take advantage of it. They stay in business by selling their tools to commercial users but, being a research organization, we're not required to pay.\n",
    "\n",
    "Conda also has another useful trick: it can take advantage of Python's _virtual environments_ to let you load outside packages into a completely private space. This way, when you download and install the \"instantnobelprize\" package (I made that up), it's only written to your own directories. Other users, and the system as a whole, are protected from whatever it might contain.\n",
    "\n",
    "Setting up Conda and using it with Jupyter notebooks takes a little bit of work and has to be done from the command line, but so often it's worth it. If you haven't used the command line yet, take a look at the training units in SF100 on the Linux command line and scripting.\n",
    "\n",
    "What follows is taken directly from [the CLASSE wiki entry for JupyterHub](https://wiki.classe.cornell.edu/Computing/JupyterHub) with just a few modifications.\n",
    "\n",
    "## Python Environments\n",
    "\n",
    "A Python environment is a local, unique to a user, repository plus a copy of the Python interpreter itself. Having a private environment is how we can load specific versions of packages even when the server has a different one. It even lets us install specific versions of python without affecting anyone else.\n",
    "\n",
    "When you launch a new notebook, you are presented with a dropdown to select your desired python kernel. The default Python 3 kernel is a CLASSE-IT maintained conda environment in /nfs/opt/anaconda3/envs/python3\n",
    "\n",
    "## Adding New Environments\n",
    "\n",
    "In addition, you can install your own python environments and have them added as an option when creating new notebooks.\n",
    "\n",
    "Create your own python environment using your desired python installation. Please see [LinuxSoftwareDevelopment](https://wiki.classe.cornell.edu/Computing/LinuxSoftwareDevelopment#Python) for a list of centrally maintained python environments, and further down [LinuxSoftwareDevelopment](https://wiki.classe.cornell.edu/Computing/LinuxSoftwareDevelopment#A_42How_to_install_Anaconda_on_a_CLASSE_Linux_system_to_avoid_interference_with_the_Login_Environment_42) for tips on creating your own conda installation.\n",
    "\n",
    "Install anything you like in the environment, but you MUST at least install ipykernel. For example\n",
    "\n",
    "`\n",
    "pip install ipykernel\n",
    "`\n",
    "\n",
    "Activate the new environment. If using conda, this would look something like:\n",
    "\n",
    "`\n",
    "source /path/to/conda/install/bin/activate\n",
    "conda activate my-python-env\n",
    "`\n",
    "\n",
    "Add the virtual environment as a jupyter kernel using\n",
    "\n",
    "`\n",
    "python -m ipykernel install --user --name=my-python-env --display-name \"My Python Env\"\n",
    "`\n",
    "\n",
    "This adds the kernel to ~/.local/share/jupyter/kernels/ and now it can be used by Jupyter. When you create a new notebook now, \"My Python Env\" will be one of your choices.\n",
    "\n"
   ]
  },
  {
   "cell_type": "code",
   "execution_count": null,
   "id": "335e61fb-511a-44f4-b5ec-988e84655f80",
   "metadata": {},
   "outputs": [],
   "source": []
  }
 ],
 "metadata": {
  "kernelspec": {
   "display_name": "xcitevenv",
   "language": "python",
   "name": "xcitevenv"
  },
  "language_info": {
   "codemirror_mode": {
    "name": "ipython",
    "version": 3
   },
   "file_extension": ".py",
   "mimetype": "text/x-python",
   "name": "python",
   "nbconvert_exporter": "python",
   "pygments_lexer": "ipython3",
   "version": "3.12.3"
  }
 },
 "nbformat": 4,
 "nbformat_minor": 5
}
