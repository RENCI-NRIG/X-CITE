{
 "cells": [
  {
   "cell_type": "markdown",
   "id": "f499caf8-eabc-4ec2-a88f-a095f7397488",
   "metadata": {},
   "source": [
    "# PE100-09: Strings\n",
    "\n",
    "We've been using strings in each of the previous modules, but we've accepted them as a found artifact without really getting into them and seeing how they. This module will correct that deficiency and make all of better ~~people~~programmers.\n",
    "\n",
    "### Review time\n",
    "\n",
    "Let's take a quick look at what we've done so far.\n",
    "```\n",
    "String literals:   \"Doug McKenzie\"\n",
    "String variables:  comedic_genius = \"Mel Brooks\"\n",
    "\n",
    "Comparison:        if my_name == your_name:\n",
    "                   if your_name != \"Chuck Woolery\":\n",
    "Concatenation:     full_name = first_name+last_name\n",
    "Repetition:        \"ABC\" * 20\n",
    "```\n",
    "\n",
    "There is a lot more we can do with strings. We can:\n",
    "* Index into them\n",
    "* Iterate over them\n",
    "* Slice them\n",
    "* Search them\n",
    "* Call methods that act on them...\n",
    "\n",
    "In fact, when you look at what you can do with a string and how you do it, you suddenly realize that a string is just (conceptually) a tuple of letters.\n",
    "\n",
    "We can index into a string:\n"
   ]
  },
  {
   "cell_type": "code",
   "execution_count": 2,
   "id": "4bb82943-bca0-4f08-a1c0-ddae813a6692",
   "metadata": {},
   "outputs": [
    {
     "name": "stdout",
     "output_type": "stream",
     "text": [
      "J\n",
      "i\n",
      "i\n"
     ]
    }
   ],
   "source": [
    "my_name=\"John Belushi\"\n",
    "print(my_name[0])\n",
    "print(my_name[len(my_name)-1])\n",
    "print(my_name[-1])"
   ]
  },
  {
   "cell_type": "markdown",
   "id": "22cb510e-cc18-4dc6-bfd3-a4b6ce4a95d7",
   "metadata": {},
   "source": [
    "Strings  are iterables:"
   ]
  },
  {
   "cell_type": "code",
   "execution_count": 3,
   "id": "31c6e197-4fee-4c2b-833b-12b67db3ff4b",
   "metadata": {},
   "outputs": [
    {
     "name": "stdout",
     "output_type": "stream",
     "text": [
      "J\n",
      "o\n",
      "h\n",
      "n\n",
      " \n",
      "B\n",
      "e\n",
      "l\n",
      "u\n",
      "s\n",
      "h\n",
      "i\n"
     ]
    }
   ],
   "source": [
    "for char in my_name:\n",
    "    print(char)"
   ]
  },
  {
   "cell_type": "code",
   "execution_count": null,
   "id": "a9bd3b75-dd60-4d96-8b2c-1297d2ed9c61",
   "metadata": {},
   "outputs": [],
   "source": []
  },
  {
   "cell_type": "markdown",
   "id": "dbcb6f5f-eab3-4a3a-94d2-4d245c323736",
   "metadata": {},
   "source": [
    "Just like a tuple, the elements of a string are immutable. Once a string is created, the characters can't be changed."
   ]
  },
  {
   "cell_type": "code",
   "execution_count": 4,
   "id": "5f7d5ca5-2326-4c00-aebe-22af4501572b",
   "metadata": {},
   "outputs": [
    {
     "ename": "TypeError",
     "evalue": "'str' object does not support item assignment",
     "output_type": "error",
     "traceback": [
      "\u001b[0;31m---------------------------------------------------------------------------\u001b[0m",
      "\u001b[0;31mTypeError\u001b[0m                                 Traceback (most recent call last)",
      "Cell \u001b[0;32mIn[4], line 2\u001b[0m\n\u001b[1;32m      1\u001b[0m my_name\u001b[38;5;241m=\u001b[39m\u001b[38;5;124m\"\u001b[39m\u001b[38;5;124mBob\u001b[39m\u001b[38;5;124m\"\u001b[39m\n\u001b[0;32m----> 2\u001b[0m \u001b[43mmy_name\u001b[49m\u001b[43m[\u001b[49m\u001b[38;5;241;43m0\u001b[39;49m\u001b[43m]\u001b[49m\u001b[38;5;241m=\u001b[39m\u001b[38;5;124m'\u001b[39m\u001b[38;5;124mR\u001b[39m\u001b[38;5;124m'\u001b[39m\n",
      "\u001b[0;31mTypeError\u001b[0m: 'str' object does not support item assignment"
     ]
    }
   ],
   "source": [
    "my_name=\"Bob\"\n",
    "my_name[0]='R'"
   ]
  },
  {
   "cell_type": "markdown",
   "id": "e6880d61-06be-4247-909a-414761ddf2a9",
   "metadata": {},
   "source": [
    "We can slice strings:"
   ]
  },
  {
   "cell_type": "code",
   "execution_count": 5,
   "id": "3bbf18cc-4625-4db7-bffc-b98535a9e5c0",
   "metadata": {},
   "outputs": [
    {
     "name": "stdout",
     "output_type": "stream",
     "text": [
      "ch\n",
      "ael Jordan\n",
      "Mi\n"
     ]
    }
   ],
   "source": [
    "my_name=\"Michael Jordan\"\n",
    "print(my_name[2:4])\n",
    "print(my_name[4:])\n",
    "print(my_name[:2])"
   ]
  },
  {
   "cell_type": "markdown",
   "id": "bd4ce0fb-9e0d-4d0e-9af4-4e60bc54d8b0",
   "metadata": {},
   "source": [
    "We can search into a string with the `in` operator:"
   ]
  },
  {
   "cell_type": "code",
   "execution_count": 7,
   "id": "f0c4d3a1-c6fb-4a5b-9c93-963c2fcf0c56",
   "metadata": {},
   "outputs": [
    {
     "name": "stdout",
     "output_type": "stream",
     "text": [
      "found one!\n"
     ]
    }
   ],
   "source": [
    "tweet_msg = \"I think synchrotrons are cool.\"\n",
    "if \"synchrotrons\" in tweet_msg:\n",
    "    print(\"found one!\")"
   ]
  },
  {
   "cell_type": "markdown",
   "id": "1b567f5f-2eab-40e3-a563-ba07ad93564d",
   "metadata": {},
   "source": [
    "There are a huge variety of string methods. We'll look at just a few here. Some of them are handy for validating inputs..."
   ]
  },
  {
   "cell_type": "code",
   "execution_count": 8,
   "id": "c9067a39-2e54-4c7c-8d74-60cede1586ca",
   "metadata": {},
   "outputs": [
    {
     "name": "stdin",
     "output_type": "stream",
     "text": [
      "How many bolts did you install? op\n"
     ]
    },
    {
     "name": "stdout",
     "output_type": "stream",
     "text": [
      "I was expecting something that looked like an integer\n"
     ]
    }
   ],
   "source": [
    "bolts = input(\"How many bolts did you install?\")\n",
    "if not bolts.isdigit():\n",
    "    print(\"I was expecting something that looked like an integer\")\n",
    "else:\n",
    "    fasteners = int(bolts)"
   ]
  },
  {
   "cell_type": "code",
   "execution_count": null,
   "id": "8a377ea0-4448-4b10-9fe2-fd5228c085ca",
   "metadata": {},
   "outputs": [],
   "source": []
  }
 ],
 "metadata": {
  "kernelspec": {
   "display_name": "Python 3 (ipykernel)",
   "language": "python",
   "name": "python3"
  },
  "language_info": {
   "codemirror_mode": {
    "name": "ipython",
    "version": 3
   },
   "file_extension": ".py",
   "mimetype": "text/x-python",
   "name": "python",
   "nbconvert_exporter": "python",
   "pygments_lexer": "ipython3",
   "version": "3.12.3"
  }
 },
 "nbformat": 4,
 "nbformat_minor": 5
}
