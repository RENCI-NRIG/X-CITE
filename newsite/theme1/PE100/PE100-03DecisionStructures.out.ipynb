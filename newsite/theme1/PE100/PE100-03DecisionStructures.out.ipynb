{
  "cells": [
    {
      "cell_type": "markdown",
      "metadata": {},
      "source": [
        "# PE100-03: Decision Structures\n",
        "\n",
        "In the first lesson, everything we did was sequential programming.\n",
        "Statements are executed one after the other in exactly the order they’re\n",
        "written in. As long as there aren’t any errors, every statement will be\n",
        "executed.\n",
        "\n",
        "## The Simplest “if” Statement\n",
        "\n",
        "In almost any real Jupyter notebook or standalone program we write,\n",
        "there will have to be places where different code paths are taken\n",
        "depending on what has happened leading up to there. Suppose we’re\n",
        "looking at absorption at one specific wavelength and we know that some\n",
        "of our instruments are a little bit too sensitive to changes in\n",
        "humidity. Maybe the first spectrometer has some insulation that is just\n",
        "a little too porous and reads a bit high, but the second one is even\n",
        "worse. We have calibration constants we can apply, but we have to apply\n",
        "the right constant for each individual instrument."
      ],
      "id": "d1a1908e-18bc-43e3-9dee-aaa1d86b96fc"
    },
    {
      "cell_type": "code",
      "execution_count": 1,
      "metadata": {},
      "outputs": [
        {
          "output_type": "display_data",
          "metadata": {},
          "data": {
            "text/plain": [
              "7.539441569999999"
            ]
          }
        }
      ],
      "source": [
        "spectrometer_number = 1                                                        \n",
        "reading = 7.00041                                                              \n",
        "                                                                               \n",
        "if spectrometer_number == 1:                                                   \n",
        "    useful_result = reading * 1.077                                            \n",
        "                                                                               \n",
        "useful_result\n"
      ],
      "id": "b5963a34-f762-437f-b5f9-300015133d44"
    },
    {
      "cell_type": "markdown",
      "metadata": {},
      "source": [
        "Here we have the first Decision Structure (also called *control flow\n",
        "statement*) that we’ll look at. Taking the above code apart, we see\n",
        "several important things.\n",
        "\n",
        "1.  This is an “if statement”.\n",
        "2.  Testing to see if two things are equal is done with **two** equals\n",
        "    signs, not one (`==`). There’s a historical reason for this, and\n",
        "    it’s a good reason, but it *always* trips up newcomers. You have\n",
        "    been warned. You’re welcome.\n",
        "3.  The last character on the `if` line is `:` (a colon ).\n",
        "4.  The “body” of the `if` statement, the part that is run if and only\n",
        "    if the tested condition is met, is indented.\n",
        "\n",
        "In the case of the above `if` statement, what the code does is check to\n",
        "see if we’re using spectrometer number 1 and if we are then we add 7.7%\n",
        "to the reading and save it in a variable called “useful_result”.\n",
        "\n",
        "## Else: the catch-all specialist\n",
        "\n",
        "If that was all an `if` statement could do then it would be really\n",
        "useful. But that’s not all it can do. We need to do something reasonable\n",
        "when we get readings from the second instrument. Such as:"
      ],
      "id": "dee7edb4-0470-4278-8a7b-d8db9c1cc972"
    },
    {
      "cell_type": "code",
      "execution_count": 3,
      "metadata": {},
      "outputs": [
        {
          "output_type": "display_data",
          "metadata": {},
          "data": {
            "text/plain": [
              "8.3304879"
            ]
          }
        }
      ],
      "source": [
        "spectrometer_number = 2                                                         \n",
        "reading = 7.00041                                                               \n",
        "                                                                                \n",
        "if spectrometer_number == 1:                                                    \n",
        "    useful_result = reading * 1.077                                             \n",
        "else:                                                                           \n",
        "    useful_result = reading * 1.19\n",
        "\n",
        "useful_result"
      ],
      "id": "14ddbfc7-25f4-430e-b184-693dd9d85ad5"
    },
    {
      "cell_type": "markdown",
      "metadata": {},
      "source": [
        "Here we have added an “else clause”. The above code is interpreted as\n",
        "“check to see if we’re using spectrometer number 1 and if we are then we\n",
        "add 7.7% to the reading and save it in a variable called useful_result.\n",
        "Otherwise, set useful_result to whatever is saved in”reading” plus 19%.\n",
        "\n",
        "So far, so good. But there’s more! Suppose we need to handle several of\n",
        "these not-quite-top-quality spectrometers. How do you suppose we could\n",
        "deal with that? We could resort to putting if-else statements inside\n",
        "if-else statements in sort of a brute force fashion…"
      ],
      "id": "ab89c43c-48b9-4094-9783-3ccf9a497b96"
    },
    {
      "cell_type": "code",
      "execution_count": 4,
      "metadata": {},
      "outputs": [
        {
          "output_type": "display_data",
          "metadata": {},
          "data": {
            "text/plain": [
              "6.4403771999999995"
            ]
          }
        }
      ],
      "source": [
        "spectrometer_number = 3                                                         \n",
        "reading = 7.00041                                                               \n",
        "                                                                                \n",
        "if spectrometer_number == 1:                                                    \n",
        "    useful_result = reading * 1.077                                             \n",
        "else:                                                                           \n",
        "    if spectrometer_number == 2:                                                \n",
        "        useful_result = reading * 1.19                                          \n",
        "    else:                                                                       \n",
        "        if spectrometer_number == 3:                                            \n",
        "            useful_result = reading * .92                                       \n",
        "                                                                                \n",
        "useful_result"
      ],
      "id": "395a880a-8aaf-4aad-a40c-d10c301d0dda"
    },
    {
      "cell_type": "markdown",
      "metadata": {},
      "source": [
        "The above code looks a little intimidating, but all there is to it is\n",
        "just a series of `if` statements. The logic of it goes like this: “If\n",
        "the instrument number is 1, then adjust it 7.7% and we’re done.\n",
        "Otherwise, it must be some other instrument number, so run our else\n",
        "clause”. Then in the else clause, it does the same thing, except\n",
        "checking for the second instrument and adjusting by 19%. If there was\n",
        "nothing to do there (because the instrument number was 3) then we run\n",
        "the `else` clause of that second if statement. This else clause houses\n",
        "an `if` statement that checks to see if the instrument is number three.\n",
        "This time it is, so the body of the if statement is executed. We set\n",
        "useful_reading equal to 92% of reading.\n",
        "\n",
        "## Elif\n",
        "\n",
        "This is fine if we only have three instruments, but what do we do if we\n",
        "have 20 of them? We could, in principle, type in 60 lines of code, but\n",
        "that would be tedious, error prone, and would take a while to read and\n",
        "find any mistakes. *Of course* there’s a better way.\n",
        "\n",
        "That better way is the “elif” keyword.\n",
        "\n",
        "Let’s see an example with 5 instruments…"
      ],
      "id": "ee39d57e-8292-4814-b23d-91010fbab98b"
    },
    {
      "cell_type": "code",
      "execution_count": 5,
      "metadata": {},
      "outputs": [
        {
          "output_type": "display_data",
          "metadata": {},
          "data": {
            "text/plain": [
              "7.210422299999999"
            ]
          }
        }
      ],
      "source": [
        "spectrometer_number = 4                                                         \n",
        "reading = 7.00041                                                               \n",
        "                                                                                \n",
        "if spectrometer_number == 1:                                                    \n",
        "    useful_result = reading * 1.077                                             \n",
        "elif spectrometer_number == 2:                                                  \n",
        "    useful_result = reading * 1.19                                              \n",
        "elif spectrometer_number == 3:                                                  \n",
        "    useful_result = reading * .92                                               \n",
        "elif spectrometer_number == 4:                                                  \n",
        "    useful_result = reading * 1.03                                              \n",
        "elif spectrometer_number == 5:                                                  \n",
        "    useful_result = reading * 1.26                                              \n",
        "else:                                                                           \n",
        "    useful_result = reading                                                     \n",
        "    print(\"Be careful!\")    \n",
        "                                                                                \n",
        "useful_result"
      ],
      "id": "701cf657-e57a-4bb9-9694-bed198d65f6a"
    },
    {
      "cell_type": "markdown",
      "metadata": {},
      "source": [
        "The final `else` clause is the one that runs **if no other clauses\n",
        "ran**. If no clause’s conditional statement is true so no clause runs,\n",
        "whether it’s the if clause or any of the elif clauses, then the else\n",
        "clause runs. It’s really easy to spot `else` clauses even from across\n",
        "the room - they’re the ones that don’t have a conditional test.\n",
        "\n",
        "Note that the `if`, `elif`, and `else` lines **must** end with a colon.\n",
        "True confession time: I forget the colons about half the time. Python\n",
        "catches it as an error, I fix it, and life goes on.\n",
        "\n",
        "## Slightly More Complicated\n",
        "\n",
        "You can run more than one line of code in response to the tested\n",
        "conditions, but they have to be indented the same amount:"
      ],
      "id": "a61187f0-f923-41a4-b4ab-2c4346397182"
    },
    {
      "cell_type": "code",
      "execution_count": 6,
      "metadata": {},
      "outputs": [
        {
          "output_type": "stream",
          "name": "stdout",
          "text": [
            "7.00041 True"
          ]
        }
      ],
      "source": [
        "spectrometer_number = 103\n",
        "reading = 7.00041\n",
        "\n",
        "if spectrometer_number == 1:\n",
        "    useful_result = reading * 1.077\n",
        "    trustworthy = False\n",
        "elif spectrometer_number == 2:\n",
        "    useful_result = reading * 1.19\n",
        "    trustworthy = False\n",
        "else:\n",
        "    useful_result = reading\n",
        "    trustworthy = True\n",
        "\n",
        "print(useful_result, trustworthy)\n"
      ],
      "id": "0f7bc533-12da-4601-911b-e70b5368ad48"
    },
    {
      "cell_type": "markdown",
      "metadata": {},
      "source": [
        "There are four interesting things going on here. The first and most\n",
        "important thing to notice is that we’ve got more than one line of code\n",
        "running in response to an “if”, “elif”, or “else” clause. A collection\n",
        "of lines that should be run together as a whole is called a *code\n",
        "block*. Unlike many languages that mark the start and end of code blocks\n",
        "with special words or characters, Python just does it by using\n",
        "indentation. Everything that is indented the same amount is considered\n",
        "to be in the same code block. We’ll look at this in more detail in a few\n",
        "minutes.\n",
        "\n",
        "Secondly, we’ve added lines to set a variable named “trustworthy” to a\n",
        "value depending on whether we had to adjust the reading. Evidently, if\n",
        "we have to compensate for old, dry, cracking insulators then we don’t\n",
        "really trust the instrument.\n",
        "\n",
        "The third interesting thing is the values `True` and `False`. These are\n",
        "“Boolean” values, and when we put them into the “trustworthy” variable\n",
        "then it takes on the Boolean type. There are only two values, `True` and\n",
        "`False`. The capitalization is important.\n",
        "\n",
        "The fourth thing to notice is that we’re sending two values into the\n",
        "print statement and it’s printing both of them. In general, we can give\n",
        "the print statement any number of *arguments*, separated by commas, and\n",
        "it will print all of them separated by one space.\n",
        "\n",
        "## Conditional (aka Relational) Operators\n",
        "\n",
        "The conditional test in each part of an `if` statement is an expression\n",
        "that results in a Boolean value. So far, the only *conditional operator*\n",
        "(or *relational operator*) we’ve seen is `==`. There are others, though.\n",
        "For the sake of completeness, I’ll include `==` here:\n",
        "\n",
        "| operator | tested condition      |\n",
        "|----------|-----------------------|\n",
        "| `==`     | equals                |\n",
        "| `!=`     | not equals            |\n",
        "| `>`      | greater than          |\n",
        "| `>=`     | greater than or equal |\n",
        "| `<`      | less than             |\n",
        "| `<=`     | less than or equal    |\n",
        "\n",
        "“Relational” has at least two meanings in computing. Relational\n",
        "Operators have *nothing* to do with Releational Databases.\n",
        "\n",
        "#### Try This\n",
        "\n",
        "For each of the following code cells, decide what the result is, run the\n",
        "cell, and see how you did:"
      ],
      "id": "a66b0ae5-fdb5-4e0b-8cdd-01fe18c10da2"
    },
    {
      "cell_type": "code",
      "execution_count": 8,
      "metadata": {},
      "outputs": [
        {
          "output_type": "display_data",
          "metadata": {},
          "data": {
            "text/plain": [
              "True"
            ]
          }
        }
      ],
      "source": [
        "5 < 6"
      ],
      "id": "c716104a-9a9e-4a47-8453-8a6fba0af06b"
    },
    {
      "cell_type": "code",
      "execution_count": 7,
      "metadata": {},
      "outputs": [
        {
          "output_type": "display_data",
          "metadata": {},
          "data": {
            "text/plain": [
              "True"
            ]
          }
        }
      ],
      "source": [
        "5.99 == 5.99"
      ],
      "id": "e443aea6-e1bc-4be5-a2ee-1c63c94fae8a"
    },
    {
      "cell_type": "code",
      "execution_count": 9,
      "metadata": {},
      "outputs": [
        {
          "output_type": "display_data",
          "metadata": {},
          "data": {
            "text/plain": [
              "False"
            ]
          }
        }
      ],
      "source": [
        "5 != 5.00"
      ],
      "id": "33bca567-b087-4125-817e-c78a346cc655"
    },
    {
      "cell_type": "code",
      "execution_count": 10,
      "metadata": {},
      "outputs": [
        {
          "output_type": "display_data",
          "metadata": {},
          "data": {
            "text/plain": [
              "False"
            ]
          }
        }
      ],
      "source": [
        "5+6 < 11"
      ],
      "id": "de96f5ef-2981-4eac-b722-5ceaa980d280"
    },
    {
      "cell_type": "code",
      "execution_count": 11,
      "metadata": {},
      "outputs": [
        {
          "output_type": "display_data",
          "metadata": {},
          "data": {
            "text/plain": [
              "False"
            ]
          }
        }
      ],
      "source": [
        "6 * 6 > 12 + 12 + 12"
      ],
      "id": "698be490-d6dd-442e-98d7-e2092498f06e"
    },
    {
      "cell_type": "markdown",
      "metadata": {},
      "source": [
        "Relational operators also work with strings."
      ],
      "id": "26ac73fb-b2fe-4dec-ab47-d3a62b5aad17"
    },
    {
      "cell_type": "code",
      "execution_count": 14,
      "metadata": {},
      "outputs": [
        {
          "output_type": "stream",
          "name": "stdout",
          "text": [
            "equals Alice.\n",
            "The person is not Bob.\n",
            "Alice comes before Bob in alphabetical order.\n",
            "Alice comes before or in the same place as Alice in sorted order\n",
            "Working left to right, the M, the a, and the r match on\n",
            "both strings, but when we finally get to the y and the k, y comes\n",
            "after k in alphabetical order."
          ]
        }
      ],
      "source": [
        "name = \"Alice\"\n",
        "if name == \"Alice\":\n",
        "    print(\"equals Alice.\")\n",
        "if name != \"Bob\":\n",
        "    print(\"The person is not Bob.\")\n",
        "if \"Alice\" < \"Bob\":\n",
        "    print(\"Alice comes before Bob in alphabetical order.\")\n",
        "if \"Alice\" <= \"Alice\":\n",
        "    print(\"Alice comes before or in the same place as Alice in sorted order\")\n",
        "if \"Mary\" > \"Mark\":\n",
        "    print('Working left to right, the M, the a, and the r match on')\n",
        "    print('both strings, but when we finally get to the y and the k, y comes')\n",
        "    print('after k in alphabetical order.')"
      ],
      "id": "a41f56ff-4d33-4512-a73a-429899136c1a"
    },
    {
      "cell_type": "markdown",
      "metadata": {},
      "source": [
        "A couple words of caution: the comparisons are based on the ASCII codes\n",
        "for each character. The “A” in ASCII stands for “American”, and as you\n",
        "might expect that means it only works for English language text. If you\n",
        "need to handle other languages, even potentially, then there is a better\n",
        "way to do it and we’ll see that in the lesson on strings.\n",
        "\n",
        "Also, Capital letters are always less than lowercase letters, and not in\n",
        "the way you might think. “A” is less than “Z”, as you might expect, but\n",
        "“Z” is greater than “a”. The numbers 0-9 are the lowest of all.\n",
        "Punctuation is sprinkled around and the only way to know for sure is to\n",
        "look up “ASCII Chart”.\n",
        "\n",
        "## Code Blocks\n",
        "\n",
        "Let’s go back to that part about running several lines of code but they\n",
        "have to be indented the same amount. Python always runs “blocks” of\n",
        "code. That block might be as short as one line:"
      ],
      "id": "3a6b3ecf-28bd-4a8a-8fd0-0c9ef9aea9b9"
    },
    {
      "cell_type": "code",
      "execution_count": 17,
      "metadata": {},
      "outputs": [
        {
          "output_type": "display_data",
          "metadata": {},
          "data": {
            "text/plain": [
              "125.6636"
            ]
          }
        }
      ],
      "source": [
        "circumference = 40 * 3.14159\n",
        "\n",
        "circumference"
      ],
      "id": "27181936-7635-4c39-a86b-8a6fd3343170"
    },
    {
      "cell_type": "markdown",
      "metadata": {},
      "source": [
        "or it might be arbitrarily long:"
      ],
      "id": "2469c857-b948-46d2-837b-44b769a2cc16"
    },
    {
      "cell_type": "code",
      "execution_count": 19,
      "metadata": {},
      "outputs": [
        {
          "output_type": "display_data",
          "metadata": {},
          "data": {
            "text/plain": [
              "1511396.1762899999"
            ]
          }
        }
      ],
      "source": [
        "height = 6.01\n",
        "length = 5.5\n",
        "width = 14.3\n",
        "density = 4.2\n",
        "volume = height * width * length\n",
        "mass = volume * density\n",
        "energy_per_gram = 761.3\n",
        "eyebrow_altering_potential = mass * energy_per_gram\n",
        "\n",
        "eyebrow_altering_potential"
      ],
      "id": "1fbb2f6f-259b-442d-a896-5cfe7bdd8857"
    },
    {
      "cell_type": "markdown",
      "metadata": {},
      "source": [
        "Whether it was the one line example or the eight line one, Python will\n",
        "set out to run all of those lines in one shot, and as long as there\n",
        "aren’t any errors it’ll do it. These are known as *code blocks*.\n",
        "\n",
        "The decision structures (again, also called *control flow statements*)\n",
        "in Python all do basically the same thing: they evaluate an expression\n",
        "and depending on whether it turns out True or False, they execute a code\n",
        "block in some manner. This means that wherever we can have a single line\n",
        "of code running in a decision structure we can have as many lines as we\n",
        "want.\n",
        "\n",
        "Take a look at the following example. For the four possible combinations\n",
        "of `potentially_hazardous` and `explody`, decide what would be printed\n",
        "out. Then try out the combinations and make sure you know why each\n",
        "combination was handled the way it was."
      ],
      "id": "4d66b89c-abce-4314-bb31-8822b56df5bf"
    },
    {
      "cell_type": "code",
      "execution_count": 2,
      "metadata": {},
      "outputs": [
        {
          "output_type": "stream",
          "name": "stdout",
          "text": [
            "Total Available Kaboom (TAK) to ruin your day is 1511396.1762899999"
          ]
        }
      ],
      "source": [
        "potentially_hazardous = True\n",
        "explody = True\n",
        "\n",
        "if potentially_hazardous and explody:\n",
        "    height = 6.01\n",
        "    length = 5.5\n",
        "    width = 14.3\n",
        "    density = 4.2\n",
        "    volume = height * width * length\n",
        "    mass = volume * density\n",
        "    energy_per_gram = 761.3\n",
        "    eyebrow_altering_potential_energy = mass * energy_per_gram\n",
        "    print(\"Total Available Kaboom (TAK) to ruin your day is\", eyebrow_altering_potential_energy)\n",
        "elif potentially_hazardous:\n",
        "    print(\"Not likely to go 'kaboom', but not something you want to casually eat, either.\")\n",
        "    print(\"I mean, unless you're feeling brave.\")\n",
        "    print(\"Even then, it's a bad idea.\")\n",
        "elif explody:\n",
        "    print(\"This is one of those things that will blow up but isn't actually hazardous.\")\n",
        "    print(\"I'm guessing it's a vinegar-and-baking-soda volcano.\")\n",
        "else:\n",
        "    print(\"As far as we know, the material in quesion is no more\")\n",
        "    print(\"dangerous than takeout pizza.\")\n"
      ],
      "id": "dafda872-a797-43b1-a75b-9288d6824832"
    },
    {
      "cell_type": "markdown",
      "metadata": {},
      "source": [
        "Did you notice `potentially_hazardous and explody`? `and` is a **boolean\n",
        "operator**. We’ve seen the arithmetic operators already (`+`, `-`, `*`,\n",
        "`/`, etc.) and now here are the boolean operators. They’re named after\n",
        "Boolean algebra, the algebra of logic, and are used to make larger\n",
        "logical expressions from smaller ones. There are three boolean\n",
        "operators: `and`, `or`, and `not`.\n",
        "\n",
        "The `and` operator evaluates to True if **both** of its arguments are\n",
        "True. The `or` operator evaluates to True if **either or both** of its\n",
        "arguments are true. The `not` operator takes only one argument and\n",
        "reverses it: `not` turns True into False and False into True."
      ],
      "id": "8c16cf49-a273-4ee0-baa1-0baf13a750f2"
    },
    {
      "cell_type": "code",
      "execution_count": 33,
      "metadata": {},
      "outputs": [
        {
          "output_type": "stream",
          "name": "stdout",
          "text": [
            "Doctor of Medical Dentistry (DMD)"
          ]
        }
      ],
      "source": [
        "medical_license = True\n",
        "dental_license = True\n",
        "\n",
        "if medical_license and dental_license:\n",
        "    print(\"Doctor of Medical Dentistry (DMD)\")\n",
        "elif dental_license and not medical_license:\n",
        "    print(\"Plain old dentist.\")\n",
        "elif not dental_license and medical_license:\n",
        "    print(\"Garden-variety doctor.\")\n",
        "else:\n",
        "    print(\"No license at all. Run. Quickly.\")"
      ],
      "id": "5ca9f0ff-f7e1-4632-bd02-a133817ab79e"
    },
    {
      "cell_type": "markdown",
      "metadata": {},
      "source": [
        "## Coming Up Next: Loops\n",
        "\n",
        "At this point, we’ve seen the most basic way to alter the *flow of\n",
        "control* in Python: the `if` statement. We can write Python code to\n",
        "solve non-trivial problems now, but there are still some things we need\n",
        "in order to use Python as a truly general-purpose language. In the next\n",
        "notebook we’re going to make our code do something over and over."
      ],
      "id": "36ac7484-fe0f-4278-94da-39c08365256d"
    }
  ],
  "nbformat": 4,
  "nbformat_minor": 5,
  "metadata": {
    "kernelspec": {
      "name": "python3",
      "display_name": "Python 3 (ipykernel)",
      "language": "python"
    },
    "language_info": {
      "name": "python",
      "codemirror_mode": {
        "name": "ipython",
        "version": "3"
      },
      "file_extension": ".py",
      "mimetype": "text/x-python",
      "nbconvert_exporter": "python",
      "pygments_lexer": "ipython3",
      "version": "3.12.3"
    }
  }
}