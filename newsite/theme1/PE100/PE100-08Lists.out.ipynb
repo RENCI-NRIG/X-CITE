{
  "cells": [
    {
      "cell_type": "markdown",
      "metadata": {},
      "source": [
        "# PE100-08: Lists\n",
        "\n",
        "All of the variables we’ve seen so far store exactly one value. If you\n",
        "set the variable “weight” to 74.5, then 74.5 is the only value there is\n",
        "in “weight”. Nice and simple. If we need to save several values then we\n",
        "can use several variables…"
      ],
      "id": "10f2e076-45a9-4272-96e5-480c8bcd12da"
    },
    {
      "cell_type": "code",
      "execution_count": 1,
      "metadata": {},
      "outputs": [],
      "source": [
        "weight_1 = 74.5\n",
        "weight_2 = 76.7\n",
        "weight_3 = 77.1"
      ],
      "id": "a283798c-64ab-4a68-a193-e52c4a6b3705"
    },
    {
      "cell_type": "markdown",
      "metadata": {},
      "source": [
        "As you can imagine, this turns tedious in a hurry. What if you had a\n",
        "thousand values to deal with? And even if you did all of that typing,\n",
        "doing any kind of non-trivial computation with it would be difficult,\n",
        "too. We need a way to store a bunch of values, but doing it in a way\n",
        "that makes it easy to manipulate the whole thing as a whole or each\n",
        "individual value. For doing that, Python provides us with *lists*.\n",
        "\n",
        "Python is one of the few languages that support lists deep down in the\n",
        "language itself. Because of that, they’re easy to work with. Let’s take\n",
        "a look, shall we?"
      ],
      "id": "fef801c8-09c5-4f8c-ba86-d2e7d9b96c30"
    },
    {
      "cell_type": "code",
      "execution_count": 6,
      "metadata": {},
      "outputs": [
        {
          "output_type": "display_data",
          "metadata": {},
          "data": {
            "text/plain": [
              "['Alice', 'Bob', 'Candice', 'Dan']"
            ]
          }
        }
      ],
      "source": [
        "names = ['Alice', 'Bob', 'Candice', 'Dan']\n",
        "names"
      ],
      "id": "36501626-4bae-42df-ba1f-32cac8808a72"
    },
    {
      "cell_type": "markdown",
      "metadata": {},
      "source": [
        "Lists are represented with square brackets \\[ \\] at the beginning and\n",
        "end, and with the values inside the brackets separated by commas."
      ],
      "id": "a99efff9-013a-48f7-b647-9084ccf9a273"
    },
    {
      "cell_type": "code",
      "execution_count": 7,
      "metadata": {},
      "outputs": [],
      "source": [
        "odd_numbers = [1, 3, 5, 7, 9]\n",
        "ingredients = ['flour', 'lard', 'baking powder', 'milk']"
      ],
      "id": "e3874600-a705-4ea6-a166-b563796f4faf"
    },
    {
      "cell_type": "markdown",
      "metadata": {},
      "source": [
        "The values in a list don’t all have to be the same type."
      ],
      "id": "046ae9cb-72cf-4565-8ef4-4636658821a6"
    },
    {
      "cell_type": "code",
      "execution_count": 8,
      "metadata": {},
      "outputs": [],
      "source": [
        "playing_card = [9, 'Diamonds']"
      ],
      "id": "38ee03f8-57cc-48b7-a8df-b5ac8ad050ed"
    },
    {
      "cell_type": "markdown",
      "metadata": {},
      "source": [
        "A list can have any number of values, limited only by the amount of\n",
        "memory in the computer that is hosting the Jupyter (or JupyterLab)\n",
        "server. Lists are even allowed to have no values in them."
      ],
      "id": "bbb2a1ea-4a22-4550-8c57-c9eee03898ea"
    },
    {
      "cell_type": "code",
      "execution_count": 9,
      "metadata": {},
      "outputs": [],
      "source": [
        "empty_list = []"
      ],
      "id": "e34a6455-35e1-4a14-946c-03ffa75dc1dd"
    },
    {
      "cell_type": "markdown",
      "metadata": {},
      "source": [
        "So far we’ve been creating lists using literal values, but we could use\n",
        "variables just as easily…"
      ],
      "id": "03ab3932-7b5d-49c5-8384-05debd981021"
    },
    {
      "cell_type": "code",
      "execution_count": 12,
      "metadata": {},
      "outputs": [
        {
          "output_type": "stream",
          "name": "stdout",
          "text": [
            "[16, 2, 6]"
          ]
        }
      ],
      "source": [
        "nimh = 16\n",
        "lithiumPrimary = 2\n",
        "carbonZinc = 6\n",
        "\n",
        "battery_inventory = [nimh, lithiumPrimary, carbonZinc]\n",
        "print(battery_inventory)"
      ],
      "id": "6bf54351-25cc-4acd-9840-2efb9e27b303"
    },
    {
      "cell_type": "markdown",
      "metadata": {},
      "source": [
        "To find out how many elements are in a list, use the `len()` function:"
      ],
      "id": "4f521f86-a1e1-46d0-b3fc-e6da8d9f8d31"
    },
    {
      "cell_type": "code",
      "execution_count": 13,
      "metadata": {},
      "outputs": [
        {
          "output_type": "stream",
          "name": "stdout",
          "text": [
            "4\n",
            "3"
          ]
        }
      ],
      "source": [
        "number_of_ingredients = len(ingredients)\n",
        "print(number_of_ingredients)\n",
        "\n",
        "print(len(battery_inventory))"
      ],
      "id": "4407c161-fc80-4380-b2e9-75839132d778"
    },
    {
      "cell_type": "markdown",
      "metadata": {},
      "source": [
        "There are *operators* that act on lists. The `*` operator is used for\n",
        "repetition…"
      ],
      "id": "04c56106-5297-4d72-bcb6-fd3d442a9d42"
    },
    {
      "cell_type": "code",
      "execution_count": 14,
      "metadata": {},
      "outputs": [
        {
          "output_type": "stream",
          "name": "stdout",
          "text": [
            "[1, 2, 3, 1, 2, 3]\n",
            "[0, 0, 0, 0, 0, 0, 0, 0, 0, 0, 0, 0, 0, 0, 0, 0, 0, 0, 0, 0, 0, 0, 0, 0, 0]"
          ]
        }
      ],
      "source": [
        "my_list = [1, 2, 3] * 2\n",
        "print(my_list)\n",
        "many_zeros = [0] * 25\n",
        "print(many_zeros)"
      ],
      "id": "5d4ca5a5-9e59-4d82-806a-11a89392ecd2"
    },
    {
      "cell_type": "markdown",
      "metadata": {},
      "source": [
        "…and the `+` operator combines two lists:"
      ],
      "id": "5a0a5c43-0f5a-4e28-aa80-bfd0dfc1c508"
    },
    {
      "cell_type": "code",
      "execution_count": 15,
      "metadata": {},
      "outputs": [
        {
          "output_type": "stream",
          "name": "stdout",
          "text": [
            "[1, 2, 3, 1, 2, 3, 0, 0, 0, 0, 0, 0, 0, 0, 0, 0, 0, 0, 0, 0, 0, 0, 0, 0, 0, 0, 0, 0, 0, 0, 0]"
          ]
        }
      ],
      "source": [
        "big_list = my_list + many_zeros\n",
        "print(big_list)"
      ],
      "id": "e65ba79f-76a5-4c2e-8adf-df84e7f43bb4"
    },
    {
      "cell_type": "markdown",
      "metadata": {},
      "source": [
        "Lists are *iterables*, just like the results of the `range()` function,\n",
        "so they can be *iterated over* using a `for` loop:"
      ],
      "id": "45b5d9ed-de63-432d-996e-153daf5bc878"
    },
    {
      "cell_type": "code",
      "execution_count": 17,
      "metadata": {},
      "outputs": [
        {
          "output_type": "stream",
          "name": "stdout",
          "text": [
            "David\n",
            "Bill\n",
            "Richard"
          ]
        }
      ],
      "source": [
        "for name in ['David', 'Bill', 'Richard']:\n",
        "    print(name)\n"
      ],
      "id": "7376d35a-a21a-4e43-ba87-b5924c37743b"
    },
    {
      "cell_type": "code",
      "execution_count": 18,
      "metadata": {},
      "outputs": [
        {
          "output_type": "stream",
          "name": "stdout",
          "text": [
            "flour\n",
            "lard\n",
            "baking powder\n",
            "milk\n",
            "flour\n",
            "lard\n",
            "baking powder\n",
            "milk\n",
            "flour\n",
            "lard\n",
            "baking powder\n",
            "milk"
          ]
        }
      ],
      "source": [
        "for ingr in ingredients * 3:\n",
        "    print(ingr)"
      ],
      "id": "8d396296-b78f-46a1-9704-dcf376172d57"
    },
    {
      "cell_type": "markdown",
      "metadata": {},
      "source": [
        "It’s fairly common to iterate over a list for things like sums and\n",
        "averages."
      ],
      "id": "9feb5dda-f3c9-4bd0-8b53-66600ffc99ec"
    },
    {
      "cell_type": "code",
      "execution_count": 19,
      "metadata": {},
      "outputs": [
        {
          "output_type": "stream",
          "name": "stdout",
          "text": [
            "16"
          ]
        }
      ],
      "source": [
        "total = 0\n",
        "for item in [4, 3, 4, 5]:\n",
        "    total += item\n",
        "print(total)"
      ],
      "id": "ca250650-a8b5-4685-926a-d5fb3e43173f"
    },
    {
      "cell_type": "markdown",
      "metadata": {},
      "source": [
        "The above code steps its way over all of the values in the list. Each\n",
        "time it goes to a new value, it adds that value to `total`. When it gets\n",
        "to the end, all of the values have been added up. If we want an average,\n",
        "we don’t have to count the values ourselves. We can just use the `len()`\n",
        "function."
      ],
      "id": "a13b39a4-e0fe-4304-addf-43c58705fd1f"
    },
    {
      "cell_type": "code",
      "execution_count": 20,
      "metadata": {},
      "outputs": [
        {
          "output_type": "stream",
          "name": "stdout",
          "text": [
            "4.0"
          ]
        }
      ],
      "source": [
        "total = 0\n",
        "my_list = [4, 3, 4, 5]\n",
        "for item in my_list:\n",
        "    total += item\n",
        "avg = total / len(my_list)\n",
        "print(avg)"
      ],
      "id": "03c1ac89-fead-4b69-bc4c-f2d9c6542fb5"
    },
    {
      "cell_type": "markdown",
      "metadata": {},
      "source": [
        "Sometimes you need to use a particular value in a list and you don’t\n",
        "want to iterate over the whole thing. For this, Python gives us\n",
        "*indexing*, letting us directly access any element of a list. The first\n",
        "(as it appears on screen, “leftmost”) element in numbered zero and each\n",
        "one after that goes up by one. The highest numbered one is therefore the\n",
        "length of the list minus one."
      ],
      "id": "c146e83a-a12c-405e-9900-f3e9c3cac3e8"
    },
    {
      "cell_type": "code",
      "execution_count": 23,
      "metadata": {},
      "outputs": [
        {
          "output_type": "stream",
          "name": "stdout",
          "text": [
            "['flour', 'lard', 'baking powder', 'milk']\n",
            "\n",
            "Of all the biscuit ingredients, flour is the most important one.\n",
            "The second most important one is baking powder"
          ]
        }
      ],
      "source": [
        "print(ingredients)\n",
        "print()\n",
        "print(\"Of all the biscuit ingredients,\", ingredients[0] , \"is the most important one.\")\n",
        "print(\"The second most important one is\", ingredients[2])"
      ],
      "id": "156c1ca0-3df8-46ce-83ac-3ee118a1ce1e"
    },
    {
      "cell_type": "markdown",
      "metadata": {},
      "source": [
        "Like the majority of programming languages, Python uses square brackets\n",
        "to indicate the *index* into the list. Unlike the vast majority of\n",
        "languages, Python allows indexes to be negative! A negative number for\n",
        "an index means “count backwards from the end”. `my_list[-1]` refers to\n",
        "the item at the end of the list. `my_list[-3]` refers to the third to\n",
        "last item."
      ],
      "id": "2f20df8a-2a12-404b-a2ce-5e4972bd0f31"
    },
    {
      "cell_type": "code",
      "execution_count": 24,
      "metadata": {},
      "outputs": [
        {
          "output_type": "stream",
          "name": "stdout",
          "text": [
            "milk\n",
            "lard"
          ]
        }
      ],
      "source": [
        "print(ingredients[-1])\n",
        "print(ingredients[-3])"
      ],
      "id": "6995e7da-847d-4184-9b5d-caf2f78b9b65"
    },
    {
      "cell_type": "markdown",
      "metadata": {},
      "source": [
        "We’ve seen how to iterate over lists and also how to access individual\n",
        "list elements by using indexing. Python has a special indexing scheme,\n",
        "though, that lets us deal with small lists made from our original list.\n",
        "This is called *List Slicing* and can save you a lot of work sometimes.\n",
        "The overall syntax for this looks like `list_name[start:end]`\n",
        "\n",
        "An example is definitely called for here:"
      ],
      "id": "437011e2-bf9c-456f-b7d0-772e0dc37e1e"
    },
    {
      "cell_type": "code",
      "execution_count": 25,
      "metadata": {},
      "outputs": [
        {
          "output_type": "stream",
          "name": "stdout",
          "text": [
            "[4, 6]"
          ]
        }
      ],
      "source": [
        "my_list = [2, 4, 6, 8, 10, 12]\n",
        "print(my_list[1:3])\n"
      ],
      "id": "9118dd6a-702b-4565-ad1a-47342fa77dcc"
    },
    {
      "cell_type": "markdown",
      "metadata": {},
      "source": [
        "Remember that list indexes count from zero, and remember also that\n",
        "ranges in Python **include** the starting index (here, it’s the 1) and\n",
        "will continue to the last value that is smaller than the one on the\n",
        "right side of the colon.\n",
        "\n",
        "Both the starting and the ending indexes are optional! If one of the two\n",
        "is missing, it will be interpreted as 0 or the list’s length,\n",
        "respectively."
      ],
      "id": "7d026b1b-05f8-41c0-9be2-ffa49320c80e"
    },
    {
      "cell_type": "code",
      "execution_count": 27,
      "metadata": {},
      "outputs": [
        {
          "output_type": "stream",
          "name": "stdout",
          "text": [
            "[2, 4, 6, 8, 10, 12]\n",
            "\n",
            "[2, 4, 6]\n",
            "[4, 6, 8, 10, 12]\n",
            "[2, 4, 6, 8, 10, 12]"
          ]
        }
      ],
      "source": [
        "print(my_list)\n",
        "print()\n",
        "print(my_list[:3])\n",
        "print(my_list[1:])\n",
        "print(my_list[:])"
      ],
      "id": "f969e51d-90c6-4f58-ae82-b18b8f5742fd"
    },
    {
      "cell_type": "markdown",
      "metadata": {},
      "source": [
        "And finally, the `in` operator is used to test list membership."
      ],
      "id": "4bed63ce-a8cc-4ef7-b3d8-ecc2fbca24ef"
    },
    {
      "cell_type": "code",
      "execution_count": 31,
      "metadata": {},
      "outputs": [
        {
          "output_type": "stream",
          "name": "stdout",
          "text": [
            "Sorry! Better luck next time!"
          ]
        }
      ],
      "source": [
        "lucky_numbers = [2, 7, 17, 9]\n",
        "player_number = int(input('Enter your favorite number'))\n",
        "if player_number in lucky_numbers:\n",
        "    print(\"Your favorite number is lucky!\")\n",
        "else:\n",
        "    print(\"Sorry! Better luck next time!\")"
      ],
      "id": "2142dcc9-fb24-4dce-b9d0-13f53bf60742"
    },
    {
      "cell_type": "markdown",
      "metadata": {},
      "source": [
        "### There’s Method to the Madness\n",
        "\n",
        "------------------------------------------------------------------------\n",
        "\n",
        "There are two kinds of functions available for working with lists.\n",
        "Built-in functions are the ones that are part of Python itself. Methods,\n",
        "as you’ll recall from the unit on files, are special functions that are\n",
        "situated inside of objects and only usable with that kind of object.\n",
        "Python lists are objects. They’re *iterable objects*, in fact.\n",
        "\n",
        "Let’s take a look at a few of the methods available for working with\n",
        "lists. First up is `append()`."
      ],
      "id": "43ce46e7-9fd4-4ee0-a8aa-674776c0d822"
    },
    {
      "cell_type": "code",
      "execution_count": 32,
      "metadata": {},
      "outputs": [
        {
          "output_type": "stream",
          "name": "stdout",
          "text": [
            "[2, 7, 17, 9]"
          ]
        },
        {
          "output_type": "display_data",
          "metadata": {},
          "data": {
            "text/plain": [
              "[2, 7, 17, 9, 106]"
            ]
          }
        }
      ],
      "source": [
        "print(lucky_numbers)\n",
        "lucky_numbers.append(106)\n",
        "\n",
        "lucky_numbers"
      ],
      "id": "99d805d3-1a83-41fd-b765-c0a0b3b5615c"
    },
    {
      "cell_type": "markdown",
      "metadata": {},
      "source": [
        "Just as the name implies, `append()` adds an element to the end of a\n",
        "list.\n",
        "\n",
        "But what if we want to put a new element in a specific place? For that,\n",
        "there is `insert()`."
      ],
      "id": "aab2507d-ed66-4cfb-8878-da8a5e23e9d5"
    },
    {
      "cell_type": "code",
      "execution_count": 33,
      "metadata": {},
      "outputs": [
        {
          "output_type": "stream",
          "name": "stdout",
          "text": [
            "[2, 7, 17, 9, 106]"
          ]
        },
        {
          "output_type": "display_data",
          "metadata": {},
          "data": {
            "text/plain": [
              "[2, 7, 202, 17, 9, 106]"
            ]
          }
        }
      ],
      "source": [
        "print(lucky_numbers)\n",
        "lucky_numbers.insert(2, 202)\n",
        "lucky_numbers"
      ],
      "id": "408737e3-bce0-46d3-825a-c8d4f990d54d"
    },
    {
      "cell_type": "markdown",
      "metadata": {},
      "source": [
        "The insert function takes two arguments. The first is the position in\n",
        "the list where the insertion should happen. In the example above, it was\n",
        "at position 2. Remember, list indexes start at zero! The second argument\n",
        "is the element to insert. And when we look at the resulting list, we see\n",
        "that 202 is in position 2 now (which is the third position!) and all the\n",
        "other elements have been shifted to the right.\n",
        "\n",
        "We’ve been fetching elements from the list by location number, so far.\n",
        "How do we find something by searching for it? The `index()` method does\n",
        "that."
      ],
      "id": "e1715dd0-2a51-43de-9822-63d236d9157e"
    },
    {
      "cell_type": "code",
      "execution_count": 35,
      "metadata": {},
      "outputs": [
        {
          "output_type": "stream",
          "name": "stdout",
          "text": [
            "2"
          ]
        }
      ],
      "source": [
        "where_found = lucky_numbers.index(202)\n",
        "print(where_found)"
      ],
      "id": "e585395b-d0a7-45d4-9933-6a5380fc87f6"
    },
    {
      "cell_type": "markdown",
      "metadata": {},
      "source": [
        "We passed the argument 202 to the index method. It searched the list and\n",
        "returned the index of the first occurence. That index is 2. Makes sense\n",
        "because we just inserted it there a minute ago!\n",
        "\n",
        "If we can insert things into a list then surely we can remove them too,\n",
        "right? Indeed we can with the `remove()` method."
      ],
      "id": "93b9d3d4-1de6-4c1a-b069-618448ae6803"
    },
    {
      "cell_type": "code",
      "execution_count": 36,
      "metadata": {},
      "outputs": [
        {
          "output_type": "stream",
          "name": "stdout",
          "text": [
            "[2, 7, 202, 17, 9, 106]\n",
            "[2, 202, 17, 9, 106]"
          ]
        }
      ],
      "source": [
        "print(lucky_numbers)\n",
        "lucky_numbers.remove(7)\n",
        "print(lucky_numbers)"
      ],
      "id": "7da15997-b29d-406b-b410-69012f86412f"
    },
    {
      "cell_type": "markdown",
      "metadata": {},
      "source": [
        "Watch out! `remove()` looks up an item, like `index()` does, and then\n",
        "removes it. It doesn’t take a position number. In other words:"
      ],
      "id": "d092e906-d8fc-4ba9-9d47-b4c8bf758a8f"
    },
    {
      "cell_type": "code",
      "execution_count": 38,
      "metadata": {},
      "outputs": [
        {
          "output_type": "stream",
          "name": "stdout",
          "text": [
            "['David', 'Richard']"
          ]
        }
      ],
      "source": [
        "people = ['David', 'Bill', 'Richard']\n",
        "people.remove('Bill')\n",
        "print(people)"
      ],
      "id": "acdaeb65-db40-48c6-bb9e-64b04143fdf7"
    },
    {
      "cell_type": "markdown",
      "metadata": {},
      "source": [
        "You might find yourself needing to sort the items in a list, and for\n",
        "that the `sort()` method exists:"
      ],
      "id": "7e9849b8-aa08-4e80-a18d-fff8f820859e"
    },
    {
      "cell_type": "code",
      "execution_count": 39,
      "metadata": {},
      "outputs": [
        {
          "output_type": "stream",
          "name": "stdout",
          "text": [
            "[2, 202, 17, 9, 106]\n",
            "[2, 9, 17, 106, 202]"
          ]
        }
      ],
      "source": [
        "print(lucky_numbers)\n",
        "lucky_numbers.sort()\n",
        "print(lucky_numbers)"
      ],
      "id": "c5f7a96e-9c99-4e21-b6e4-94481b087e84"
    },
    {
      "cell_type": "markdown",
      "metadata": {},
      "source": [
        "Finally, there are methods to find the greatest and smallest values in a\n",
        "list."
      ],
      "id": "77b11630-83c6-439d-abd8-c93bdf91d90b"
    },
    {
      "cell_type": "code",
      "execution_count": 40,
      "metadata": {},
      "outputs": [
        {
          "output_type": "stream",
          "name": "stdout",
          "text": [
            "2\n",
            "202"
          ]
        }
      ],
      "source": [
        "print(min(lucky_numbers))\n",
        "print(max(lucky_numbers))"
      ],
      "id": "0f2f3e77-d56b-4e5f-822b-bfcbce49e727"
    },
    {
      "cell_type": "markdown",
      "metadata": {},
      "source": [
        "Earlier we saw the use of `len()` to find out how many items are in a\n",
        "list. This is a built-in function and works on many types of variables,\n",
        "not just lists. There are two more built-in functions that are useful\n",
        "for working with lists: `min()` and `max()`."
      ],
      "id": "0db372be-0385-459a-b1aa-7d9a07348da8"
    },
    {
      "cell_type": "code",
      "execution_count": 43,
      "metadata": {},
      "outputs": [
        {
          "output_type": "stream",
          "name": "stdout",
          "text": [
            "Bill\n",
            "Shirley"
          ]
        }
      ],
      "source": [
        "siblings = ['David', 'Bill', 'Shirley', 'Richard', 'Laverne']\n",
        "print(min(siblings))\n",
        "print(max(siblings))"
      ],
      "id": "efd38af1-2b48-4e8f-a495-9bee08c04456"
    },
    {
      "cell_type": "markdown",
      "metadata": {},
      "source": [
        "### Lists and Functions\n",
        "\n",
        "------------------------------------------------------------------------\n",
        "\n",
        "Functions have no problem accepting lists as arguments and they can also\n",
        "return lists as the function’s value. There is a subtle “gotcha” when\n",
        "passing lists as an argument, though.\n",
        "\n",
        "First, let’s look at a simple example:"
      ],
      "id": "13616f4e-f56d-464b-9a27-d55249c4ec2d"
    },
    {
      "cell_type": "code",
      "execution_count": 45,
      "metadata": {},
      "outputs": [
        {
          "output_type": "display_data",
          "metadata": {},
          "data": {
            "text/plain": [
              "15"
            ]
          }
        }
      ],
      "source": [
        "original_list = [1, 2, 3, 9]\n",
        "\n",
        "def sum_of_list(list_to_sum):\n",
        "    sum = 0\n",
        "    for i in list_to_sum:\n",
        "        sum = sum + i\n",
        "    return sum\n",
        "\n",
        "the_sum = sum_of_list(original_list)\n",
        "the_sum"
      ],
      "id": "24331a9b-7118-453d-b296-a33b61714ce4"
    },
    {
      "cell_type": "markdown",
      "metadata": {},
      "source": [
        "That worked as expected - there’s no problem passing lists into\n",
        "functions. What about returning lists from functions?"
      ],
      "id": "61eb4952-0c95-4245-aed9-f6f0737ca7ab"
    },
    {
      "cell_type": "code",
      "execution_count": 46,
      "metadata": {},
      "outputs": [
        {
          "output_type": "stream",
          "name": "stdout",
          "text": [
            "['goldfish', 'catfish', 'goldfish', 'catfish', 'goldfish', 'catfish', 'goldfish', 'catfish', 'goldfish', 'catfish']"
          ]
        }
      ],
      "source": [
        "def pet_factory(how_many_pairs):\n",
        "    pets = ['goldfish', 'catfish'] * how_many_pairs\n",
        "    return pets\n",
        "\n",
        "many_fish = pet_factory(5)\n",
        "print(many_fish)"
      ],
      "id": "928d3bd8-3d3d-474e-af2d-0ecf696e5340"
    },
    {
      "cell_type": "markdown",
      "metadata": {},
      "source": [
        "Earlier, when we talked about functions in section 5, we said that if a\n",
        "function changes the value of one of its arguments then the effects of\n",
        "that change stay inside the function and aren’t visible to anything when\n",
        "the function exits. That statement was mostly true. If you pass a list\n",
        "as an argument to a function and if that function changes the list then\n",
        "the change made there will be visible outside. Strings, floats, and\n",
        "integers asre protected, but lists are more exposed."
      ],
      "id": "a9a04e88-57a0-4f8f-8f69-f628b153d633"
    },
    {
      "cell_type": "code",
      "execution_count": 48,
      "metadata": {},
      "outputs": [
        {
          "output_type": "stream",
          "name": "stdout",
          "text": [
            "[1, 2, 3, 9]\n",
            "[2, 4, 6, 18]"
          ]
        }
      ],
      "source": [
        "original_list = [1, 2, 3, 9]\n",
        "\n",
        "def doubler(numbers):\n",
        "    for i in range(len(numbers)):\n",
        "        numbers[i]=numbers[i]*2\n",
        "\n",
        "print(original_list)\n",
        "doubler(original_list)\n",
        "print(original_list)"
      ],
      "id": "bd1ffc7f-1275-4395-bb0f-9880b7b12fe5"
    },
    {
      "cell_type": "markdown",
      "metadata": {},
      "source": [
        "Changing the value of an argument inside of a function usually isn’t a\n",
        "great idea, but in the case of lists it can be useful.\n",
        "\n",
        "### No Funny Glasses Required\n",
        "\n",
        "------------------------------------------------------------------------\n",
        "\n",
        "The lists we have worked with up to this point have all been one\n",
        "dimensional. Lists get a lot more interesting as the number of\n",
        "dimensions goes up.\n",
        "\n",
        "Unlike most programming languages, Python does not have a\n",
        "multi-dimensional list or array construction, *per se*. What Python does\n",
        "have is a list that is versatile enough to contain anything - and that\n",
        "includes containing other lists! A two-dimensional list in Python is\n",
        "just a “list of lists”.\n",
        "\n",
        "Take a look:"
      ],
      "id": "b90e186e-d2d5-4ac5-982a-1a911c9f516c"
    },
    {
      "cell_type": "code",
      "execution_count": 50,
      "metadata": {},
      "outputs": [],
      "source": [
        "first_presidents = [['George', 'Washington'], ['John', 'Adams'], ['Thomas', 'Jefferson']]"
      ],
      "id": "24066c18-8c88-4f33-a2d4-532e14ca3fba"
    },
    {
      "cell_type": "markdown",
      "metadata": {},
      "source": [
        "Above, on that very long line, we’ve created a list with square\n",
        "brackets. Inside that list, we’ve put three more lists inside square\n",
        "brackets of their own. So we’ve made a list of lists.\n",
        "\n",
        "That long line is hard to read, isn’t it? Python won’t let us just split\n",
        "a long line of code across multiple lines… unless we explicitly tell it\n",
        "what we’re doing. That is done by ending each line with a backslash and\n",
        "immediately pressing enter. It looks like this:"
      ],
      "id": "9422c7d0-c0d4-4e9c-9e67-899c9f1a5b9d"
    },
    {
      "cell_type": "code",
      "execution_count": 51,
      "metadata": {},
      "outputs": [],
      "source": [
        "first_presidents = [['George', 'Washington'],\\\n",
        "                    ['John', 'Adams'],\\\n",
        "                    ['Thomas', 'Jefferson']]"
      ],
      "id": "5a424a1e-e9df-47b6-8e4d-1739635fe830"
    },
    {
      "cell_type": "markdown",
      "metadata": {},
      "source": [
        "Jupyter even goes to the trouble to line up the columns for us.\n",
        "\n",
        "Anyway, let’s see what we’ve created."
      ],
      "id": "530de8e0-b966-4c2c-bb6b-15029ac7793c"
    },
    {
      "cell_type": "code",
      "execution_count": 52,
      "metadata": {},
      "outputs": [
        {
          "output_type": "stream",
          "name": "stdout",
          "text": [
            "[['George', 'Washington'], ['John', 'Adams'], ['Thomas', 'Jefferson']]"
          ]
        }
      ],
      "source": [
        "print(first_presidents)"
      ],
      "id": "83c36c47-b859-46b3-8815-9a248f254c8c"
    },
    {
      "cell_type": "code",
      "execution_count": 54,
      "metadata": {},
      "outputs": [
        {
          "output_type": "stream",
          "name": "stdout",
          "text": [
            "['George', 'Washington']"
          ]
        }
      ],
      "source": [
        "print(first_presidents[0])"
      ],
      "id": "bfd80fad-ec05-44e6-9c53-5595c91443a7"
    },
    {
      "cell_type": "code",
      "execution_count": 55,
      "metadata": {},
      "outputs": [
        {
          "output_type": "stream",
          "name": "stdout",
          "text": [
            "['Thomas', 'Jefferson']"
          ]
        }
      ],
      "source": [
        "print(first_presidents[2])"
      ],
      "id": "c8bb201b-36fd-4c16-8b98-30f6fe49df73"
    },
    {
      "cell_type": "markdown",
      "metadata": {},
      "source": [
        "We can index into the outer array, the one that contains the smaller\n",
        "lists, just like we normally would. We can also index into the inner\n",
        "array two different ways. The long way…"
      ],
      "id": "8f748276-d795-4d8b-ac7d-b49fe2b071c2"
    },
    {
      "cell_type": "code",
      "execution_count": 56,
      "metadata": {},
      "outputs": [
        {
          "output_type": "display_data",
          "metadata": {},
          "data": {
            "text/plain": [
              "'George'"
            ]
          }
        }
      ],
      "source": [
        "president_number_one = first_presidents[0]\n",
        "first_name = president_number_one[0]\n",
        "first_name"
      ],
      "id": "2d64f9fd-433f-44f6-bb83-191a2226c572"
    },
    {
      "cell_type": "markdown",
      "metadata": {},
      "source": [
        "… or we can take the shortcut:"
      ],
      "id": "ec371504-8909-4aa8-9c99-a04f3bd9e885"
    },
    {
      "cell_type": "code",
      "execution_count": 58,
      "metadata": {},
      "outputs": [
        {
          "output_type": "display_data",
          "metadata": {},
          "data": {
            "text/plain": [
              "'George'"
            ]
          }
        }
      ],
      "source": [
        "first_name = first_presidents[0][0]\n",
        "first_name"
      ],
      "id": "9a00496d-596e-48b1-99e4-04a448d02779"
    },
    {
      "cell_type": "markdown",
      "metadata": {},
      "source": [
        "The first zero got us to the “George”, “Washington” element, and the\n",
        "second zero indexed into that and gave us ‘George’. Let’s try some other\n",
        "combinations:"
      ],
      "id": "812c693a-7651-4430-a423-04b6bfd184c7"
    },
    {
      "cell_type": "code",
      "execution_count": 59,
      "metadata": {},
      "outputs": [
        {
          "output_type": "display_data",
          "metadata": {},
          "data": {
            "text/plain": [
              "'John'"
            ]
          }
        }
      ],
      "source": [
        "next_first_name = first_presidents[1][0]\n",
        "next_first_name"
      ],
      "id": "3c017b37-b383-4282-a390-4398d472b316"
    },
    {
      "cell_type": "code",
      "execution_count": 60,
      "metadata": {},
      "outputs": [
        {
          "output_type": "display_data",
          "metadata": {},
          "data": {
            "text/plain": [
              "'Adams'"
            ]
          }
        }
      ],
      "source": [
        "another_name = first_presidents[1][1]\n",
        "another_name"
      ],
      "id": "76b2e273-ffc9-4ecc-a8d9-f28193b9f7bb"
    },
    {
      "cell_type": "markdown",
      "metadata": {},
      "source": [
        "It’s easy to see how we’re indexing into this two-dimensional list. In\n",
        "fact, it works roughly the same way as a 2-D array in most programming\n",
        "languages.\n",
        "\n",
        "It’s so similar, in fact, that you’re probably feeling the urge to do\n",
        "some Linear Algebra right now.\n",
        "\n",
        "Don’t. Not yet.\n",
        "\n",
        "Python’s multidimensional list support is exactly that: support for\n",
        "lists. It can be pressed into service for arrays (in the linear\n",
        "algebraic sense of the term) but performance is pretty bad. In\n",
        "Programming Elements 101 we’ll see a software library called “numpy”. It\n",
        "is superior for arrays where you want to do some math.\n",
        "\n",
        "Now let’s look at how to traverse multi-dimensional array. We’ll create\n",
        "a 2-D list that look like this:\n",
        "\n",
        "            Column 0  Column 1  Column 2  Column3\n",
        "    Row 0.     A         B         C         D\n",
        "    Row 1.     E         F         G         H\n",
        "    Row 2.     I         J         K         L\n",
        "    Row 3.     M         N         O         P"
      ],
      "id": "c745f3fe-d545-4307-a866-0ad1b06c207b"
    },
    {
      "cell_type": "code",
      "execution_count": 61,
      "metadata": {},
      "outputs": [],
      "source": [
        "letter_table = [['A', 'B', 'C', 'D'],\\\n",
        "['E', 'F', 'G', 'H'],\\\n",
        "['I', 'J', 'K', 'L'],\\\n",
        "['M', 'N', 'O', 'P']]"
      ],
      "id": "3cf9b6e7-a6af-461d-a5fe-82b219fc5906"
    },
    {
      "cell_type": "markdown",
      "metadata": {},
      "source": [
        "We can get a whole row:"
      ],
      "id": "a68eee5b-b4d1-4346-a85b-cc8ec2cefddb"
    },
    {
      "cell_type": "code",
      "execution_count": 62,
      "metadata": {},
      "outputs": [
        {
          "output_type": "stream",
          "name": "stdout",
          "text": [
            "['E', 'F', 'G', 'H']"
          ]
        }
      ],
      "source": [
        "print(letter_table[1])"
      ],
      "id": "f5e5d3ff-ed52-4581-8fa2-17b50e0f5dab"
    },
    {
      "cell_type": "markdown",
      "metadata": {},
      "source": [
        "or we can get a specific cell (the order is row, then column):"
      ],
      "id": "60e9f800-7e44-4c65-bf4d-db4217b855bd"
    },
    {
      "cell_type": "code",
      "execution_count": 63,
      "metadata": {},
      "outputs": [
        {
          "output_type": "stream",
          "name": "stdout",
          "text": [
            "J"
          ]
        }
      ],
      "source": [
        "print(letter_table[2][1])"
      ],
      "id": "2cff7723-8178-4040-853c-5f0e50ab1ea8"
    },
    {
      "cell_type": "markdown",
      "metadata": {},
      "source": [
        "We can access the table by column, but it’s not as easy. We’ll have to\n",
        "write a loop that steps down a column and reads the values:"
      ],
      "id": "6497d793-36a8-4f5c-b06b-e5437cc356c5"
    },
    {
      "cell_type": "code",
      "execution_count": 64,
      "metadata": {},
      "outputs": [
        {
          "output_type": "stream",
          "name": "stdout",
          "text": [
            "D\n",
            "H\n",
            "L\n",
            "P"
          ]
        }
      ],
      "source": [
        "for i in range(len(letter_table)):\n",
        "    print(letter_table[i][3])\n"
      ],
      "id": "069aec83-d853-4879-8abc-86bb6c2581d9"
    },
    {
      "cell_type": "markdown",
      "metadata": {},
      "source": [
        "What if we want to access **all** of the cells in the array? For that,\n",
        "nested loops work."
      ],
      "id": "a1deb338-a9fa-4473-a4ca-84f38cacd57e"
    },
    {
      "cell_type": "code",
      "execution_count": 65,
      "metadata": {},
      "outputs": [
        {
          "output_type": "stream",
          "name": "stdout",
          "text": [
            "A\n",
            "B\n",
            "C\n",
            "D\n",
            "E\n",
            "F\n",
            "G\n",
            "H\n",
            "I\n",
            "J\n",
            "K\n",
            "L\n",
            "M\n",
            "N\n",
            "O\n",
            "P"
          ]
        }
      ],
      "source": [
        "for row in range(len(letter_table)):\n",
        "    for col in range(len(letter_table[row])):\n",
        "        print(letter_table[row][col])"
      ],
      "id": "7bc31750-96ef-4f80-9def-3a3aa4670417"
    },
    {
      "cell_type": "markdown",
      "metadata": {},
      "source": [
        "“But wait!”, I hear you say. “I need to store higher-dimensionality\n",
        "data!” No problem. Python will allow arbitrarily deep nesting. We can\n",
        "have lists of lists of lists (3 dimensions) or lists of lists of lists\n",
        "of lists for four dimensions. Accessing the cells is just a matter of\n",
        "adding more array indexes to the end of the name."
      ],
      "id": "e0417818-191d-4d61-a362-94e566d914f9"
    },
    {
      "cell_type": "code",
      "execution_count": 70,
      "metadata": {},
      "outputs": [
        {
          "output_type": "stream",
          "name": "stdout",
          "text": [
            "Adams\n",
            "Aaron"
          ]
        }
      ],
      "source": [
        "first_vice_presidents = [[\"John\", \"Adams\"],\\\n",
        "                         [\"Thomas\", \"Jefferson\"],\\\n",
        "                         [\"Aaron\", \"Burr\"]]\n",
        "\n",
        "early_us_leaders = [first_presidents, first_vice_presidents]\n",
        "print(early_us_leaders[1][0][1])\n",
        "print(early_us_leaders[1][2][0])"
      ],
      "id": "ea622723-d293-4c11-adde-2309f6bc2597"
    },
    {
      "cell_type": "markdown",
      "metadata": {},
      "source": [
        "It’s easy to get confused with deeply nested lists. Three dimensions\n",
        "isn’t bad, four is managable, but as the structures get deeper and\n",
        "deeper I have to resort to drawing pictures and frequent testing every\n",
        "step of the way.\n",
        "\n",
        "tl;dr: If you’re a string theorist working in 21 dimensions or whatever,\n",
        "Python lists probably aren’t the way to go. You should use numpy.\n",
        "\n",
        "### Tuples\n",
        "\n",
        "------------------------------------------------------------------------\n",
        "\n",
        "A “double”, mathematically speaking, is two of something. A “triple” is\n",
        "three of them. If you don’t know how many, or you don’t want to specify,\n",
        "then it’s generically called a “tuple” (pronounced “Too pull”, according\n",
        "the The American Heritage Dictionary and, more importantly, everyone who\n",
        "has ever taught the database class).\n",
        "\n",
        "Python gracious provides us with tuples. Their syntax is just like a\n",
        "list, only using parentheses instead of square brackets. For instance:"
      ],
      "id": "6a7319c8-46e4-4e44-8e00-4004ad7ea7d6"
    },
    {
      "cell_type": "code",
      "execution_count": 71,
      "metadata": {},
      "outputs": [
        {
          "output_type": "stream",
          "name": "stdout",
          "text": [
            "8"
          ]
        }
      ],
      "source": [
        "my_tuple = (2, 8, 256)\n",
        "print(my_tuple[1])"
      ],
      "id": "edc0a777-be4b-4ac7-bb75-a050b7c41815"
    },
    {
      "cell_type": "markdown",
      "metadata": {},
      "source": [
        "Tuples have some restrictions when compared to lists. \\* You can’t sort\n",
        "them. \\* You can’t insert or delete from them \\* You can’t change the\n",
        "values in them\n",
        "\n",
        "Why would we want tuples if they’re so similar to lists, only somewhat\n",
        "disabled? In a word, **“speed”**. They’re very fast compared to lists.\n",
        "That’s why some Python functions require them. The most likely time\n",
        "you’ll see tuples is when you’re accessing data from a database. The\n",
        "second most common use is when you need to return multiple values from a\n",
        "function.\n",
        "\n",
        "Since tuples have the speed advantage but lists are more versatile, it’s\n",
        "not unusual to see programmers use the `list()` and `tuple()` functions\n",
        "to convert between the two types:"
      ],
      "id": "1173c3d0-ff64-4154-a6cb-e22a870fe74a"
    },
    {
      "cell_type": "code",
      "execution_count": 72,
      "metadata": {},
      "outputs": [
        {
          "output_type": "display_data",
          "metadata": {},
          "data": {
            "text/plain": [
              "[2, 8, 256]"
            ]
          }
        }
      ],
      "source": [
        "my_tuple = (2, 8, 256)\n",
        "list_version = list(my_tuple)\n",
        "list_version"
      ],
      "id": "93680696-8152-4323-b650-c7009c4d7393"
    },
    {
      "cell_type": "code",
      "execution_count": 73,
      "metadata": {},
      "outputs": [
        {
          "output_type": "display_data",
          "metadata": {},
          "data": {
            "text/plain": [
              "(2, 4, 6, 8)"
            ]
          }
        }
      ],
      "source": [
        "my_list=[2, 4, 6, 8]\n",
        "tuple_version = tuple(my_list)\n",
        "tuple_version"
      ],
      "id": "15644bdc-464f-4ae5-afc6-46686d90c194"
    },
    {
      "cell_type": "markdown",
      "metadata": {},
      "source": [
        "Returning multiple values from a function feels like cheating the first\n",
        "time you do it. After all, `sin(x)` returns exactly one number, right?\n",
        "\n",
        "What if you wrote a function that returns a complex number, like\n",
        "1.105+7.3i ? That’s one number (albeit one on the complex plane) but\n",
        "it’s written like two pieces of data being returned.\n",
        "\n",
        "What if you got really fancy and wrote a function that returned a column\n",
        "vector? That would be like returning a lot of numbers all at once,\n",
        "wouldn’t it?\n",
        "\n",
        "So returning multiple values at once isn’t that bad, is it? Especially\n",
        "if the values all have related meaning and “belong” together."
      ],
      "id": "4051b388-85df-4fe5-9cde-483acf14fa3d"
    },
    {
      "cell_type": "code",
      "execution_count": 75,
      "metadata": {},
      "outputs": [
        {
          "output_type": "stream",
          "name": "stdout",
          "text": [
            "2\n",
            "7"
          ]
        }
      ],
      "source": [
        "def get_extremes(number_list):\n",
        "    min_val = min(number_list)\n",
        "    max_val = max(number_list)\n",
        "    return (min_val, max_val)\n",
        "\n",
        "numbers = [5, 3, 2, 7, 2, 5]\n",
        "low, high = get_extremes(numbers)\n",
        "print(low)\n",
        "print(high)\n"
      ],
      "id": "20abac93-edc0-41bf-b10d-36885a06d85b"
    },
    {
      "cell_type": "markdown",
      "metadata": {},
      "source": [
        "A couple of things to note. First, notice how the function creates a\n",
        "tuple and returns it. The parentheses indicate a tuple is being\n",
        "constructed and the min_val and max_val variables are put into the tuple\n",
        "as the first and second elements.\n",
        "\n",
        "Second, look at how that tuple is returned to the caller, taken apart,\n",
        "and stored in a pair of variables. You’ll see the syntax\n",
        "`first_variable, second_variable, third_variable = func()` when a tuple\n",
        "is returned from a function. The first element of the tuple is placed in\n",
        "`first_variable` and so on.\n",
        "\n",
        "### Coming Up Next\n",
        "\n",
        "------------------------------------------------------------------------\n",
        "\n",
        "We’ve made it to the end of this section. Take a moment, breathe, and\n",
        "relax… this is the longest module in the “Python and Jupyter” series.\n",
        "Next up we have lots of information on strings. We’ve been using strings\n",
        "a lot already without really looking at what they are and what they can\n",
        "do. It’s time to remedy that.\n",
        "\n",
        "(pssst. Want a hint? Strings are just tuples of letters!)"
      ],
      "id": "e0e99af5-2904-451b-bdd2-5db5ec8a170b"
    }
  ],
  "nbformat": 4,
  "nbformat_minor": 5,
  "metadata": {
    "kernelspec": {
      "name": "python3",
      "display_name": "Python 3 (ipykernel)",
      "language": "python"
    },
    "language_info": {
      "name": "python",
      "codemirror_mode": {
        "name": "ipython",
        "version": "3"
      },
      "file_extension": ".py",
      "mimetype": "text/x-python",
      "nbconvert_exporter": "python",
      "pygments_lexer": "ipython3",
      "version": "3.12.3"
    }
  }
}