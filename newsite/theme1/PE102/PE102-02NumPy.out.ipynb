{
  "cells": [
    {
      "cell_type": "markdown",
      "metadata": {},
      "source": [
        "# NumPy - A Mathematical Toolkit for Python\n",
        "\n",
        "In the previous section, modules for Python was introduced. In this\n",
        "section, we’ll take a much more detailed look at one of the most useful\n",
        "to scientists: NumPy. This module contains numerous routinues and\n",
        "support frameworks for numerical computing. The routinues in it are very\n",
        "carefully tested for correctness and are crafted for speed. Any time you\n",
        "*can* use something from this package, it’s a good idea to.\n",
        "\n",
        "Python is built for versatility and ease of programming. Unfortunately,\n",
        "it is not built for speed. Over the years Python has gotten faster and\n",
        "faster but there is still a speed penalty compared to classic compiled\n",
        "languages like C, C++, or Fortran.\n",
        "\n",
        "Enter NumPy: a package of mathematical routines written in C and Fortran\n",
        "and made to work with Python via a “glue” or “shim” layer. This\n",
        "interface is invisible to the programmer. NumPy looks and behaves just\n",
        "like any other Python package. Under the surface, though, lies a very\n",
        "fast and efficient library of algorithms.\n",
        "\n",
        "## A first glimpse\n",
        "\n",
        "Let’s take a quick look at NumPy and see a few of the things it can do.\n",
        "NumPy is a package, not part of Python proper, so we have to tell Python\n",
        "to load it. It’s traditional to import numpy and give it the alias\n",
        "“np” - it’s less typing that way, and if you’re cutting and pasting code\n",
        "from other sources then it’s handy to follow the convention."
      ],
      "id": "e5bbafd1-dc11-4f4f-ae1e-97b1f21bd5c5"
    },
    {
      "cell_type": "code",
      "execution_count": 15,
      "metadata": {},
      "outputs": [],
      "source": [
        "import numpy as np"
      ],
      "id": "de084959-df71-493d-8e30-7ab89a5552cf"
    },
    {
      "cell_type": "markdown",
      "metadata": {},
      "source": [
        "Python, you’ll recall, doesn’t have an “array” data type. The closest it\n",
        "can come is the “list”. Lists are certainly useful, but they aren’t all\n",
        "that fast to read and even slower to write to. To make matters worse, a\n",
        "2-D array is represented by a list of lists. This is great for\n",
        "representing complicated data but it’s lousy for doing math.\n",
        "\n",
        "The critical NumPy data type is the array: “NumPy arrays are faster and\n",
        "more compact than Python lists. An array consumes less memory and is\n",
        "convenient to use.”\n",
        "([source](https://numpy.org/doc/stable/user/absolute_beginners.html))\n",
        "The one caveat with NumPy arrays is that all the elements inside an\n",
        "array need to have the same data type (e.g. integer, float, double). In\n",
        "practice this is rarely, if ever, a problem.\n",
        "\n",
        "Let’s make an array of integers:"
      ],
      "id": "57bae427-0a3f-420a-a7b7-44308b32370f"
    },
    {
      "cell_type": "code",
      "execution_count": 16,
      "metadata": {},
      "outputs": [
        {
          "output_type": "display_data",
          "metadata": {},
          "data": {
            "text/plain": [
              "array([[ 1,  2,  3,  4],\n",
              "       [ 5,  6,  7,  8],\n",
              "       [ 9, 10, 11, 12]])"
            ]
          }
        }
      ],
      "source": [
        "a = np.array([[1,2,3,4], [5,6,7,8], [9,10,11,12]])\n",
        "\n",
        "a"
      ],
      "id": "2b954fa8-72d4-4c2a-aa3a-250949c3ff11"
    },
    {
      "cell_type": "markdown",
      "metadata": {},
      "source": [
        "The array `a` is now a 4x3 array of integers. The `array` method was\n",
        "called with one argument - a Python “list of lists” representation of\n",
        "the array. The dimensions of the array are inferred from the list of\n",
        "lists used to initialize it.\n",
        "\n",
        "There are other ways to create arrays. Here are two more common methods:"
      ],
      "id": "52687cca-eb13-4ecc-92e7-089ef6209e9c"
    },
    {
      "cell_type": "code",
      "execution_count": 17,
      "metadata": {},
      "outputs": [
        {
          "output_type": "display_data",
          "metadata": {},
          "data": {
            "text/plain": [
              "array([0., 0., 0.])"
            ]
          }
        }
      ],
      "source": [
        "z = np.zeros(3)\n",
        "z"
      ],
      "id": "7841cfe1-5e2a-4aa2-a87f-edc63c454ca4"
    },
    {
      "cell_type": "markdown",
      "metadata": {},
      "source": [
        "Notice the decimal points after the zeros. These indicate that we’re\n",
        "seeing floating point numbers."
      ],
      "id": "76586deb-d9d1-430d-b2f8-6801d9e8be75"
    },
    {
      "cell_type": "code",
      "execution_count": 18,
      "metadata": {},
      "outputs": [
        {
          "output_type": "display_data",
          "metadata": {},
          "data": {
            "text/plain": [
              "array([[1., 1., 1.],\n",
              "       [1., 1., 1.],\n",
              "       [1., 1., 1.]])"
            ]
          }
        }
      ],
      "source": [
        "m = np.ones((3,3))\n",
        "m"
      ],
      "id": "58af786a-c914-4e42-acc3-87e25f68e022"
    },
    {
      "cell_type": "markdown",
      "metadata": {},
      "source": [
        "This one will throw you off if you aren’t paying attention. Notice how\n",
        "many parantheses there are… probably more than you expected! What is\n",
        "going on is that the outer parentheses are there to indicate function\n",
        "arguments, just like calling any other functions. The inner parentheses\n",
        "are used to generate a tuple, in this case one with two values, both of\n",
        "which are threes. This tuple can be arbitrarily long:"
      ],
      "id": "c7f6686d-4bfc-4cfb-8bd6-97a611d7de01"
    },
    {
      "cell_type": "code",
      "execution_count": 19,
      "metadata": {},
      "outputs": [
        {
          "output_type": "display_data",
          "metadata": {},
          "data": {
            "text/plain": [
              "array([[[[1., 1., 1.],\n",
              "         [1., 1., 1.],\n",
              "         [1., 1., 1.]],\n",
              "\n",
              "        [[1., 1., 1.],\n",
              "         [1., 1., 1.],\n",
              "         [1., 1., 1.]],\n",
              "\n",
              "        [[1., 1., 1.],\n",
              "         [1., 1., 1.],\n",
              "         [1., 1., 1.]]],\n",
              "\n",
              "\n",
              "       [[[1., 1., 1.],\n",
              "         [1., 1., 1.],\n",
              "         [1., 1., 1.]],\n",
              "\n",
              "        [[1., 1., 1.],\n",
              "         [1., 1., 1.],\n",
              "         [1., 1., 1.]],\n",
              "\n",
              "        [[1., 1., 1.],\n",
              "         [1., 1., 1.],\n",
              "         [1., 1., 1.]]],\n",
              "\n",
              "\n",
              "       [[[1., 1., 1.],\n",
              "         [1., 1., 1.],\n",
              "         [1., 1., 1.]],\n",
              "\n",
              "        [[1., 1., 1.],\n",
              "         [1., 1., 1.],\n",
              "         [1., 1., 1.]],\n",
              "\n",
              "        [[1., 1., 1.],\n",
              "         [1., 1., 1.],\n",
              "         [1., 1., 1.]]]])"
            ]
          }
        }
      ],
      "source": [
        "big_m = np.ones((3,3,3,3))\n",
        "big_m"
      ],
      "id": "ba910429-41d2-4c8d-a4e0-c690e354fba6"
    },
    {
      "cell_type": "markdown",
      "metadata": {},
      "source": [
        "The output isn’t terribly easy to read, but then again representing a\n",
        "four dimensional array on a flat page is challenging at best.\n",
        "\n",
        "If we ever need to see the dimensions of an array, we can use the\n",
        "`shape()` method."
      ],
      "id": "3800e42e-7421-4132-bce9-91764f055e99"
    },
    {
      "cell_type": "code",
      "execution_count": 20,
      "metadata": {},
      "outputs": [
        {
          "output_type": "stream",
          "name": "stdout",
          "text": [
            "z:\n",
            "(3,)\n",
            "\n",
            "m:\n",
            "(3, 3)\n",
            "\n",
            "big_m\n",
            "(3, 3, 3, 3)"
          ]
        }
      ],
      "source": [
        "print(\"z:\")\n",
        "print(np.shape(z))\n",
        "print()\n",
        "print(\"m:\")\n",
        "print(np.shape(m))\n",
        "print()\n",
        "print(\"big_m\")\n",
        "print(np.shape(big_m))"
      ],
      "id": "72fbfda8-ed6e-40dc-94e4-ce4ccefe0c66"
    },
    {
      "cell_type": "markdown",
      "metadata": {},
      "source": [
        "## Let’s do some actual math, shall we?\n",
        "\n",
        "The trivial example: add a scalar (“a single number”) to every element\n",
        "of the matrix:"
      ],
      "id": "cd5f1dee-b21a-49cb-b93f-37fdb4ccfc83"
    },
    {
      "cell_type": "code",
      "execution_count": 21,
      "metadata": {},
      "outputs": [
        {
          "output_type": "stream",
          "name": "stdout",
          "text": [
            "[0. 0. 0.]\n",
            "[3. 3. 3.]"
          ]
        }
      ],
      "source": [
        "print(z)\n",
        "z_plus_three = z + 3\n",
        "print(z_plus_three)"
      ],
      "id": "2646ba7d-7d8c-4103-bf8d-da4a4bec05d4"
    },
    {
      "cell_type": "markdown",
      "metadata": {},
      "source": [
        "You can use any of the Python operators, of course: `+, -, *, /, %, **`…"
      ],
      "id": "32d7c262-c023-43ef-90f4-d19db57f1258"
    },
    {
      "cell_type": "code",
      "execution_count": 22,
      "metadata": {},
      "outputs": [
        {
          "output_type": "stream",
          "name": "stdout",
          "text": [
            "[[1 0 1 0]\n",
            " [1 0 1 0]\n",
            " [1 0 1 0]]"
          ]
        }
      ],
      "source": [
        "print (a % 2)"
      ],
      "id": "25781f79-c2e5-4a78-bfd8-05b92f4fedd6"
    },
    {
      "cell_type": "markdown",
      "metadata": {},
      "source": [
        "Comparison operators (like \\>, \\<, and so forth) are legitimate\n",
        "operators, so they work too:"
      ],
      "id": "a0e299f9-f18f-4e8b-b0f9-220e15b4c47b"
    },
    {
      "cell_type": "code",
      "execution_count": 23,
      "metadata": {},
      "outputs": [
        {
          "output_type": "stream",
          "name": "stdout",
          "text": [
            "[[ 1  2  3  4]\n",
            " [ 5  6  7  8]\n",
            " [ 9 10 11 12]]\n",
            "\n",
            "[[False False False False]\n",
            " [False  True  True  True]\n",
            " [ True  True  True  True]]"
          ]
        }
      ],
      "source": [
        "print(a)\n",
        "print()\n",
        "print(a > 5)"
      ],
      "id": "45637e00-2f0e-45b1-976f-d4c5ed4a4d72"
    },
    {
      "cell_type": "markdown",
      "metadata": {},
      "source": [
        "## Linear algebra, anyone?\n",
        "\n",
        "Let’s use NumPy to do some basic linear algebra. First, we’ll need\n",
        "another module in the NumPy package:"
      ],
      "id": "d2335e33-5b45-461e-95f7-3192480f283c"
    },
    {
      "cell_type": "code",
      "execution_count": 24,
      "metadata": {},
      "outputs": [],
      "source": [
        "import numpy.linalg as nl"
      ],
      "id": "7edc25f0-e902-4234-9a95-41597190e0c7"
    },
    {
      "cell_type": "markdown",
      "metadata": {},
      "source": [
        "That `import` statement went out to where Python packages are stored and\n",
        "found the “linalg” module of the numpy package. This module was imported\n",
        "into the Python interpreter under the name “nl” (as in “NumPy linear\n",
        "algebra”). Using the “nl” alias saves a lot of typing and even makes the\n",
        "code easier to read."
      ],
      "id": "c61a16e4-d2a9-4da4-b541-66fa693e6952"
    },
    {
      "cell_type": "code",
      "execution_count": 25,
      "metadata": {},
      "outputs": [
        {
          "output_type": "stream",
          "name": "stdout",
          "text": [
            "[[1 1 1]\n",
            " [1 1 0]\n",
            " [1 0 0]]"
          ]
        },
        {
          "output_type": "display_data",
          "metadata": {},
          "data": {
            "text/plain": [
              "array([[ 0.,  0.,  1.],\n",
              "       [-0.,  1., -1.],\n",
              "       [ 1., -1., -0.]])"
            ]
          }
        }
      ],
      "source": [
        "k = np.array([[1,1,1], [1,1,0], [1,0,0]])\n",
        "print(k)\n",
        "\n",
        "kinv = nl.inv(k)\n",
        "kinv"
      ],
      "id": "e4c96df7-c701-4a2a-87f8-ea545f01c980"
    },
    {
      "cell_type": "markdown",
      "metadata": {},
      "source": [
        "And given a matrix and its inverse, you probably already guessed where\n",
        "this is going:"
      ],
      "id": "6220a723-c325-46be-8098-e7a1647a6711"
    },
    {
      "cell_type": "code",
      "execution_count": 26,
      "metadata": {},
      "outputs": [
        {
          "output_type": "display_data",
          "metadata": {},
          "data": {
            "text/plain": [
              "array([[1., 0., 0.],\n",
              "       [0., 1., 0.],\n",
              "       [0., 0., 1.]])"
            ]
          }
        }
      ],
      "source": [
        "k @ kinv"
      ],
      "id": "2a60a483-96e2-4929-a8a5-3c5d93332b8a"
    }
  ],
  "nbformat": 4,
  "nbformat_minor": 5,
  "metadata": {
    "kernelspec": {
      "name": "python3",
      "display_name": "Python 3 (ipykernel)",
      "language": "python"
    },
    "language_info": {
      "name": "python",
      "codemirror_mode": {
        "name": "ipython",
        "version": "3"
      },
      "file_extension": ".py",
      "mimetype": "text/x-python",
      "nbconvert_exporter": "python",
      "pygments_lexer": "ipython3",
      "version": "3.12.3"
    }
  }
}