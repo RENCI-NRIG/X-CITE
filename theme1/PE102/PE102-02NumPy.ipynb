{
 "cells": [
  {
   "cell_type": "markdown",
   "id": "3ff68669-a493-4d27-bb7b-5a168faaa16e",
   "metadata": {},
   "source": [
    "# NumPy - A Mathematical Toolkit for Python\n",
    "\n",
    "In the previous section, modules for Python was introduced. In this section, we'll take a much more detailed look at one of the most useful to scientists: NumPy. This module contains numerous routinues and support frameworks for numerical computing. The routinues in it are very carefully tested for correctness and are crafted for speed. Any time you _can_ use something from this package, it's a good idea to.\n",
    "\n",
    "Python is built for versatility and ease of programming. Unfortunately, it is not built for speed. Over the years Python has gotten faster and faster, but there is still a speed penalty as compared to classic compiled languages like C, C++, or Fortran.\n",
    "\n",
    "Enter NumPy: a package of mathematical routines written in C and Fortran and made to work with Python via a \"glue\" or \"shim\" layer. This interface is invisible to the programmer. NumPy looks and behaves just like any other Python package. But under the surface lies a very fast, efficient library of algorithms.\n",
    "\n",
    "### A first glimpse\n",
    "\n",
    "Let's take a quick look at NumPy and see a few of the things it can do. NumPy is a package, not part of Python proper, so we have to tell Python to load it. It's traditional to import numpy and give it the alias \"np\" - it's less typing that way, and if you're cutting and pasting code from other sources then it's handy to follow the convention."
   ]
  },
  {
   "cell_type": "code",
   "execution_count": 1,
   "id": "de084959-df71-493d-8e30-7ab89a5552cf",
   "metadata": {},
   "outputs": [],
   "source": [
    "import numpy as np"
   ]
  },
  {
   "cell_type": "markdown",
   "id": "a85dfb8c-4b0d-4f1e-8229-5b1f2c4a329c",
   "metadata": {},
   "source": [
    "Python, you'll recall, doesn't have an \"array\" data type. The closest it can come is the \"list\". Lists are certainly useful, but they aren't all that fast to read and even slower to write to. To make matters worse, a 2-D array is represented by a list of lists. This is great for representing complicated data but it's lousy for doing math.\n",
    "\n",
    "The critical NumPy data type is the array: \"NumPy arrays are faster and more compact than Python lists. An array consumes less memory and is convenient to use.\" ([source](https://numpy.org/doc/stable/user/absolute_beginners.html))\n",
    "The one caveat with NumPy arrays is that all the elements inside an array need to have the same data type (e.g. integer, float, double). In practice this is rarely, if ever, a problem.\n",
    "\n",
    "Let's make an array of integers:"
   ]
  },
  {
   "cell_type": "code",
   "execution_count": 2,
   "id": "2b954fa8-72d4-4c2a-aa3a-250949c3ff11",
   "metadata": {},
   "outputs": [
    {
     "data": {
      "text/plain": [
       "array([[ 1,  2,  3,  4],\n",
       "       [ 5,  6,  7,  8],\n",
       "       [ 9, 10, 11, 12]])"
      ]
     },
     "execution_count": 2,
     "metadata": {},
     "output_type": "execute_result"
    }
   ],
   "source": [
    "a = np.array([[1,2,3,4], [5,6,7,8], [9,10,11,12]])\n",
    "\n",
    "a"
   ]
  },
  {
   "cell_type": "markdown",
   "id": "b70935d1-8ee5-4a1b-9b8a-dbb407dc5324",
   "metadata": {},
   "source": [
    "The array `a` is now a 4x3 array of integers. The `array` method was called with one argument - a Python \"list of lists\" representation of the array. The dimensions of the array are inferred from the list of lists used to initialize it.\n",
    "\n",
    "There are other ways to create arrays. Here are two more common methods:"
   ]
  },
  {
   "cell_type": "code",
   "execution_count": 3,
   "id": "7841cfe1-5e2a-4aa2-a87f-edc63c454ca4",
   "metadata": {},
   "outputs": [
    {
     "data": {
      "text/plain": [
       "array([0., 0., 0.])"
      ]
     },
     "execution_count": 3,
     "metadata": {},
     "output_type": "execute_result"
    }
   ],
   "source": [
    "z = np.zeros(3)\n",
    "z"
   ]
  },
  {
   "cell_type": "markdown",
   "id": "a8be4b10-4a46-4524-a06b-b027fffc9b2c",
   "metadata": {},
   "source": [
    "Notice the decimal points after the zeros. These indicate that we're seeing floating point numbers."
   ]
  },
  {
   "cell_type": "code",
   "execution_count": 4,
   "id": "58af786a-c914-4e42-acc3-87e25f68e022",
   "metadata": {},
   "outputs": [
    {
     "data": {
      "text/plain": [
       "array([[1., 1., 1.],\n",
       "       [1., 1., 1.],\n",
       "       [1., 1., 1.]])"
      ]
     },
     "execution_count": 4,
     "metadata": {},
     "output_type": "execute_result"
    }
   ],
   "source": [
    "m = np.ones((3,3))\n",
    "m"
   ]
  },
  {
   "cell_type": "markdown",
   "id": "1da71297-5b0f-4244-a61c-24f7a5d6b111",
   "metadata": {},
   "source": [
    "This one will throw you off if you aren't paying attention. Notice how many parantheses there are... probably more than you expected! What is going on is that the outer parentheses are there to indicate function arguments, just like calling any other functions. The inner parentheses are used to generate a tuple, in this case one with two values, both of which are threes. This tuple can be arbitrarily long:"
   ]
  },
  {
   "cell_type": "code",
   "execution_count": 5,
   "id": "ba910429-41d2-4c8d-a4e0-c690e354fba6",
   "metadata": {},
   "outputs": [
    {
     "data": {
      "text/plain": [
       "array([[[[1., 1., 1.],\n",
       "         [1., 1., 1.],\n",
       "         [1., 1., 1.]],\n",
       "\n",
       "        [[1., 1., 1.],\n",
       "         [1., 1., 1.],\n",
       "         [1., 1., 1.]],\n",
       "\n",
       "        [[1., 1., 1.],\n",
       "         [1., 1., 1.],\n",
       "         [1., 1., 1.]]],\n",
       "\n",
       "\n",
       "       [[[1., 1., 1.],\n",
       "         [1., 1., 1.],\n",
       "         [1., 1., 1.]],\n",
       "\n",
       "        [[1., 1., 1.],\n",
       "         [1., 1., 1.],\n",
       "         [1., 1., 1.]],\n",
       "\n",
       "        [[1., 1., 1.],\n",
       "         [1., 1., 1.],\n",
       "         [1., 1., 1.]]],\n",
       "\n",
       "\n",
       "       [[[1., 1., 1.],\n",
       "         [1., 1., 1.],\n",
       "         [1., 1., 1.]],\n",
       "\n",
       "        [[1., 1., 1.],\n",
       "         [1., 1., 1.],\n",
       "         [1., 1., 1.]],\n",
       "\n",
       "        [[1., 1., 1.],\n",
       "         [1., 1., 1.],\n",
       "         [1., 1., 1.]]]])"
      ]
     },
     "execution_count": 5,
     "metadata": {},
     "output_type": "execute_result"
    }
   ],
   "source": [
    "big_m = np.ones((3,3,3,3))\n",
    "big_m"
   ]
  },
  {
   "cell_type": "markdown",
   "id": "99be908a-4d66-4576-b7dd-0d0d01c0918c",
   "metadata": {},
   "source": [
    "The output isn't terribly easy to read, but then again representing a four dimensional array on a flat page is challenging at best.\n",
    "\n",
    "If we ever need to see the dimensions of an array, we can use the `shape()` method. \n",
    "\n",
    "# FIX THIS FIX THIS FIX THIS"
   ]
  },
  {
   "cell_type": "code",
   "execution_count": 7,
   "id": "72fbfda8-ed6e-40dc-94e4-ce4ccefe0c66",
   "metadata": {},
   "outputs": [
    {
     "name": "stdout",
     "output_type": "stream",
     "text": [
      "z:\n",
      "(3,)\n",
      "\n",
      "m:\n",
      "(3, 3)\n",
      "\n",
      "big_m\n",
      "(3, 3, 3, 3)\n"
     ]
    }
   ],
   "source": [
    "print(\"z:\")\n",
    "print(np.shape(z))\n",
    "print()\n",
    "print(\"m:\")\n",
    "print(np.shape(m))\n",
    "print()\n",
    "print(\"big_m\")\n",
    "print(np.shape(big_m))"
   ]
  },
  {
   "cell_type": "code",
   "execution_count": 8,
   "id": "66e56019-f630-46ab-98a7-b3d3350737e0",
   "metadata": {},
   "outputs": [
    {
     "data": {
      "text/plain": [
       "(3,)"
      ]
     },
     "execution_count": 8,
     "metadata": {},
     "output_type": "execute_result"
    }
   ],
   "source": [
    "np.shape(z)\n"
   ]
  },
  {
   "cell_type": "markdown",
   "id": "72e6eaaf-b3cb-4d27-9bc1-ecfeaf1ff213",
   "metadata": {},
   "source": [
    "### Let's do some actual math, shall we?\n",
    "\n",
    "The trivial example: add a scalar (\"a single number\") to every element of the matrix:"
   ]
  },
  {
   "cell_type": "code",
   "execution_count": 9,
   "id": "2646ba7d-7d8c-4103-bf8d-da4a4bec05d4",
   "metadata": {},
   "outputs": [
    {
     "name": "stdout",
     "output_type": "stream",
     "text": [
      "[0. 0. 0.]\n",
      "[3. 3. 3.]\n"
     ]
    }
   ],
   "source": [
    "print(z)\n",
    "z_plus_three = z + 3\n",
    "print(z_plus_three)"
   ]
  },
  {
   "cell_type": "markdown",
   "id": "075d1805-07b2-4ef8-81c0-995fc0ac3d38",
   "metadata": {},
   "source": [
    "You can use any of the Python operators, of course: `+, -, *, /, %, **`...\n",
    "\n",
    "CHECK THIS    CHECK THIS    CHECK THIS    CHECK THIS    the ** ooperator?"
   ]
  },
  {
   "cell_type": "code",
   "execution_count": 10,
   "id": "25781f79-c2e5-4a78-bfd8-05b92f4fedd6",
   "metadata": {},
   "outputs": [
    {
     "name": "stdout",
     "output_type": "stream",
     "text": [
      "[[1 0 1 0]\n",
      " [1 0 1 0]\n",
      " [1 0 1 0]]\n"
     ]
    }
   ],
   "source": [
    "print (a % 2)"
   ]
  },
  {
   "cell_type": "markdown",
   "id": "97090102-79e4-40db-bd2e-0b7544eed3ea",
   "metadata": {},
   "source": [
    "Comparison operators (like >, <, and so forth) are legitimate operators, so they work too:"
   ]
  },
  {
   "cell_type": "code",
   "execution_count": 11,
   "id": "45637e00-2f0e-45b1-976f-d4c5ed4a4d72",
   "metadata": {},
   "outputs": [
    {
     "name": "stdout",
     "output_type": "stream",
     "text": [
      "[[ 1  2  3  4]\n",
      " [ 5  6  7  8]\n",
      " [ 9 10 11 12]]\n",
      "\n",
      "[[False False False False]\n",
      " [False  True  True  True]\n",
      " [ True  True  True  True]]\n"
     ]
    }
   ],
   "source": [
    "print(a)\n",
    "print()\n",
    "print(a > 5)"
   ]
  },
  {
   "cell_type": "markdown",
   "id": "16d7c234-3497-4e9c-9297-64a806542ff3",
   "metadata": {},
   "source": [
    "### Linear algebra, anyone?\n",
    "\n",
    "Let's use NumPy to do some basic linear algebra. First, we'll need another module in the NumPy package:"
   ]
  },
  {
   "cell_type": "code",
   "execution_count": 12,
   "id": "7edc25f0-e902-4234-9a95-41597190e0c7",
   "metadata": {},
   "outputs": [
    {
     "ename": "ImportError",
     "evalue": "cannot import name 'nl' from 'numpy.linalg' (/opt/homebrew/lib/python3.12/site-packages/numpy/linalg/__init__.py)",
     "output_type": "error",
     "traceback": [
      "\u001b[0;31m---------------------------------------------------------------------------\u001b[0m",
      "\u001b[0;31mImportError\u001b[0m                               Traceback (most recent call last)",
      "Cell \u001b[0;32mIn[12], line 1\u001b[0m\n\u001b[0;32m----> 1\u001b[0m \u001b[38;5;28;01mfrom\u001b[39;00m \u001b[38;5;21;01mnumpy\u001b[39;00m\u001b[38;5;21;01m.\u001b[39;00m\u001b[38;5;21;01mlinalg\u001b[39;00m \u001b[38;5;28;01mimport\u001b[39;00m nl\n",
      "\u001b[0;31mImportError\u001b[0m: cannot import name 'nl' from 'numpy.linalg' (/opt/homebrew/lib/python3.12/site-packages/numpy/linalg/__init__.py)"
     ]
    }
   ],
   "source": [
    "from numpy.linalg import nl"
   ]
  },
  {
   "cell_type": "code",
   "execution_count": 27,
   "id": "e4c96df7-c701-4a2a-87f8-ea545f01c980",
   "metadata": {},
   "outputs": [
    {
     "name": "stdout",
     "output_type": "stream",
     "text": [
      "[[1 1 1]\n",
      " [1 1 0]\n",
      " [1 0 0]]\n"
     ]
    },
    {
     "ename": "AttributeError",
     "evalue": "module 'numpy' has no attribute 'inv'",
     "output_type": "error",
     "traceback": [
      "\u001b[0;31m---------------------------------------------------------------------------\u001b[0m",
      "\u001b[0;31mAttributeError\u001b[0m                            Traceback (most recent call last)",
      "Cell \u001b[0;32mIn[27], line 4\u001b[0m\n\u001b[1;32m      1\u001b[0m k \u001b[38;5;241m=\u001b[39m np\u001b[38;5;241m.\u001b[39marray([[\u001b[38;5;241m1\u001b[39m,\u001b[38;5;241m1\u001b[39m,\u001b[38;5;241m1\u001b[39m], [\u001b[38;5;241m1\u001b[39m,\u001b[38;5;241m1\u001b[39m,\u001b[38;5;241m0\u001b[39m], [\u001b[38;5;241m1\u001b[39m,\u001b[38;5;241m0\u001b[39m,\u001b[38;5;241m0\u001b[39m]])\n\u001b[1;32m      2\u001b[0m \u001b[38;5;28mprint\u001b[39m(k)\n\u001b[0;32m----> 4\u001b[0m kinv \u001b[38;5;241m=\u001b[39m \u001b[43mnp\u001b[49m\u001b[38;5;241;43m.\u001b[39;49m\u001b[43minv\u001b[49m(k)\n\u001b[1;32m      5\u001b[0m kinv\n",
      "File \u001b[0;32m/opt/homebrew/lib/python3.12/site-packages/numpy/__init__.py:333\u001b[0m, in \u001b[0;36m__getattr__\u001b[0;34m(attr)\u001b[0m\n\u001b[1;32m    330\u001b[0m     \u001b[38;5;124m\"\u001b[39m\u001b[38;5;124mRemoved in NumPy 1.25.0\u001b[39m\u001b[38;5;124m\"\u001b[39m\n\u001b[1;32m    331\u001b[0m     \u001b[38;5;28;01mraise\u001b[39;00m \u001b[38;5;167;01mRuntimeError\u001b[39;00m(\u001b[38;5;124m\"\u001b[39m\u001b[38;5;124mTester was removed in NumPy 1.25.\u001b[39m\u001b[38;5;124m\"\u001b[39m)\n\u001b[0;32m--> 333\u001b[0m \u001b[38;5;28;01mraise\u001b[39;00m \u001b[38;5;167;01mAttributeError\u001b[39;00m(\u001b[38;5;124m\"\u001b[39m\u001b[38;5;124mmodule \u001b[39m\u001b[38;5;132;01m{!r}\u001b[39;00m\u001b[38;5;124m has no attribute \u001b[39m\u001b[38;5;124m\"\u001b[39m\n\u001b[1;32m    334\u001b[0m                      \u001b[38;5;124m\"\u001b[39m\u001b[38;5;132;01m{!r}\u001b[39;00m\u001b[38;5;124m\"\u001b[39m\u001b[38;5;241m.\u001b[39mformat(\u001b[38;5;18m__name__\u001b[39m, attr))\n",
      "\u001b[0;31mAttributeError\u001b[0m: module 'numpy' has no attribute 'inv'"
     ]
    }
   ],
   "source": [
    "k = np.array([[1,1,1], [1,1,0], [1,0,0]])\n",
    "print(k)\n",
    "\n",
    "kinv = np.inv(k)\n",
    "kinv"
   ]
  },
  {
   "cell_type": "markdown",
   "id": "c3a4b59d-cf8d-4bf5-bc4c-5ef76b7cf33a",
   "metadata": {},
   "source": [
    "And given a matrix and its inverse, you probably already guessed where this is going:"
   ]
  },
  {
   "cell_type": "code",
   "execution_count": 28,
   "id": "2a60a483-96e2-4929-a8a5-3c5d93332b8a",
   "metadata": {},
   "outputs": [
    {
     "ename": "NameError",
     "evalue": "name 'kinv' is not defined",
     "output_type": "error",
     "traceback": [
      "\u001b[0;31m---------------------------------------------------------------------------\u001b[0m",
      "\u001b[0;31mNameError\u001b[0m                                 Traceback (most recent call last)",
      "Cell \u001b[0;32mIn[28], line 1\u001b[0m\n\u001b[0;32m----> 1\u001b[0m k \u001b[38;5;241m@\u001b[39m \u001b[43mkinv\u001b[49m\n",
      "\u001b[0;31mNameError\u001b[0m: name 'kinv' is not defined"
     ]
    }
   ],
   "source": [
    "k @ kinv"
   ]
  },
  {
   "cell_type": "code",
   "execution_count": 29,
   "id": "33a135b2-6a0a-4b06-a59c-8956f0f77db4",
   "metadata": {},
   "outputs": [
    {
     "ename": "ModuleNotFoundError",
     "evalue": "No module named 'matplotlib'",
     "output_type": "error",
     "traceback": [
      "\u001b[0;31m---------------------------------------------------------------------------\u001b[0m",
      "\u001b[0;31mModuleNotFoundError\u001b[0m                       Traceback (most recent call last)",
      "Cell \u001b[0;32mIn[29], line 1\u001b[0m\n\u001b[0;32m----> 1\u001b[0m \u001b[38;5;28;01mimport\u001b[39;00m \u001b[38;5;21;01mmatplotlib\u001b[39;00m\u001b[38;5;21;01m.\u001b[39;00m\u001b[38;5;21;01mpyplot\u001b[39;00m \u001b[38;5;28;01mas\u001b[39;00m \u001b[38;5;21;01mplt\u001b[39;00m\n\u001b[1;32m      2\u001b[0m plt\u001b[38;5;241m.\u001b[39mmatshow(a)\n",
      "\u001b[0;31mModuleNotFoundError\u001b[0m: No module named 'matplotlib'"
     ]
    }
   ],
   "source": [
    "import matplotlib.pyplot as plt\n",
    "plt.matshow(a)"
   ]
  },
  {
   "cell_type": "code",
   "execution_count": null,
   "id": "1d6a4998-94f6-45b4-b3fb-c3480ab717a3",
   "metadata": {},
   "outputs": [],
   "source": []
  }
 ],
 "metadata": {
  "kernelspec": {
   "display_name": "Python 3 (ipykernel)",
   "language": "python",
   "name": "python3"
  },
  "language_info": {
   "codemirror_mode": {
    "name": "ipython",
    "version": 3
   },
   "file_extension": ".py",
   "mimetype": "text/x-python",
   "name": "python",
   "nbconvert_exporter": "python",
   "pygments_lexer": "ipython3",
   "version": "3.12.3"
  }
 },
 "nbformat": 4,
 "nbformat_minor": 5
}
