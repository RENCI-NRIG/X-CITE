{
 "cells": [
  {
   "cell_type": "markdown",
   "id": "3ff68669-a493-4d27-bb7b-5a168faaa16e",
   "metadata": {},
   "source": [
    "# NumPy - A Mathematical Toolkit for Python\n",
    "\n",
    "In the previous section, modules for Python was introduced. In this section, we'll take a much more detailed look at one of the most useful to scientists: NumPy. This module contains numerous routinues and support frameworks for numerical computing. The routinues in it are very carefully tested for correctness and are crafted for speed. Any time you _can_ use something from this package, it's a good idea to.\n",
    "\n",
    "Python is built for versatility and ease of programming. Unfortunately, it is not built for speed. Over the years Python has gotten faster and faster but there is still a speed penalty compared to classic compiled languages like C, C++, or Fortran.\n",
    "\n",
    "Enter NumPy: a package of mathematical routines written in C and Fortran and made to work with Python via a \"glue\" or \"shim\" layer. This interface is invisible to the programmer. NumPy looks and behaves just like any other Python package. Under the surface, though, lies a very fast and efficient library of algorithms.\n",
    "\n",
    "## A first glimpse\n",
    "\n",
    "Let's take a quick look at NumPy and see a few of the things it can do. NumPy is a package, not part of Python proper, so we have to tell Python to load it. It's traditional to import numpy and give it the alias \"np\" - it's less typing that way, and if you're cutting and pasting code from other sources then it's handy to follow the convention."
   ]
  },
  {
   "cell_type": "code",
   "execution_count": 1,
   "id": "de084959-df71-493d-8e30-7ab89a5552cf",
   "metadata": {},
   "outputs": [],
   "source": [
    "import numpy as np"
   ]
  },
  {
   "cell_type": "markdown",
   "id": "a85dfb8c-4b0d-4f1e-8229-5b1f2c4a329c",
   "metadata": {},
   "source": [
    "Python, you'll recall, doesn't have an \"array\" data type. The closest it can come is the \"list\". Lists are certainly useful, but they aren't all that fast to read and even slower to write to. To make matters worse, a 2-D array is represented by a list of lists. This is great for representing complicated data but it's lousy for doing math.\n",
    "\n",
    "The critical NumPy data type is the array: \"NumPy arrays are faster and more compact than Python lists. An array consumes less memory and is convenient to use.\" ([source](https://numpy.org/doc/stable/user/absolute_beginners.html))\n",
    "The one caveat with NumPy arrays is that all the elements inside an array need to have the same data type (e.g. integer, float, double). In practice this is rarely, if ever, a problem.\n",
    "\n",
    "Let's make an array of integers:"
   ]
  },
  {
   "cell_type": "code",
   "execution_count": 6,
   "id": "2b954fa8-72d4-4c2a-aa3a-250949c3ff11",
   "metadata": {},
   "outputs": [
    {
     "data": {
      "text/plain": [
       "array([[ 1,  2,  3,  4],\n",
       "       [ 5,  6,  7,  8],\n",
       "       [ 9, 10, 11, 12]])"
      ]
     },
     "execution_count": 6,
     "metadata": {},
     "output_type": "execute_result"
    }
   ],
   "source": [
    "a = np.array([[1,2,3,4], [5,6,7,8], [9,10,11,12]])\n",
    "\n",
    "a"
   ]
  },
  {
   "cell_type": "markdown",
   "id": "b70935d1-8ee5-4a1b-9b8a-dbb407dc5324",
   "metadata": {},
   "source": [
    "The array `a` is now a 4x3 array of integers. The `array` method was called with one argument - a Python \"list of lists\" representation of the array. The dimensions of the array are inferred from the list of lists used to initialize it.\n",
    "\n",
    "There are other ways to create arrays. Here are two more common methods:"
   ]
  },
  {
   "cell_type": "code",
   "execution_count": 3,
   "id": "7841cfe1-5e2a-4aa2-a87f-edc63c454ca4",
   "metadata": {},
   "outputs": [
    {
     "data": {
      "text/plain": [
       "array([0., 0., 0.])"
      ]
     },
     "execution_count": 3,
     "metadata": {},
     "output_type": "execute_result"
    }
   ],
   "source": [
    "z = np.zeros(3)\n",
    "z"
   ]
  },
  {
   "cell_type": "markdown",
   "id": "a8be4b10-4a46-4524-a06b-b027fffc9b2c",
   "metadata": {},
   "source": [
    "Notice the decimal points after the zeros. These indicate that we're seeing floating point numbers."
   ]
  },
  {
   "cell_type": "code",
   "execution_count": 4,
   "id": "58af786a-c914-4e42-acc3-87e25f68e022",
   "metadata": {},
   "outputs": [
    {
     "data": {
      "text/plain": [
       "array([[1., 1., 1.],\n",
       "       [1., 1., 1.],\n",
       "       [1., 1., 1.]])"
      ]
     },
     "execution_count": 4,
     "metadata": {},
     "output_type": "execute_result"
    }
   ],
   "source": [
    "m = np.ones((3,3))\n",
    "m"
   ]
  },
  {
   "cell_type": "markdown",
   "id": "1da71297-5b0f-4244-a61c-24f7a5d6b111",
   "metadata": {},
   "source": [
    "This one will throw you off if you aren't paying attention. Notice how many parantheses there are... probably more than you expected! What is going on is that the outer parentheses are there to indicate function arguments, just like calling any other functions. The inner parentheses are used to generate a tuple, in this case one with two values, both of which are threes. This tuple can be arbitrarily long:"
   ]
  },
  {
   "cell_type": "code",
   "execution_count": 5,
   "id": "ba910429-41d2-4c8d-a4e0-c690e354fba6",
   "metadata": {},
   "outputs": [
    {
     "data": {
      "text/plain": [
       "array([[[[1., 1., 1.],\n",
       "         [1., 1., 1.],\n",
       "         [1., 1., 1.]],\n",
       "\n",
       "        [[1., 1., 1.],\n",
       "         [1., 1., 1.],\n",
       "         [1., 1., 1.]],\n",
       "\n",
       "        [[1., 1., 1.],\n",
       "         [1., 1., 1.],\n",
       "         [1., 1., 1.]]],\n",
       "\n",
       "\n",
       "       [[[1., 1., 1.],\n",
       "         [1., 1., 1.],\n",
       "         [1., 1., 1.]],\n",
       "\n",
       "        [[1., 1., 1.],\n",
       "         [1., 1., 1.],\n",
       "         [1., 1., 1.]],\n",
       "\n",
       "        [[1., 1., 1.],\n",
       "         [1., 1., 1.],\n",
       "         [1., 1., 1.]]],\n",
       "\n",
       "\n",
       "       [[[1., 1., 1.],\n",
       "         [1., 1., 1.],\n",
       "         [1., 1., 1.]],\n",
       "\n",
       "        [[1., 1., 1.],\n",
       "         [1., 1., 1.],\n",
       "         [1., 1., 1.]],\n",
       "\n",
       "        [[1., 1., 1.],\n",
       "         [1., 1., 1.],\n",
       "         [1., 1., 1.]]]])"
      ]
     },
     "execution_count": 5,
     "metadata": {},
     "output_type": "execute_result"
    }
   ],
   "source": [
    "big_m = np.ones((3,3,3,3))\n",
    "big_m"
   ]
  },
  {
   "cell_type": "markdown",
   "id": "99be908a-4d66-4576-b7dd-0d0d01c0918c",
   "metadata": {},
   "source": [
    "The output isn't terribly easy to read, but then again representing a four dimensional array on a flat page is challenging at best.\n",
    "\n",
    "If we ever need to see the dimensions of an array, we can use the `shape()` method. \n"
   ]
  },
  {
   "cell_type": "code",
   "execution_count": 6,
   "id": "72fbfda8-ed6e-40dc-94e4-ce4ccefe0c66",
   "metadata": {},
   "outputs": [
    {
     "name": "stdout",
     "output_type": "stream",
     "text": [
      "z:\n",
      "(3,)\n",
      "\n",
      "m:\n",
      "(3, 3)\n",
      "\n",
      "big_m\n",
      "(3, 3, 3, 3)\n"
     ]
    }
   ],
   "source": [
    "print(\"z:\")\n",
    "print(np.shape(z))\n",
    "print()\n",
    "print(\"m:\")\n",
    "print(np.shape(m))\n",
    "print()\n",
    "print(\"big_m\")\n",
    "print(np.shape(big_m))"
   ]
  },
  {
   "cell_type": "markdown",
   "id": "72e6eaaf-b3cb-4d27-9bc1-ecfeaf1ff213",
   "metadata": {},
   "source": [
    "## Let's do some actual math, shall we?\n",
    "\n",
    "The trivial example: add a scalar (\"a single number\") to every element of the matrix:"
   ]
  },
  {
   "cell_type": "code",
   "execution_count": 7,
   "id": "2646ba7d-7d8c-4103-bf8d-da4a4bec05d4",
   "metadata": {},
   "outputs": [
    {
     "name": "stdout",
     "output_type": "stream",
     "text": [
      "[0. 0. 0.]\n",
      "[3. 3. 3.]\n"
     ]
    }
   ],
   "source": [
    "print(z)\n",
    "z_plus_three = z + 3\n",
    "print(z_plus_three)"
   ]
  },
  {
   "cell_type": "markdown",
   "id": "075d1805-07b2-4ef8-81c0-995fc0ac3d38",
   "metadata": {},
   "source": [
    "You can use any of the Python operators, of course: `+, -, *, /, %, **`...\n"
   ]
  },
  {
   "cell_type": "code",
   "execution_count": 8,
   "id": "25781f79-c2e5-4a78-bfd8-05b92f4fedd6",
   "metadata": {},
   "outputs": [
    {
     "name": "stdout",
     "output_type": "stream",
     "text": [
      "[[1 0 1 0]\n",
      " [1 0 1 0]\n",
      " [1 0 1 0]]\n"
     ]
    }
   ],
   "source": [
    "print (a % 2)"
   ]
  },
  {
   "cell_type": "markdown",
   "id": "97090102-79e4-40db-bd2e-0b7544eed3ea",
   "metadata": {},
   "source": [
    "Comparison operators (like >, <, and so forth) are legitimate operators, so they work too:"
   ]
  },
  {
   "cell_type": "code",
   "execution_count": 9,
   "id": "45637e00-2f0e-45b1-976f-d4c5ed4a4d72",
   "metadata": {},
   "outputs": [
    {
     "name": "stdout",
     "output_type": "stream",
     "text": [
      "[[ 1  2  3  4]\n",
      " [ 5  6  7  8]\n",
      " [ 9 10 11 12]]\n",
      "\n",
      "[[False False False False]\n",
      " [False  True  True  True]\n",
      " [ True  True  True  True]]\n"
     ]
    }
   ],
   "source": [
    "print(a)\n",
    "print()\n",
    "print(a > 5)"
   ]
  },
  {
   "cell_type": "markdown",
   "id": "16d7c234-3497-4e9c-9297-64a806542ff3",
   "metadata": {},
   "source": [
    "## Linear algebra, anyone?\n",
    "\n",
    "Let's use NumPy to do some basic linear algebra. First, we'll need another module in the NumPy package:"
   ]
  },
  {
   "cell_type": "code",
   "execution_count": 7,
   "id": "7edc25f0-e902-4234-9a95-41597190e0c7",
   "metadata": {},
   "outputs": [],
   "source": [
    "import numpy.linalg as nl"
   ]
  },
  {
   "cell_type": "markdown",
   "id": "e61aee98-093a-4658-9871-5089de494a5e",
   "metadata": {},
   "source": [
    "That `import` statement went out to where Python packages are stored and found the \"linalg\" module of the numpy package. This module was imported into the Python interpreter under the name \"nl\" (as in \"NumPy linear algebra\"). Using the \"nl\" alias saves a lot of typing and even makes the code easier to read."
   ]
  },
  {
   "cell_type": "code",
   "execution_count": 8,
   "id": "e4c96df7-c701-4a2a-87f8-ea545f01c980",
   "metadata": {},
   "outputs": [
    {
     "name": "stdout",
     "output_type": "stream",
     "text": [
      "[[1 1 1]\n",
      " [1 1 0]\n",
      " [1 0 0]]\n"
     ]
    },
    {
     "data": {
      "text/plain": [
       "array([[ 0.,  0.,  1.],\n",
       "       [-0.,  1., -1.],\n",
       "       [ 1., -1., -0.]])"
      ]
     },
     "execution_count": 8,
     "metadata": {},
     "output_type": "execute_result"
    }
   ],
   "source": [
    "k = np.array([[1,1,1], [1,1,0], [1,0,0]])\n",
    "print(k)\n",
    "\n",
    "kinv = nl.inv(k)\n",
    "kinv"
   ]
  },
  {
   "cell_type": "markdown",
   "id": "c3a4b59d-cf8d-4bf5-bc4c-5ef76b7cf33a",
   "metadata": {},
   "source": [
    "And given a matrix and its inverse, you probably already guessed where this is going:"
   ]
  },
  {
   "cell_type": "code",
   "execution_count": 9,
   "id": "2a60a483-96e2-4929-a8a5-3c5d93332b8a",
   "metadata": {},
   "outputs": [
    {
     "data": {
      "text/plain": [
       "array([[1., 0., 0.],\n",
       "       [0., 1., 0.],\n",
       "       [0., 0., 1.]])"
      ]
     },
     "execution_count": 9,
     "metadata": {},
     "output_type": "execute_result"
    }
   ],
   "source": [
    "k @ kinv"
   ]
  },
  {
   "cell_type": "markdown",
   "id": "51da9010-c787-4b87-adae-d9b37f41004c",
   "metadata": {},
   "source": [
    "## Very Simple Visualization"
   ]
  },
  {
   "cell_type": "code",
   "execution_count": 14,
   "id": "33a135b2-6a0a-4b06-a59c-8956f0f77db4",
   "metadata": {},
   "outputs": [
    {
     "name": "stdout",
     "output_type": "stream",
     "text": [
      "Matrix a:\n",
      "[[ 1  2  3  4]\n",
      " [ 5  6  7  8]\n",
      " [ 9 10 11 12]]\n",
      "\n",
      "Matrix product:\n",
      "[[1. 0. 0.]\n",
      " [0. 1. 0.]\n",
      " [0. 0. 1.]]\n"
     ]
    },
    {
     "data": {
      "text/plain": [
       "<matplotlib.image.AxesImage at 0x11c36df70>"
      ]
     },
     "execution_count": 14,
     "metadata": {},
     "output_type": "execute_result"
    },
    {
     "data": {
      "image/png": "[encoded data removed]",
      "text/plain": [
       "<Figure size 640x480 with 1 Axes>"
      ]
     },
     "metadata": {},
     "output_type": "display_data"
    },
    {
     "data": {
      "image/png": "[encoded data removed]",
      "text/plain": [
       "<Figure size 480x480 with 1 Axes>"
      ]
     },
     "metadata": {},
     "output_type": "display_data"
    }
   ],
   "source": [
    "import matplotlib.pyplot as plt\n",
    "print(\"Matrix a:\")\n",
    "print(a)\n",
    "plt.matshow(a)\n",
    "print()\n",
    "product=k@kinv\n",
    "print(\"Matrix product:\")\n",
    "print(product)\n",
    "plt.matshow(product)"
   ]
  },
  {
   "cell_type": "code",
   "execution_count": null,
   "id": "52888c70-976c-40e2-907d-4e3db09cdd49",
   "metadata": {},
   "outputs": [],
   "source": []
  }
 ],
 "metadata": {
  "kernelspec": {
   "display_name": "Python 3 (ipykernel)",
   "language": "python",
   "name": "python3"
  },
  "language_info": {
   "codemirror_mode": {
    "name": "ipython",
    "version": 3
   },
   "file_extension": ".py",
   "mimetype": "text/x-python",
   "name": "python",
   "nbconvert_exporter": "python",
   "pygments_lexer": "ipython3",
   "version": "3.12.3"
  }
 },
 "nbformat": 4,
 "nbformat_minor": 5
}
