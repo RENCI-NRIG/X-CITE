{
  "cells": [
    {
      "cell_type": "markdown",
      "metadata": {},
      "source": [
        "# Programming Essentials - Python Programming and Jupyter Notebooks\n",
        "\n",
        "(PE100)\n",
        "\n",
        "Welcome to the **Programming Essentials - Python Programming and Jupyter\n",
        "Notebooks** component of the X-CITE training materials. The intent\n",
        "behind this unit is to show new CHESS users how to write programs in\n",
        "Python for experimental data analysis.\n",
        "\n",
        "Prerequisites? None.\n",
        "\n",
        "The training materials before you are designed both for scientists who\n",
        "may not have any programming experience whatsoever and for those who\n",
        "have at least some basic programming capability but in a language other\n",
        "than Python.\n",
        "\n",
        "Python’s adoption has exploded in the last decade. Much of its success\n",
        "can be attributed to productivity. Many programming languages force the\n",
        "programmer to deal with very small details to do even the simplest\n",
        "things. Python’s attitude is to just take care of all the minutae so we\n",
        "don’t have to. On top of that, Python’s popularity has resulted in\n",
        "hundreds of thousands of packages of useful code for specific tasks. If\n",
        "there is something you need to write a program for, it’s almost definite\n",
        "that someone else has had the same problem. There’s a good chance at\n",
        "least one of those people neatly wrapped up some of their code and made\n",
        "it available in one of the repositories on the internet. There’s no\n",
        "reason for you to reinvent the proverbial wheel again - take advantage\n",
        "of their work (don’t forget to cite it!) and get back to doing actual\n",
        "science that much sooner.\n",
        "\n",
        "You’re currently looking at [PE100-01\n",
        "Introduction](PE100-01Introduction.ipynb). If you are new to Python and\n",
        "especially if you’re new to programming, you should work through each of\n",
        "the modules in order. More experienced programmers might benefit from\n",
        "skipping directly to topics that interest them. Select one of the\n",
        "following:\n",
        "\n",
        "-   [PE100-02 Types, Variables, and\n",
        "    Operators](PE100-02TypesVarsAndOperators.ipynb) - the heart of any\n",
        "    programming language.\n",
        "-   [PE100-03 Decision Structures](PE100-03DecisionStructures.ipynb) -\n",
        "    conditional statements (“if” statements”) change the program flow.\n",
        "-   [PE100-04 Repetition](PE100-04Repetition.ipynb) - “while” and “for”\n",
        "    loops let us do things over and over.\n",
        "-   [PE100-05 Functions](PE100-05Functions.ipynb) - Python comes with a\n",
        "    lot of functions, but we can write even more.\n",
        "-   [PE100-06 Files](PE100-06Files.ipynb) - Reading input from and\n",
        "    storing your results to disk.\n",
        "-   [PE100-07 Exceptions](PE100-07Exceptions.ipynb) - Dealing with\n",
        "    unexpected contingencies.\n",
        "-   [PE100-08 Lists](PE100-08Lists.ipynb) - Another kind of variable,\n",
        "    and the key to structuring data storage.\n",
        "-   [PE100-09 Strings](PE100-09Strings.ipynb) - More details on working\n",
        "    with text.\n",
        "-   [PE100-10 Dictionaries](PE100-10Dictionaries.ipynb) - Like a simple\n",
        "    database, look up information quickly."
      ],
      "id": "70f65c83-7736-4e62-bd37-8e86a743422b"
    }
  ],
  "nbformat": 4,
  "nbformat_minor": 5,
  "metadata": {
    "kernelspec": {
      "name": "python3",
      "display_name": "Python 3 (ipykernel)",
      "language": "python"
    },
    "language_info": {
      "name": "python",
      "codemirror_mode": {
        "name": "ipython",
        "version": "3"
      },
      "file_extension": ".py",
      "mimetype": "text/x-python",
      "nbconvert_exporter": "python",
      "pygments_lexer": "ipython3",
      "version": "3.12.3"
    }
  }
}