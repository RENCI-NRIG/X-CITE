{
  "cells": [
    {
      "cell_type": "markdown",
      "metadata": {},
      "source": [
        "# PE100-05: Functions\n",
        "\n",
        "Functions in Python are very, very similar to functions in mathematics.\n",
        "Our functions take one or more input values and transform them into\n",
        "precisely one output. Let’s start with an example."
      ],
      "id": "81d1817e-671e-450a-8c7a-8034e7d2ee40"
    },
    {
      "cell_type": "code",
      "execution_count": 6,
      "metadata": {},
      "outputs": [
        {
          "output_type": "stream",
          "name": "stdout",
          "text": [
            "12566.36"
          ]
        }
      ],
      "source": [
        "def inductiveReactance(l, f):\n",
        "    reactance = 2 * 3.14159 * f * l\n",
        "    return reactance\n",
        "\n",
        "print (inductiveReactance(1e-3, 2e6))"
      ],
      "id": "04c22c3a-37fe-4991-8598-c966d30a9199"
    },
    {
      "cell_type": "markdown",
      "metadata": {},
      "source": [
        "The above code defines a function named “inductiveReactance” that\n",
        "accepts two input parameters. The first one, l, is the amount of\n",
        "inductance a coil has in henrys. The second one, f, is the frequency of\n",
        "interest (in hertz). We can call that function with parameters of one\n",
        "millihenry and two megahertz. The function computes the value 12566.36\n",
        "(the unit is ohms) and returns that to the code that called it. In this\n",
        "case, it was a print statement that called it.\n",
        "\n",
        "Take a look at the first line. The very first thing is the keyword `def`\n",
        "(shortened from the word “define”). After the “def” is where you specify\n",
        "the name of the new function you want to create. In this case, it’s\n",
        "“inductiveReactance”. Next is a list of names of parameters, enclosed in\n",
        "parentheses. In our example, the parameters are “l” and “f”. Finally at\n",
        "the end of the line is a colon.\n",
        "\n",
        "Once that first line is done, the next step is to write the body of the\n",
        "function. Just like an “if”, “while”, or “for” statement, the code block\n",
        "has to be indented consistently. Our example function computes the\n",
        "reactance of the device in question. On the last line of the function,\n",
        "the `return` statement is how the function sends its computed value back\n",
        "to the code that called the function in the first place. Every function\n",
        "should have at least one return statement. I won’t get drawn into this\n",
        "debate: some say a function should have precisely one return statement\n",
        "and utilize whatever logical means necessary to make sure that all code\n",
        "paths eventually lead to it. Others say it’s not a problem at all for a\n",
        "function to have multiple return statements (and hence multiple ways for\n",
        "a function to end) if it makes the logic more understandable.\n",
        "Personally, I try to minimize the number of return statements in my\n",
        "functions but I’m by no means a zealot on this one. If I need seven\n",
        "different places to exit the function and return a value then so be it.\n",
        "\n",
        "## Encapsulation\n",
        "\n",
        "Functions are useful in programming for the same reason they’re useful\n",
        "in math - ours *encapsulate* a chunk of code so you don’t have to think\n",
        "about what is in it every time. Imagine how tedious it would be to write\n",
        "a program that needed to compute cosine in a lot of different places in\n",
        "the code. You could, I suppose, type in a Taylor series expansion for\n",
        "cosine in each of the places where we need to compute a cosign. That\n",
        "would be irritating, error prone, and confusing to anyone else who has\n",
        "to read it. Instead, we can write a function exactly once to compute\n",
        "cosine and then call that function from many places in our code. Once we\n",
        "have the function tested and debugged, we don’t have to think about it\n",
        "again. That frees up mental energy for more productive uses.\n",
        "\n",
        "Functions can be classified into one of two types. *Void Functions*\n",
        "exist for encapsulation and don’t actually return a value. `print()` is\n",
        "an example of a void function. *Value-Returning Functions*, as the name\n",
        "strongly implies, return a value to the calling code.\n",
        "`inductiveReactance()` is an example of one.\n",
        "\n",
        "Here’s another example. This time, we’ll define a function that calls\n",
        "another function."
      ],
      "id": "728cc2c9-6866-4234-bab5-16af0fe4ef9b"
    },
    {
      "cell_type": "code",
      "execution_count": 9,
      "metadata": {},
      "outputs": [
        {
          "output_type": "stream",
          "name": "stdout",
          "text": [
            "Area of a circle with a radius of 2 is 12.56636"
          ]
        }
      ],
      "source": [
        "def squared(x):\n",
        "    return x ** 2\n",
        "\n",
        "def circle_area(radius):\n",
        "    area = 3.14159 * squared(radius)\n",
        "    return area\n",
        "\n",
        "\n",
        "print(\"Area of a circle with a radius of 2 is\", circle_area(2))\n"
      ],
      "id": "baaf2054-b5f0-436c-b090-3212855a4fda"
    },
    {
      "cell_type": "markdown",
      "metadata": {},
      "source": [
        "We defined a function to compute the area of a circle. It needed to\n",
        "square a number and so we decided to write a function to do that.\n",
        "Functions can call other functions *ad infinitum*. In fact, functions\n",
        "can even call themselves! When that happens the function is said to be\n",
        "*recursive*. Recursive functions are very useful for solving some hard\n",
        "problems but they’re a little beyond an introductory module like this\n",
        "one.\n",
        "\n",
        "## Function (and Variable) Naming\n",
        "\n",
        "What kinds of names can we use for functions? The same ones we can use\n",
        "for variables! More specifically, \\* No *keywords* (e.g., `False` is\n",
        "invalid) \\* No spaces (e.g., `my function` is invalid) \\* The first\n",
        "character must be: \\* a-z, A-Z, or \\_ (the underscore character) \\* No\n",
        "numbers (e.g., `1st_function` is invalid) \\* After the first character,\n",
        "the following are allowed: \\* a-z, A-Z, \\_, and 0-9 \\* No other symbols\n",
        "(e.g., `get_room&board` is invalid)\n",
        "\n",
        "As a widely agreed upon best practice, names should be meaningful and be\n",
        "composed of lowercase characters with underscores as separators.\n",
        "\n",
        "## Function Arguments\n",
        "\n",
        "Input Parameters to functions are called *arguments*. They are the\n",
        "primary and best way to put information into a function, and definitely\n",
        "the way that causes the fewest problems. Arguments to a function in\n",
        "Python are mostly analagous to what we’re used to in math, but of course\n",
        "Python has some extensions.\n",
        "\n",
        "A function can have any number of arguments, including zero. “A function\n",
        "of zero arguments” might sound like a mathematician’s idea of “humor”,\n",
        "but it can actually make sense in programming. Sometimes you just need\n",
        "to encapsulate part of your code so you don’t have to worry with it\n",
        "again. For instance:"
      ],
      "id": "459d4c6a-6ec4-4e1a-801d-c0d3c6fadbeb"
    },
    {
      "cell_type": "code",
      "execution_count": 13,
      "metadata": {},
      "outputs": [
        {
          "output_type": "stream",
          "name": "stdout",
          "text": [
            "==============================\n",
            "==============================\n",
            "Greetings, User. I'll start \n",
            "loading the instrument config\n",
            "files and opening connections\n",
            "to them. It'll take a minute.\n",
            "==============================\n",
            "=============================="
          ]
        }
      ],
      "source": [
        "def say_hi():\n",
        "    print(\"==============================\")\n",
        "    print(\"==============================\")\n",
        "    print(\"Greetings, User. I'll start \")\n",
        "    print(\"loading the instrument config\")\n",
        "    print(\"files and opening connections\")\n",
        "    print(\"to them. It'll take a minute.\")\n",
        "    print(\"==============================\")\n",
        "    print(\"==============================\")\n",
        "\n",
        "say_hi()\n"
      ],
      "id": "d0f9b449-3824-47a6-b06f-4025b8011bdd"
    },
    {
      "cell_type": "markdown",
      "metadata": {},
      "source": [
        "Now the code to print that banner is hidden away inside a function we’ll\n",
        "never have to look at again. Less mental clutter means fewer bugs.\n",
        "\n",
        "And for the sake of completeness, functions can also take one or more\n",
        "arguments:"
      ],
      "id": "a4bdf2bb-0561-4f10-b723-2f2da6f5968b"
    },
    {
      "cell_type": "code",
      "execution_count": 16,
      "metadata": {},
      "outputs": [
        {
          "output_type": "stream",
          "name": "stdout",
          "text": [
            "The race was 6.213712 miles long and my ankles were hurting the ENTIRE way.\n",
            "The polynomial evaluates to: 1284.04"
          ]
        }
      ],
      "source": [
        "def convert_to_miles(kilometers):\n",
        "    return kilometers * .6213712\n",
        "\n",
        "def interesting_polynomial(a, b, c, d):\n",
        "    result = 2*(c**3) + 3.91*(c**2) + 1.1*c + d\n",
        "    return result\n",
        "\n",
        "print(\"The race was\", convert_to_miles(10), \"miles long and my ankles were hurting the ENTIRE way.\")\n",
        "\n",
        "print(\"The polynomial evaluates to:\", interesting_polynomial(7,4,8,1))"
      ],
      "id": "77715897-49f8-490a-958e-88c971f2d973"
    },
    {
      "cell_type": "markdown",
      "metadata": {},
      "source": [
        "When arguments are passed into a function, they become *parameter\n",
        "variables* and can be referred to inside the function just like any\n",
        "other variable. This handy because the variables inside a function are\n",
        "called *local variables* and they have special properties: nothing\n",
        "outside of the function can modify their value, they’re destroyed and\n",
        "re-created every time the function is called, and these local variables\n",
        "supercede any outside variables with the same name.\n",
        "\n",
        "Take a look for yourself:"
      ],
      "id": "d5d5b3ef-dcbe-423f-a6d4-650b4cac2bab"
    },
    {
      "cell_type": "code",
      "execution_count": 17,
      "metadata": {},
      "outputs": [
        {
          "output_type": "stream",
          "name": "stdout",
          "text": [
            "Twice the wavelength is 40\n",
            "Twice the wavelength is 40\n",
            "Twice the wavelength is 40"
          ]
        }
      ],
      "source": [
        "def show_twice_the_wavelength(wavelength):\n",
        "    wavelength = wavelength * 2\n",
        "    print(\"Twice the wavelength is\", wavelength)\n",
        "\n",
        "# a good wavelength to listen for synchrotron radiation\n",
        "# emitted from Jupiter (the planet, not the software), in meters\n",
        "wavelength = 20\n",
        "show_twice_the_wavelength(wavelength)\n",
        "show_twice_the_wavelength(wavelength)\n",
        "show_twice_the_wavelength(wavelength)\n",
        "\n",
        "    "
      ],
      "id": "2eb99d93-6fff-4458-929c-7841fbd511e2"
    },
    {
      "cell_type": "markdown",
      "metadata": {},
      "source": [
        "Does that seem odd to you? What happened is this: four lines from the\n",
        "bottom we created a variable named “wavelength” and set it to 20. We\n",
        "then called the function to print it out doubled. We passed the global\n",
        "variable “wavelength” to our function which took it as its only\n",
        "argument. That argument became a parameter variable that was\n",
        "coincidentally named “wavelength”. **That “wavelength” parameter\n",
        "variable has nothing to do with the “wavelength” variable in the main\n",
        "part of the program**. Our function doubles that parameter variable and\n",
        "prints it out. At that point, the function completes and the flow of\n",
        "control goes back to the main body.\n",
        "\n",
        "The next time our function is called an entirely new, fresh set of\n",
        "variables and parameter variables is created. This is important - it\n",
        "means that if we call the function with the same value every time then\n",
        "we always get the same result. Functions are unable to save their\n",
        "“state”. Like a football player on a stretcher, they have no memory of\n",
        "what happened before.\n",
        "\n",
        "(OK, yes, there are ways for them to save their state. Sometimes it’s\n",
        "unavoidable and you just have to do it, but doing so makes more places\n",
        "for bugs to creep into your programs and makes it harder to understand\n",
        "later. Try to avoid it. We’ll talk about it later.)\n",
        "\n",
        "## Variable Scope\n",
        "\n",
        "The degree to which your programs can “see” a variable is called\n",
        "*scope*. There are two levels of scope in most Python programming:\n",
        "\n",
        "-   Global Scope\n",
        "    -   Defined in main Python file\n",
        "    -   Outside of ANY function\n",
        "    -   **Try to avoid these!**\n",
        "        -   Considered poor design\n",
        "        -   Dangerous to use: any part of the program anywhere can\n",
        "            change these\n",
        "        -   Bug Magnet!\n",
        "-   Local Scope\n",
        "    -   Variables defined within a function\n",
        "    -   Only visible and useable from inside their own function!\n",
        "    -   Use these if at all possible.\n",
        "\n",
        "The danger in global variables comes from two things. The first is the\n",
        "fact that the value can be changed anywhere in your program, either in\n",
        "the main program or inside of a function, and it’s devilishly hard to\n",
        "keep track of where that might be.\n",
        "\n",
        "The second danger is more subtle. When a function saves a value into a\n",
        "global variable, the function is now said to have *side effects*. Side\n",
        "effects break the idea of isolation that functions are meant to give us.\n",
        "Imagine a mathematical function, such as tangent, if it had side\n",
        "effects. Calling `tan(.0125)` would not only result in the tangent of\n",
        ".0125, but it would have some other effect on some unrelated part of\n",
        "math. Imagine if calling `tan` caused your coordinate system to change\n",
        "every time? That would be insane.\n",
        "\n",
        "It gets worse, though. What if our tangent function also read from a\n",
        "global variable and changed its behavior based on that. Then each time\n",
        "we called `tan(.0125)` we might get a different value.\n",
        "\n",
        "In other words, we basically broke math.\n",
        "\n",
        "Similarly, when we write programs, if our functions have side effects\n",
        "then we’ve complicated them *tremendously*. And more complication means\n",
        "more places for bugs to sneak into our code and they’ll also be harder\n",
        "to find.\n",
        "\n",
        "As an aside, there is a style of programming that eliminates global\n",
        "variables and, to an extent, even local variables. It’s called\n",
        "*functional* programming, and Python has some support for that style.\n",
        "There is usually more than one way to do anything in Python, and\n",
        "experienced Pythonistas will usually try to choose the most *Pythonic*\n",
        "way. Part of being in Pythonic style means to use (at least partially) a\n",
        "functional style.\n",
        "\n",
        "## Constants\n",
        "\n",
        "There is an exception to the “no globals” rule: *Constants*. Just like\n",
        "in math, a constant is given a value once and never changed again.\n",
        "“Never changing” means “no side effects” so everything is OK. It is good\n",
        "practice to define your constants using ALL CAPITAL LETTERS."
      ],
      "id": "27165cea-d406-446d-ac88-2666d27765ae"
    },
    {
      "cell_type": "code",
      "execution_count": 20,
      "metadata": {},
      "outputs": [
        {
          "output_type": "stream",
          "name": "stdout",
          "text": [
            "1.9878e-19"
          ]
        }
      ],
      "source": [
        "PLANCK = 6.626e-34\n",
        "\n",
        "def photon_energy(freq):\n",
        "    gumption = PLANCK*freq\n",
        "    return gumption\n",
        "\n",
        "print(photon_energy(3e14))"
      ],
      "id": "c1721916-b226-4cfc-bf27-af1fc0286d05"
    },
    {
      "cell_type": "markdown",
      "metadata": {},
      "source": [
        "## Abstraction\n",
        "\n",
        "A valuable property of functions is how they isolate the code and\n",
        "variables inside of them from being manipulated elsewhere in your\n",
        "software. A consequence of that is their ability to “hide” detail from\n",
        "us. We’ve already talked about writing a function, debugging it, and\n",
        "never having to look at the code inside of it again. What is every bit\n",
        "as useful, if not more so, is using functions to provide *abstraction*.\n",
        "\n",
        "Abstraction is something we’ve used every day even if we haven’t thought\n",
        "it. Remember learning math? You started off counting things, and yes,\n",
        "that counts as math. If you had four bottle caps in one hand and three\n",
        "in the other, you could toss them all on the table, count them, and know\n",
        "that you have seven in total.\n",
        "\n",
        "There are two problems with having to count everything. One is that the\n",
        "amount of stuff can get big in a hurry. Try using two hands and table to\n",
        "count sand grains. The other problem is that if there are any insights\n",
        "to be had, it’s hard to find them when you’re stuck down in the details.\n",
        "Fortunately, we learned arithmetic.\n",
        "\n",
        "Arithmetic is great. We don’t have to deal with handfuls of stuff\n",
        "anymore. We can just use *numbers* and *operators* and get an answer\n",
        "without a bunch of messing around. We can start to see patterns we never\n",
        "would have just tossing bottle caps on the table. If we need to add 12\n",
        "to something, we can instead add 10 and then add 2 more. This is **so**\n",
        "handy. Of course, it would be nice if we could just do something to\n",
        "analyze *entire families* of arithmetic problems.\n",
        "\n",
        "Algebra lets us analyze entire families of arithmetic problems. We don’t\n",
        "have to fool with numbers if we don’t have to - we can just substitute\n",
        "*variables* in their place. We’ve hidden some of the complexity, like\n",
        "the petty little details of numbers, and *abstracted* that complexity\n",
        "away.\n",
        "\n",
        "Similarly, a lot of problem solving is perfectly amenable to using\n",
        "abstraction. Let’s write a bit of code to run an experiment…"
      ],
      "id": "6b9b9501-781b-47a6-a3a5-348b52cb3467"
    },
    {
      "cell_type": "code",
      "execution_count": null,
      "metadata": {},
      "outputs": [],
      "source": [
        "def run_experiment():\n",
        "    safe=is_it_safe_to_run()\n",
        "    if safe == True:\n",
        "        light_em_up()\n",
        "        put_facility_back_in_a_safe_state()\n",
        "        print(\"Better than Ghostbusters, huh?\")\n",
        "        "
      ],
      "id": "f5d8d3d3-e286-4a8a-b123-0a0d22b091dc"
    },
    {
      "cell_type": "markdown",
      "metadata": {},
      "source": [
        "That function is a (admittedly fanciful) representation of running an\n",
        "experiment. It makes sense, anyone can understand it, and if there’s a\n",
        "bug in there then it’s going to be really obvious. The only problem: if\n",
        "we try to run it, it’ll crash because those other functions haven’t been\n",
        "**def**ined yet. Shall we fix that?"
      ],
      "id": "eb493bde-4d6f-46f8-87c4-b8aed858d8d9"
    },
    {
      "cell_type": "code",
      "execution_count": 21,
      "metadata": {},
      "outputs": [],
      "source": [
        "def is_it_safe_to_run():\n",
        "    if badges_swiped_in() == 0 and shutter_closed() and not red_light_illuminated():\n",
        "        return True\n",
        "    else:\n",
        "        return False\n",
        "\n",
        "def shutter_closed():\n",
        "    # put some code to interface with the solenoid sense switch here\n",
        "    return True;\n",
        "\n",
        "def red_light_illuminated():\n",
        "    # more code, this time to see if the light is on...\n",
        "    return False\n",
        "\n",
        "def badges_swiped_in():\n",
        "    # do some database lookups or something to see if we\n",
        "    # think anyone is still in the room.\n",
        "    return 0;\n"
      ],
      "id": "71456c29-da54-4178-8cae-d420bd4ba70f"
    },
    {
      "cell_type": "code",
      "execution_count": null,
      "metadata": {},
      "outputs": [],
      "source": [
        "def light_em_up():\n",
        "    turn_on_red_light()\n",
        "    high_voltage(True)\n",
        "    shutter_open()\n",
        "    # a few seconds delay here, perhaps?\n",
        "\n",
        "def put_facility_back_in_safe_state():\n",
        "    shutter_closed()\n",
        "    high_voltage(False)\n",
        "    turn_off_red_light()\n"
      ],
      "id": "bf9a426f-c67f-4c4c-9094-019dca59ee8c"
    },
    {
      "cell_type": "markdown",
      "metadata": {},
      "source": [
        "Notice how the program is broken up into several functions? The best\n",
        "part is that you don’t have to keep everything in your head. All you\n",
        "have to remember is the part you’re working on. Smaller pieces, fewer\n",
        "bugs.\n",
        "\n",
        "## Modules\n",
        "\n",
        "One reason Python has become so popular is the sheer amount of code that\n",
        "has been written in it and made available for public use. We’ve seen a\n",
        "few functions already that were built in to Python - `int()`, `float()`,\n",
        "and `str()`, for example - but there are many tens of thousands of\n",
        "*modules* that are freely available for use in your own software. Just\n",
        "picking five common ones at random:\n",
        "\n",
        "-   math\n",
        "-   random\n",
        "-   os\n",
        "-   PyMySql\n",
        "-   psycopg\n",
        "\n",
        "The first two contain functions for general-purpose math and for\n",
        "producing random numbers. The “os” module interfaces Python with the\n",
        "operating system the code is running on. PyMySql and psycopg provide\n",
        "connectivity to relational databases.\n",
        "\n",
        "Remember at the beginning of this lesson when we wrote a function to\n",
        "calculate inductive reactance? I put the value of pi in there as\n",
        "3.14159, but that really isn’t anywhere near enough digits for some\n",
        "problems. Let’s fix that:"
      ],
      "id": "2095df6c-0c5b-4a67-88fc-f60825c83f31"
    },
    {
      "cell_type": "code",
      "execution_count": 23,
      "metadata": {},
      "outputs": [
        {
          "output_type": "stream",
          "name": "stdout",
          "text": [
            "3.141592653589793"
          ]
        }
      ],
      "source": [
        "import math\n",
        "print(math.pi)"
      ],
      "id": "1bfa8c0c-7b3d-4aa4-8042-9de84635e959"
    },
    {
      "cell_type": "markdown",
      "metadata": {},
      "source": [
        "There are two things to note here. First, the keyword `import` is used\n",
        "to tell Python to go find a module with the right name and load it. The\n",
        "name we want it to find is the word right after the `import`. And\n",
        "secondly, just looking at the output we can see that there are a lot\n",
        "more digits than when we did something by hand in our Inductive\n",
        "Impedance example (top of this page). In general, using a module that\n",
        "was (a) written by someone else and (b) is widely used and has been\n",
        "checked by a lot of people is going to avoid a lot of bugs. For\n",
        "instance, I would never code my own Fast Fourier Transform. Instead, I\n",
        "would use the one in the “numpy” module. I know how easy it is to make a\n",
        "mistake and I trust their work a lot more than my own. They have tens or\n",
        "hundreds of thousands of users and scores of developers. I have… a copy\n",
        "of *Numerical Recipes* that’s old enough to run for President.\n",
        "\n",
        "Since we used the “math” module already, here’s a very incomplete list\n",
        "of what is in there: \\* sin(), cos(), tan(), acos(), asin(), atan()… -\n",
        "“acos” is “arc cosine”, etc. \\* log(), log10(), sqrt() - square root \\*\n",
        "radians(), degrees() - converts between them\n",
        "\n",
        "And lots more stuff. How do you know what’s in it? Go to the online\n",
        "documentation: <https://docs.python.org/3/library/math.html>\n",
        "\n",
        "### Random Numbers\n",
        "\n",
        "Another module that is heavily used is “random”. It generates random\n",
        "numbers, yes, but it can also do things like take a list of things and\n",
        "shuffle them randomly."
      ],
      "id": "d735757a-a925-452c-81bc-e1acd0d0ea69"
    },
    {
      "cell_type": "code",
      "execution_count": 24,
      "metadata": {},
      "outputs": [
        {
          "output_type": "stream",
          "name": "stdout",
          "text": [
            "The random integer between 10 and 100 was: 20\n",
            "The random float between 0 and 1 is: 0.6474502367565016"
          ]
        }
      ],
      "source": [
        "import random\n",
        "integer_number = random.randint(10,100)\n",
        "real_number = random.random()\n",
        "\n",
        "print(\"The random integer between 10 and 100 was:\", integer_number)\n",
        "print(\"The random float between 0 and 1 is:\", real_number)\n"
      ],
      "id": "44d9127c-08db-4cb2-b6e2-f9488827cd66"
    },
    {
      "cell_type": "markdown",
      "metadata": {},
      "source": [
        "There are more functions available in the “random” module, including\n",
        "ones to select a real number from a non-uniform distribution. Take a\n",
        "look at <https://docs.python.org/3/library/random.html>\n",
        "\n",
        "Here’s a slightly more complicated example:"
      ],
      "id": "c00d9f3a-4c78-40c4-a561-ec8086e6f0c3"
    },
    {
      "cell_type": "code",
      "execution_count": 27,
      "metadata": {},
      "outputs": [
        {
          "output_type": "stream",
          "name": "stdout",
          "text": [
            "Don't feel bad... proposal number 24 didn't get funded either.\n",
            "Don't feel bad... proposal number 24 didn't get funded either.\n",
            "Don't feel bad... proposal number 24 didn't get funded either.\n",
            "Don't feel bad... proposal number 24 didn't get funded either.\n",
            "Don't feel bad... proposal number 24 didn't get funded either.\n",
            "Don't feel bad... proposal number 24 didn't get funded either.\n",
            "Don't feel bad... proposal number 24 didn't get funded either.\n",
            "Don't feel bad... proposal number 24 didn't get funded either.\n",
            "Don't feel bad... proposal number 24 didn't get funded either.\n",
            "Don't feel bad... proposal number 24 didn't get funded either.\n",
            "Don't feel bad... proposal number 24 didn't get funded either.\n",
            "Don't feel bad... proposal number 24 didn't get funded either.\n",
            "Don't feel bad... proposal number 24 didn't get funded either.\n",
            "Don't feel bad... proposal number 24 didn't get funded either.\n",
            "Don't feel bad... proposal number 24 didn't get funded either.\n",
            "Don't feel bad... proposal number 24 didn't get funded either.\n",
            "Don't feel bad... proposal number 24 didn't get funded either.\n",
            "Don't feel bad... proposal number 24 didn't get funded either.\n",
            "Don't feel bad... proposal number 24 didn't get funded either.\n",
            "Don't feel bad... proposal number 24 didn't get funded either.\n",
            "Don't feel bad... proposal number 24 didn't get funded either.\n",
            "Don't feel bad... proposal number 24 didn't get funded either.\n",
            "Don't feel bad... proposal number 24 didn't get funded either.\n",
            "Proposal number 23 was funded!\n",
            "Don't feel bad... proposal number 24 didn't get funded either."
          ]
        }
      ],
      "source": [
        "# for 25 hypothetical proposals, use random() to decide\n",
        "# if it gets funded.\n",
        "\n",
        "for proposal in range(0,25):\n",
        "    if random.random() < 0.12:\n",
        "        print(\"Proposal number\", proposal,\"was funded!\")\n",
        "    else:\n",
        "        print(\"Don't feel bad... proposal number\", researcher, \"didn't get funded either.\")\n"
      ],
      "id": "aaaf86d8-e239-4986-a4e0-fb048827c904"
    },
    {
      "cell_type": "raw",
      "metadata": {
        "raw_mimetype": "text/html"
      },
      "source": [
        "<!-- What is going on here?  First, we have a loop that runs 25 times and has the values 0 through 24. Each time through, we use random.random() to produce a random number between 0 and 1. If that random number is 0.12 or less, the proposal was funded, otherwise... yeah. Happens to everyone. -->"
      ],
      "id": "ff49b66e-3adc-459c-911f-78011afe407d"
    },
    {
      "cell_type": "markdown",
      "metadata": {},
      "source": [
        "Let’s try out what we’ve learned so far. Use the next code cell to write\n",
        "a bit of Python that simulates rolling a pair of dice and adds the two\n",
        "values. Print the value out.\n",
        "\n",
        "Let’s add to that… add a loop so that we keep doing that over and over\n",
        "until we get the same sum twice in a row. Some questions to ask yourself\n",
        "are “What kind of loop do I need?” and “How can I compare what happened\n",
        "between two different loop iterations?”"
      ],
      "id": "61947838-fa24-40a5-adad-96b527d6628e"
    }
  ],
  "nbformat": 4,
  "nbformat_minor": 5,
  "metadata": {
    "kernelspec": {
      "name": "python3",
      "display_name": "Python 3 (ipykernel)",
      "language": "python"
    },
    "language_info": {
      "name": "python",
      "codemirror_mode": {
        "name": "ipython",
        "version": "3"
      },
      "file_extension": ".py",
      "mimetype": "text/x-python",
      "nbconvert_exporter": "python",
      "pygments_lexer": "ipython3",
      "version": "3.12.3"
    }
  }
}