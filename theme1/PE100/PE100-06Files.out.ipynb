{
  "cells": [
    {
      "cell_type": "markdown",
      "metadata": {},
      "source": [
        "# PE100-05: Files\n",
        "\n",
        "You can write a good deal of software that runs entirely inside Jupyter\n",
        "notebooks or that runs on the command line and only communicates through\n",
        "the screen and the keyboard. Sometimes, though, you have to do with\n",
        "files. It may not be practical to hardcode all your data into assignment\n",
        "statements in Python, or maybe you have to deal with a number of files\n",
        "and therefore you can’t use pipes. **link to Sys Fundamentals page\n",
        "here**\n",
        "\n",
        "We’ve already seen two basic ways to do Input and Output (often referred\n",
        "to as “I/O”). We’ve used `input()` to read from the keyboard and\n",
        "`print()` to send output to the screen. Those functions work quite well,\n",
        "except you might have to do a lot of typing or deal with your output\n",
        "scrolling off the screen. In neither case is the data *durable* - it\n",
        "goes away as soon as the program is done or you close the Jupyter\n",
        "notebook.\n",
        "\n",
        "The `input()` and `print()` functions are just the tip of the proverbial\n",
        "iceberg in terms of getting information in and out of running Python\n",
        "code. Some of our other options include: \\* GUI controls: text box,\n",
        "menu, dialog box… \\* Networks: HTTP, TCP/IP sockets, Infiniband… \\*\n",
        "Databases: Relational (SQL) and NoSQL \\* Other: cameras, microphones,\n",
        "speakers, LabView\n",
        "\n",
        "## Files\n",
        "\n",
        "Practically everyone is more-or-less familiar with the idea of a file,\n",
        "even if fairly few people know how they work. We’re going to ignore a\n",
        "**lot** of details for the moment and say this: a file is a long-lasting\n",
        "collection of bytes. It has a first byte, a last byte, and every one in\n",
        "between stays in the same order.\n",
        "\n",
        "This begs the question “What is a byte?” A byte is just a small number\n",
        "from 0 to 255 (inclusive). We can assign meaning to those numbers, and\n",
        "if we’re smart about how we do it then we can represent any information\n",
        "a computer can process as long as we use enough of these bytes.\n",
        "\n",
        "We like to think of files as being one of two types: binary files and\n",
        "text files. Binary files are pure data. We decide how to write bytes to\n",
        "a file to represent data. Then when we’re ready to read it in again, we\n",
        "read the bytes, process them somehow, and reconstruct the original data.\n",
        "It’s a great technique - it’s fast and efficient.\n",
        "\n",
        "We won’t be talking about binary files in this notebook or even in this\n",
        "module. Fifteen years ago we wouldn’t have had a choice, we would have\n",
        "had to. These days, it’s unusual to have to deal with binary files,\n",
        "especially in Python, because there is so often a library function\n",
        "already available to do the work for us.\n",
        "\n",
        "Text files, on the other hand, are probably something you’re already\n",
        "familar with - they are what you get when you edit a “plain text” file\n",
        "in “notepad” or “textedit”. In a text file, every one of the letter,\n",
        "number, and punctuation mark characters is assigned its own number. For\n",
        "instance, capital “A” is 65. “B” is 66. [Not that it should ever matter,\n",
        "but here’s a complete list and then\n",
        "some!](https://en.wikipedia.org/wiki/ASCII)\n",
        "\n",
        "Let’s say you open an editor and type “CAT”. When you save that to a\n",
        "file, there will be a file that is three bytes long and contains the\n",
        "three bytes 67, 65, and 84. Actually there will usually be a fourth\n",
        "byte, 10, which is the character you get when you press “Enter” or\n",
        "“Return”.\n",
        "\n",
        "For now, at least for a few minutes, we’re going to pretend the only\n",
        "language on earth is English. We’ll talk about other languages when we\n",
        "talk about networks.\n",
        "\n",
        "It’s about time for an example, don’t you think?"
      ],
      "id": "80bcc824-c038-4366-8329-0f5a2aaf1157"
    },
    {
      "cell_type": "code",
      "execution_count": 4,
      "metadata": {},
      "outputs": [],
      "source": [
        "my_file_object = open(\"/tmp/first_file.txt\", \"w\")\n",
        "my_file_object.write(\"First Post!\")\n",
        "my_file_object.close()"
      ],
      "id": "d65cd7f6-9333-4a5b-8639-0075784ee01c"
    },
    {
      "cell_type": "markdown",
      "metadata": {},
      "source": [
        "Three lines of code was all it took to create a file, write to it, and\n",
        "tidy up after ourselves. What does each of those lines do?\n",
        "\n",
        "`my_file_object = open(\"/tmp/first_file.txt\", \"w\")`\n",
        "\n",
        "my_file_object is an *object variable*. Think of an *object* as a way to\n",
        "store data in a variable along with some functions that only make sense\n",
        "to that data. They hide a lot of complexity from us. A file object is\n",
        "one that keeps track of a filename, how to get to it, and how to use it.\n",
        "It has some functions built in to it to help us do things to the file.\n",
        "\n",
        "Python gives us the function “open”. It gets a file ready to be used by\n",
        "our code. It takes two arguments. The first is the file’s name, and the\n",
        "second is the *mode* we want to use the file in. In our example, we\n",
        "specified that the file’s name was “first_file.txt” and that it was in\n",
        "the “/tmp” directory. Then in the second argument we specified “w”,\n",
        "meaning we wanted to write to the file. The “w” mode will cause the file\n",
        "to be created if it didn’t already exist. If it did already exist, on\n",
        "the other hand, all the contents of it will be deleted and we’ll start\n",
        "writing from the beginning just as if the file was created from scratch.\n",
        "We’ll see more modes as we go.\n",
        "\n",
        "`my_file_object.write(\"First Post!\")`\n",
        "\n",
        "This line uses one of those functions that are tucked away inside an\n",
        "object. In this case, we’re calling the file object’s “write” function.\n",
        "It does what we expect - it takes its argument, in this case “First\n",
        "Post!”, and causes it to be written to disk byte by byte.\n",
        "\n",
        "`my_file_object.close()`\n",
        "\n",
        "Finally, we call one more of the file object’s functions: close. When we\n",
        "run this, Python tells the operating system “Hey, we’re done with the\n",
        "file. You can get rid of any of the tedious housekeeping data that\n",
        "operating systems keep behind the scenes!”\n",
        "\n",
        "Closing files is considered “good programming hygene”. You’re allowed\n",
        "1024 file objects to be open and connected to files in one program on\n",
        "the CLASSE cluster of computers. I’ll say from my experience: if you\n",
        "think you need that many, you’re probably doing something the wrong way.\n",
        "\n",
        "Writing files, then, is fairly easy. What about reading files? I’m glad\n",
        "you asked."
      ],
      "id": "ad34d82c-6164-4484-a34c-eca0d5278394"
    },
    {
      "cell_type": "code",
      "execution_count": 6,
      "metadata": {},
      "outputs": [
        {
          "output_type": "display_data",
          "metadata": {},
          "data": {
            "text/plain": [
              "'First Post!'"
            ]
          }
        }
      ],
      "source": [
        "input_file = open(\"/tmp/first_file.txt\",\"r\")\n",
        "the_contents = input_file.read()\n",
        "input_file.close()\n",
        "\n",
        "the_contents"
      ],
      "id": "4c3eba8e-0de4-4d7b-9bb4-7cf23fc662d9"
    },
    {
      "cell_type": "markdown",
      "metadata": {},
      "source": [
        "You can probably tell mostly how that worked just by looking at. We used\n",
        "the `open()` function again, but this time with a “r” for our mode. This\n",
        "means “read”. Also, this time we used `read()` instead of `write()`. The\n",
        "read() function reads in an *entire file* and saves it a string\n",
        "variable. Finally, we call `close()` again to close the file and tidy up\n",
        "after ourselves.\n",
        "\n",
        "Note that if the file is, say, 500 megabytes long, the string variable\n",
        "is going to be very, very large - roughly half a gigabyte. Python can\n",
        "handle this, but it may not be terribly convenient. If the file is more\n",
        "than 100-200 gigabytes, the CLASSE servers are probably not going to be\n",
        "able to handle. I say “probably” because there are a lot of factors at\n",
        "play.\n",
        "\n",
        "Just writing one line to a file is probably not very useful. Let’s try\n",
        "writing two lines:"
      ],
      "id": "877160bf-c6b1-43e4-9579-9fc8c24b9d29"
    },
    {
      "cell_type": "code",
      "execution_count": 8,
      "metadata": {},
      "outputs": [],
      "source": [
        "my_file_object = open(\"/tmp/first_file.txt\", \"w\")\n",
        "my_file_object.write(\"First line written.\")\n",
        "my_file_object.write(\"This is my second line.\")\n",
        "my_file_object.close()"
      ],
      "id": "49a55301-bd3f-41b3-8243-52a8ad6d2954"
    },
    {
      "cell_type": "markdown",
      "metadata": {},
      "source": [
        "When we run that, it will open /tmp/first_file.txt for writing and it\n",
        "will delete anything already in it (that’s what the “w” means,\n",
        "remember?). Then it will write “First line written.” and “This is my\n",
        "second line.”.\n",
        "\n",
        "Let’s read the file again and prove to ourselves that it worked…"
      ],
      "id": "ea9773a8-a688-4bbb-8d36-9922ddd55a76"
    },
    {
      "cell_type": "code",
      "execution_count": 9,
      "metadata": {},
      "outputs": [
        {
          "output_type": "display_data",
          "metadata": {},
          "data": {
            "text/plain": [
              "'First line written.This is my second line.'"
            ]
          }
        }
      ],
      "source": [
        "input_file = open(\"/tmp/first_file.txt\",\"r\")\n",
        "the_contents = input_file.read()\n",
        "input_file.close()\n",
        "\n",
        "the_contents"
      ],
      "id": "24a4bbc1-2c8d-49aa-a85c-d4b4114b0c3e"
    },
    {
      "cell_type": "markdown",
      "metadata": {},
      "source": [
        "Oh no! The two lines ran together!\n",
        "\n",
        "And that is one of the first differences we’ll see between `write()` and\n",
        "`print()`. Print() always adds a *newline* character after it prints out\n",
        "anything. Remember when I said there would usually be a byte at the end\n",
        "of a line, represented by the number 10? This character is called\n",
        "“newline” and it, as the name implies, marks where a *new line* starts.\n",
        "\n",
        "In all likelihood, when we do two write() statements like we did, we\n",
        "want to put a newline character in the file to make it into two lines.\n",
        "Fortunately, there are several ways to do that. Here are two of them.\n",
        "\n",
        "The first way is simple and direct - call write() three times instead of\n",
        "two and put a newline in there “by hand”, as it were:"
      ],
      "id": "1d1c473c-b6df-4fb4-9d97-f9cef8e17952"
    },
    {
      "cell_type": "code",
      "execution_count": 17,
      "metadata": {},
      "outputs": [
        {
          "output_type": "display_data",
          "metadata": {},
          "data": {
            "text/plain": [
              "'First line written.\\nThis is my second line.'"
            ]
          }
        }
      ],
      "source": [
        "my_file_object = open(\"/tmp/first_file.txt\", \"w\")\n",
        "my_file_object.write(\"First line written.\")\n",
        "my_file_object.write('\\n')\n",
        "my_file_object.write(\"This is my second line.\")\n",
        "my_file_object.close()\n",
        "\n",
        "input_file = open(\"/tmp/first_file.txt\",\"r\")\n",
        "the_contents = input_file.read()\n",
        "input_file.close()\n",
        "\n",
        "the_contents\n",
        "\n",
        "\n"
      ],
      "id": "39db65cd-4a43-44a1-a8e0-7d990ac42f5e"
    },
    {
      "cell_type": "markdown",
      "metadata": {},
      "source": [
        "The output looks a little strange. We put an extra write() function\n",
        "call, but we gave it an odd looking argument - . That is a backslash\n",
        "(usually between the Enter and the backspace keys on a US keyboard)\n",
        "immediately followed by a lowercase “n”. The combination together means\n",
        "“newline character”. This much is fairly straightforward.\n",
        "\n",
        "Next we read the contents of the file. This is just like before.\n",
        "\n",
        "Finally, and this is where things take an unexpected turn, we evaluate\n",
        "`the_contents` and let Jupyter print that out for us. And when Jupyter\n",
        "does that, we see the “” there. It seems like Python didn’t convert\n",
        "those two characters to a newline, just sticking them in there as-is,\n",
        "and still left us with one long line. But is that true? Has Python\n",
        "foresaken us?\n",
        "\n",
        "Run the code in the next cell:"
      ],
      "id": "16973eff-f43e-4351-824f-d05f249a0c53"
    },
    {
      "cell_type": "code",
      "execution_count": 18,
      "metadata": {},
      "outputs": [
        {
          "output_type": "stream",
          "name": "stdout",
          "text": [
            "First line written.\n",
            "This is my second line."
          ]
        }
      ],
      "source": [
        "print(the_contents)"
      ],
      "id": "e4f005cf-d7f1-4bd3-bb8d-be700e443593"
    },
    {
      "cell_type": "markdown",
      "metadata": {},
      "source": [
        "Salvation! `print()` did the right thing. This is a key difference\n",
        "between just typing a variable or an expression at the end of a cell and\n",
        "letting Python evaluate it versus putting a `print()` in there and\n",
        "having absolute control over what gets sent to the notebook and on to\n",
        "the screen.\n",
        "\n",
        "This also illustrates something else important and useful: all of the\n",
        "code cells in this notebook are being run by the same Python\n",
        "“interpreter”. This means if we set a variable to a value in one cell,\n",
        "we will see the same value stored in that variable in other cells.\n",
        "That’s how we were able to print what was stored in `the_contents` in\n",
        "the cell above even though we had set its value to the file contents two\n",
        "cells above that.\n",
        "\n",
        "If a file only has a line or two, it’s not a big deal dealing with that\n",
        "with string functions. If a file has millions of lines, then it becomes\n",
        "a bit of a hassle. We need a way to read a file one line at a time.\n",
        "Fortunately, there’s `readline()`:"
      ],
      "id": "6641d0cb-5eea-41c2-b46f-81081dda7d7b"
    },
    {
      "cell_type": "code",
      "execution_count": 19,
      "metadata": {},
      "outputs": [
        {
          "output_type": "stream",
          "name": "stdout",
          "text": [
            "First line written.\n",
            "\n",
            "This is my second line."
          ]
        }
      ],
      "source": [
        "input_file = open(\"/tmp/first_file.txt\",\"r\")\n",
        "line_one = input_file.readline()\n",
        "line_two = input_file.readline()\n",
        "input_file.close()\n",
        "\n",
        "print(line_one)\n",
        "print(line_two)"
      ],
      "id": "8c703583-f628-44fa-84f1-c74d9f2fdfc1"
    },
    {
      "cell_type": "markdown",
      "metadata": {},
      "source": [
        "This does *almost* what we expect: it reads both lines from the file,\n",
        "one at a time, and prints them out. The only snag is that blank space\n",
        "between the lines. What has happened? It turns out `readline()` reads\n",
        "the *entire* line, even the newline character at the end. We can see\n",
        "this if we evaluate the string instead of just printing it:"
      ],
      "id": "38f48b41-3ec4-4177-bda3-d707b2d97b16"
    },
    {
      "cell_type": "code",
      "execution_count": 20,
      "metadata": {},
      "outputs": [
        {
          "output_type": "display_data",
          "metadata": {},
          "data": {
            "text/plain": [
              "'First line written.\\n'"
            ]
          }
        }
      ],
      "source": [
        "line_one"
      ],
      "id": "2db89f7d-4aea-40b5-bbb9-67354479801b"
    },
    {
      "cell_type": "markdown",
      "metadata": {},
      "source": [
        "There’s that `\\n` again! What about the second line?"
      ],
      "id": "4c2c18e5-d767-48d7-9eb4-aa2805c92015"
    },
    {
      "cell_type": "code",
      "execution_count": 21,
      "metadata": {},
      "outputs": [
        {
          "output_type": "display_data",
          "metadata": {},
          "data": {
            "text/plain": [
              "'This is my second line.'"
            ]
          }
        }
      ],
      "source": [
        "line_two"
      ],
      "id": "b913831d-e44e-4774-acd4-4dfe961ce88f"
    },
    {
      "cell_type": "markdown",
      "metadata": {},
      "source": [
        "When readline() reads a line, it includes the newline character at the\n",
        "end *unless it reaches the end of the file and the file didn’t end with\n",
        "a newline.*\n",
        "\n",
        "It’s rare that we would want to read a bunch of lines in a file with the\n",
        "newlines included. That’s just not something we do very often, and\n",
        "practically never in scientific software. We’ll almost always want to\n",
        "trim off the newline character. And for that, we have the `rstrip()`\n",
        "function. It takes a string, strips off any newlines on the right side\n",
        "of it, and returns that cleaned-up string. `rstrip()` does that for the\n",
        "right side of the string, `lstrip()` cleans up the left side (the\n",
        "beginning of the string) and `strip()` goes crazy and does both ends at\n",
        "the same time.\n",
        "\n",
        "Let’s try it:"
      ],
      "id": "b267a801-ccde-4fe7-b5b5-9baec26c7db2"
    },
    {
      "cell_type": "code",
      "execution_count": 23,
      "metadata": {},
      "outputs": [
        {
          "output_type": "stream",
          "name": "stdout",
          "text": [
            "First line written.\n",
            "This is my second line."
          ]
        }
      ],
      "source": [
        "clean_first_line = line_one.rstrip('\\n')\n",
        "clean_second_line = line_two.rstrip('\\n')\n",
        "\n",
        "print(clean_first_line)\n",
        "print(clean_second_line)\n"
      ],
      "id": "22acb98d-8a3b-493d-aae1-ac21e60ca607"
    },
    {
      "cell_type": "markdown",
      "metadata": {},
      "source": [
        "What’s going on here? A couple of things. The first thing to note is\n",
        "that `rstrip()` and its close companions `lstrip()` and `strip()` take\n",
        "one argument, which is the character to be stripped. Practically always\n",
        "we’ll want to get rid of the trailing newline character.\n",
        "\n",
        "The other interesting things is how we called the rstrip() function in\n",
        "the first place. We gave the name of the string variable, a period, and\n",
        "the name of the function we were calling. This is just like how we\n",
        "called the `close()` function on a file object. And in fact, strings are\n",
        "another kind of object in Python. We’ll see a lot more on this later.\n",
        "\n",
        "Historical note: The original programming language that had objects was\n",
        "named “Smalltalk”. In Smalltalk, the functions that were inside of\n",
        "objects were called “methods”. You’ll still hear people call them that.\n",
        "Later, the “C++” language came along and it called methods “member\n",
        "functions”. When programmers talk about the functions that are contained\n",
        "in objects, we’ll use either term interchangably, sometimes even\n",
        "switching in the middle of a sentence. We now return to your Python\n",
        "tutorial, already in progress…\n",
        "\n",
        "We read both lines in the file we created. We were able to call\n",
        "`readline()` twice and know that we had all of our lines in the file\n",
        "because (1) we created the file ourselves and (2) we therefore knew it\n",
        "had precisely two lines. It wasn’t even too bad having to type those\n",
        "`readline()` and `rstrip()` lines twice. But what if we had a lot more\n",
        "lines? We would certainly want to use a loop.\n",
        "\n",
        "For example, what do we do with a five-line file?"
      ],
      "id": "31499efb-80c5-473b-ac2d-e8f4450a576d"
    },
    {
      "cell_type": "code",
      "execution_count": 24,
      "metadata": {},
      "outputs": [
        {
          "output_type": "stream",
          "name": "stdout",
          "text": [
            "Line 1.\n",
            "Line 2.\n",
            "Line 3.\n",
            "Line 4.\n",
            "Line 5."
          ]
        }
      ],
      "source": [
        "my_file_object = open(\"/tmp/five-liner.txt\", \"w\")\n",
        "my_file_object.write(\"Line 1.\")\n",
        "my_file_object.write('\\n')\n",
        "my_file_object.write(\"Line 2.\")\n",
        "my_file_object.write('\\n')\n",
        "my_file_object.write(\"Line 3.\")\n",
        "my_file_object.write('\\n')\n",
        "my_file_object.write(\"Line 4.\")\n",
        "my_file_object.write('\\n')\n",
        "my_file_object.write(\"Line 5.\")\n",
        "my_file_object.write('\\n')\n",
        "my_file_object.close()\n",
        "\n",
        "input_file = open(\"/tmp/five-liner.txt\",\"r\")\n",
        "for i in range(5):\n",
        "    input_line = input_file.readline()\n",
        "    print(input_line.rstrip('\\n'))\n",
        "\n",
        "input_file.close()"
      ],
      "id": "32722f1c-66c3-445b-ada7-2d85a1b830c1"
    },
    {
      "cell_type": "markdown",
      "metadata": {},
      "source": [
        "No problem - we just use a for loop and do the readline() inside of it.\n",
        "It repeats the five times we asked for. In this case, after we read each\n",
        "line we cleaned it up a little and printed it.\n",
        "\n",
        "But what if we can’t know the number of lines ahead of time? One\n",
        "approach is to have whatever program that creates the file write the\n",
        "number of lines that will be in it first. I won’t say this is a common\n",
        "approach in scientific software, but it isn’t exactly rare either."
      ],
      "id": "a9fbcfe1-75ec-4713-ba5a-ab9d8beba213"
    },
    {
      "cell_type": "code",
      "execution_count": 25,
      "metadata": {},
      "outputs": [
        {
          "output_type": "stream",
          "name": "stdout",
          "text": [
            "Line 1.\n",
            "Line 2.\n",
            "Line 3.\n",
            "Line 4.\n",
            "Line 5."
          ]
        }
      ],
      "source": [
        "my_file_object = open(\"/tmp/five-liner.txt\", \"w\")\n",
        "my_file_object.write(\"5\")\n",
        "my_file_object.write('\\n')\n",
        "my_file_object.write(\"Line 1.\")\n",
        "my_file_object.write('\\n')\n",
        "my_file_object.write(\"Line 2.\")\n",
        "my_file_object.write('\\n')\n",
        "my_file_object.write(\"Line 3.\")\n",
        "my_file_object.write('\\n')\n",
        "my_file_object.write(\"Line 4.\")\n",
        "my_file_object.write('\\n')\n",
        "my_file_object.write(\"Line 5.\")\n",
        "my_file_object.write('\\n')\n",
        "my_file_object.close()\n",
        "\n",
        "input_file = open(\"/tmp/five-liner.txt\",\"r\")\n",
        "\n",
        "first_line = input_file.readline()\n",
        "how_many_lines = int(first_line.rstrip('\\n'))\n",
        "\n",
        "for i in range(how_many_lines):\n",
        "    input_line = input_file.readline()\n",
        "    print(input_line.rstrip('\\n'))\n",
        "\n",
        "input_file.close()"
      ],
      "id": "869b3a43-4c59-4072-b7b8-0f8e01d24f14"
    },
    {
      "cell_type": "markdown",
      "metadata": {},
      "source": [
        "The overall scheme for this is probably obvious by now. In the first\n",
        "half, when we’re writing the file, we write a “5” on its own line, and\n",
        "then write five more lines. In the second part, we 1. Read the first\n",
        "line. 2. `rstrip()` to get rid of the trailing newline 3. Use the\n",
        "results of that as the argument to `int()`, converting that string (“5”)\n",
        "to an actual integer (5). 4. and finally go through a `for` loop that\n",
        "many times just like before\n",
        "\n",
        "Most of the time we won’t have the luxury of knowing how many lines are\n",
        "in a file, though. We need a way to read all of the lines, line by line,\n",
        "without limit. For that, we can loop through the file and quit when\n",
        "Python returns an empty string with not even a newline character."
      ],
      "id": "1ca6b1ce-3e73-49fc-897b-47094fbea3aa"
    },
    {
      "cell_type": "code",
      "execution_count": 27,
      "metadata": {},
      "outputs": [
        {
          "output_type": "stream",
          "name": "stdout",
          "text": [
            "5\n",
            "Line 1.\n",
            "Line 2.\n",
            "Line 3.\n",
            "Line 4.\n",
            "Line 5."
          ]
        }
      ],
      "source": [
        "input_file = open(\"/tmp/five-liner.txt\",\"r\")\n",
        "\n",
        "line = input_file.readline()\n",
        "while line != '':\n",
        "    print(line.rstrip('\\n'))\n",
        "    line = input_file.readline()\n",
        "input_file.close()"
      ],
      "id": "e81658f7-a93c-4c72-ad6d-842188fadad6"
    },
    {
      "cell_type": "markdown",
      "metadata": {},
      "source": [
        "The while loop behaved just like we expected - strat by reading a line,\n",
        "and then every time the line isn’t empty, print it out and read another\n",
        "line. When you finally hit a line that is completely empty, exit the\n",
        "while loop and close the file.\n",
        "\n",
        "Looping through a file all the way to the end is such a common thing to\n",
        "do, Python has a shortcut for doing it. Remember when we talked about a\n",
        "`for` loop iterating over an ordered set? A file can be thought of as an\n",
        "ordered set of strings. They’re not in alphabetical order, but rather\n",
        "they are ordered by line number. That means we can:"
      ],
      "id": "4345d27a-8ad0-4f38-899e-6b7f762473a3"
    },
    {
      "cell_type": "code",
      "execution_count": 28,
      "metadata": {},
      "outputs": [
        {
          "output_type": "stream",
          "name": "stdout",
          "text": [
            "5\n",
            "Line 1.\n",
            "Line 2.\n",
            "Line 3.\n",
            "Line 4.\n",
            "Line 5."
          ]
        }
      ],
      "source": [
        "input_file = open(\"/tmp/five-liner.txt\",\"r\")\n",
        "\n",
        "for line in input_file:\n",
        "    print(line.rstrip('\\n'))\n",
        "\n",
        "input_file.close()"
      ],
      "id": "76a68204-51bf-4709-a1c3-388018b03562"
    },
    {
      "cell_type": "markdown",
      "metadata": {},
      "source": [
        "As you can imagine, reading isn’t the only file operation you can do\n",
        "with a loop. You can also write to a file that way. For instance,"
      ],
      "id": "c5098a70-cbbf-4e28-832e-56208aa853d9"
    },
    {
      "cell_type": "code",
      "execution_count": 29,
      "metadata": {},
      "outputs": [
        {
          "output_type": "stream",
          "name": "stdout",
          "text": [
            "0\n",
            "1\n",
            "2\n",
            "3\n",
            "4\n",
            "5\n",
            "6"
          ]
        }
      ],
      "source": [
        "my_file_object = open(\"/tmp/five-liner.txt\", \"w\")\n",
        "for i in range(7):\n",
        "    output_string = str(i)\n",
        "    my_file_object.write(output_string + '\\n')\n",
        "my_file_object.close()\n",
        "\n",
        "input_file = open(\"/tmp/five-liner.txt\",\"r\")\n",
        "for line in input_file:\n",
        "    print(line.rstrip('\\n'))\n",
        "input_file.close()"
      ],
      "id": "0a62da53-2e3e-4ba8-af7c-d00fb050c854"
    },
    {
      "cell_type": "markdown",
      "metadata": {},
      "source": [
        "Finally, we don’t have to erase the contents of a file every time we\n",
        "write to it. It’s perfectly normal to append to an existing file, and\n",
        "for that the “a” mode can be used with `open()`."
      ],
      "id": "cda37e1a-2315-4120-8566-d242a4528603"
    },
    {
      "cell_type": "code",
      "execution_count": 30,
      "metadata": {},
      "outputs": [
        {
          "output_type": "stream",
          "name": "stdout",
          "text": [
            "0\n",
            "1\n",
            "2\n",
            "3\n",
            "4\n",
            "5\n",
            "6\n",
            "7\n",
            "8\n",
            "9"
          ]
        }
      ],
      "source": [
        "my_file_object = open(\"/tmp/five-liner.txt\", \"a\")\n",
        "for i in range(7,10):\n",
        "    output_string = str(i)\n",
        "    my_file_object.write(output_string + '\\n')\n",
        "my_file_object.close()\n",
        "\n",
        "input_file = open(\"/tmp/five-liner.txt\",\"r\")\n",
        "for line in input_file:\n",
        "    print(line.rstrip('\\n'))\n",
        "input_file.close()"
      ],
      "id": "4c07424f-66bf-46b2-bed5-c5c70fe30cf9"
    },
    {
      "cell_type": "markdown",
      "metadata": {},
      "source": [
        "When you use the append mode, the `write()` calls will either add to the\n",
        "existing file or, if it doesn’t already exist, it will be created and\n",
        "then written to as though we used the “w” mode.\n",
        "\n",
        "So far in this lesson we’ve acted like everything just works perfectly\n",
        "every time. In reality, it’s not that neat. Filenames get typed in\n",
        "wrong, didks get full, and lines that are supposed to be numbers might\n",
        "contain text instead. Any of these problems is enough to bring our\n",
        "Python code to a grinding halt. Our next lesson is all about how to\n",
        "handle these problems and many, many more like them. We’re going to\n",
        "learn about Exceptions!"
      ],
      "id": "4aead27e-031d-47cc-8bb4-9a0e04b6192d"
    }
  ],
  "nbformat": 4,
  "nbformat_minor": 5,
  "metadata": {
    "kernelspec": {
      "name": "python3",
      "display_name": "Python 3 (ipykernel)",
      "language": "python"
    },
    "language_info": {
      "name": "python",
      "codemirror_mode": {
        "name": "ipython",
        "version": "3"
      },
      "file_extension": ".py",
      "mimetype": "text/x-python",
      "nbconvert_exporter": "python",
      "pygments_lexer": "ipython3",
      "version": "3.12.3"
    }
  }
}