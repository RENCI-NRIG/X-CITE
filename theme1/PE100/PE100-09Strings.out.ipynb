{
  "cells": [
    {
      "cell_type": "markdown",
      "metadata": {},
      "source": [
        "# PE100-09: Strings\n",
        "\n",
        "We’ve been using strings in each of the previous modules, but we’ve\n",
        "accepted them as a found artifact without really getting into them and\n",
        "seeing how they. This module will correct that deficiency and make all\n",
        "of better ~~people~~programmers.\n",
        "\n",
        "### Review time\n",
        "\n",
        "Let’s take a quick look at what we’ve done so far.\n",
        "\n",
        "    String literals:   \"Doug McKenzie\"\n",
        "    String variables:  comedic_genius = \"Mel Brooks\"\n",
        "\n",
        "    Comparison:        if my_name == your_name:\n",
        "                       if your_name != \"Chuck Woolery\":\n",
        "    Concatenation:     full_name = first_name+last_name\n",
        "    Repetition:        \"ABC\" * 20\n",
        "\n",
        "There is a lot more we can do with strings. We can: \\* Index into them\n",
        "\\* Iterate over them \\* Slice them \\* Search them \\* Call methods that\n",
        "act on them…\n",
        "\n",
        "In fact, when you look at what you can do with a string and how you do\n",
        "it, you suddenly realize that a string is just (conceptually) a tuple of\n",
        "letters.\n",
        "\n",
        "We can index into a string:"
      ],
      "id": "8ea05cf2-14ce-43bc-8bff-973a684b0bd4"
    },
    {
      "cell_type": "code",
      "execution_count": 2,
      "metadata": {},
      "outputs": [
        {
          "output_type": "stream",
          "name": "stdout",
          "text": [
            "J\n",
            "i\n",
            "i"
          ]
        }
      ],
      "source": [
        "my_name=\"John Belushi\"\n",
        "print(my_name[0])\n",
        "print(my_name[len(my_name)-1])\n",
        "print(my_name[-1])"
      ],
      "id": "4bb82943-bca0-4f08-a1c0-ddae813a6692"
    },
    {
      "cell_type": "markdown",
      "metadata": {},
      "source": [
        "Strings are iterables:"
      ],
      "id": "c9486eab-0d00-416d-9cb7-41f2255613bb"
    },
    {
      "cell_type": "code",
      "execution_count": 3,
      "metadata": {},
      "outputs": [
        {
          "output_type": "stream",
          "name": "stdout",
          "text": [
            "J\n",
            "o\n",
            "h\n",
            "n\n",
            " \n",
            "B\n",
            "e\n",
            "l\n",
            "u\n",
            "s\n",
            "h\n",
            "i"
          ]
        }
      ],
      "source": [
        "for char in my_name:\n",
        "    print(char)"
      ],
      "id": "31c6e197-4fee-4c2b-833b-12b67db3ff4b"
    },
    {
      "cell_type": "markdown",
      "metadata": {},
      "source": [
        "Just like a tuple, the elements of a string are immutable. Once a string\n",
        "is created, the characters can’t be changed."
      ],
      "id": "dbdb90d7-0069-4eef-9f9d-63dacf740e7f"
    },
    {
      "cell_type": "code",
      "execution_count": 4,
      "metadata": {},
      "outputs": [],
      "source": [
        "my_name=\"Bob\"\n",
        "my_name[0]='R'"
      ],
      "id": "5f7d5ca5-2326-4c00-aebe-22af4501572b"
    },
    {
      "cell_type": "markdown",
      "metadata": {},
      "source": [
        "We can slice strings:"
      ],
      "id": "3b088162-1245-4b3a-b979-e566002c1417"
    },
    {
      "cell_type": "code",
      "execution_count": 5,
      "metadata": {},
      "outputs": [
        {
          "output_type": "stream",
          "name": "stdout",
          "text": [
            "ch\n",
            "ael Jordan\n",
            "Mi"
          ]
        }
      ],
      "source": [
        "my_name=\"Michael Jordan\"\n",
        "print(my_name[2:4])\n",
        "print(my_name[4:])\n",
        "print(my_name[:2])"
      ],
      "id": "3bbf18cc-4625-4db7-bffc-b98535a9e5c0"
    },
    {
      "cell_type": "markdown",
      "metadata": {},
      "source": [
        "We can search into a string with the `in` operator:"
      ],
      "id": "3b99df8f-e7d6-4efa-ad95-e7d5ffd0fa6e"
    },
    {
      "cell_type": "code",
      "execution_count": 7,
      "metadata": {},
      "outputs": [
        {
          "output_type": "stream",
          "name": "stdout",
          "text": [
            "found one!"
          ]
        }
      ],
      "source": [
        "tweet_msg = \"I think synchrotrons are cool.\"\n",
        "if \"synchrotrons\" in tweet_msg:\n",
        "    print(\"found one!\")"
      ],
      "id": "f0c4d3a1-c6fb-4a5b-9c93-963c2fcf0c56"
    },
    {
      "cell_type": "markdown",
      "metadata": {},
      "source": [
        "There are a huge variety of string methods. We’ll look at just a few\n",
        "here. Some of them are handy for validating inputs…"
      ],
      "id": "d2cc85f4-7e35-4dec-b5e5-3732ee42dcdb"
    },
    {
      "cell_type": "code",
      "execution_count": 8,
      "metadata": {},
      "outputs": [
        {
          "output_type": "stream",
          "name": "stdout",
          "text": [
            "I was expecting something that looked like an integer"
          ]
        }
      ],
      "source": [
        "bolts = input(\"How many bolts did you install?\")\n",
        "if not bolts.isdigit():\n",
        "    print(\"I was expecting something that looked like an integer\")\n",
        "else:\n",
        "    fasteners = int(bolts)"
      ],
      "id": "c9067a39-2e54-4c7c-8d74-60cede1586ca"
    }
  ],
  "nbformat": 4,
  "nbformat_minor": 5,
  "metadata": {
    "kernelspec": {
      "name": "python3",
      "display_name": "Python 3 (ipykernel)",
      "language": "python"
    },
    "language_info": {
      "name": "python",
      "codemirror_mode": {
        "name": "ipython",
        "version": "3"
      },
      "file_extension": ".py",
      "mimetype": "text/x-python",
      "nbconvert_exporter": "python",
      "pygments_lexer": "ipython3",
      "version": "3.12.3"
    }
  }
}