{
  "cells": [
    {
      "cell_type": "markdown",
      "metadata": {},
      "source": [
        "# PE100-04: Repetition\n",
        "\n",
        "We started off learning Python with just simple lists of statements…"
      ],
      "id": "47a71fca-0d2d-4cf2-8049-319834974837"
    },
    {
      "cell_type": "code",
      "execution_count": 3,
      "metadata": {},
      "outputs": [
        {
          "output_type": "stream",
          "name": "stdout",
          "text": [
            "It's 100 celsius\n",
            "or 212.0 in pagan units."
          ]
        }
      ],
      "source": [
        "temperature = 100\n",
        "print(\"It's\", temperature, \"celsius\")\n",
        "faren_t = temperature * (9/5) + 32\n",
        "print(\"or\", faren_t, \"in pagan units.\")"
      ],
      "id": "323c8155-7d1d-469d-939a-d41d0f3a33d1"
    },
    {
      "cell_type": "markdown",
      "metadata": {},
      "source": [
        "Then we added the `if` statement so we could control whether or not\n",
        "certain statements would execute or not:"
      ],
      "id": "252c881d-6572-4d95-8424-d30c1d4d7bd0"
    },
    {
      "cell_type": "code",
      "execution_count": 4,
      "metadata": {},
      "outputs": [
        {
          "output_type": "stream",
          "name": "stdout",
          "text": [
            "Good chance it's boiling."
          ]
        }
      ],
      "source": [
        "if temperature >= 100:\n",
        "    print(\"Good chance it's boiling.\")\n",
        "elif temperature > 3000:\n",
        "    print(\"Odds are it's plasma by now.\")\n",
        "else:\n",
        "    print(\"You could probably run the experiment and it might even work.\")"
      ],
      "id": "61b3fe3b-b083-4ed2-9b05-5a6b6690eb28"
    },
    {
      "cell_type": "markdown",
      "metadata": {},
      "source": [
        "In both of these cases, the code blocks only run once.\n",
        "\n",
        "The problem is, sometimes we need things to run repeatedly. We want to\n",
        "look up **all** of the readings from an experiment or we need to compute\n",
        "the properties of something over **dozens** of temperatures each at\n",
        "**dozens** of pressures.\n",
        "\n",
        "Python gives us two different ways to make our programs repeat things in\n",
        "a *loop*.\n",
        "\n",
        "1.  `while` loops run a block of code, repeatedly, until some\n",
        "    conditional statement evaluates to false.\n",
        "\n",
        "2.  `for` loops run a code block a specific number of times.\n",
        "\n",
        "Let’s start with the `while` loop.\n",
        "\n",
        "## While Loops\n",
        "\n",
        "The syntax of a `while` loop looks a bit like an `if` statement. Take a\n",
        "look:"
      ],
      "id": "a9e72a29-422a-4081-a337-b1e6271ec64c"
    },
    {
      "cell_type": "code",
      "execution_count": 1,
      "metadata": {},
      "outputs": [
        {
          "output_type": "stream",
          "name": "stdout",
          "text": [
            "Looking at instrument number 1\n",
            "and then maybe we'll look at the next one.\n",
            "Looking at instrument number 2\n",
            "and then maybe we'll look at the next one.\n",
            "Done with all that looping.\n",
            "...and ready to do something else now."
          ]
        }
      ],
      "source": [
        "instrument = 1\n",
        "while instrument <= 2:\n",
        "   print(\"Looking at instrument number\", instrument)\n",
        "   print(\"and then maybe we'll look at the next one.\")\n",
        "   instrument = instrument + 1\n",
        "print(\"Done with all that looping.\")\n",
        "print(\"...and ready to do something else now.\")"
      ],
      "id": "f10f7d18-fd33-4f14-b211-6edb05bca4fd"
    },
    {
      "cell_type": "markdown",
      "metadata": {},
      "source": [
        "Here’s what the above code does. First, it creates a variable named\n",
        "“instrument” and sets it to 1. Then it goes into the while loop. The\n",
        "first time through, it checks to see if instrument is less than or equal\n",
        "to 2. It is (because we set it to 1 just a moment ago) so the while loop\n",
        "will execute the code block. This block prints out two lines and then it\n",
        "adds 1 to instrument. That means instrument now equals 2.\n",
        "\n",
        "The second time through the loop, instrument equals 2. That satisfies\n",
        "the conditional statement of the while loop (2 is less than or equal to\n",
        "2) so the code block runs again. Two more lines are printed out and then\n",
        "instrument is incremented one more time.\n",
        "\n",
        "The while loop runs for a third time now. This time, 3 is **not** less\n",
        "than or equal to 2, so the conditional statement is false. This means\n",
        "the while loop is done - it won’t run its code block again, and the flow\n",
        "of control will go on to the next line after the while loop. It will run\n",
        "the two print statements explaining that the looping is over and it can\n",
        "go on to other tasks.\n",
        "\n",
        "Let’s look at another example. Let’s print out all the powers of two\n",
        "that are less than 928."
      ],
      "id": "cf340aed-7e69-4dbf-89a1-0aa18bc122b8"
    },
    {
      "cell_type": "code",
      "execution_count": 5,
      "metadata": {},
      "outputs": [
        {
          "output_type": "stream",
          "name": "stdout",
          "text": [
            "2 to the 0 equals 1\n",
            "2 to the 1 equals 2\n",
            "2 to the 2 equals 4\n",
            "2 to the 3 equals 8\n",
            "2 to the 4 equals 16\n",
            "2 to the 5 equals 32\n",
            "2 to the 6 equals 64\n",
            "2 to the 7 equals 128\n",
            "2 to the 8 equals 256\n",
            "2 to the 9 equals 512\n",
            "2 to the 10 is too big."
          ]
        }
      ],
      "source": [
        "power=0\n",
        "two_to_the_power = 2**power\n",
        "\n",
        "while two_to_the_power < 928:  # Totally not Porsche related.\n",
        "    print(\"2 to the\", power,\"equals\",two_to_the_power)\n",
        "    power = power+1\n",
        "    two_to_the_power = 2**power\n",
        "print(\"2 to the\", power,\"is too big.\")"
      ],
      "id": "b3084a25-da3f-4eed-a59d-19d6bfef25c2"
    },
    {
      "cell_type": "markdown",
      "metadata": {},
      "source": [
        "Did you notice I sneaked something in there we haven’t talked about yet?\n",
        "See the “\\#” character on the line with the `while` statement? That\n",
        "indicates the rest of the line is a comment. Python will totally ignore\n",
        "it. It’s handy for leaving little notes to yourself, like “why did I\n",
        "choose 928 there when I could have put 944?” This is very, very\n",
        "important when writing full-fledged, standalone programs. If you don’t\n",
        "leave some notes for yourself, you’ll never remember what you were\n",
        "thinking when you go back to that code six months from now. Also, the\n",
        "next person who comes along and has to change something in your code\n",
        "will greatly appreciate the hints.\n",
        "\n",
        "Leaving comments in the code isn’t as big a deal in Jupyter notebooks…\n",
        "you can write rather substantial notes in a Markdown cell complete with\n",
        "**boldface**, *italics*, and whatever other fanciness you desire. On the\n",
        "other hand, it’s also nice to be able to leave your comments in the just\n",
        "the right place in the code so it flows effortlessly through your\n",
        "comprehension as you read it. Let experience and personal opinion be\n",
        "your guide here.\n",
        "\n",
        "## Reading information from the outside world\n",
        "\n",
        "Notice that in both of those cases, we actually did know how many times\n",
        "the loop would run. We know that 2 to the 9th is 512 and so we know the\n",
        "while loop will only run that far. In fact, in every example we’ve had\n",
        "so far we’ve know what the output will be because we always have the\n",
        "same inputs. Computer software wouldn’t be terribly interesting if it\n",
        "could only run specific, known, canned inputs. Fortunately, Python gives\n",
        "us several ways to bring data into our programs.\n",
        "\n",
        "The simplest way to bring data into a Python program is to edit the\n",
        "program and change the values we assign to variables. This is sort of\n",
        "the *reducto ad absurdum* method, but honestly it isn’t a bad way to\n",
        "handle very small amounts of input. It’s even easier in Jupyter\n",
        "notebooks since the code is just sitting there looking at us, waiting to\n",
        "be edited. For values that aren’t going to change very often (your name,\n",
        "perhaps, or the chargeback account number for using some instrument, for\n",
        "instance) then just assigning a value to a variable and editing it every\n",
        "once and a while is a fine way to go.\n",
        "\n",
        "Another way to get data into a Python program is to read it in from\n",
        "where the user is running the program. For doing this, Python provides a\n",
        "function called “input” which takes an optional argument, specifically a\n",
        "string that is printed as a prompt. Python then waits for the user to\n",
        "type something as a response. When they do, that string is returned to\n",
        "the calling program. Here’s a simple example:"
      ],
      "id": "1746633f-94ff-4f1a-99b7-8f785a64c996"
    },
    {
      "cell_type": "code",
      "execution_count": 3,
      "metadata": {},
      "outputs": [
        {
          "output_type": "stream",
          "name": "stdout",
          "text": [
            "Hello, Erik"
          ]
        }
      ],
      "source": [
        "your_name = input(\"Please enter your name\")\n",
        "print(\"Hello,\", your_name)"
      ],
      "id": "fd930805-8cfa-4687-95a8-832c4c259a09"
    },
    {
      "cell_type": "markdown",
      "metadata": {},
      "source": [
        "When the above code runs, the prompt “Please enter your name” is\n",
        "displayed right below the code cell and a text entry box is placed\n",
        "beside it. When you enter your name, it greets you.\n",
        "\n",
        "If we were running this tiny little snippet of code as a regular\n",
        "program, the interaction would be in the terminal emulator window that\n",
        "we ran the program in. Because this is running in Jupyter, though, the\n",
        "interaction is directly in the notebook. The prompt and the entry blank\n",
        "occur just below the running code cell.\n",
        "\n",
        "What will happen when we run the following?"
      ],
      "id": "d316569d-0ed2-48a3-942b-344a798de0fe"
    },
    {
      "cell_type": "code",
      "execution_count": 4,
      "metadata": {},
      "outputs": [],
      "source": [
        "response = input(\"Enter a number between 4 and 8\")\n",
        "new_value = response + 6.5\n",
        "print(new_value)"
      ],
      "id": "05c42b8d-6c18-4e16-aa43-2703a0dea282"
    },
    {
      "cell_type": "markdown",
      "metadata": {},
      "source": [
        "Wow! Python couldn’t run that and it “threw an error”. We’ll examine\n",
        "Python’s error handling facilities later, but for now we’ll just assume\n",
        "that means it came to a screeching halt. Looking at the error message,\n",
        "it seems there is some problem with trying to add a real number (a\n",
        "*floting point* number) to a string.\n",
        "\n",
        "## Type Casting\n",
        "\n",
        "`input()` prompts the user and returns the string they entered, but what\n",
        "if we want the user to enter a number? What do we do then? The answer is\n",
        "we’ll use a process known as *type casting*. The act of type casting is\n",
        "no more than converting information from one type to another.\n",
        "\n",
        "There are three very useful functions for type casting: `int()`,\n",
        "`float()`, and `str()`. Let’s see them in action…"
      ],
      "id": "8633a7ea-a4e4-4bb0-b78f-ba108d1e8f0a"
    },
    {
      "cell_type": "code",
      "execution_count": 6,
      "metadata": {},
      "outputs": [
        {
          "output_type": "stream",
          "name": "stdout",
          "text": [
            "16.454\n",
            "34543456\n",
            "4"
          ]
        }
      ],
      "source": [
        "# three conversions:\n",
        "\n",
        "# first, string to float:\n",
        "the_sum = 6.554 + float(\"9.9\")\n",
        "print(the_sum)\n",
        "\n",
        "# next, string to integer:\n",
        "the_integer_number = int(\"34543456\")\n",
        "print(the_integer_number)\n",
        "\n",
        "#finally, integer to string:\n",
        "handy_string = str(2+2)\n",
        "print(handy_string)"
      ],
      "id": "3e0901f3-f913-4136-badc-3b825152d4ae"
    },
    {
      "cell_type": "markdown",
      "metadata": {},
      "source": [
        "What did the above do? First, it converted the string “9.9” (literally,\n",
        "three characters… it’s a string) to a “float” (a floating point number,\n",
        "some languages will call that a real number). The second example takes a\n",
        "string of 8 characters and interprets them as an integer. That value is\n",
        "what gets returned and stored in our variable. Finally, we copmute the\n",
        "number 4 by adding 2+2, and then we let the `str()` function convert\n",
        "that to a single character long string having just the character “4”.\n",
        "\n",
        "By now we know enough to be able to ask the user for a number and get\n",
        "something back that we can actually do math with."
      ],
      "id": "2406fe0c-78d6-4253-b6e3-5396b3a6ce6b"
    },
    {
      "cell_type": "code",
      "execution_count": null,
      "metadata": {},
      "outputs": [],
      "source": [
        "user_response = input(\"Enter a number between 17 and 34\")\n",
        "selected_number = float(user_response)\n",
        "selected_number"
      ],
      "id": "0f71eeed-7bca-47be-b040-aeab8d46add2"
    },
    {
      "cell_type": "markdown",
      "metadata": {},
      "source": [
        "There’s an even easier way, though. Just like function composition\n",
        "worked when you took precalculus, the results of a Python function can\n",
        "be used as the argument to another. Hence:"
      ],
      "id": "dc12026d-28ac-4661-a0cb-68cd0733de43"
    },
    {
      "cell_type": "code",
      "execution_count": 8,
      "metadata": {},
      "outputs": [
        {
          "output_type": "display_data",
          "metadata": {},
          "data": {
            "text/plain": [
              "26.0"
            ]
          }
        }
      ],
      "source": [
        "selected_number = float(input(\"Enter a number between 17 and 34\"))\n",
        "selected_number"
      ],
      "id": "b8fd8dcb-e16c-42c3-ab55-9edee0498bb0"
    },
    {
      "cell_type": "markdown",
      "metadata": {},
      "source": [
        "Sometimes, function calls can be nested really deeply. Personally, when\n",
        "it comes time to debug code like that I find myself printing it out and\n",
        "coloring each level with a different highlighter pen.\n",
        "\n",
        "## Putting it together: while loops to get user input\n",
        "\n",
        "The great thing about a while statement is that it can loop zero times,\n",
        "one, two, or twelve trillion. Best of all, we don’t have to know how\n",
        "many ahead of time. We could do the following:\n",
        "\n",
        "print(“Computing an average.”)\n",
        "\n",
        "sum=0.0 counter=0 data_point = float(input(“Enter a number, or enter\n",
        "negative num to stop”)) while data_point \\>= 0.0: sum = sum+data_point\n",
        "counter = counter+1 data_point = float(input(“Enter a number, or enter\n",
        "negative num to stop”))\n",
        "\n",
        "print(“Average value is”, sum/counter)\n",
        "\n",
        "When we run the code above, we’re prompted to keep entering numbers\n",
        "until we finally enter -999. Each time it goes through the loop it keeps\n",
        "track of the running total of the numbers and the count of how many\n",
        "numbers have been entered. Once it’s done, it divides the total by the\n",
        "count and displays that as the average.\n",
        "\n",
        "Let’s step through what happens when the user enters 1, 2, 3, and\n",
        "-999: 1. The sum and counter variables are initialized to zero. 1. The\n",
        "user is prompted to enter a number, possibly a negative number to\n",
        "indicate no more data, and that input is type cast to a floating point\n",
        "number. 1. The while loop’s condition will be met any time a positive\n",
        "number was input (greater than **or** equal to zero). 1 is a positive\n",
        "number, so run the loop body. 1. This first time through, we’ll add the\n",
        "1 that was input to our running total, which is now 1. 1. And increment\n",
        "the count, now equal to 1. 1. **AND PROMPT THE USER FOR ANOTHER\n",
        "NUMBER!!!** 1. Back at the while statement again, we check the condition\n",
        "and, yes, 2 is a positive number, so we run the loop’s code block. 1.\n",
        "Update the sum and count, and then… 1. **PROMPT THE USER FOR ANOTHER\n",
        "VALUE!!!** 1. Running the while statement again, the user entered 3, and\n",
        "3 is positive, so the clode block will be executed. 1. Update the sum\n",
        "(now 6) and count (now 3). 1. **Prompt for another number** 1. Back at\n",
        "the while statement, we check and see that -999 is not a positive\n",
        "number, so we skip the code block and resume by running whatever follows\n",
        "it. 1. Having exited the while loop entirely, print out the average\n",
        "value by dividing sum/count.\n",
        "\n",
        "All the boldface and all-capitals lines above are there to emphasize how\n",
        "important it is to make sure your while loop isn’t just checking the\n",
        "same thing over and over. If we didn’t get a new number from the user\n",
        "each time through, the value of data_point would never change. That\n",
        "would result in an infinite loop, causing Python to never be able to\n",
        "complete the code in that cell. If it ever happens to you, and it\n",
        "probably will, the “Interrupt Kernel” command on JupyterLab’s Kernel\n",
        "menu will stop the looping and let you get back to work.\n",
        "\n",
        "The `while` loop is certainly versatile… it can be used any time you\n",
        "need to do something repeatedly. If you know how many times you need to\n",
        "have the code block execute, either when you write the code or when it’s\n",
        "running, then keep a variable that is incremented in the block every\n",
        "time and exit the while loop when the counter hits the right number.\n",
        "\n",
        "Where `while` loops really shine is when it’s impossible to know ahead\n",
        "of time how many times the code block should run. The example above,\n",
        "where we keep accepting numbers until the user signals there aren’t any\n",
        "more, there’s no way to know how many times to execute that loop until\n",
        "we see a negative number. In a case like that, the `while` loop is the\n",
        "only practical solution.\n",
        "\n",
        "So if `while` loops are so great and solve every problem, why do we need\n",
        "anything else? The big reason is expressiveness: they can be a little\n",
        "awkward to understand, especially when you’re looking at someone else’s\n",
        "code. Having the conditional test separated from the action that\n",
        "establishes when to stop makes it a little awkward to understand (or\n",
        "debug!) someone else’s code. This is especially true when we need to\n",
        "step through something by unusual increments.\n",
        "\n",
        "So what are we to do in these cases?\n",
        "\n",
        "## For Loops\n",
        "\n",
        "The `for` loop is quite similar to the `while` loop. The difference is\n",
        "that `for` loops are controlled by a count whereas `while` loops are\n",
        "controlled by a condition.\n",
        "\n",
        "Let’s start with an example."
      ],
      "id": "bc888f5e-8e53-432f-9e23-485a28675fc7"
    },
    {
      "cell_type": "code",
      "execution_count": 5,
      "metadata": {},
      "outputs": [
        {
          "output_type": "stream",
          "name": "stdout",
          "text": [
            "1\n",
            "2\n",
            "3"
          ]
        }
      ],
      "source": [
        "for the_value in range(1,4):\n",
        "    print(the_value)"
      ],
      "id": "b8b6327b-a2c5-4ad1-9c15-16a20c9a8e92"
    },
    {
      "cell_type": "markdown",
      "metadata": {},
      "source": [
        "That is the simplest for loop you’ll see. Let’s look at the pieces. 1.\n",
        "The `for` statement itself 2. The name of the *target variable* whose\n",
        "value will be changing as the loop runs (“the_value” in this case”) 3.\n",
        "“in” - and if this reminds you of set membership then you’re on to\n",
        "something 4. “range()” - this is an example of an *iterable*, which\n",
        "means “something that can be stepped through”. 5. The colon… the one I\n",
        "forget 50% of the time. 6. The code block, in this case just a print\n",
        "statement.\n",
        "\n",
        "Most of the time, fairly close to “always”, the code block will take\n",
        "advantage of the target variable changing each time through. In our\n",
        "example, “the_value” is our target variable, as it loops through it will\n",
        "take on the values 1 through 3, and the code block has a print statement\n",
        "that uses it.\n",
        "\n",
        "Before we examine the `range()` function, let’s take a look at another\n",
        "iterable. We’ll talk about lists in a later lesson, but for now we can\n",
        "just wave our hands around and understand enough for the moment."
      ],
      "id": "775b7f0d-aba8-4552-b0dc-86c1ed36f798"
    },
    {
      "cell_type": "code",
      "execution_count": 3,
      "metadata": {},
      "outputs": [
        {
          "output_type": "stream",
          "name": "stdout",
          "text": [
            "The sample weighed 143.6 grams.\n",
            "The sample weighed 141.9 grams.\n",
            "The sample weighed 139.4 grams.\n",
            "The sample weighed 144.23219 grams."
          ]
        }
      ],
      "source": [
        "for sample_weight in [123.6, 121.9, 119.4, 124.23219]:\n",
        "    print(\"The sample weighed\", sample_weight, \"grams.\")\n",
        "    if sample_weight < 120:\n",
        "        print(\"Be careful! This sample might not be all you hoped for.\")\n",
        "        "
      ],
      "id": "6baa65d0-bb35-4c8e-8d5a-5cb6e9977ef6"
    },
    {
      "cell_type": "markdown",
      "metadata": {},
      "source": [
        "You can use the target variable as many times as you want to in the code\n",
        "block.\n",
        "\n",
        "Now let’s take a more detailed look at the `range()` function. In its\n",
        "most basic form it takes one argument - the stop value."
      ],
      "id": "132200c9-19af-4724-8a03-ce2e3a5c5d06"
    },
    {
      "cell_type": "code",
      "execution_count": 6,
      "metadata": {},
      "outputs": [
        {
          "output_type": "stream",
          "name": "stdout",
          "text": [
            "0\n",
            "1\n",
            "2\n",
            "3"
          ]
        }
      ],
      "source": [
        "for i in range(4):\n",
        "    print(i)"
      ],
      "id": "c5ac3e19-773d-46fe-8ec6-ff21d21a8145"
    },
    {
      "cell_type": "markdown",
      "metadata": {},
      "source": [
        "This single-argument form starts at zero, counts up by one each time,\n",
        "and **doesn’t include the stop value**. This is different from every\n",
        "other programming language you’ll ever encounter. It’s just one of those\n",
        "things.\n",
        "\n",
        "We’ve already seen the two-argument form. It takes a starting value and\n",
        "a stopping value, and iterates by one from the start until the last\n",
        "value that is less than the stop."
      ],
      "id": "0ff4f7f5-96df-46e1-91ae-28a4b41fbfc4"
    },
    {
      "cell_type": "code",
      "execution_count": 9,
      "metadata": {},
      "outputs": [
        {
          "output_type": "stream",
          "name": "stdout",
          "text": [
            "7\n",
            "8\n",
            "9"
          ]
        }
      ],
      "source": [
        "for i in range(7,10):\n",
        "    print(i)"
      ],
      "id": "d3932ab9-4e16-4443-a1cd-c54cd3f2a766"
    },
    {
      "cell_type": "markdown",
      "metadata": {},
      "source": [
        "And there’s even a three-argument form. The third argument is the amount\n",
        "to step by."
      ],
      "id": "dbc6ca00-f6fc-4230-ad96-a3fcfe8eaddf"
    },
    {
      "cell_type": "code",
      "execution_count": 10,
      "metadata": {},
      "outputs": [
        {
          "output_type": "stream",
          "name": "stdout",
          "text": [
            "12\n",
            "15\n",
            "18"
          ]
        }
      ],
      "source": [
        "for i in range (12,20,3):\n",
        "    print(i)"
      ],
      "id": "4cafc7e1-0699-4317-a4bd-0debd59651ec"
    },
    {
      "cell_type": "markdown",
      "metadata": {},
      "source": [
        "The step size doesn’t have to be a positive number…"
      ],
      "id": "f441171f-ec80-4596-ab72-527bd2eeb47a"
    },
    {
      "cell_type": "code",
      "execution_count": 13,
      "metadata": {},
      "outputs": [
        {
          "output_type": "stream",
          "name": "stdout",
          "text": [
            "6\n",
            "4\n",
            "2\n",
            "0\n",
            "-2"
          ]
        }
      ],
      "source": [
        "for i in range(6, -3, -2):\n",
        "    print(i)"
      ],
      "id": "5a0771f1-c227-4a10-9559-bd7c5c6c8b8f"
    },
    {
      "cell_type": "markdown",
      "metadata": {},
      "source": [
        "In case you’re curious, the step size cannot be zero. If you really want\n",
        "an infinite loop, and there are cases where it makes sense, you have to\n",
        "use a `while` loop instead.\n",
        "\n",
        "As a general rule, any place where you can use an explicit value (a\n",
        "*literal*) you can use a variable. Arguments to a `for` loop are no\n",
        "exception:"
      ],
      "id": "4a180072-63fa-4376-81f5-62911a6c79f6"
    },
    {
      "cell_type": "code",
      "execution_count": 15,
      "metadata": {},
      "outputs": [
        {
          "output_type": "stream",
          "name": "stdout",
          "text": [
            "13"
          ]
        }
      ],
      "source": [
        "start_value = int(input(\"where should we start? \"))\n",
        "end_value   = int(input(\"where should we run right up to and stop just short of it? \"))\n",
        "step_size   = int(input(\"what should we step by? \"))\n",
        "\n",
        "for i in range(start_value, end_value, step_size):\n",
        "    print(i)\n",
        "    "
      ],
      "id": "1846ea56-9376-435f-ae11-fbf0344266d2"
    },
    {
      "cell_type": "markdown",
      "metadata": {},
      "source": [
        "If we need to do something a specific number of times, we need to pay\n",
        "attention to our starting and stopping conditions. I’ve messed this up\n",
        "so many times I know now to be careful. You’ve been warned."
      ],
      "id": "0a8dd963-c044-4153-b130-e47c01e40b05"
    },
    {
      "cell_type": "code",
      "execution_count": 18,
      "metadata": {},
      "outputs": [
        {
          "output_type": "stream",
          "name": "stdout",
          "text": [
            "They add up to 9"
          ]
        }
      ],
      "source": [
        "how_many = int(input(\"How many numbers would you like to total up? \"))\n",
        "sum = 0\n",
        "for i in range(1, how_many):\n",
        "    sum = sum + int(input(\"Enter a number \"))\n",
        "print(\"They add up to\", sum)\n"
      ],
      "id": "3fc42a1e-8c99-4683-9ab1-bdd218755f6c"
    },
    {
      "cell_type": "markdown",
      "metadata": {},
      "source": [
        "Notice something wrong? If you ask it to total 3 numbers, it only\n",
        "prompts for two of them. There are a couple of ways to solve this. The\n",
        "easiest is to just use the one-argument form of `range()`."
      ],
      "id": "56fd98d1-be95-4563-8982-0da1d2f067d8"
    },
    {
      "cell_type": "code",
      "execution_count": 19,
      "metadata": {},
      "outputs": [
        {
          "output_type": "stream",
          "name": "stdout",
          "text": [
            "They add up to 15"
          ]
        }
      ],
      "source": [
        "how_many = int(input(\"How many numbers would you like to total up? \"))\n",
        "sum = 0\n",
        "for i in range(how_many):\n",
        "    sum = sum + int(input(\"Enter a number \"))\n",
        "print(\"They add up to\", sum)"
      ],
      "id": "a030bbd1-d373-441a-a6f3-1f6717bf2709"
    },
    {
      "cell_type": "markdown",
      "metadata": {},
      "source": [
        "That offers a little insight into why Python has it’s funny “up to but\n",
        "not including” semantics: zero is a perfectly legitimate number and a\n",
        "very natural starting point.\n",
        "\n",
        "The only problem with the single-argument method is that the values that\n",
        "the target variable goes through include zero. This may or may not be a\n",
        "problem if that value is used inside the code block. If you really need\n",
        "to count from one instead of zero, you can increment the stopping value:"
      ],
      "id": "ada42a2d-507d-4d92-a329-bad751da4ace"
    },
    {
      "cell_type": "code",
      "execution_count": 20,
      "metadata": {},
      "outputs": [
        {
          "output_type": "stream",
          "name": "stdout",
          "text": [
            "They add up to 15"
          ]
        }
      ],
      "source": [
        "how_many = int(input(\"How many numbers would you like to total up? \"))\n",
        "sum = 0\n",
        "for i in range(1, how_many + 1):\n",
        "    sum = sum + int(input(\"Enter a number \"))\n",
        "print(\"They add up to\", sum)"
      ],
      "id": "7e661a54-331b-4267-8058-6f65ce7e8d97"
    },
    {
      "cell_type": "markdown",
      "metadata": {},
      "source": [
        "And that behaved just like we expected.\n",
        "\n",
        "You may have noticed a pattern already. We frequently need to compute a\n",
        "new value for an existing variable. What we’ve done so far has been\n",
        "along the lines of `grand_total = grand_total + new_reading`. Python\n",
        "gives us a shorthand way to write that. We could instead express that as\n",
        "`grand_total += new_reading`. There is no space between the plus and\n",
        "equals signs. The only reason this exists is to save you some typing. As\n",
        "you might expect, there are a few more of these *Augmented Assignment\n",
        "Operators*…\n",
        "\n",
        "| Operator | Example         | Equivalent               |\n",
        "|----------|-----------------|--------------------------|\n",
        "| +=       | count += 1      | count = count + 1        |\n",
        "| -=       | x -= offset     | x = x - offset           |\n",
        "| \\*=      | product \\*= val | product = product \\* val |\n",
        "| /=       | y /= 3          | y = y / 3                |\n",
        "| %=       | val %= 2        | val = val % 2            |\n",
        "\n",
        "Out of all of them, `+=` is far and away the most commonly used one.\n",
        "\n",
        "## Nested Loops\n",
        "\n",
        "You know what’s fun to put in a loop’s code block? Another loop! Best of\n",
        "all, it comes in pretty handy when dealing with high-dimensional data.\n",
        "Plenty of algorithms rely on nested loops, too. Take a look at this:"
      ],
      "id": "1100f858-7050-4a64-a556-d61570074416"
    },
    {
      "cell_type": "code",
      "execution_count": 1,
      "metadata": {},
      "outputs": [
        {
          "output_type": "stream",
          "name": "stdout",
          "text": [
            "x= 0  y= 0\n",
            "x= 0  y= 1\n",
            "x= 0  y= 2\n",
            "x= 0  y= 3\n",
            "x= 1  y= 0\n",
            "x= 1  y= 1\n",
            "x= 1  y= 2\n",
            "x= 1  y= 3\n",
            "x= 2  y= 0\n",
            "x= 2  y= 1\n",
            "x= 2  y= 2\n",
            "x= 2  y= 3\n",
            "x= 3  y= 0\n",
            "x= 3  y= 1\n",
            "x= 3  y= 2\n",
            "x= 3  y= 3\n",
            "x= 4  y= 0\n",
            "x= 4  y= 1\n",
            "x= 4  y= 2\n",
            "x= 4  y= 3"
          ]
        }
      ],
      "source": [
        "for x in range(5):\n",
        "    for y in range(4):\n",
        "        print(\"x=\",x,\" y=\", y)"
      ],
      "id": "5591a38e-21b9-4951-9a5f-792bfd3959df"
    },
    {
      "cell_type": "markdown",
      "metadata": {},
      "source": [
        "What’s going on here? Initially, the outer loop, the one that iterates\n",
        "zero through four and assigns it’s value to `x`, runs. When it starts\n",
        "running its code block for the x=0 pass, the for loop for the `y`\n",
        "variable starts. ‘y’ assumes the values 0 through 3, so the first four\n",
        "lines printed out are for x=0, y=0, then x=0, y=1, and so on through\n",
        "x=0, y=3. Once that inner for loop completes, the outer for loop gets to\n",
        "iterate again. Now the inside for loop runs again, only this time we\n",
        "have x=1. That’s why the next four lines are “x=1, y=0” through “x=1,\n",
        "y=3”. Every time the outer loop runs another iteration, the inner loop\n",
        "gets to run all the way from start to finish.\n",
        "\n",
        "In later lessons, we’ll have a few opportunities to play with nested\n",
        "loops. In fact, we’ll get to do that in the very next lesson: Functions!"
      ],
      "id": "32753511-5928-43fb-a403-f1dbf3cc4f22"
    }
  ],
  "nbformat": 4,
  "nbformat_minor": 5,
  "metadata": {
    "kernelspec": {
      "name": "python3",
      "display_name": "Python 3 (ipykernel)",
      "language": "python"
    },
    "language_info": {
      "name": "python",
      "codemirror_mode": {
        "name": "ipython",
        "version": "3"
      },
      "file_extension": ".py",
      "mimetype": "text/x-python",
      "nbconvert_exporter": "python",
      "pygments_lexer": "ipython3",
      "version": "3.12.3"
    }
  }
}