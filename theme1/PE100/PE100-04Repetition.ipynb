{
 "cells": [
  {
   "cell_type": "markdown",
   "id": "b1e9ad13-dc83-447a-8cc6-a7ad777bed8d",
   "metadata": {},
   "source": [
    "# Repetition - Making Python Run in Circles\n",
    "\n",
    "We started off learning Python with a simple list of statements..."
   ]
  },
  {
   "cell_type": "code",
   "execution_count": 1,
   "id": "323c8155-7d1d-469d-939a-d41d0f3a33d1",
   "metadata": {},
   "outputs": [
    {
     "name": "stdout",
     "output_type": "stream",
     "text": [
      "It's  100 celcius\n",
      "or 212.0 in pagan units.\n"
     ]
    }
   ],
   "source": [
    "temperature = 100\n",
    "print(\"It's \", temperature, \"celsius\")\n",
    "faren_t = temperature * (9/5) + 32\n",
    "print(\"or\", faren_t, \"in pagan units.\")"
   ]
  },
  {
   "cell_type": "markdown",
   "id": "11437758-5a3f-46d8-b8c4-930f56afd1c7",
   "metadata": {},
   "source": [
    "Then we added the ```if``` statement so we could control whether or\n",
    "not certain statements would execute or not:"
   ]
  },
  {
   "cell_type": "code",
   "execution_count": 3,
   "id": "61b3fe3b-b083-4ed2-9b05-5a6b6690eb28",
   "metadata": {},
   "outputs": [
    {
     "name": "stdout",
     "output_type": "stream",
     "text": [
      "Good chance it's boiling.\n"
     ]
    }
   ],
   "source": [
    "if temperature >= 100:\n",
    "    print(\"Good chance it's boiling.\")\n",
    "elif temperature > 2000:\n",
    "    print(\"Odds are it's plasma by now.\")\n",
    "else:\n",
    "    print(\"You could probably run the experiment and it might even work.\")"
   ]
  },
  {
   "cell_type": "markdown",
   "id": "d31e0141-9022-4bc7-a03e-37d58ac0db74",
   "metadata": {},
   "source": [
    "In both of these cases, the code blocks only run once.\n",
    "\n",
    "The problem is, sometimes we need things to run repeatedly. We want to\n",
    "look up **all** of the readings from an experiment or we need to\n",
    "compute the properties of something over **dozens** of temperatures each\n",
    "at **dozens** of pressures.\n",
    "\n",
    "Python gives us two different ways to make our programs repeat things\n",
    "in a *loop*.\n",
    "\n",
    "1. ```while``` loops run a block of code, repeatedly, until some\n",
    "condition is ```False```.\n",
    "1. ```for``` loops run a code block a specific number of times.\n",
    "\n",
    "Let's start with the ```while``` loop.\n",
    "\n",
    "## While Loops"
   ]
  },
  {
   "cell_type": "markdown",
   "id": "9bca7246-5a30-4289-bfd6-85d6c24e9799",
   "metadata": {},
   "source": [
    "The syntax of a ```while``` loop looks a bit like an ```if```\n",
    "statement. Take a look:"
   ]
  },
  {
   "cell_type": "code",
   "execution_count": 1,
   "id": "f10f7d18-fd33-4f14-b211-6edb05bca4fd",
   "metadata": {},
   "outputs": [
    {
     "name": "stdout",
     "output_type": "stream",
     "text": [
      "Looking at instrument number 1\n",
      "and then maybe we'll look at the next one.\n",
      "Looking at instrument number 2\n",
      "and then maybe we'll look at the next one.\n",
      "Done with all that looping.\n",
      "...and ready to do something else now.\n"
     ]
    }
   ],
   "source": [
    "instrument = 1\n",
    "while instrument <= 2:\n",
    "   print(\"Looking at instrument number\", instrument)\n",
    "   print(\"and then maybe we'll look at the next one.\")\n",
    "   instrument = instrument + 1\n",
    "print(\"Done with all that looping.\")\n",
    "print(\"...and ready to do something else now.\")"
   ]
  },
  {
   "cell_type": "markdown",
   "id": "ed0c3daf-a71e-4e17-8985-89419797afe7",
   "metadata": {},
   "source": [
    "Here's what the above code does. First, it creates a variable named\n",
    "\"instrument\" and sets it to 1. Then it goes into the while loop. The\n",
    "first time through, it checks to see if instrument is less than or\n",
    "equal to 2.  It is (we set it to 1 just a moment ago) so the while\n",
    "loop will execute the code block. This block prints out two lines and\n",
    "then it adds 1 to instrument.  That means instrument now equals 2.\n",
    "\n",
    "The second time through the loop, instrument equals 2. That satisfies\n",
    "the conditional statement of the while loop (2 is less than or equal\n",
    "to 2) so the code block runs again. Two more lines are printed out and\n",
    "then instrument is incremented one more time.\n",
    "\n",
    "The while loop runs for a third time now. This time, 3 is **not** less\n",
    "than or equal to 2, so the conditional statement is false. This means\n",
    "the while loop is done - it won't run its code block again, and the\n",
    "flow of control will go on to the next line after the while loop. It\n",
    "will run the two print statements explaining that the looping is over\n",
    "and it can go on to other tasks.\n",
    "\n",
    "\n",
    "Let's look at another example. Let's print out all the powers of two\n",
    "that are less than 928."
   ]
  },
  {
   "cell_type": "code",
   "execution_count": 2,
   "id": "b3084a25-da3f-4eed-a59d-19d6bfef25c2",
   "metadata": {},
   "outputs": [
    {
     "name": "stdout",
     "output_type": "stream",
     "text": [
      "2 to the 0 equals 1\n",
      "2 to the 1 equals 2\n",
      "2 to the 2 equals 4\n",
      "2 to the 3 equals 8\n",
      "2 to the 4 equals 16\n",
      "2 to the 5 equals 32\n",
      "2 to the 6 equals 64\n",
      "2 to the 7 equals 128\n",
      "2 to the 8 equals 256\n",
      "2 to the 9 equals 512\n",
      "2 to the 10 is too big.\n"
     ]
    }
   ],
   "source": [
    "power=0\n",
    "two_to_the_power = 2**power\n",
    "\n",
    "while two_to_the_power < 928:  # all Porsches aspire to this, btw.\n",
    "    print(\"2 to the\", power,\"equals\",two_to_the_power)\n",
    "    power = power+1\n",
    "    two_to_the_power = 2**power\n",
    "print(\"2 to the\", power,\"is too big.\")"
   ]
  },
  {
   "cell_type": "markdown",
   "id": "a5914a7c-74de-4a7b-b2ea-0a5baa2dfc25",
   "metadata": {},
   "source": [
    "Did you notice I snuck something in there we haven't talked about yet?  See the \"#\" character on the line with the `while` statement? That indicates the rest of the line is a comment. Python will totally ignore it. It's handy for leaving little notes to yourself, like \"why did I choose 928 there when I could have put 944?\" This is very, very important when writing full-fledged, standalone programs. If you don't leave some notes for yourself, you'll never remember what you were thinking when you go back to that code six months from now. Also, the next person who comes along and has to change something in your code will greatly appreciate the hints.\n",
    "\n",
    "Leaving comments in the code isn't as big a deal in Jupyter notebooks... you can write rather substantial notes in a Markdown cell complete with **boldface**, *italics*, and whatever other fanciness you desire. On the other hand, it's also nice to be able to leave your comments in the just the right place in the code so it flows effortlessly through your comprehension as you read it. Let experience and personal opinion be your guide here.\n",
    "\n",
    "## Reading information from the outside world\n",
    "\n",
    "Notice that in both of those cases, we actually did know how many\n",
    "times the loop would run. We know that 2 to the 9th is 512 and so we\n",
    "know the while loop will only run that far. In fact, in every example\n",
    "we've had so far we've know what the output will be because we always\n",
    "have the same inputs. Computer software wouldn't be terribly\n",
    "interesting if it could only run specific, known, canned\n",
    "inputs. Fortunately, Python gives us several ways to bring data into\n",
    "our programs.\n",
    "\n",
    "The simplest way to bring data into a Python program is to edit the\n",
    "program and change the values we assign to variables. This is sort of the *reducto ad absurdum* method, but\n",
    "honestly it isn't a bad way to handle very small amounts of input. It's\n",
    "even easier in Jupyter notebooks since the code is just sitting there\n",
    "looking at us, waiting to be edited. For values that aren't going to\n",
    "change very often (your name, perhaps, or the chargeback account\n",
    "number for using some instrument, for instance) then just assigning a\n",
    "value to a variable and editing it every once and a while is a fine\n",
    "way to go.\n",
    "\n",
    "Another way to get data into a Python program is to read it in from\n",
    "where the user is running the program. For doing this, Python provides\n",
    "a function called \"input\" which takes an optional argument,\n",
    "specifically a string that is printed as a prompt. Python then waits\n",
    "for the user to type something as a response. When they do, that\n",
    "string is returned to the calling program.  Here's a simple example:"
   ]
  },
  {
   "cell_type": "code",
   "execution_count": 3,
   "id": "fd930805-8cfa-4687-95a8-832c4c259a09",
   "metadata": {},
   "outputs": [
    {
     "name": "stdin",
     "output_type": "stream",
     "text": [
      "Please enter your name Erik\n"
     ]
    },
    {
     "name": "stdout",
     "output_type": "stream",
     "text": [
      "Hello, Erik\n"
     ]
    }
   ],
   "source": [
    "your_name = input(\"Please enter your name\")\n",
    "print(\"Hello,\", your_name)"
   ]
  },
  {
   "cell_type": "markdown",
   "id": "7e489b4d-2ced-4d79-aec6-b7db3010bebc",
   "metadata": {},
   "source": [
    "When the above code runs, the prompt \"Please enter your name\" is displayed right below the code cell and a text entry box is placed beside it. When you enter your name, it greets you.\n",
    "\n",
    "If we were running this tiny little snippet of code as a regular\n",
    "program, the interaction would be in the terminal emulator window that we ran the program in. Because this is running in Jupyter,\n",
    "though, the interaction is directly in the notebook. The prompt and\n",
    "the entry blank occur just below the running code cell.\n",
    "\n",
    "What will happen when we run the following?"
   ]
  },
  {
   "cell_type": "code",
   "execution_count": 4,
   "id": "05c42b8d-6c18-4e16-aa43-2703a0dea282",
   "metadata": {},
   "outputs": [
    {
     "name": "stdin",
     "output_type": "stream",
     "text": [
      "Enter a number between 4 and 8 5.25\n"
     ]
    },
    {
     "ename": "TypeError",
     "evalue": "can only concatenate str (not \"float\") to str",
     "output_type": "error",
     "traceback": [
      "\u001b[0;31m---------------------------------------------------------------------------\u001b[0m",
      "\u001b[0;31mTypeError\u001b[0m                                 Traceback (most recent call last)",
      "Cell \u001b[0;32mIn [4], line 2\u001b[0m\n\u001b[1;32m      1\u001b[0m response \u001b[38;5;241m=\u001b[39m \u001b[38;5;28minput\u001b[39m(\u001b[38;5;124m\"\u001b[39m\u001b[38;5;124mEnter a number between 4 and 8\u001b[39m\u001b[38;5;124m\"\u001b[39m)\n\u001b[0;32m----> 2\u001b[0m new_value \u001b[38;5;241m=\u001b[39m \u001b[43mresponse\u001b[49m\u001b[43m \u001b[49m\u001b[38;5;241;43m+\u001b[39;49m\u001b[43m \u001b[49m\u001b[38;5;241;43m6.5\u001b[39;49m\n\u001b[1;32m      3\u001b[0m \u001b[38;5;28mprint\u001b[39m(new_value)\n",
      "\u001b[0;31mTypeError\u001b[0m: can only concatenate str (not \"float\") to str"
     ]
    }
   ],
   "source": [
    "response = input(\"Enter a number between 4 and 8\")\n",
    "new_value = response + 6.5\n",
    "print(new_value)"
   ]
  },
  {
   "cell_type": "markdown",
   "id": "236a0c96-d16d-4024-993f-b0bdeab4f10c",
   "metadata": {},
   "source": [
    "Wow!  Python couldn't run that and it \"threw an error\". We'll examine\n",
    "Python's error handling facilities later, but for now we'll just\n",
    "assume that means it came to a screeching halt. Looking at the error\n",
    "message, it seems there is some problem with trying to add a real\n",
    "number (a *floting point* number) to a string.\n",
    "\n",
    "## Type Casting\n",
    "\n",
    "```input()``` prompts the user and returns the string they entered,\n",
    "but what if we want the user to enter a number? What do we do then?\n",
    "The answer is we'll use a process known as *type casting*. The act of\n",
    "type casting is no more than converting information from one type to\n",
    "another.\n",
    "\n",
    "There are three very useful functions for type casting: ```int()```,\n",
    "```float()```, and ```str()```. Let's see them in action..."
   ]
  },
  {
   "cell_type": "code",
   "execution_count": 6,
   "id": "3e0901f3-f913-4136-badc-3b825152d4ae",
   "metadata": {},
   "outputs": [
    {
     "name": "stdout",
     "output_type": "stream",
     "text": [
      "16.454\n",
      "34543456\n",
      "4\n"
     ]
    }
   ],
   "source": [
    "# three conversions:\n",
    "\n",
    "# first, string to float:\n",
    "the_sum = 6.554 + float(\"9.9\")\n",
    "print(the_sum)\n",
    "\n",
    "# next, string to integer:\n",
    "the_integer_number = int(\"34543456\")\n",
    "print(the_integer_number)\n",
    "\n",
    "#finally, integer to string:\n",
    "handy_string = str(2+2)\n",
    "print(handy_string)"
   ]
  },
  {
   "cell_type": "markdown",
   "id": "3c412097-7db8-4ce6-a531-0d9dbb142573",
   "metadata": {},
   "source": [
    "What did the above do?  First, it converted the string \"9.9\"\n",
    "(literally, three characters... it's a string) to a \"float\" (a\n",
    "floating point number, some languages will call that a real\n",
    "number). The second example takes a string of 8 characters and\n",
    "interprets them as an integer. That value is what gets returned and stored in our\n",
    "variable. Finally, we copmute the number 4 by adding 2+2, and then we\n",
    "let the ```str()``` function convert that to a single character long\n",
    "string having just the character \"4\".\n",
    "\n",
    "By now we know enough to be able to ask the user for a number and\n",
    "get something back that we can actually do math with."
   ]
  },
  {
   "cell_type": "code",
   "execution_count": null,
   "id": "0f71eeed-7bca-47be-b040-aeab8d46add2",
   "metadata": {},
   "outputs": [],
   "source": [
    "user_response = input(\"Enter a number between 17 and 34\")\n",
    "selected_number = float(user_response)\n",
    "selected_number"
   ]
  },
  {
   "cell_type": "markdown",
   "id": "cbea44e9-44ab-4e68-afbf-6f709869146b",
   "metadata": {},
   "source": [
    "There's an even easier way, though. Just like function composition\n",
    "worked when you took precalculus, the results of a Python function can\n",
    "be used as the argument to another. Hence:"
   ]
  },
  {
   "cell_type": "code",
   "execution_count": 8,
   "id": "b8fd8dcb-e16c-42c3-ab55-9edee0498bb0",
   "metadata": {},
   "outputs": [
    {
     "name": "stdin",
     "output_type": "stream",
     "text": [
      "Enter a number between 17 and 34 26\n"
     ]
    },
    {
     "data": {
      "text/plain": [
       "26.0"
      ]
     },
     "execution_count": 8,
     "metadata": {},
     "output_type": "execute_result"
    }
   ],
   "source": [
    "selected_number = float(input(\"Enter a number between 17 and 34\"))\n",
    "selected_number"
   ]
  },
  {
   "cell_type": "markdown",
   "id": "e6f353ba-2b21-4264-948c-bc1d52bdcbbf",
   "metadata": {},
   "source": [
    "Sometimes, function calls can be nested really deeply. Personally,\n",
    "when it comes time to debug code like that I find myself printing it\n",
    "out and coloring each level with a different highlighter pen."
   ]
  },
  {
   "cell_type": "markdown",
   "id": "42c225ed-ebb8-424d-925e-98664603a029",
   "metadata": {},
   "source": [
    "## Putting it together: while loops to get user input\n",
    "\n",
    "The great thing about a while statement is that it can loop zero\n",
    "times, one, two, or twelve trillion. Best of all, we don't have to\n",
    "know how many ahead of time. We could do the following:"
   ]
  },
  {
   "cell_type": "markdown",
   "id": "f30ab415-5901-4eb0-a59c-74f69771afbf",
   "metadata": {},
   "source": [
    "print(\"Computing an average.\")\n",
    "\n",
    "sum=0.0\n",
    "counter=0\n",
    "data_point = float(input(\"Enter a number, or enter negative num to stop\"))\n",
    "while data_point >= 0.0:\n",
    "    sum = sum+data_point\n",
    "    counter = counter+1\n",
    "    data_point = float(input(\"Enter a number, or enter negative num to stop\"))\n",
    "    \n",
    "print(\"Average value is\", sum/counter)"
   ]
  },
  {
   "cell_type": "markdown",
   "id": "cbec6452-8362-408f-8703-0f5253d918a6",
   "metadata": {},
   "source": [
    "When we run the code above, we're prompted to keep entering numbers until we finally enter -999. Each time it goes through the loop it keeps track of the running total of the numbers and the count of how many numbers have been entered. Once it's done, it divides the total by the count and displays that as the average.\n",
    "\n",
    "Let's step through what happens when the user enters 1, 2, 3, and -999:\n",
    "1. The sum and counter variables are initialized to zero.\n",
    "1. The user is prompted to enter a number, possibly a negative number to indicate no more data, and that input is type cast to a floating point number.\n",
    "1. The while loop's condition will be met any time a positive number was input (greater than **or** equal to zero). 1 is a positive number, so run the loop body.\n",
    "    1. This first time through, we'll add the 1 that was input to our running total, which is now 1.\n",
    "    1. And increment the count, now equal to 1.\n",
    "    1. **AND PROMPT THE USER FOR ANOTHER NUMBER!!!**\n",
    "1. Back at the while statement again, we check the condition and, yes, 2 is a positive number, so we run the loop's code block.\n",
    "    1. Update the sum and count, and then...\n",
    "    1. **PROMPT THE USER FOR ANOTHER VALUE!!!**\n",
    "1. Running the while statement again, the user entered 3, and 3 is positive, so the clode block will be executed.\n",
    "    1. Update the sum (now 6) and count (now 3).\n",
    "    1. **Prompt for another number**\n",
    "1. Back at the while statement, we check and see that -999 is not a positive number, so we skip the code block and resume by running whatever follows it.\n",
    "1. Having exited the while loop entirely, print out the average value by dividing sum/count.\n",
    "\n",
    "\n",
    "All the boldface and all-capitals lines above are there to emphasize how important it is to make sure your while loop isn't just checking the same thing over and over. If we didn't get a new number from the user each time through, the value of data_point would never change. That would result in an infinite loop, causing Python to never be able to complete the code in that cell. If it ever happens to you, and it probably will, the \"Interrupt Kernel\" command on JupyterLab's Kernel menu will stop the looping and let you get back to work.\n",
    "\n",
    "The `while` loop is certainly versatile... it can be used any time you need to do something repeatedly. If you know how many times you need to have the code block execute, either when you write the code or when it's running, then keep a variable that is incremented in the block every time and exit the while loop when the counter hits the right number.\n",
    "\n",
    "Where `while` loops really shine is when it's impossible to know ahead of time how many times the code block should run. The example above, where we keep accepting numbers until the user signals there aren't any more, there's no way to know how many times to execute that loop until we see a negative number. In a case like that, the `while` loop is the only practical solution.\n",
    "\n",
    "So if `while` loops are so great and solve every problem, why do we need anything else? The big reason is expressiveness: they can be a little awkward to understand, especially when you're looking at someone else's code. Having the conditional test separated from the action that establishes when to stop makes it a little awkward to understand (or debug!) someone else's code. This is especially true when we need to step through something by unusual increments.\n",
    "\n",
    "So what are we to do in these cases?\n",
    "\n",
    "## For Loops\n",
    "\n",
    "The `for` loop is quite similar to the `while` loop. The difference is that `for` loops are controlled by a count whereas `while` loops are controlled by a condition.\n",
    "\n",
    "Let's start with an example."
   ]
  },
  {
   "cell_type": "code",
   "execution_count": 5,
   "id": "b8b6327b-a2c5-4ad1-9c15-16a20c9a8e92",
   "metadata": {},
   "outputs": [
    {
     "name": "stdout",
     "output_type": "stream",
     "text": [
      "1\n",
      "2\n",
      "3\n"
     ]
    }
   ],
   "source": [
    "for the_value in range(1,4):\n",
    "    print(the_value)"
   ]
  },
  {
   "cell_type": "markdown",
   "id": "8e702a8d-c0e6-4661-9e55-f9d8130cea06",
   "metadata": {},
   "source": [
    "That is the simplest for loop you'll see. Let's look at the pieces.\n",
    "1. The `for` statement itself\n",
    "2. The name of the *target variable* whose value will be changing as the loop runs (\"the_value\" in this case\")\n",
    "3. \"in\" - and if this reminds you of set membership then you're on to something\n",
    "4. \"range()\" - this is an example of an *iterable*, which means \"something that can be stepped through\".\n",
    "5. The colon... the one I forget 50% of the time.\n",
    "6. The code block, in this case just a print statement.\n",
    "\n",
    "Most of the time, fairly close to \"always\", the code block will take advantage of the target variable changing each time through. In our example, \"the_value\" is our target variable, as it loops through it will take on the values 1 through 3, and the code block has a print statement that uses it.\n",
    "\n",
    "Before we examine the `range()` function, let's take a look at another iterable. We'll talk about lists in a later lesson, but for now we can just wave our hands around and understand enough for the moment.\n"
   ]
  },
  {
   "cell_type": "code",
   "execution_count": 3,
   "id": "6baa65d0-bb35-4c8e-8d5a-5cb6e9977ef6",
   "metadata": {},
   "outputs": [
    {
     "name": "stdout",
     "output_type": "stream",
     "text": [
      "The sample weighed 143.6 grams.\n",
      "The sample weighed 141.9 grams.\n",
      "The sample weighed 139.4 grams.\n",
      "The sample weighed 144.23219 grams.\n"
     ]
    }
   ],
   "source": [
    "for sample_weight in [123.6, 121.9, 119.4, 124.23219]:\n",
    "    print(\"The sample weighed\", sample_weight, \"grams.\")\n",
    "    if sample_weight < 120:\n",
    "        print(\"Be careful! This sample might not be all you hoped for.\")\n",
    "        "
   ]
  },
  {
   "cell_type": "markdown",
   "id": "665ccf60-4a7d-4cc8-9328-8236b2e16831",
   "metadata": {},
   "source": [
    "You can use the target variable as many times as you want to in the code block.\n",
    "\n",
    "Now let's take a more detailed look at the `range()` function. In its most basic form it takes one argument - the stop value."
   ]
  },
  {
   "cell_type": "code",
   "execution_count": 6,
   "id": "c5ac3e19-773d-46fe-8ec6-ff21d21a8145",
   "metadata": {},
   "outputs": [
    {
     "name": "stdout",
     "output_type": "stream",
     "text": [
      "0\n",
      "1\n",
      "2\n",
      "3\n"
     ]
    }
   ],
   "source": [
    "for i in range(4):\n",
    "    print(i)"
   ]
  },
  {
   "cell_type": "markdown",
   "id": "75bb9cde-c48a-4d51-93a9-f632d17c329d",
   "metadata": {},
   "source": [
    "This single-argument form starts at zero, counts up by one each time, and **doesn't include the stop value**. This is different from every other programming language you'll ever encounter. It's just one of those things.\n",
    "\n",
    "We've already seen the two-argument form. It takes a starting value and a stopping value, and iterates by one from the start until the last value that is less than the stop."
   ]
  },
  {
   "cell_type": "code",
   "execution_count": 9,
   "id": "d3932ab9-4e16-4443-a1cd-c54cd3f2a766",
   "metadata": {},
   "outputs": [
    {
     "name": "stdout",
     "output_type": "stream",
     "text": [
      "7\n",
      "8\n",
      "9\n"
     ]
    }
   ],
   "source": [
    "for i in range(7,10):\n",
    "    print(i)"
   ]
  },
  {
   "cell_type": "markdown",
   "id": "713db12a-7747-49e8-ae4d-d6103b4c84f2",
   "metadata": {},
   "source": [
    "And there's even a three-argument form. The third argument is the amount to step by."
   ]
  },
  {
   "cell_type": "code",
   "execution_count": 10,
   "id": "4cafc7e1-0699-4317-a4bd-0debd59651ec",
   "metadata": {},
   "outputs": [
    {
     "name": "stdout",
     "output_type": "stream",
     "text": [
      "12\n",
      "15\n",
      "18\n"
     ]
    }
   ],
   "source": [
    "for i in range (12,20,3):\n",
    "    print(i)"
   ]
  },
  {
   "cell_type": "markdown",
   "id": "4ca1e33f-d1af-40ad-b92f-54f0821fd618",
   "metadata": {},
   "source": [
    "The step size doesn't have to be a positive number..."
   ]
  },
  {
   "cell_type": "code",
   "execution_count": 13,
   "id": "5a0771f1-c227-4a10-9559-bd7c5c6c8b8f",
   "metadata": {},
   "outputs": [
    {
     "name": "stdout",
     "output_type": "stream",
     "text": [
      "6\n",
      "4\n",
      "2\n",
      "0\n",
      "-2\n"
     ]
    }
   ],
   "source": [
    "for i in range(6, -3, -2):\n",
    "    print(i)"
   ]
  },
  {
   "cell_type": "markdown",
   "id": "86164c6e-fa7c-4741-9120-0f431a67b35b",
   "metadata": {},
   "source": [
    "In case you're curious, the step size cannot be zero. If you really want an infinite loop, and there are cases where it makes sense, you have to use a `while` loop instead.\n",
    "\n",
    "As a general rule, any place where you can use an explicit value (a *literal*) you can use a variable. Arguments to a `for` loop are no exception:"
   ]
  },
  {
   "cell_type": "code",
   "execution_count": 15,
   "id": "1846ea56-9376-435f-ae11-fbf0344266d2",
   "metadata": {},
   "outputs": [
    {
     "name": "stdin",
     "output_type": "stream",
     "text": [
      "where should we start?  13\n",
      "where should we run right up to and stop just short of it?  15\n",
      "what should we step by?  2\n"
     ]
    },
    {
     "name": "stdout",
     "output_type": "stream",
     "text": [
      "13\n"
     ]
    }
   ],
   "source": [
    "start_value = int(input(\"where should we start? \"))\n",
    "end_value   = int(input(\"where should we run right up to and stop just short of it? \"))\n",
    "step_size   = int(input(\"what should we step by? \"))\n",
    "\n",
    "for i in range(start_value, end_value, step_size):\n",
    "    print(i)\n",
    "    "
   ]
  },
  {
   "cell_type": "markdown",
   "id": "603adbba-d9e6-472d-9843-d773f68ce907",
   "metadata": {},
   "source": [
    "If we need to do something a specific number of times, we need to pay attention to our starting and stopping conditions. I've messed this up so many times I know now to be careful. You've been warned."
   ]
  },
  {
   "cell_type": "code",
   "execution_count": 18,
   "id": "3fc42a1e-8c99-4683-9ab1-bdd218755f6c",
   "metadata": {},
   "outputs": [
    {
     "name": "stdin",
     "output_type": "stream",
     "text": [
      "How many numbers would you like to total up?  3\n",
      "Enter a number  4\n",
      "Enter a number  5\n"
     ]
    },
    {
     "name": "stdout",
     "output_type": "stream",
     "text": [
      "They add up to 9\n"
     ]
    }
   ],
   "source": [
    "how_many = int(input(\"How many numbers would you like to total up? \"))\n",
    "sum = 0\n",
    "for i in range(1, how_many):\n",
    "    sum = sum + int(input(\"Enter a number \"))\n",
    "print(\"They add up to\", sum)\n"
   ]
  },
  {
   "cell_type": "markdown",
   "id": "9ed693c1-c50b-4fa7-a2f3-9106a3e4d820",
   "metadata": {},
   "source": [
    "Notice something wrong? If you ask it to total 3 numbers, it only prompts for two of them. There are a couple of ways to solve this. The easiest is to just use the one-argument form of `range()`."
   ]
  },
  {
   "cell_type": "code",
   "execution_count": 19,
   "id": "a030bbd1-d373-441a-a6f3-1f6717bf2709",
   "metadata": {},
   "outputs": [
    {
     "name": "stdin",
     "output_type": "stream",
     "text": [
      "How many numbers would you like to total up?  3\n",
      "Enter a number  4\n",
      "Enter a number  5\n",
      "Enter a number  6\n"
     ]
    },
    {
     "name": "stdout",
     "output_type": "stream",
     "text": [
      "They add up to 15\n"
     ]
    }
   ],
   "source": [
    "how_many = int(input(\"How many numbers would you like to total up? \"))\n",
    "sum = 0\n",
    "for i in range(how_many):\n",
    "    sum = sum + int(input(\"Enter a number \"))\n",
    "print(\"They add up to\", sum)"
   ]
  },
  {
   "cell_type": "markdown",
   "id": "b9cac8cd-c0ca-4ec9-a90b-89914f11a39a",
   "metadata": {},
   "source": [
    "That offers a little insight into why Python has it's funny \"up to but not including\" semantics: zero is a perfectly legitimate number and a very natural starting point.\n",
    "\n",
    "The only problem with the single-argument method is that the values that the target variable goes through include zero. This may or may not be a problem if that value is used inside the code block.  If you really need to count from one instead of zero, you can increment the stopping value:"
   ]
  },
  {
   "cell_type": "code",
   "execution_count": 20,
   "id": "7e661a54-331b-4267-8058-6f65ce7e8d97",
   "metadata": {},
   "outputs": [
    {
     "name": "stdin",
     "output_type": "stream",
     "text": [
      "How many numbers would you like to total up?  3\n",
      "Enter a number  4\n",
      "Enter a number  5\n",
      "Enter a number  6\n"
     ]
    },
    {
     "name": "stdout",
     "output_type": "stream",
     "text": [
      "They add up to 15\n"
     ]
    }
   ],
   "source": [
    "how_many = int(input(\"How many numbers would you like to total up? \"))\n",
    "sum = 0\n",
    "for i in range(1, how_many + 1):\n",
    "    sum = sum + int(input(\"Enter a number \"))\n",
    "print(\"They add up to\", sum)"
   ]
  },
  {
   "cell_type": "markdown",
   "id": "a5c4c9e7-eb69-4019-970d-b1dfe1603a8c",
   "metadata": {},
   "source": [
    "And that behaved just like we expected.\n",
    "\n",
    "You may have noticed a pattern already. We frequently need to compute a new value for an existing variable. What we've done so far has been along the lines of `grand_total = grand_total + new_reading`. Python gives us a shorthand way to write that. We could instead express that as `grand_total += new_reading`. There is no space between the plus and equals signs. The only reason this exists is to save you some typing. As you might expect, there are a few more of these *Augmented Assignment Operators*...\n",
    "\n",
    "|Operator|Example|Equivalent|\n",
    "|--------|-------|----------|\n",
    "|+=|count += 1|count = count + 1|\n",
    "|-=|x -= offset| x = x - offset|\n",
    "|*=|product *= val|product = product * val|\n",
    "|/=|y /= 3|y = y / 3|\n",
    "|%=|val %= 2|val = val % 2|\n",
    "\n",
    "\n",
    "Out of all of them, `+=` is far and away the most commonly used one. \n",
    "\n",
    "## Nested Loops\n",
    "\n",
    "You know what's fun to put in a loop's code block? Another loop! Best of all, it comes in pretty handy when dealing with high-dimensional data. Plenty of algorithms rely on nested loops, too. Take a look at this:"
   ]
  },
  {
   "cell_type": "code",
   "execution_count": 1,
   "id": "5591a38e-21b9-4951-9a5f-792bfd3959df",
   "metadata": {},
   "outputs": [
    {
     "name": "stdout",
     "output_type": "stream",
     "text": [
      "x= 0  y= 0\n",
      "x= 0  y= 1\n",
      "x= 0  y= 2\n",
      "x= 0  y= 3\n",
      "x= 1  y= 0\n",
      "x= 1  y= 1\n",
      "x= 1  y= 2\n",
      "x= 1  y= 3\n",
      "x= 2  y= 0\n",
      "x= 2  y= 1\n",
      "x= 2  y= 2\n",
      "x= 2  y= 3\n",
      "x= 3  y= 0\n",
      "x= 3  y= 1\n",
      "x= 3  y= 2\n",
      "x= 3  y= 3\n",
      "x= 4  y= 0\n",
      "x= 4  y= 1\n",
      "x= 4  y= 2\n",
      "x= 4  y= 3\n"
     ]
    }
   ],
   "source": [
    "for x in range(5):\n",
    "    for y in range(4):\n",
    "        print(\"x=\",x,\" y=\", y)"
   ]
  },
  {
   "cell_type": "markdown",
   "id": "94a3cee1-95a6-41ac-a741-0d911727a98b",
   "metadata": {},
   "source": [
    "What's going on here? Initially, the outer loop, the one that iterates zero through four and assigns it's value to `x`, runs. When it starts running its code block for the x=0 pass, the for loop for the `y` variable starts. 'y' assumes the values 0 through 3, so the first four lines printed out are for x=0, y=0, then x=0, y=1, and so on through x=0, y=3. Once that inner for loop completes, the outer for loop gets to iterate again. Now the inside for loop runs again, only this time we have x=1. That's why the next four lines are \"x=1, y=0\" through \"x=1, y=3\". Every time the outer loop runs another iteration, the inner loop gets to run all the way from start to finish. \n",
    "\n",
    "In later lessons, we'll have a few opportunities to play with nested loops.  In fact, we'll get to do that in the very next lesson: Functions!"
   ]
  }
 ],
 "metadata": {
  "kernelspec": {
   "display_name": "Python 3 (ipykernel)",
   "language": "python",
   "name": "python3"
  },
  "language_info": {
   "codemirror_mode": {
    "name": "ipython",
    "version": 3
   },
   "file_extension": ".py",
   "mimetype": "text/x-python",
   "name": "python",
   "nbconvert_exporter": "python",
   "pygments_lexer": "ipython3",
   "version": "3.12.3"
  }
 },
 "nbformat": 4,
 "nbformat_minor": 5
}
