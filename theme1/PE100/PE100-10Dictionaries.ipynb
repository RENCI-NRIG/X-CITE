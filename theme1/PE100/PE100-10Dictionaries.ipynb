{
 "cells": [
  {
   "cell_type": "markdown",
   "id": "5a7a5d48-18b9-450e-a762-1fde0d5dfb3e",
   "metadata": {},
   "source": [
    "# Dictionaries\n",
    "\n",
    "-------------------\n",
    "\n",
    "Dictionaries are, conceptually, a special type of list. A list has an order to it. Elements are placed into a list in a particular order. Removing and inserting items changes the order in a well understood way. Because of this, yoiu can always access a list by looking into it at a specific integer index.  None of this is possible with a dictionary. Instead, dictionaries have a better trick: all access is by searching.\n",
    "\n",
    "Python's dictionaries store each of their elements as a pair of things, a *key* and a *value*. The key is the thing that can be searched for, and the value is the information that will be retured when that element is read.\n",
    "\n",
    "An example will help:"
   ]
  },
  {
   "cell_type": "code",
   "execution_count": 4,
   "id": "5134aefa-7b05-49bc-8693-9749b9f0a3ae",
   "metadata": {},
   "outputs": [
    {
     "name": "stdout",
     "output_type": "stream",
     "text": [
      "Ice Cream\n"
     ]
    }
   ],
   "source": [
    "favorite_food = { \"Alice\" : \"Apple Pie\", \\\n",
    "                 \"Bob\" : \"Ice Cream\",\\\n",
    "                 \"Charlie\" : \"Pizza\" }\n",
    "print(favorite_food[\"Bob\"])\n",
    "                 "
   ]
  },
  {
   "cell_type": "markdown",
   "id": "ebe13695-b011-4d63-8dd0-b855453ec6fa",
   "metadata": {},
   "source": [
    "Let's take that apart and see how it works.\n",
    "\n",
    "1. We have the creation of the dictionary itself. We create a dictionary literal much like we do a list, only here we use curly brackets instead of square brackets.\n",
    "\n",
    "2. We have key:value pairs. The keys we're using are all strings (people's names, in fact) but they could just as well be numbers. The values are also strings, but they can be anything we want. These keys and values are separated by colons (`:`).\n",
    "\n",
    "3. Between each of the key:value pairs there is a comma.\n",
    "\n",
    "4. We see how to look up information in a dictionary. It looks like indexing into a list to extract a particular element, except in this case we don't give a positional index number but rather we give it a key to look up.\n",
    "\n",
    "When you think about it, looking for Bob's favorite food by using `favorite_food[\"Bob\"]` is a pretty powerful tool. Rather than having to specify *where* to get something from, we can just specify *what* to get. This is why you'll occasionally see dictionaries refered to as \"Content Addressable Memory\". It's nice to just get the data we want without having to step through every element of a list looking for it. It's also faster: Python's dictionaries use clever indexing so they can straight to what you're looking for.\n",
    "\n",
    "Dictionaries get their name, by the way, from real-world physical dictionaries. Suppose you have Webster's 9th New Collegiate Dictionary in front of you. There are a lot of keys in there - each one of those words in alphabetical order is a key. There's not really any way to look up something by page number alone - there's no algorithm to tell me what page the definition for brisance is on. There's no way to look up a word by knowing which word number it is. If brisance is the 8000th word in the dictionary, that knowledge does me no good. On the other hand, there is an algorithm for finding that definition by looking up the key word. I go to the \"B\"s, look for the \"Br\" part, and so forth until I find brisance. I can only look up things by key, not by position.\n",
    "\n",
    "One of the great things about Python is its flexibility with data types. Lists can contain any data type. You can have lists of tuples of lists of strings if you want to. Dictionaries are similarly versatile. You can have dictionaries that contain, say, lists:"
   ]
  },
  {
   "cell_type": "code",
   "execution_count": 6,
   "id": "ceb824c8-474b-4ab3-bff2-eb5585b36419",
   "metadata": {},
   "outputs": [
    {
     "name": "stdout",
     "output_type": "stream",
     "text": [
      "['Jane', 'John', 'Alice', 'Bob']\n"
     ]
    }
   ],
   "source": [
    "family_info = { 'ages' : [6,8,36,38],\\\n",
    "               'names' : ['Jane', 'John', 'Alice', 'Bob'] }\n",
    "\n",
    "print(family_info[\"names\"])"
   ]
  },
  {
   "cell_type": "markdown",
   "id": "0ee29fd0-d055-4799-a8a8-9d248c3c0fbc",
   "metadata": {},
   "source": [
    "You can even have dictionaries of dictionaries. They're quite useful, in fact."
   ]
  },
  {
   "cell_type": "code",
   "execution_count": 9,
   "id": "01ffb362-a7b8-484c-916b-bb86c9754895",
   "metadata": {},
   "outputs": [
    {
     "name": "stdout",
     "output_type": "stream",
     "text": [
      "99.5\n"
     ]
    }
   ],
   "source": [
    "fast_food = { \"McAwful\" : { \"address\" : \"1012 Western Blvd\",\\\n",
    "                            \"sanitation\" : 92} ,\\\n",
    "            \"Davids\" : { \"address\" : \"201 S Fayetteville St\",\\\n",
    "                         \"sanitation\" : 99.5 } }\n",
    "\n",
    "print (fast_food[\"Davids\"][\"sanitation\"])"
   ]
  },
  {
   "cell_type": "markdown",
   "id": "d79f3544-bb5e-4b81-9456-aa2bc308d112",
   "metadata": {},
   "source": [
    "Dictionaries give us the beginnings of a database. It's not as powerful as a \"real\" database, but it's good enough for a lot of things. Of course, a dictionary is like any iother variable: it only lasts as long as your program is running. You would have to combine a dictionary with some file access to have any permanent storage. \n",
    "\n",
    "What happens if we try to look up a key:value pair, and the key isn't in the dictionary? Let's see!"
   ]
  },
  {
   "cell_type": "code",
   "execution_count": 10,
   "id": "5b2eaec2-c2ae-45e5-bb27-674992bba08e",
   "metadata": {},
   "outputs": [
    {
     "ename": "KeyError",
     "evalue": "\"Ruth's Chris\"",
     "output_type": "error",
     "traceback": [
      "\u001b[0;31m---------------------------------------------------------------------------\u001b[0m",
      "\u001b[0;31mKeyError\u001b[0m                                  Traceback (most recent call last)",
      "Cell \u001b[0;32mIn[10], line 1\u001b[0m\n\u001b[0;32m----> 1\u001b[0m \u001b[38;5;28mprint\u001b[39m(\u001b[43mfast_food\u001b[49m\u001b[43m[\u001b[49m\u001b[38;5;124;43m\"\u001b[39;49m\u001b[38;5;124;43mRuth\u001b[39;49m\u001b[38;5;124;43m'\u001b[39;49m\u001b[38;5;124;43ms Chris\u001b[39;49m\u001b[38;5;124;43m\"\u001b[39;49m\u001b[43m]\u001b[49m)\n",
      "\u001b[0;31mKeyError\u001b[0m: \"Ruth's Chris\""
     ]
    }
   ],
   "source": [
    "print(fast_food[\"Ruth's Chris\"])"
   ]
  },
  {
   "cell_type": "markdown",
   "id": "2cd59e5c-6c75-499c-8563-449977a153e6",
   "metadata": {},
   "source": [
    "Yeah, we expected that by now, didn't we?  It threw a \"KeyError\" exception. What should we do about this? We could always wrap the access up in a try/except structure to catch the KeyError, but this is such a common problem that Python gives us a friendlier way to do it: the `in` operator.\n",
    "\n",
    "Remember using `in` to see if something was in a string? This is philosophically similar. Let's try it:"
   ]
  },
  {
   "cell_type": "code",
   "execution_count": 11,
   "id": "d7d1009c-1a3b-4ec5-9f82-a4c4f8892bbd",
   "metadata": {},
   "outputs": [
    {
     "name": "stdout",
     "output_type": "stream",
     "text": [
      "that's a relief, actually.\n"
     ]
    }
   ],
   "source": [
    "if \"Ruth's Chris\" in fast_food:\n",
    "    print(\"Surprised to see such an expensive place here!\")\n",
    "else:\n",
    "    print(\"that's a relief, actually.\")"
   ]
  },
  {
   "cell_type": "markdown",
   "id": "615a7125-f2f8-402c-8bbe-a6b58bbb74d6",
   "metadata": {},
   "source": [
    "Adding to a dictionary is even easier than adding to a list. All you do is just act like the key was already there and assign it a value:"
   ]
  },
  {
   "cell_type": "code",
   "execution_count": 15,
   "id": "100a035a-0cb0-422c-8417-7a25fa6f7b93",
   "metadata": {},
   "outputs": [
    {
     "name": "stdout",
     "output_type": "stream",
     "text": [
      "{'Alice': 'Apple Pie', 'Bob': 'Ice Cream', 'Charlie': 'Pizza', 'Dan': 'Fish'}\n",
      "\n",
      "Now we have:\n",
      "{'Alice': 'Apple Pie', 'Bob': 'Ice Cream', 'Charlie': 'Pizza', 'Dan': 'Fish'}\n"
     ]
    }
   ],
   "source": [
    "print(favorite_food)\n",
    "print()\n",
    "favorite_food[\"Dan\"] = 'Fish'\n",
    "print(\"Now we have:\")\n",
    "print(favorite_food)"
   ]
  },
  {
   "cell_type": "markdown",
   "id": "2bc00365-1d0b-4394-ac65-1bddaa15d08b",
   "metadata": {},
   "source": [
    "What happens if we try to overwrite some data?"
   ]
  },
  {
   "cell_type": "code",
   "execution_count": 16,
   "id": "b4165600-9863-4dc7-b599-af80fb5dd385",
   "metadata": {},
   "outputs": [
    {
     "name": "stdout",
     "output_type": "stream",
     "text": [
      "{'Alice': 'Apple Pie', 'Bob': 'Ice Cream', 'Charlie': 'Soup', 'Dan': 'Fish'}\n"
     ]
    }
   ],
   "source": [
    "favorite_food[\"Charlie\"] = \"Soup\"\n",
    "print(favorite_food)"
   ]
  },
  {
   "cell_type": "markdown",
   "id": "f1e9268b-7fd9-4a78-98aa-eed0ee4d69bf",
   "metadata": {},
   "source": [
    "We can change what is stored in the \"value\" part of the key:value pair any time we want. We can't change the key, though. At least, we can't change it directly. We can always delete the existing key:value pair and replace it with a new one. Let's say Charlie really wants to be known as Chuck. He has his reasons. So let's fix the favorite_food dictionary:"
   ]
  },
  {
   "cell_type": "code",
   "execution_count": 17,
   "id": "19c2d54d-987b-43eb-bea4-895d2f098959",
   "metadata": {},
   "outputs": [],
   "source": [
    "munchie = favorite_food[\"Charlie\"]\n",
    "del favorite_food[\"Charlie\"]\n",
    "favorite_food[\"Chuck\"]=munchie\n",
    "print(favorite_food)"
   ]
  },
  {
   "cell_type": "markdown",
   "id": "2b8888f6-3801-4a9c-83bd-9bb04a370964",
   "metadata": {},
   "source": [
    "What we did to accomplish that was\n",
    "1. Look up Charlie's favorite food and save that value.\n",
    "2. use the built-in `del` operator to remove Charlie as a key and whatever value was associated with him.\n",
    "3. Insert a new key:value pair whose key is \"Chuck\" and whose value is whatever we looked up before."
   ]
  },
  {
   "cell_type": "code",
   "execution_count": null,
   "id": "f2bd916b-be10-4609-a9a3-8d0bcc32aaef",
   "metadata": {},
   "outputs": [],
   "source": []
  },
  {
   "cell_type": "raw",
   "id": "ef64d693-adff-4304-8a17-86bdc851c097",
   "metadata": {},
   "source": []
  },
  {
   "cell_type": "markdown",
   "id": "131a4ca7-d510-43ae-81d2-ff5c3c2be3ce",
   "metadata": {},
   "source": [
    "Since every other Python data type that holds more than one thing can work with the built-in `len()` function, it stands to reason that dictionaries can, too. And as you would imagine, len() returns the number of entries in the dictionary."
   ]
  },
  {
   "cell_type": "code",
   "execution_count": 19,
   "id": "c6fc890c-38d4-4e3c-b0bf-070a35483076",
   "metadata": {},
   "outputs": [
    {
     "data": {
      "text/plain": [
       "4"
      ]
     },
     "execution_count": 19,
     "metadata": {},
     "output_type": "execute_result"
    }
   ],
   "source": [
    "len(favorite_food)"
   ]
  },
  {
   "cell_type": "markdown",
   "id": "e28d69d7-3369-4b50-8e55-fc7f976e5be6",
   "metadata": {},
   "source": [
    "### Looping and Iteration\n",
    "\n",
    "--------------\n",
    "\n",
    "A dictionary is another type of *iterable*. This means we can write loops that traverse the entire dictionary, start to finish, and do something useful."
   ]
  },
  {
   "cell_type": "code",
   "execution_count": 20,
   "id": "11ba6289-7007-4c0d-858f-f086d1aaa5b7",
   "metadata": {},
   "outputs": [
    {
     "name": "stdout",
     "output_type": "stream",
     "text": [
      "Alice\n",
      "Bob\n",
      "Dan\n",
      "Chuck\n"
     ]
    }
   ],
   "source": [
    "for key in favorite_food:\n",
    "    print(key)"
   ]
  },
  {
   "cell_type": "markdown",
   "id": "6f56c6f8-1297-4756-b349-dbef0f196924",
   "metadata": {},
   "source": [
    "Notice that a traversal of a dictionary retrieves the keys. If you want to retrieve the values, just use the keys to look up the values."
   ]
  },
  {
   "cell_type": "markdown",
   "id": "5bd6e06a-43c2-494a-b7fd-7e274d6b8eff",
   "metadata": {},
   "source": [
    "for key in favorite_food:\n",
    "    print(favorite_food[key])"
   ]
  }
 ],
 "metadata": {
  "kernelspec": {
   "display_name": "Python 3 (ipykernel)",
   "language": "python",
   "name": "python3"
  },
  "language_info": {
   "codemirror_mode": {
    "name": "ipython",
    "version": 3
   },
   "file_extension": ".py",
   "mimetype": "text/x-python",
   "name": "python",
   "nbconvert_exporter": "python",
   "pygments_lexer": "ipython3",
   "version": "3.12.3"
  }
 },
 "nbformat": 4,
 "nbformat_minor": 5
}
