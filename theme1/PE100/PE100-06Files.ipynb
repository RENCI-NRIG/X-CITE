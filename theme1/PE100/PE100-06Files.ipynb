{
 "cells": [
  {
   "cell_type": "markdown",
   "id": "13695ebe-2dcb-4a95-adb9-c0fb548cdc5a",
   "metadata": {
    "jp-MarkdownHeadingCollapsed": true
   },
   "source": []
  },
  {
   "cell_type": "markdown",
   "id": "3f4b20ac-eae5-4ca0-80bb-d7d6d3c0f67b",
   "metadata": {},
   "source": [
    "You can write a good deal of software that runs entirely inside Jupyter notebooks or that runs on the command line and only communicates through the screen and the keyboard. Sometimes, though, you have to do with files. It may not be practical to hardcode all your data into assignment statements in Python, or maybe you have to deal with a number of files and therefore you can't use pipes. **link to Sys Fundamentals page here**\n",
    "\n",
    "We've already seen two basic ways to do Input and Output (often referred to as \"I/O\"). We've used `input()` to read from the keyboard and `print()` to send output to the screen. Those functions work quite well, except you might have to do a lot of typing or deal with your output scrolling off the screen. In neither case is the data *durable* - it goes away as soon as the program is done or you close the Jupyter notebook.\n",
    "\n",
    "The `input()` and `print()` functions are just the tip of the proverbial iceberg in terms of getting information in and out of running Python code. Some of our other options include:\n",
    "* GUI controls: text box, menu, dialog box...\n",
    "* Networks: HTTP, TCP/IP sockets, Infiniband...\n",
    "* Databases: Relational (SQL) and NoSQL\n",
    "* Other: cameras, microphones, speakers, LabView\n",
    "\n",
    "## Files\n",
    "\n",
    "Practically everyone is more-or-less familiar with the idea of a file, even if fairly few people know how they work. We're going to ignore a **lot** of details for the moment and say this: a file is a long-lasting collection of bytes. It has a first byte, a last byte, and every one in between stays in the same order.\n",
    "\n",
    "This begs the question \"What is a byte?\"  A byte is just a small number from 0 to 255 (inclusive). We can assign meaning to those numbers, and if we're smart about how we do it then we can represent any information a computer can process as long as we use enough of these bytes.\n",
    "\n",
    "We like to think of files as being one of two types: binary files and text files. Binary files are pure data. We decide how to write bytes to a file to represent data. Then when we're ready to read it in again, we read the bytes, process them somehow, and reconstruct the original data. It's a great technique - it's fast and efficient.\n",
    "\n",
    "We won't be talking about binary files in this notebook or even in this module. Fifteen years ago we wouldn't have had a choice, we would have had to. These days, it's unusual to have to deal with binary files, especially in Python, because there is so often a library function already available to do the work for us.\n",
    "\n",
    "Text files, on the other hand, are probably something you're already familar with - they are what you get when you edit a \"plain text\" file in \"notepad\" or \"textedit\". In a text file, every one of the letter, number, and punctuation mark characters is assigned its own number. For instance, capital \"A\" is 65. \"B\" is 66. [Not that it should ever matter, but here's a complete list and then some!](https://en.wikipedia.org/wiki/ASCII)\n",
    "\n",
    "Let's say you open an editor and type \"CAT\". When you save that to a file, there will be a file that is three bytes long and contains the three bytes 67, 65, and 84. Actually there will usually be a fourth byte, 10, which is the character you get when you press \"Enter\" or \"Return\".\n",
    "\n",
    "For now, at least for a few minutes, we're going to pretend the only language on earth is English. We'll talk about other languages when we talk about networks.\n",
    "\n",
    "It's about time for an example, don't you think?"
   ]
  },
  {
   "cell_type": "code",
   "execution_count": 4,
   "id": "d65cd7f6-9333-4a5b-8639-0075784ee01c",
   "metadata": {},
   "outputs": [],
   "source": [
    "my_file_object = open(\"/tmp/first_file.txt\", \"w\")\n",
    "my_file_object.write(\"First Post!\")\n",
    "my_file_object.close()"
   ]
  },
  {
   "cell_type": "markdown",
   "id": "dcbe50b0-fbfc-48a7-b943-0fbcbfef68a5",
   "metadata": {},
   "source": [
    "Three lines of code was all it took to create a file, write to it, and tidy up after ourselves. What does each of those lines do?\n",
    "\n",
    "`my_file_object = open(\"/tmp/first_file.txt\", \"w\")`\n",
    "\n",
    "my_file_object is an *object variable*. Think of an *object* as a way to store data in a variable along with some functions that only make sense to that data. They hide a lot of complexity from us. A file object is one that keeps track of a filename, how to get to it, and how to use it. It has some functions built in to it to help us do things to the file.\n",
    "\n",
    "Python gives us the function \"open\".  It gets a file ready to be used by our code. It takes two arguments. The first is the file's name, and the second is the *mode* we want to use the file in. In our example, we specified that the file's name was \"first_file.txt\" and that it was in the \"/tmp\" directory. Then in the second argument we specified \"w\", meaning we wanted to write to the file. The \"w\" mode will cause the file to be created if it didn't already exist. If it did already exist, on the other hand, all the contents of it will be deleted and we'll start writing from the beginning just as if the file was created from scratch.  We'll see more modes as we go.\n",
    "\n",
    "\n",
    "`my_file_object.write(\"First Post!\")`\n",
    "\n",
    "This line uses one of those functions that are tucked away inside an object. In this case, we're calling the file object's \"write\" function. It does what we expect - it takes its argument, in this case \"First Post!\", and causes it to be written to disk byte by byte.\n",
    "\n",
    "\n",
    "`my_file_object.close()`\n",
    "\n",
    "Finally, we call one more of the file object's functions: close. When we run this, Python tells the operating system \"Hey, we're done with the file. You can get rid of any of the tedious housekeeping data that operating systems keep behind the scenes!\"\n",
    "\n",
    "Closing files is considered \"good programming hygene\". You're allowed 1024 file objects to be open and connected to files in one program on the CLASSE cluster of computers. I'll say from my experience: if you think you need that many, you're probably doing something the wrong way.\n",
    "\n",
    "Writing files, then, is fairly easy. What about reading files? I'm glad you asked."
   ]
  },
  {
   "cell_type": "code",
   "execution_count": 6,
   "id": "4c3eba8e-0de4-4d7b-9bb4-7cf23fc662d9",
   "metadata": {},
   "outputs": [
    {
     "data": {
      "text/plain": [
       "'First Post!'"
      ]
     },
     "execution_count": 6,
     "metadata": {},
     "output_type": "execute_result"
    }
   ],
   "source": [
    "input_file = open(\"/tmp/first_file.txt\",\"r\")\n",
    "the_contents = input_file.read()\n",
    "input_file.close()\n",
    "\n",
    "the_contents"
   ]
  },
  {
   "cell_type": "markdown",
   "id": "5190341f-dd84-4570-a15e-7ce285f829b9",
   "metadata": {},
   "source": [
    "You can probably tell mostly how that worked just by looking at. We used the `open()` function again, but this time with a \"r\" for our mode. This means \"read\". Also, this time we used `read()` instead of `write()`. The read() function reads in an *entire file* and saves it a string variable. Finally, we call `close()` again to close the file and tidy up after ourselves.\n",
    "\n",
    "Note that if the file is, say, 500 megabytes long, the string variable is going to be very, very large - roughly half a gigabyte. Python can handle this, but it may not be terribly convenient. If the file is more than 100-200 gigabytes, the CLASSE servers are probably not going to be able to handle. I say \"probably\" because there are a lot of factors at play.\n",
    "\n",
    "Just writing one line to a file is probably not very useful. Let's try writing two lines:"
   ]
  },
  {
   "cell_type": "code",
   "execution_count": 8,
   "id": "49a55301-bd3f-41b3-8243-52a8ad6d2954",
   "metadata": {},
   "outputs": [],
   "source": [
    "my_file_object = open(\"/tmp/first_file.txt\", \"w\")\n",
    "my_file_object.write(\"First line written.\")\n",
    "my_file_object.write(\"This is my second line.\")\n",
    "my_file_object.close()"
   ]
  },
  {
   "cell_type": "markdown",
   "id": "49700991-bf77-476c-a453-9d26d3189c7e",
   "metadata": {},
   "source": [
    "When we run that, it will open /tmp/first_file.txt for writing and it will delete anything already in it (that's what the \"w\" means, remember?). Then it will write \"First line written.\" and \"This is my second line.\".\n",
    "\n",
    "Let's read the file again and prove to ourselves that it worked..."
   ]
  },
  {
   "cell_type": "code",
   "execution_count": 9,
   "id": "24a4bbc1-2c8d-49aa-a85c-d4b4114b0c3e",
   "metadata": {},
   "outputs": [
    {
     "data": {
      "text/plain": [
       "'First line written.This is my second line.'"
      ]
     },
     "execution_count": 9,
     "metadata": {},
     "output_type": "execute_result"
    }
   ],
   "source": [
    "input_file = open(\"/tmp/first_file.txt\",\"r\")\n",
    "the_contents = input_file.read()\n",
    "input_file.close()\n",
    "\n",
    "the_contents"
   ]
  },
  {
   "cell_type": "markdown",
   "id": "34aaa9a9-a08c-4d48-9cff-ac9fd3e2e917",
   "metadata": {},
   "source": [
    "Oh no! The two lines ran together!\n",
    "\n",
    "And that is one of the first differences we'll see between `write()` and `print()`. Print() always adds a *newline* character after it prints out anything. Remember when I said there would usually be a byte at the end of a line, represented by the number 10? This character is called \"newline\" and it, as the name implies, marks where a *new line* starts.\n",
    "\n",
    "In all likelihood, when we do two write() statements like we did, we want to put a newline character in the file to make it into two lines. Fortunately, there are several ways to do that. Here are two of them.\n",
    "\n",
    "The first way is simple and direct - call write() three times instead of two and put a newline in there \"by hand\", as it were:"
   ]
  },
  {
   "cell_type": "code",
   "execution_count": 17,
   "id": "39db65cd-4a43-44a1-a8e0-7d990ac42f5e",
   "metadata": {},
   "outputs": [
    {
     "data": {
      "text/plain": [
       "'First line written.\\nThis is my second line.'"
      ]
     },
     "execution_count": 17,
     "metadata": {},
     "output_type": "execute_result"
    }
   ],
   "source": [
    "my_file_object = open(\"/tmp/first_file.txt\", \"w\")\n",
    "my_file_object.write(\"First line written.\")\n",
    "my_file_object.write('\\n')\n",
    "my_file_object.write(\"This is my second line.\")\n",
    "my_file_object.close()\n",
    "\n",
    "input_file = open(\"/tmp/first_file.txt\",\"r\")\n",
    "the_contents = input_file.read()\n",
    "input_file.close()\n",
    "\n",
    "the_contents\n",
    "\n",
    "\n"
   ]
  },
  {
   "cell_type": "markdown",
   "id": "0ee06266-e7ea-4dc7-af9b-13c0da0ea6ba",
   "metadata": {},
   "source": [
    "The output looks a little strange. We put an extra write() function call, but we gave it an odd looking argument - \\n. That is a backslash (usually between the Enter and the backspace keys on a US keyboard) immediately followed by a lowercase \"n\". The combination together means \"newline character\". This much is fairly straightforward.\n",
    "\n",
    "Next we read the contents of the file. This is just like before.\n",
    "\n",
    "Finally, and this is where things take an unexpected turn, we evaluate `the_contents` and let Jupyter print that out for us. And when Jupyter does that, we see the \"\\n\" there. It seems like Python didn't convert those two characters to a newline, just sticking them in there as-is, and still left us with one long line. But is that true? Has Python foresaken us?\n",
    "\n",
    "Run the code in the next cell:"
   ]
  },
  {
   "cell_type": "code",
   "execution_count": 18,
   "id": "e4f005cf-d7f1-4bd3-bb8d-be700e443593",
   "metadata": {},
   "outputs": [
    {
     "name": "stdout",
     "output_type": "stream",
     "text": [
      "First line written.\n",
      "This is my second line.\n"
     ]
    }
   ],
   "source": [
    "print(the_contents)"
   ]
  },
  {
   "cell_type": "markdown",
   "id": "3b31162c-04df-4f58-9993-4ec29100427f",
   "metadata": {},
   "source": [
    "Salvation! `print()` did the right thing. This is a key difference between just typing a variable or an expression at the end of a cell and letting Python evaluate it versus putting a `print()` in there and having absolute control over what gets sent to the notebook and on to the screen.\n",
    "\n",
    "This also illustrates something else important and useful: all of the code cells in this notebook are being run by the same Python \"interpreter\". This means if we set a variable to a value in one cell, we will see the same value stored in that variable in other cells. That's how we were able to print what was stored in `the_contents` in the cell above even though we had set its value to the file contents two cells above that.\n",
    "\n",
    "If a file only has a line or two, it's not a big deal dealing with that with string functions. If a file has millions of lines, then it becomes a bit of a hassle. We need a way to read a file one line at a time. Fortunately, there's `readline()`:"
   ]
  },
  {
   "cell_type": "code",
   "execution_count": 19,
   "id": "8c703583-f628-44fa-84f1-c74d9f2fdfc1",
   "metadata": {},
   "outputs": [
    {
     "name": "stdout",
     "output_type": "stream",
     "text": [
      "First line written.\n",
      "\n",
      "This is my second line.\n"
     ]
    }
   ],
   "source": [
    "input_file = open(\"/tmp/first_file.txt\",\"r\")\n",
    "line_one = input_file.readline()\n",
    "line_two = input_file.readline()\n",
    "input_file.close()\n",
    "\n",
    "print(line_one)\n",
    "print(line_two)"
   ]
  },
  {
   "cell_type": "markdown",
   "id": "f63b506f-4b0e-4f68-95a0-3004df244f85",
   "metadata": {},
   "source": [
    "This does *almost* what we expect: it reads both lines from the file, one at a time, and prints them out. The only snag is that blank space between the lines. What has happened? It turns out `readline()` reads the *entire* line, even the newline character at the end. We can see this if we evaluate the string instead of just printing it:"
   ]
  },
  {
   "cell_type": "code",
   "execution_count": 20,
   "id": "2db89f7d-4aea-40b5-bbb9-67354479801b",
   "metadata": {},
   "outputs": [
    {
     "data": {
      "text/plain": [
       "'First line written.\\n'"
      ]
     },
     "execution_count": 20,
     "metadata": {},
     "output_type": "execute_result"
    }
   ],
   "source": [
    "line_one"
   ]
  },
  {
   "cell_type": "markdown",
   "id": "19226cfd-9798-4ef2-9b74-5a033f356156",
   "metadata": {},
   "source": [
    "There's that `\\n` again! What about the second line?"
   ]
  },
  {
   "cell_type": "code",
   "execution_count": 21,
   "id": "b913831d-e44e-4774-acd4-4dfe961ce88f",
   "metadata": {},
   "outputs": [
    {
     "data": {
      "text/plain": [
       "'This is my second line.'"
      ]
     },
     "execution_count": 21,
     "metadata": {},
     "output_type": "execute_result"
    }
   ],
   "source": [
    "line_two"
   ]
  },
  {
   "cell_type": "markdown",
   "id": "90ee0c27-942b-40ff-81fa-6a2d4110151d",
   "metadata": {},
   "source": [
    "When readline() reads a line, it includes the newline character at the end *unless it reaches the end of the file and the file didn't end with a newline.* \n",
    "\n",
    "It's rare that we would want to read a bunch of lines in a file with the newlines included. That's just not something we do very often, and practically never in scientific software. We'll almost always want to trim off the newline character. And for that, we have the `rstrip()` function. It takes a string, strips off any newlines on the right side of it, and returns that cleaned-up string. `rstrip()` does that for the right side of the string, `lstrip()` cleans up the left side (the beginning of the string) and `strip()` goes crazy and does both ends at the same time.\n",
    "\n",
    "Let's try it:"
   ]
  },
  {
   "cell_type": "code",
   "execution_count": 23,
   "id": "22acb98d-8a3b-493d-aae1-ac21e60ca607",
   "metadata": {},
   "outputs": [
    {
     "name": "stdout",
     "output_type": "stream",
     "text": [
      "First line written.\n",
      "This is my second line.\n"
     ]
    }
   ],
   "source": [
    "clean_first_line = line_one.rstrip('\\n')\n",
    "clean_second_line = line_two.rstrip('\\n')\n",
    "\n",
    "print(clean_first_line)\n",
    "print(clean_second_line)\n"
   ]
  },
  {
   "cell_type": "markdown",
   "id": "387b26b7-9cc8-433c-ae98-bdadbfb25622",
   "metadata": {},
   "source": [
    "What's going on here? A couple of things. The first thing to note is that `rstrip()` and its close companions `lstrip()` and `strip()` take one argument, which is the character to be stripped. Practically always we'll want to get rid of the trailing newline character.\n",
    "\n",
    "The other interesting things is how we called the rstrip() function in the first place. We gave the name of the string variable, a period, and the name of the function we were calling. This is just like how we called the `close()` function on a file object. And in fact, strings are another kind of object in Python. We'll see a lot more on this later.\n",
    "\n",
    "Historical note: The original programming language that had objects was named \"Smalltalk\". In Smalltalk, the functions that were inside of objects were called \"methods\". You'll still hear people call them that. Later, the \"C++\" language came along and it called methods \"member functions\". When programmers talk about the functions that are contained in objects, we'll use either term interchangably, sometimes even switching in the middle of a sentence. We now return to your Python tutorial, already in progress...\n",
    "\n",
    "We read both lines in the file we created. We were able to call `readline()` twice and know that we had all of our lines in the file because (1) we created the file ourselves and (2) we therefore knew it had precisely two lines. It wasn't even too bad having to type those `readline()` and `rstrip()` lines twice. But what if we had a lot more lines? We would certainly want to use a loop.\n",
    "\n",
    "For example, what do we do with a five-line file?"
   ]
  },
  {
   "cell_type": "code",
   "execution_count": 24,
   "id": "32722f1c-66c3-445b-ada7-2d85a1b830c1",
   "metadata": {},
   "outputs": [
    {
     "name": "stdout",
     "output_type": "stream",
     "text": [
      "Line 1.\n",
      "Line 2.\n",
      "Line 3.\n",
      "Line 4.\n",
      "Line 5.\n"
     ]
    }
   ],
   "source": [
    "my_file_object = open(\"/tmp/five-liner.txt\", \"w\")\n",
    "my_file_object.write(\"Line 1.\")\n",
    "my_file_object.write('\\n')\n",
    "my_file_object.write(\"Line 2.\")\n",
    "my_file_object.write('\\n')\n",
    "my_file_object.write(\"Line 3.\")\n",
    "my_file_object.write('\\n')\n",
    "my_file_object.write(\"Line 4.\")\n",
    "my_file_object.write('\\n')\n",
    "my_file_object.write(\"Line 5.\")\n",
    "my_file_object.write('\\n')\n",
    "my_file_object.close()\n",
    "\n",
    "input_file = open(\"/tmp/five-liner.txt\",\"r\")\n",
    "for i in range(5):\n",
    "    input_line = input_file.readline()\n",
    "    print(input_line.rstrip('\\n'))\n",
    "\n",
    "input_file.close()"
   ]
  },
  {
   "cell_type": "markdown",
   "id": "950ac21a-cea7-4090-abd2-1ef47365b6fb",
   "metadata": {},
   "source": [
    "No problem - we just use a for loop and do the readline() inside of it. It repeats the five times we asked for. In this case, after we read each line we cleaned it up a little and printed it.\n",
    "\n",
    "But what if we can't know the number of lines ahead of time? One approach is to have whatever program that creates the file write the number of lines that will be in it first. I won't say this is a common approach in scientific software, but it isn't exactly rare either."
   ]
  },
  {
   "cell_type": "code",
   "execution_count": 25,
   "id": "869b3a43-4c59-4072-b7b8-0f8e01d24f14",
   "metadata": {},
   "outputs": [
    {
     "name": "stdout",
     "output_type": "stream",
     "text": [
      "Line 1.\n",
      "Line 2.\n",
      "Line 3.\n",
      "Line 4.\n",
      "Line 5.\n"
     ]
    }
   ],
   "source": [
    "my_file_object = open(\"/tmp/five-liner.txt\", \"w\")\n",
    "my_file_object.write(\"5\")\n",
    "my_file_object.write('\\n')\n",
    "my_file_object.write(\"Line 1.\")\n",
    "my_file_object.write('\\n')\n",
    "my_file_object.write(\"Line 2.\")\n",
    "my_file_object.write('\\n')\n",
    "my_file_object.write(\"Line 3.\")\n",
    "my_file_object.write('\\n')\n",
    "my_file_object.write(\"Line 4.\")\n",
    "my_file_object.write('\\n')\n",
    "my_file_object.write(\"Line 5.\")\n",
    "my_file_object.write('\\n')\n",
    "my_file_object.close()\n",
    "\n",
    "input_file = open(\"/tmp/five-liner.txt\",\"r\")\n",
    "\n",
    "first_line = input_file.readline()\n",
    "how_many_lines = int(first_line.rstrip('\\n'))\n",
    "\n",
    "for i in range(how_many_lines):\n",
    "    input_line = input_file.readline()\n",
    "    print(input_line.rstrip('\\n'))\n",
    "\n",
    "input_file.close()"
   ]
  },
  {
   "cell_type": "markdown",
   "id": "6b498d53-1b7f-49ad-bcdf-48f979c5e2ab",
   "metadata": {},
   "source": [
    "The overall scheme for this is probably obvious by now. In the first half, when we're writing the file, we write a \"5\" on its own line, and then write five more lines. In the second part, we\n",
    "1. Read the first line.\n",
    "2. `rstrip()` to get rid of the trailing newline\n",
    "3. Use the results of that as the argument to `int()`, converting that string (\"5\") to an actual integer (5).\n",
    "4. and finally go through a `for` loop that many times just like before\n",
    "\n",
    "Most of the time we won't have the luxury of knowing how many lines are in a file, though. We need a way to read all of the lines, line by line, without limit. For that, we can loop through the file and quit when Python returns an empty string with not even a newline character."
   ]
  },
  {
   "cell_type": "code",
   "execution_count": 27,
   "id": "e81658f7-a93c-4c72-ad6d-842188fadad6",
   "metadata": {},
   "outputs": [
    {
     "name": "stdout",
     "output_type": "stream",
     "text": [
      "5\n",
      "Line 1.\n",
      "Line 2.\n",
      "Line 3.\n",
      "Line 4.\n",
      "Line 5.\n"
     ]
    }
   ],
   "source": [
    "input_file = open(\"/tmp/five-liner.txt\",\"r\")\n",
    "\n",
    "line = input_file.readline()\n",
    "while line != '':\n",
    "    print(line.rstrip('\\n'))\n",
    "    line = input_file.readline()\n",
    "input_file.close()"
   ]
  },
  {
   "cell_type": "markdown",
   "id": "c7ba0689-8604-4b7a-8688-7a5d9cb9e912",
   "metadata": {},
   "source": [
    "The while loop behaved just like we expected - strat by reading a line, and then every time the line isn't empty, print it out and read another line. When you finally hit a line that is completely empty, exit the while loop and close the file.\n",
    "\n",
    "Looping through a file all the way to the end is such a common thing to do, Python has a shortcut for doing it. Remember when we talked about a `for` loop iterating over an ordered set? A file can be thought of as an ordered set of strings. They're not in alphabetical order, but rather they are ordered by line number. That means we can:"
   ]
  },
  {
   "cell_type": "code",
   "execution_count": 28,
   "id": "76a68204-51bf-4709-a1c3-388018b03562",
   "metadata": {},
   "outputs": [
    {
     "name": "stdout",
     "output_type": "stream",
     "text": [
      "5\n",
      "Line 1.\n",
      "Line 2.\n",
      "Line 3.\n",
      "Line 4.\n",
      "Line 5.\n"
     ]
    }
   ],
   "source": [
    "input_file = open(\"/tmp/five-liner.txt\",\"r\")\n",
    "\n",
    "for line in input_file:\n",
    "    print(line.rstrip('\\n'))\n",
    "\n",
    "input_file.close()"
   ]
  },
  {
   "cell_type": "markdown",
   "id": "33fd54e2-723e-4ed5-85b0-49069ecfe820",
   "metadata": {},
   "source": [
    "As you can imagine, reading isn't the only file operation you can do with a loop. You can also write to a file that way.  For instance,"
   ]
  },
  {
   "cell_type": "code",
   "execution_count": 29,
   "id": "0a62da53-2e3e-4ba8-af7c-d00fb050c854",
   "metadata": {},
   "outputs": [
    {
     "name": "stdout",
     "output_type": "stream",
     "text": [
      "0\n",
      "1\n",
      "2\n",
      "3\n",
      "4\n",
      "5\n",
      "6\n"
     ]
    }
   ],
   "source": [
    "my_file_object = open(\"/tmp/five-liner.txt\", \"w\")\n",
    "for i in range(7):\n",
    "    output_string = str(i)\n",
    "    my_file_object.write(output_string + '\\n')\n",
    "my_file_object.close()\n",
    "\n",
    "input_file = open(\"/tmp/five-liner.txt\",\"r\")\n",
    "for line in input_file:\n",
    "    print(line.rstrip('\\n'))\n",
    "input_file.close()"
   ]
  },
  {
   "cell_type": "markdown",
   "id": "a8d26f3a-b548-4d7d-a18f-90bbf2cacd28",
   "metadata": {},
   "source": [
    "Finally, we don't have to erase the contents of a file every time we write to it. It's perfectly normal to append to an existing file, and for that the \"a\" mode can be used with `open()`."
   ]
  },
  {
   "cell_type": "code",
   "execution_count": 30,
   "id": "4c07424f-66bf-46b2-bed5-c5c70fe30cf9",
   "metadata": {},
   "outputs": [
    {
     "name": "stdout",
     "output_type": "stream",
     "text": [
      "0\n",
      "1\n",
      "2\n",
      "3\n",
      "4\n",
      "5\n",
      "6\n",
      "7\n",
      "8\n",
      "9\n"
     ]
    }
   ],
   "source": [
    "my_file_object = open(\"/tmp/five-liner.txt\", \"a\")\n",
    "for i in range(7,10):\n",
    "    output_string = str(i)\n",
    "    my_file_object.write(output_string + '\\n')\n",
    "my_file_object.close()\n",
    "\n",
    "input_file = open(\"/tmp/five-liner.txt\",\"r\")\n",
    "for line in input_file:\n",
    "    print(line.rstrip('\\n'))\n",
    "input_file.close()"
   ]
  },
  {
   "cell_type": "markdown",
   "id": "af8ea6b9-2408-4d65-8fa7-6f01a2ee1f8c",
   "metadata": {},
   "source": [
    "When you use the append mode, the `write()` calls will either add to the existing file or, if it doesn't already exist, it will be created and then written to as though we used the \"w\" mode.\n",
    "\n",
    "So far in this lesson we've acted like everything just works perfectly every time. In reality, it's not that neat. Filenames get typed in wrong, didks get full, and lines that are supposed to be numbers might contain text instead. Any of these problems is enough to bring our Python code to a grinding halt. Our next lesson is all about how to handle these problems and many, many more like them. We're going to learn about Exceptions!"
   ]
  },
  {
   "cell_type": "code",
   "execution_count": null,
   "id": "adb315ba-ef2c-447f-8231-7715f41aa721",
   "metadata": {},
   "outputs": [],
   "source": []
  }
 ],
 "metadata": {
  "kernelspec": {
   "display_name": "Python 3 (ipykernel)",
   "language": "python",
   "name": "python3"
  },
  "language_info": {
   "codemirror_mode": {
    "name": "ipython",
    "version": 3
   },
   "file_extension": ".py",
   "mimetype": "text/x-python",
   "name": "python",
   "nbconvert_exporter": "python",
   "pygments_lexer": "ipython3",
   "version": "3.12.2"
  }
 },
 "nbformat": 4,
 "nbformat_minor": 5
}
