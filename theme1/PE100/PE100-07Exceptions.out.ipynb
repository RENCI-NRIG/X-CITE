{
  "cells": [
    {
      "cell_type": "markdown",
      "metadata": {},
      "source": [
        "# PE100-06: Exceptions\n",
        "\n",
        "Most of the time, the code we write does exactly what we expect. Our\n",
        "numbers are added up, files are written and read, and users type their\n",
        "input in neat little boxes. Sometimes, though, something goes wrong.\n",
        "Maybe the disk storage space filled up, or we try to write to a file in\n",
        "a directory we don’t have access to (or maybe the directory doesn’t even\n",
        "exist). When things like this happen, the Python interpreter stops the\n",
        "normal flow of execution.\n",
        "\n",
        "Take a look at an exception:"
      ],
      "id": "827a22f1-24fc-4a43-8b0e-a7ff39c27f3e"
    },
    {
      "cell_type": "code",
      "execution_count": 1,
      "metadata": {},
      "outputs": [],
      "source": [
        "funny_number = 1/0"
      ],
      "id": "c915c73d-e750-45be-80ab-7910ff7644e9"
    },
    {
      "cell_type": "markdown",
      "metadata": {},
      "source": [
        "When you run the above, Python will notice the error, stop the code from\n",
        "running, and point out that a “ZeroDivisionError” has occurred. Since\n",
        "this kind of thing wasn’t supposed to happen (division by zero is\n",
        "considered a Bad Thing(tm) by most people) we can say the situation\n",
        "we’re faced with is an *exception*. And indeed, Python’s error handling\n",
        "mechanisms are based on what are called “exceptions”.\n",
        "\n",
        "When Python saw the “division by zero” error, it stopped running the\n",
        "rest of the code. It created one of these Exceptions, and then it\n",
        "*threw* it. Nothing in our one-line example tried to do anything about\n",
        "that exception, so Python just let the program crash and it printed the\n",
        "helpful error messages for us.\n",
        "\n",
        "Most of the time, we want our code to be able to handle exceptions when\n",
        "they arrise. We want something that can *catch* these exceptions when\n",
        "they’re *thrown*. For that, we need to use Python’s `try` statement.\n",
        "\n",
        "### Try, try again\n",
        "\n",
        "------------------------------------------------------------------------\n",
        "\n",
        "`try` is how we safely wrap up a bit of code so that if something in\n",
        "there fails and an exception is thrown, we have a way to catch it. For\n",
        "example:"
      ],
      "id": "ab8e6acd-51d8-4a8a-a693-a5d01ec2f857"
    },
    {
      "cell_type": "code",
      "execution_count": 5,
      "metadata": {},
      "outputs": [
        {
          "output_type": "stream",
          "name": "stdout",
          "text": [
            "Looks like someone tried to divide by zero.\n",
            "Either we were able to do the division or else we successfully handled an exception."
          ]
        }
      ],
      "source": [
        "try:\n",
        "    denominator = int(input('Please enter the denominator'))\n",
        "    funny_number = 1000/denominator\n",
        "    print('the result was', funny_number)\n",
        "except ZeroDivisionError:\n",
        "    print('Looks like someone tried to divide by zero.')\n",
        "print(\"Either we were able to do the division or else we successfully handled an exception.\")\n",
        "\n",
        "    "
      ],
      "id": "4e5b0e46-0452-49da-9bb3-b8c7dd12fef1"
    },
    {
      "cell_type": "markdown",
      "metadata": {},
      "source": [
        "Try running the code above a few times. In the input area, try some\n",
        "different numbers each time. Maybe 4, 0, and -2. Notice that division by\n",
        "non-zero numbers works as expected. Notice also that division by zero\n",
        "now lets us print out an error message instead of crashing. Once we’re\n",
        "done handling the exception, the program resumes with the first line\n",
        "after the `try`/`except` structure.\n",
        "\n",
        "In fact, there might be several `except` clauses if there are several\n",
        "kinds of exceptions that might be thrown. For example, let’s figure out\n",
        "how to share a pizza."
      ],
      "id": "2f8bd858-e536-4e79-b390-64417c9fe29e"
    },
    {
      "cell_type": "code",
      "execution_count": 8,
      "metadata": {},
      "outputs": [
        {
          "output_type": "stream",
          "name": "stdout",
          "text": [
            "Seriously? There are zero people sharing a pizza?\n",
            "Whatever happened up there, this is the first line of code after\n",
            "the try/except structure."
          ]
        }
      ],
      "source": [
        "try:\n",
        "    people = int(input('How many people:'))\n",
        "    slices = 8/people\n",
        "    print('Each gets', format(slices, '.2f'), 'pieces.')\n",
        "except ValueError:\n",
        "    print(\"The number of people must be a valid integer.\")\n",
        "except ZeroDivisionError:\n",
        "    print(\"Seriously? There are zero people sharing a pizza?\")\n",
        "\n",
        "print(\"Whatever happened up there, this is the first line of code after\")\n",
        "print(\"the try/except structure.\")"
      ],
      "id": "3a0d003a-65cb-4eca-b746-fad633e6600e"
    },
    {
      "cell_type": "markdown",
      "metadata": {},
      "source": [
        "As you try different numbers of people, you can see that division by\n",
        "zero is, of course, handled. You can also enter things that aren’t\n",
        "integers. In response to the prompt, you could enter “Fred”. That can’t\n",
        "be converted to an integer, so the `int()` function throws an error. The\n",
        "`except ValueError` clause catches that exception and prints out a\n",
        "message.\n",
        "\n",
        "Notice that after either exception handler executes its code, the flow\n",
        "of control goes down to the next line after the try/except structure. In\n",
        "this case, that line is one that prints out a message saying it’s the\n",
        "first line of code after the try and all of the excepts.\n",
        "\n",
        "Sometimes it’s hard to predict what exception might be thrown in a\n",
        "section of code. In that case, we can use just `except:` without any\n",
        "exception type. This serves as a “catch-all” handler."
      ],
      "id": "37b361ad-1a53-408a-8743-dd6b25e1caca"
    },
    {
      "cell_type": "code",
      "execution_count": 10,
      "metadata": {},
      "outputs": [
        {
          "output_type": "stream",
          "name": "stdout",
          "text": [
            "The catch-all handler has been awoken from its slumber.\n",
            "I don't know what went wrong, except I can tell you it\n",
            "wasn't a ValueError or a ZeroDivisionError, because\n",
            "those would have been caught by more specific handlers\n",
            "further up the list."
          ]
        }
      ],
      "source": [
        "try:\n",
        "    my_file = open('/tmp/ThisFileIsUnlikelyToExist', 'r')\n",
        "    people = int(input('How many people:'))\n",
        "    slices = 8/people\n",
        "    print('Each gets', format(slices, '.2f'), 'pieces.')\n",
        "except ValueError:\n",
        "    print(\"The number of people must be a valid integer.\")\n",
        "except ZeroDivisionError:\n",
        "    print(\"Seriously? There are zero people sharing a pizza?\")\n",
        "except:\n",
        "    print(\"The catch-all handler has been awoken from its slumber.\")\n",
        "    print(\"I don't know what went wrong, except I can tell you it\")\n",
        "    print(\"wasn't a ValueError or a ZeroDivisionError, because\")\n",
        "    print(\"those would have been caught by more specific handlers\")\n",
        "    print(\"further up the list.\")"
      ],
      "id": "ee744c96-1042-4cdc-ba72-0adb5e132198"
    },
    {
      "cell_type": "markdown",
      "metadata": {},
      "source": [
        "Indeed, if we’re lazy (or in a hurry) then we can get by with just a\n",
        "plain `except` clause and let the user figure it out later:"
      ],
      "id": "730d7821-acb2-4028-b2ae-ee21e1bc7d52"
    },
    {
      "cell_type": "code",
      "execution_count": 11,
      "metadata": {},
      "outputs": [
        {
          "output_type": "stream",
          "name": "stdout",
          "text": [
            "There was some sort of problem. I have no idea what."
          ]
        }
      ],
      "source": [
        "try:\n",
        "    my_file = open('/tmp/ThisFileIsUnlikelyToExist', 'r')\n",
        "    people = int(input('How many people:'))\n",
        "    slices = 8/people\n",
        "    print('Each gets', format(slices, '.2f'), 'pieces.')\n",
        "except:\n",
        "    print(\"There was some sort of problem. I have no idea what.\")\n"
      ],
      "id": "856a9b11-15d2-457f-9c20-23370a6fc950"
    },
    {
      "cell_type": "markdown",
      "metadata": {},
      "source": [
        "Using just a plain catch-all exception handler doesn’t give you much to\n",
        "work with, but it is slightly better than nothing. Your code won’t crash\n",
        "outright but you won’t much information about what went wrong. If only\n",
        "there was a way to examine that exception, to peer in and divine its\n",
        "secret nature…\n",
        "\n",
        "Yep. Here you go…"
      ],
      "id": "7621679b-9ca9-46c7-a9aa-80e2764ce7db"
    },
    {
      "cell_type": "code",
      "execution_count": 12,
      "metadata": {},
      "outputs": [
        {
          "output_type": "stream",
          "name": "stdout",
          "text": [
            "Error: [Errno 2] No such file or directory: '/tmp/ThisFileIsUnlikelyToExist'"
          ]
        }
      ],
      "source": [
        "try:\n",
        "    my_file = open('/tmp/ThisFileIsUnlikelyToExist', 'r')\n",
        "    people = int(input('How many people:'))\n",
        "    slices = 8/people\n",
        "    print('Each gets', format(slices, '.2f'), 'pieces.')\n",
        "except Exception as err:\n",
        "    print(\"Error:\", err)"
      ],
      "id": "067878e5-a2f6-4255-ac88-d9efd9380645"
    },
    {
      "cell_type": "markdown",
      "metadata": {},
      "source": [
        "What we’ve done is catch any kind of exception (`except Exception`) and\n",
        "assigned it to a variable named “err”. Then we can print out err. We\n",
        "could even convert err to a string and search for the interesting parts\n",
        "(like the filename of our missing file) and do some clever error\n",
        "handling based on what specifically went wrong.\n",
        "\n",
        "Python has a few more tricks when it comes to exception handling, and\n",
        "these can be handy for making your code more readable.\n",
        "\n",
        "### Fancy exception handling\n",
        "\n",
        "------------------------------------------------------------------------\n",
        "\n",
        "A try/except structure can have an `else` clause. This clause will\n",
        "**only** be executed if **no exception was thrown**."
      ],
      "id": "6da29e4c-3359-41ad-8663-60549829059c"
    },
    {
      "cell_type": "code",
      "execution_count": 16,
      "metadata": {},
      "outputs": [
        {
          "output_type": "stream",
          "name": "stdout",
          "text": [
            "Error: division by zero"
          ]
        }
      ],
      "source": [
        "try:\n",
        "    people = int(input('How many people:'))\n",
        "    slices = 8/people\n",
        "except Exception as err:\n",
        "    print(\"Error:\", err)\n",
        "else:\n",
        "    print('Each gets', format(slices, '.2f'), 'pieces.')"
      ],
      "id": "32778185-6eb8-41c5-ab0b-0885d9558172"
    },
    {
      "cell_type": "markdown",
      "metadata": {},
      "source": [
        "If the user enters something that can be converted to an integer and is\n",
        "non-zero, then the program continues, finishing up the `try` block and\n",
        "executing the `else` block. On the other hand, if an exception of any\n",
        "type is thrown then the “number of pieces” message will never be\n",
        "printed.\n",
        "\n",
        "There is also a `finally` clause. This one will run after everything\n",
        "else has happened, no matter what."
      ],
      "id": "3036ab21-d5f1-49b3-9db1-751afa1033e8"
    },
    {
      "cell_type": "code",
      "execution_count": 17,
      "metadata": {},
      "outputs": [
        {
          "output_type": "stream",
          "name": "stdout",
          "text": [
            "Error: division by zero"
          ]
        }
      ],
      "source": [
        "try:\n",
        "    output_file = open(\"/tmp/output\", \"w\")\n",
        "    people = int(input('How many people:'))\n",
        "    slices = 8/people\n",
        "except Exception as err:\n",
        "    print(\"Error:\", err)\n",
        "else:\n",
        "    print('Each gets', format(slices, '.2f'), 'pieces.')\n",
        "finally:\n",
        "    output_file.close()"
      ],
      "id": "44634636-1e28-4f78-8a42-49f379fcb2af"
    },
    {
      "cell_type": "markdown",
      "metadata": {},
      "source": [
        "In the `try` clause, a file opening was added. In the `finally` clause,\n",
        "the file **will** be closed whether an exception was thrown or not.\n",
        "\n",
        "How useful are `else` and `finally` clauses? It’s true they’re not\n",
        "absolutely necessary. Most programming languages don’t have anything\n",
        "like that. You can always juggle your code around and get by with just\n",
        "try and except. On the other hand, these two clauses can make your code\n",
        "easier to read and understand. Your precise *intention* can be\n",
        "discerned.\n",
        "\n",
        "We’ve seen how to write Python code that catches errors without\n",
        "crashing. This technique works in both regular Python programs and in\n",
        "Jupyter Notebooks. Next up, we’ll turn back to ways of storing\n",
        "information. This time we’ll look at **lists**."
      ],
      "id": "9bdcc93b-1fc2-413f-9913-2274bcfb7829"
    }
  ],
  "nbformat": 4,
  "nbformat_minor": 5,
  "metadata": {
    "kernelspec": {
      "name": "python3",
      "display_name": "Python 3 (ipykernel)",
      "language": "python"
    },
    "language_info": {
      "name": "python",
      "codemirror_mode": {
        "name": "ipython",
        "version": "3"
      },
      "file_extension": ".py",
      "mimetype": "text/x-python",
      "nbconvert_exporter": "python",
      "pygments_lexer": "ipython3",
      "version": "3.12.3"
    }
  }
}