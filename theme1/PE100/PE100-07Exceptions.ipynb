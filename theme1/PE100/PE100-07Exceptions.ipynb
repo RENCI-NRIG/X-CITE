{
 "cells": [
  {
   "cell_type": "markdown",
   "id": "31988a64-c577-4e53-91fe-cb125f180b53",
   "metadata": {},
   "source": [
    "# Exceptions\n",
    "\n",
    "### Because sometimes bad things happen\n",
    "\n",
    "-------------\n",
    "Most of the time, the code we write does exactly what we expect. Our numbers are added up, files are written and read, and users type their input in neat little boxes. Sometimes, though, something goes wrong. Maybe the disk storage space filled up, or we try to write to a file in a directory we don't have access to (or maybe the directory doesn't even exist). When things like this happen, the Python interpreter stops the normal flow of execution.\n",
    "\n",
    "Take a look at an exception:"
   ]
  },
  {
   "cell_type": "code",
   "execution_count": 1,
   "id": "c915c73d-e750-45be-80ab-7910ff7644e9",
   "metadata": {},
   "outputs": [
    {
     "ename": "ZeroDivisionError",
     "evalue": "division by zero",
     "output_type": "error",
     "traceback": [
      "\u001b[0;31m---------------------------------------------------------------------------\u001b[0m",
      "\u001b[0;31mZeroDivisionError\u001b[0m                         Traceback (most recent call last)",
      "Cell \u001b[0;32mIn[1], line 1\u001b[0m\n\u001b[0;32m----> 1\u001b[0m funny_number \u001b[38;5;241m=\u001b[39m \u001b[38;5;241;43m1\u001b[39;49m\u001b[38;5;241;43m/\u001b[39;49m\u001b[38;5;241;43m0\u001b[39;49m\n",
      "\u001b[0;31mZeroDivisionError\u001b[0m: division by zero"
     ]
    }
   ],
   "source": [
    "funny_number = 1/0"
   ]
  },
  {
   "cell_type": "markdown",
   "id": "233764f6-fbaf-484c-8e4e-a35429cd7eaf",
   "metadata": {},
   "source": [
    "When you run the above, Python will notice the error, stop the code from running, and point out that a \"ZeroDivisionError\" has occurred. Since this kind of thing wasn't supposed to happen (division by zero is considered a Bad Thing(tm) by most people) we can say the situation we're faced with is an *exception*. And indeed, Python's error handling mechanisms are based on what are called \"exceptions\".\n",
    "\n",
    "When Python saw the \"division by zero\" error, it stopped running the rest of the code. It created one of these Exceptions, and then it *threw* it. Nothing in our one-line example tried to do anything about that exception, so Python just let the program crash and it printed the helpful error messages for us.\n",
    "\n",
    "Most of the time, we want our code to be able to handle exceptions when they arrise. We want something that can *catch* these exceptions when they're *thrown*. For that, we need to use Python's `try` statement.\n",
    "\n",
    "### Try, try again\n",
    "\n",
    "--------------------\n",
    "\n",
    "`try` is how we safely wrap up a bit of code so that if something in there fails and an exception is thrown, we have a way to catch it. For example:"
   ]
  },
  {
   "cell_type": "code",
   "execution_count": 5,
   "id": "4e5b0e46-0452-49da-9bb3-b8c7dd12fef1",
   "metadata": {},
   "outputs": [
    {
     "name": "stdin",
     "output_type": "stream",
     "text": [
      "Please enter the denominator 0\n"
     ]
    },
    {
     "name": "stdout",
     "output_type": "stream",
     "text": [
      "Looks like someone tried to divide by zero.\n",
      "Either we were able to do the division or else we successfully handled an exception.\n"
     ]
    }
   ],
   "source": [
    "try:\n",
    "    denominator = int(input('Please enter the denominator'))\n",
    "    funny_number = 1000/denominator\n",
    "    print('the result was', funny_number)\n",
    "except ZeroDivisionError:\n",
    "    print('Looks like someone tried to divide by zero.')\n",
    "print(\"Either we were able to do the division or else we successfully handled an exception.\")\n",
    "\n",
    "    "
   ]
  },
  {
   "cell_type": "markdown",
   "id": "5c10c691-abf7-4322-a7ca-a4a88929ab12",
   "metadata": {},
   "source": [
    "Try running the code above a few times. In the input area, try some different numbers each time. Maybe 4, 0, and -2. Notice that division by non-zero numbers works as expected. Notice also that division by zero now lets us print out an error message instead of crashing. Once we're done handling the exception, the program resumes with the first line after the `try`/`except` structure.\n",
    "\n",
    "In fact, there might be several `except` clauses if there are several kinds of exceptions that might be thrown. For example, let's figure out how to share a pizza."
   ]
  },
  {
   "cell_type": "code",
   "execution_count": 8,
   "id": "3a0d003a-65cb-4eca-b746-fad633e6600e",
   "metadata": {},
   "outputs": [
    {
     "name": "stdin",
     "output_type": "stream",
     "text": [
      "How many people: 0\n"
     ]
    },
    {
     "name": "stdout",
     "output_type": "stream",
     "text": [
      "Seriously? There are zero people sharing a pizza?\n",
      "Whatever happened up there, this is the first line of code after\n",
      "the try/except structure.\n"
     ]
    }
   ],
   "source": [
    "try:\n",
    "    people = int(input('How many people:'))\n",
    "    slices = 8/people\n",
    "    print('Each gets', format(slices, '.2f'), 'pieces.')\n",
    "except ValueError:\n",
    "    print(\"The number of people must be a valid integer.\")\n",
    "except ZeroDivisionError:\n",
    "    print(\"Seriously? There are zero people sharing a pizza?\")\n",
    "\n",
    "print(\"Whatever happened up there, this is the first line of code after\")\n",
    "print(\"the try/except structure.\")"
   ]
  },
  {
   "cell_type": "markdown",
   "id": "bbb25c53-8ed2-4dfb-9b7c-ebf8baf49214",
   "metadata": {},
   "source": [
    "As you try different numbers of people, you can see that division by zero is, of course, handled. You can also enter things that aren't integers. In response to the prompt, you could enter \"Fred\". That can't be converted to an integer, so the `int()` function throws an error. The `except ValueError` clause catches that exception and prints out a message.\n",
    "\n",
    "Notice that after either exception handler executes its code, the flow of control goes down to the next line after the try/except structure. In this case, that line is one that prints out a message saying it's the first line of code after the try and all of the excepts.\n",
    "\n",
    "Sometimes it's hard to predict what exception might be thrown in a section of code. In that case, we can use just `except:` without any exception type. This serves as a \"catch-all\" handler."
   ]
  },
  {
   "cell_type": "code",
   "execution_count": 10,
   "id": "ee744c96-1042-4cdc-ba72-0adb5e132198",
   "metadata": {},
   "outputs": [
    {
     "name": "stdout",
     "output_type": "stream",
     "text": [
      "The catch-all handler has been awoken from its slumber.\n",
      "I don't know what went wrong, except I can tell you it\n",
      "wasn't a ValueError or a ZeroDivisionError, because\n",
      "those would have been caught by more specific handlers\n",
      "further up the list.\n"
     ]
    }
   ],
   "source": [
    "try:\n",
    "    my_file = open('/tmp/ThisFileIsUnlikelyToExist', 'r')\n",
    "    people = int(input('How many people:'))\n",
    "    slices = 8/people\n",
    "    print('Each gets', format(slices, '.2f'), 'pieces.')\n",
    "except ValueError:\n",
    "    print(\"The number of people must be a valid integer.\")\n",
    "except ZeroDivisionError:\n",
    "    print(\"Seriously? There are zero people sharing a pizza?\")\n",
    "except:\n",
    "    print(\"The catch-all handler has been awoken from its slumber.\")\n",
    "    print(\"I don't know what went wrong, except I can tell you it\")\n",
    "    print(\"wasn't a ValueError or a ZeroDivisionError, because\")\n",
    "    print(\"those would have been caught by more specific handlers\")\n",
    "    print(\"further up the list.\")"
   ]
  },
  {
   "cell_type": "markdown",
   "id": "4e507df2-edbd-49d0-9462-63193211fda1",
   "metadata": {},
   "source": [
    "Indeed, if we're lazy (or in a hurry) then we can get by with just a plain `except` clause and let the user figure it out later:"
   ]
  },
  {
   "cell_type": "code",
   "execution_count": 11,
   "id": "856a9b11-15d2-457f-9c20-23370a6fc950",
   "metadata": {},
   "outputs": [
    {
     "name": "stdout",
     "output_type": "stream",
     "text": [
      "There was some sort of problem. I have no idea what.\n"
     ]
    }
   ],
   "source": [
    "try:\n",
    "    my_file = open('/tmp/ThisFileIsUnlikelyToExist', 'r')\n",
    "    people = int(input('How many people:'))\n",
    "    slices = 8/people\n",
    "    print('Each gets', format(slices, '.2f'), 'pieces.')\n",
    "except:\n",
    "    print(\"There was some sort of problem. I have no idea what.\")\n"
   ]
  },
  {
   "cell_type": "markdown",
   "id": "f9037abb-4870-4841-bb21-14e6ba0bff12",
   "metadata": {},
   "source": [
    "Using just a plain catch-all exception handler doesn't give you much to work with, but it is slightly better than nothing. Your code won't crash outright but you won't much information about what went wrong. If only there was a way to examine that exception, to peer in and divine its secret nature...\n",
    "\n",
    "Yep. Here you go..."
   ]
  },
  {
   "cell_type": "code",
   "execution_count": 12,
   "id": "067878e5-a2f6-4255-ac88-d9efd9380645",
   "metadata": {},
   "outputs": [
    {
     "name": "stdout",
     "output_type": "stream",
     "text": [
      "Error: [Errno 2] No such file or directory: '/tmp/ThisFileIsUnlikelyToExist'\n"
     ]
    }
   ],
   "source": [
    "try:\n",
    "    my_file = open('/tmp/ThisFileIsUnlikelyToExist', 'r')\n",
    "    people = int(input('How many people:'))\n",
    "    slices = 8/people\n",
    "    print('Each gets', format(slices, '.2f'), 'pieces.')\n",
    "except Exception as err:\n",
    "    print(\"Error:\", err)"
   ]
  },
  {
   "cell_type": "markdown",
   "id": "f1d8b643-b9a3-4ece-9f51-fb5680f2da50",
   "metadata": {},
   "source": [
    "What we've done is catch any kind of exception (`except Exception`) and assigned it to a variable named \"err\". Then we can print out err. We could even convert err to a string and search for the interesting parts (like the filename of our missing file) and do some clever error handling based on what specifically went wrong.\n",
    "\n",
    "Python has a few more tricks when it comes to exception handling, and these can be handy for making your code more readable.\n",
    "\n",
    "### Fancy exception handling\n",
    "\n",
    "-----------------------\n",
    "\n",
    "A try/except structure can have an `else` clause. This clause will **only** be executed if **no exception was thrown**."
   ]
  },
  {
   "cell_type": "code",
   "execution_count": 16,
   "id": "32778185-6eb8-41c5-ab0b-0885d9558172",
   "metadata": {},
   "outputs": [
    {
     "name": "stdin",
     "output_type": "stream",
     "text": [
      "How many people: 0\n"
     ]
    },
    {
     "name": "stdout",
     "output_type": "stream",
     "text": [
      "Error: division by zero\n"
     ]
    }
   ],
   "source": [
    "try:\n",
    "    people = int(input('How many people:'))\n",
    "    slices = 8/people\n",
    "except Exception as err:\n",
    "    print(\"Error:\", err)\n",
    "else:\n",
    "    print('Each gets', format(slices, '.2f'), 'pieces.')"
   ]
  },
  {
   "cell_type": "markdown",
   "id": "8663ab17-f971-4e30-bcba-4e076d9a4e50",
   "metadata": {},
   "source": [
    "If the user enters something that can be converted to an integer and is non-zero, then the program continues, finishing up the `try` block and executing the `else` block. On the other hand, if an exception of any type is thrown then the \"number of pieces\" message will never be printed.\n",
    "\n",
    "There is also a `finally` clause. This one will run after everything else has happened, no matter what."
   ]
  },
  {
   "cell_type": "code",
   "execution_count": 17,
   "id": "44634636-1e28-4f78-8a42-49f379fcb2af",
   "metadata": {},
   "outputs": [
    {
     "name": "stdin",
     "output_type": "stream",
     "text": [
      "How many people: 0\n"
     ]
    },
    {
     "name": "stdout",
     "output_type": "stream",
     "text": [
      "Error: division by zero\n"
     ]
    }
   ],
   "source": [
    "try:\n",
    "    output_file = open(\"/tmp/output\", \"w\")\n",
    "    people = int(input('How many people:'))\n",
    "    slices = 8/people\n",
    "except Exception as err:\n",
    "    print(\"Error:\", err)\n",
    "else:\n",
    "    print('Each gets', format(slices, '.2f'), 'pieces.')\n",
    "finally:\n",
    "    output_file.close()"
   ]
  },
  {
   "cell_type": "markdown",
   "id": "c48ce421-59a2-4a68-b1a3-a82294e9a522",
   "metadata": {},
   "source": [
    "In the `try` clause, a file opening was added. In the `finally` clause, the file **will** be closed whether an exception was thrown or not.\n",
    "\n",
    "How useful are `else` and `finally` clauses? It's true they're not absolutely necessary. Most programming languages don't have anything like that. You can always juggle your code around and get by with just try and except. On the other hand, these two clauses can make your code easier to read and understand. Your precise *intention* can be discerned.\n",
    "\n",
    "We've seen how to write Python code that catches errors without crashing. This technique works in both regular Python programs and in Jupyter Notebooks. Next up, we'll turn back to ways of storing information. This time we'll look at **lists**."
   ]
  },
  {
   "cell_type": "code",
   "execution_count": null,
   "id": "c54177f1-dddc-4c96-9cf9-a8d660efdd9e",
   "metadata": {},
   "outputs": [],
   "source": []
  }
 ],
 "metadata": {
  "kernelspec": {
   "display_name": "Python 3 (ipykernel)",
   "language": "python",
   "name": "python3"
  },
  "language_info": {
   "codemirror_mode": {
    "name": "ipython",
    "version": 3
   },
   "file_extension": ".py",
   "mimetype": "text/x-python",
   "name": "python",
   "nbconvert_exporter": "python",
   "pygments_lexer": "ipython3",
   "version": "3.12.3"
  }
 },
 "nbformat": 4,
 "nbformat_minor": 5
}
