{
  "cells": [
    {
      "cell_type": "markdown",
      "metadata": {},
      "source": [
        "# PE100-02: Types, Variables, and Operators\n",
        "\n",
        "Niklaus Wirth was one of the founding giants of Computer Science. He\n",
        "wrote an introductory textbook whose title neatly summed up the act and\n",
        "art of programming: [Algorithms + Data Structures =\n",
        "Programs](https://en.wikipedia.org/wiki/Algorithms_%2B_Data_Structures_%3D_Programs).\n",
        "Data Structures are how information is stored in a computer, and\n",
        "algorithms are the instructions the computer applies to transform that\n",
        "data.\n",
        "\n",
        "To run the code in a cell, first click in the cell to select it. Then\n",
        "you can **either**: 1. Go to the “Run” menu and choose “Run Selected\n",
        "Cells”, or 1. Just press Shift + Enter.\n",
        "\n",
        "Let’s do this now: click just below where it says “print (403.616”),\n",
        "then Go to the “Run” menu and choose “Run Selected Cells”."
      ],
      "id": "8da69d9b-e65a-4f5d-b2df-46f8534d6e8d"
    },
    {
      "cell_type": "code",
      "execution_count": 1,
      "metadata": {},
      "outputs": [
        {
          "output_type": "stream",
          "name": "stdout",
          "text": [
            "403.616"
          ]
        }
      ],
      "source": [
        "print (403.616)"
      ],
      "id": "e16d42ed-aee8-409f-a5ed-2bd58a262890"
    },
    {
      "cell_type": "markdown",
      "metadata": {},
      "source": [
        "When it ran, it printed “403.616” on a line by itself. That was the\n",
        "output from the print.\n",
        "\n",
        "Click in the next cell (where it says “103.5”) to select that cell. Then\n",
        "hold down the Shift key while you press Enter."
      ],
      "id": "b903f526-e830-4c44-8d19-3dc25f48a29e"
    },
    {
      "cell_type": "code",
      "execution_count": null,
      "metadata": {},
      "outputs": [],
      "source": [
        "103.5"
      ],
      "id": "7d1fb3e9-c37d-4867-ac04-1b1a4f907cff"
    },
    {
      "cell_type": "markdown",
      "metadata": {},
      "source": [
        "In Python, and in Jupyter notebooks, if the last (or only!) line\n",
        "evaluates to some value then it will be printed out. That’s how “103.5”\n",
        "got printed - a literal number evaluates to that number when it’s run. A\n",
        "“literal number” means you look at it in your code and you *literally\n",
        "see a number*.\n",
        "\n",
        "Take a look at a *string literal*. Run each of the next two cells…"
      ],
      "id": "3955d679-053a-4649-9cc9-b47124adb652"
    },
    {
      "cell_type": "code",
      "execution_count": null,
      "metadata": {},
      "outputs": [],
      "source": [
        "print (\"the quick brown fox\")"
      ],
      "id": "ce6d68bb-7c98-4dcf-894e-e519dc7fb367"
    },
    {
      "cell_type": "code",
      "execution_count": null,
      "metadata": {},
      "outputs": [],
      "source": [
        "print ('jumped over the lazy dogs')"
      ],
      "id": "b907d685-1c2b-4dc4-a627-bf8c98f2b872"
    },
    {
      "cell_type": "markdown",
      "metadata": {},
      "source": [
        "At this point, we can use Python and Jupyter Lab as a scientific\n",
        "calculator. We have some literals of different types (int, real, and\n",
        "string, so far) and we can print them out with the `print()` *function*.\n",
        "If we don’t explicitly print anything at the end of a cell, Python will\n",
        "show us the last value that was computed.\n",
        "\n",
        "## Operators\n",
        "\n",
        "Like any programming language, Python lets you “do math” and lots of\n",
        "other things. Let’s take a look at some of the basic “operators”. In all\n",
        "of the code-containing cells through this course, try to predict what\n",
        "will happen first, and then run the code."
      ],
      "id": "8a793b4d-e54b-4d0f-9977-12724672e6db"
    },
    {
      "cell_type": "code",
      "execution_count": null,
      "metadata": {},
      "outputs": [],
      "source": [
        "2+2"
      ],
      "id": "99b2c0e4-14aa-466a-8a25-f22604271bb8"
    },
    {
      "cell_type": "code",
      "execution_count": null,
      "metadata": {},
      "outputs": [],
      "source": [
        "2*8"
      ],
      "id": "90383055-7b1b-47ca-8e6b-38fef949ee8f"
    },
    {
      "cell_type": "code",
      "execution_count": 4,
      "metadata": {},
      "outputs": [
        {
          "output_type": "display_data",
          "metadata": {},
          "data": {
            "text/plain": [
              "2"
            ]
          }
        }
      ],
      "source": [
        "6-4"
      ],
      "id": "5c7336fe-ebd6-4596-8dd3-7d85e24c729d"
    },
    {
      "cell_type": "code",
      "execution_count": null,
      "metadata": {},
      "outputs": [],
      "source": [
        "7*6"
      ],
      "id": "ffe5e208-cd79-46ba-9985-68f2b414aa5d"
    },
    {
      "cell_type": "code",
      "execution_count": null,
      "metadata": {},
      "outputs": [],
      "source": [
        "16/3"
      ],
      "id": "28754cd0-96b2-4e55-9cc7-b3eb978c2f93"
    },
    {
      "cell_type": "markdown",
      "metadata": {},
      "source": [
        "Besides the “classic” operators, there are some handy extras:"
      ],
      "id": "4e612831-3d62-47d7-856c-02e9bc461c5c"
    },
    {
      "cell_type": "code",
      "execution_count": null,
      "metadata": {},
      "outputs": [],
      "source": [
        "16//3"
      ],
      "id": "59753692-d36a-40d7-858b-04fcd629b4c1"
    },
    {
      "cell_type": "markdown",
      "metadata": {},
      "source": [
        "What happened there? The `//` operator does *integer division* - it\n",
        "returns the whole number part of the answer, just like when we learned\n",
        "division in elementary school."
      ],
      "id": "e9592c41-60ab-4d00-b7df-a1ca073e4c16"
    },
    {
      "cell_type": "code",
      "execution_count": null,
      "metadata": {},
      "outputs": [],
      "source": [
        "16%3"
      ],
      "id": "dac9ed9b-95d6-41b3-ab3b-0b1229d8ef15"
    },
    {
      "cell_type": "markdown",
      "metadata": {},
      "source": [
        "The `%` operator returns the remainder. This is also called “modulo”,\n",
        "and the above would be pronounced “sixteen mod 3”."
      ],
      "id": "424c3681-e5fa-47c0-a818-6fe71c62f868"
    },
    {
      "cell_type": "code",
      "execution_count": 3,
      "metadata": {},
      "outputs": [
        {
          "output_type": "display_data",
          "metadata": {},
          "data": {
            "text/plain": [
              "256"
            ]
          }
        }
      ],
      "source": [
        "2**8"
      ],
      "id": "1177f56b-554c-4c41-b85a-af6a2bc73a6a"
    },
    {
      "cell_type": "code",
      "execution_count": null,
      "metadata": {},
      "outputs": [],
      "source": [
        "4**2.718281828459045"
      ],
      "id": "0b991148-b2ad-4f90-866a-ff1c7a227007"
    },
    {
      "cell_type": "markdown",
      "metadata": {},
      "source": [
        "The `**` operator does exponentiation. The *arguments* can be integers\n",
        "or they can be real numbers. Naturally, operators can be combined into\n",
        "arbitrarily long *expressions*."
      ],
      "id": "98b54003-c8dd-49e1-b66f-ccab5f584348"
    },
    {
      "cell_type": "code",
      "execution_count": null,
      "metadata": {},
      "outputs": [],
      "source": [
        "3*4*5"
      ],
      "id": "f625e6fc-3ca6-47b7-ba35-76c420da2317"
    },
    {
      "cell_type": "code",
      "execution_count": null,
      "metadata": {},
      "outputs": [],
      "source": [
        "6+4*5"
      ],
      "id": "49d8fdb7-7d0c-43bb-9db8-b4dd3700fc5e"
    },
    {
      "cell_type": "markdown",
      "metadata": {},
      "source": [
        "Notice what happens when we use different operators. They are applied in\n",
        "the “My Dear Aunt Sally” order of precendence (multiplication, division,\n",
        "addition, subtraction).\n",
        "\n",
        "Order of operations: \\* Exponentiation: `**` \\* Multiplication,\n",
        "Division, Remainder: `* / // %` \\* Addition and Subtraction: `+ -`\n",
        "\n",
        "Within the same level, operators are applied left-to-right. 8-5+2 is\n",
        "evaluated as 3+2 and yields 5. The exception is exponentiation: 2 \\*\\* 3\n",
        "\\*\\* 4 is treated as 2 \\*\\* 81 and yeilds an annoyingly large number"
      ],
      "id": "623d8dfc-9ef6-4c11-b3c6-f90c1ff260bb"
    },
    {
      "cell_type": "code",
      "execution_count": null,
      "metadata": {},
      "outputs": [],
      "source": [
        "print (2**3**4)"
      ],
      "id": "3f0ff4ca-da1e-4097-873e-cb61bbd7a22f"
    },
    {
      "cell_type": "code",
      "execution_count": null,
      "metadata": {},
      "outputs": [],
      "source": [
        "print (2**81)"
      ],
      "id": "4aebc6f8-d3c5-422e-8d31-6664552ad4ce"
    },
    {
      "cell_type": "markdown",
      "metadata": {},
      "source": [
        "## Variables\n",
        "\n",
        "Unless we just use Jupyter as a big, expensive scientific calculator, we\n",
        "need a way to store data. *Variables* were invented for just that\n",
        "purpose, and virtually every language has them. Think of them as a place\n",
        "to store data of some kind, and that place has a name. They behave in\n",
        "Python just like you’d expect."
      ],
      "id": "495247bb-edf9-4990-afcd-f357276292e1"
    },
    {
      "cell_type": "code",
      "execution_count": 5,
      "metadata": {},
      "outputs": [
        {
          "output_type": "stream",
          "name": "stdout",
          "text": [
            "42"
          ]
        }
      ],
      "source": [
        "answer = 42\n",
        "print(answer)"
      ],
      "id": "6350b83c-2d85-4cc2-a54c-d8bf18c6d42c"
    },
    {
      "cell_type": "markdown",
      "metadata": {},
      "source": [
        "We just created a variable named `answer` and gave it the value 42.\n",
        "Variables are long-lived - later we’ll talk about just how long when we\n",
        "start writing our own functions, but until then our variables last as\n",
        "long as Python (or in our case, Jupyter) is running. Take a look -\n",
        "answer is still there."
      ],
      "id": "546a5ca7-5b70-4d37-8b3a-d2e0aa928175"
    },
    {
      "cell_type": "code",
      "execution_count": null,
      "metadata": {},
      "outputs": [],
      "source": [
        "print(answer)"
      ],
      "id": "56538fe2-b464-4fe1-a3e0-23ff1b555bda"
    },
    {
      "cell_type": "markdown",
      "metadata": {},
      "source": [
        "The value stored in a variable can change. It can even change type:"
      ],
      "id": "3a1a5be0-36d5-48dc-a820-4de950c7e2e8"
    },
    {
      "cell_type": "code",
      "execution_count": null,
      "metadata": {},
      "outputs": [],
      "source": [
        "weight = 60\n",
        "weight = 70\n",
        "print(weight)\n",
        "weight = \"not very much.\"\n",
        "print(weight)"
      ],
      "id": "58211df3-28e4-4829-b5ca-ab9174213bcd"
    },
    {
      "cell_type": "markdown",
      "metadata": {},
      "source": [
        "We can declare many variables, and we can “do things” with them just\n",
        "like we can when we type in numbers or strings."
      ],
      "id": "bf80c2e5-f45e-4934-8710-8d4ec6ea19ce"
    },
    {
      "cell_type": "code",
      "execution_count": null,
      "metadata": {},
      "outputs": [],
      "source": [
        "volts = 120\n",
        "amps = 4\n",
        "watts = volts * amps\n",
        "watts"
      ],
      "id": "74124737-2572-46e4-a696-a91f35cea69b"
    },
    {
      "cell_type": "markdown",
      "metadata": {},
      "source": [
        "In the last line, we just put `watts` because Jupyter automatically\n",
        "prints what the last line evaluates to.\n",
        "\n",
        "We can use variables to change the *order of operations*. Let’s see the\n",
        "average price of two people’s meals:"
      ],
      "id": "2674d84b-c67a-408c-80d0-b699013bf600"
    },
    {
      "cell_type": "code",
      "execution_count": null,
      "metadata": {},
      "outputs": [],
      "source": [
        "total = 22.41 + 19.45\n",
        "average = total / 2\n",
        "average"
      ],
      "id": "1600a8b8-7222-4bf7-8f63-4fce4b3bd56d"
    },
    {
      "cell_type": "markdown",
      "metadata": {},
      "source": [
        "That’s the right answer. If we hadn’t done that, we would have gotten"
      ],
      "id": "8949d483-13f6-4e23-9e63-e98e91125512"
    },
    {
      "cell_type": "code",
      "execution_count": null,
      "metadata": {},
      "outputs": [],
      "source": [
        "22.41 + 19.45 / 2"
      ],
      "id": "199989df-a1c7-41fd-8088-19107e5025c3"
    },
    {
      "cell_type": "markdown",
      "metadata": {},
      "source": [
        "which is utterly wrong. Beware of the order of operations… it is a\n",
        "frequent source of bugs in scientific programming.\n",
        "\n",
        "#### Variable Naming Rules\n",
        "\n",
        "For the most part, you can pick whatever name makes sense for a\n",
        "variable, but there *are* some rules. When choosing a name: 1. No\n",
        "keywords (`False` won’t work.) 1. No spaces (`sample thickness` is\n",
        "invalid) 1. The first character **must** be one of \\* a-z, or A-Z, or\n",
        "\\_. (the underscore character) \\* As a result, no numbers\n",
        "(3rd_sample_holder is invalid) 1. **After** the first character, you can\n",
        "then have numbers (sample_holder_3 is perfectly valid) 1. No other\n",
        "symbols are allowed (exploded&destroyed_spectrometers is invalid, and\n",
        "probably suggests it’s time to review lab safety procedures).\n",
        "\n",
        "**Note: Uppercase vs. Lowercase matters!** `Bevatron` is not the same\n",
        "variable as `bevatron`\n",
        "\n",
        "## Types\n",
        "\n",
        "We’ve hinted that variables have a “type”, and that the type can change\n",
        "if it needs to. The way it works is that variables keep track of what\n",
        "*type* they are (integer, real number, or string) and what their “value”\n",
        "is. We can even interrogate a variable as see what type it is:"
      ],
      "id": "f383d0a6-5987-46a9-aa7c-6ed60a2a72e2"
    },
    {
      "cell_type": "code",
      "execution_count": 2,
      "metadata": {},
      "outputs": [
        {
          "output_type": "stream",
          "name": "stdout",
          "text": [
            "reading:\n",
            "<class 'float'>\n",
            "<class 'str'>"
          ]
        }
      ],
      "source": [
        "reading=7.2\n",
        "print(\"reading:\")\n",
        "print(type(reading))\n",
        "reading=\"rainbow\" # changes type of reading to string\n",
        "print(type(reading))"
      ],
      "id": "fc59a93c-4ce8-4f62-a804-34d8ea496926"
    },
    {
      "cell_type": "code",
      "execution_count": null,
      "metadata": {},
      "outputs": [],
      "source": [
        "my_number = 42\n",
        "my_string = \"was that really the right answer?\"\n",
        "\n",
        "first_type = type(my_number)\n",
        "second_type = type(my_string)\n",
        "print(first_type, second_type)"
      ],
      "id": "2fc7b814-7512-4fb5-b81b-b103599d0cba"
    },
    {
      "cell_type": "markdown",
      "metadata": {},
      "source": [
        "The type of a variable matters. Let’s create a variable with an integer\n",
        "in it and another with a string. Then let’s do some math:"
      ],
      "id": "9fb35f47-b2b1-44f9-b95f-c122164bd222"
    },
    {
      "cell_type": "code",
      "execution_count": null,
      "metadata": {},
      "outputs": [],
      "source": [
        "first_thing = 6\n",
        "second_thing = \"7\"\n",
        "\n",
        "print (first_thing + second_thing)"
      ],
      "id": "bdf177e9-7e0c-4772-a8ef-f93869a1f5bf"
    },
    {
      "cell_type": "markdown",
      "metadata": {},
      "source": [
        "How do we handle situations like that, where `second_thing` held a\n",
        "string representing a seven, but because it was a string variable it\n",
        "couldn’t be used as an integer? Python provides a few functions to\n",
        "convert values from one type to another. The `str()` function takes a\n",
        "variable and converts it to a string. The `float()` and `int()`\n",
        "functions convert their arguments to floating-point and to integer\n",
        "numbers, respectively."
      ],
      "id": "55d0b7d9-9818-48e8-b336-e5f0b2671c82"
    },
    {
      "cell_type": "code",
      "execution_count": 9,
      "metadata": {},
      "outputs": [
        {
          "output_type": "stream",
          "name": "stdout",
          "text": [
            "13\n",
            "13.0"
          ]
        }
      ],
      "source": [
        "print(first_thing + int(second_thing))\n",
        "print(first_thing + float(second_thing))"
      ],
      "id": "8b0fa20d-3cf4-4e9d-9c66-28619c8598b6"
    },
    {
      "cell_type": "markdown",
      "metadata": {},
      "source": [
        "Being able to convert values from one type to another is often called\n",
        "*type coercion*. These conversions are extremely important for situation\n",
        "where you need to get input from a user, even more so if you need to do\n",
        "it repetitively.\n",
        "\n",
        "## Continuation Character\n",
        "\n",
        "Sometimes the expressions we need to evaluate can be very long. It would\n",
        "be nice if we could split up a long expression and spread it out over a\n",
        "few lines. As a small example, we’ll take a look at 4+2+3. Many\n",
        "programming languages will let us split an expression anywhere we want,\n",
        "such as:"
      ],
      "id": "c86b695d-1dfe-4b8a-b5c3-ec59fa25609f"
    },
    {
      "cell_type": "code",
      "execution_count": null,
      "metadata": {},
      "outputs": [],
      "source": [
        "4+2\n",
        "+3"
      ],
      "id": "c4e88656-191d-479f-9dcf-d5c8020a1cce"
    },
    {
      "cell_type": "markdown",
      "metadata": {},
      "source": [
        "…but that result isn’t right in Python. The last line, `+3`, was\n",
        "evaluated and printed as the result of running that cell. In Python,it\n",
        "turns out, if we need to continue an expression on the next line we must\n",
        "end the current line with a backslash `\\` and press enter. It has to be\n",
        "a backslash, by the way, and **cannot** be the forward slash like we use\n",
        "for division."
      ],
      "id": "f003647e-4e58-4883-a775-4cb7b167be1e"
    },
    {
      "cell_type": "code",
      "execution_count": 10,
      "metadata": {},
      "outputs": [
        {
          "output_type": "display_data",
          "metadata": {},
          "data": {
            "text/plain": [
              "9"
            ]
          }
        }
      ],
      "source": [
        "4+2\\\n",
        "+3"
      ],
      "id": "a3f81522-1f91-4fc5-92d8-02d8d88d208f"
    },
    {
      "cell_type": "markdown",
      "metadata": {},
      "source": [
        "Time for an exercise! Try to predict what will be printed when you run\n",
        "the next cell. Then, run the next cell and see how you did. If you miss\n",
        "one, make sure you figure out what happened before you go. I know, we’re\n",
        "professionals, I shouldn’t have to say that…"
      ],
      "id": "d2ba2c97-a0a1-407a-89aa-274fb6641c61"
    },
    {
      "cell_type": "code",
      "execution_count": null,
      "metadata": {},
      "outputs": [],
      "source": [
        "print(1 + 3 + 5 * 4 / 2)\n",
        "print(7 % 2 * 10)\n",
        "big_num = 1 + 2 + 3 + 4 \\\n",
        "     + 5 + 6\n",
        "print(big_num)"
      ],
      "id": "a7509f39-e1b5-4581-9294-6837652e2448"
    },
    {
      "cell_type": "markdown",
      "metadata": {},
      "source": [
        "Now write an expression to average three numbers (12, 14, and 66),\n",
        "divide the result by three, and square it. You can use the code cell\n",
        "right below here:\n",
        "\n",
        "## The String Type\n",
        "\n",
        "At the beginning of this notebook, we casually mentioned “strings”\n",
        "without saying what they are. They’re just “sequences of characters”.\n",
        "And these can be any kind of characters - the English alphabet, the\n",
        "Hungarian alphabet, hiragana… it doesn’t matter."
      ],
      "id": "7a8dd171-a2ba-4ac3-9413-532e1df210a7"
    },
    {
      "cell_type": "code",
      "execution_count": null,
      "metadata": {},
      "outputs": [],
      "source": [
        "print(\"I'll see you mañana, assuming I don't get irradiated to death.\")"
      ],
      "id": "2db2513c-9836-444f-bb61-0a8e65d12eac"
    },
    {
      "cell_type": "markdown",
      "metadata": {},
      "source": [
        "Some, probably most, languages contain strings inside “double quotes”,\n",
        "`\"`, which is shift+apostrophe on US English keyboards. Other languages\n",
        "(SQL and Pascal are the only two I can think of) use single quotes: `'`.\n",
        "Python lets you use either one. You *do* have to be consistent in each\n",
        "string, but it can vary from one string to the next:"
      ],
      "id": "30f75a2f-b51a-4705-9db1-960081524dd2"
    },
    {
      "cell_type": "code",
      "execution_count": null,
      "metadata": {},
      "outputs": [],
      "source": [
        "print(\"double quotes work\")\n",
        "print('single quotes also work')\n",
        "print('but do not try to mix the two in one string!\""
      ],
      "id": "614bce71-4826-4646-80b5-c8681aec3581"
    },
    {
      "cell_type": "markdown",
      "metadata": {},
      "source": [
        "Because we can use either type of quotation mark, we can exploit that to\n",
        "let us put quotation marks into strings:"
      ],
      "id": "774ba1b5-07d6-4ba5-ac7c-564335034431"
    },
    {
      "cell_type": "code",
      "execution_count": 3,
      "metadata": {},
      "outputs": [
        {
          "output_type": "stream",
          "name": "stdout",
          "text": [
            "Don't put explosive mixtures in the spectrometer, please.\n",
            "Of course he was warned... \"Do not turn the spectrometer into a bomb, please\" but I am sure he ignored that."
          ]
        }
      ],
      "source": [
        "print(\"Don't put explosive mixtures in the spectrometer, please.\")\n",
        "print('Of course he was warned... \"Do not turn the spectrometer into a bomb, please\" but I am sure he ignored that.')"
      ],
      "id": "d7be27f7-1a62-4e9f-a488-99fd10f3e424"
    },
    {
      "cell_type": "markdown",
      "metadata": {},
      "source": [
        "That lets us embed whichever kind of quotation mark we need into a\n",
        "string.\n",
        "\n",
        "But what if we need to embed **both** kinds of quotes into one string?\n",
        "We’re in luck: we can use the backslash character again to “quote” our\n",
        "quotation mark. In fact, we can quote any character with it if we need\n",
        "to."
      ],
      "id": "a603be15-328f-4215-b484-61694b43c528"
    },
    {
      "cell_type": "code",
      "execution_count": 2,
      "metadata": {},
      "outputs": [
        {
          "output_type": "stream",
          "name": "stdout",
          "text": [
            "We told him \"Hexanitrohexaazaisowurtzitane and spectrometers don't mix, buddy\", but we're pretty sure he ignored us."
          ]
        }
      ],
      "source": [
        "print(\"We told him \\\"Hexanitrohexaazaisowurtzitane and spectrometers don't mix, buddy\\\", but we're pretty sure he ignored us.\")"
      ],
      "id": "2cd4377a-518b-4df0-87f2-bb4931185921"
    },
    {
      "cell_type": "markdown",
      "metadata": {},
      "source": [
        "That sentence contains three things, inside the string itself: 1. Double\n",
        "Quotes to surround a direct quotation 2. A single quote, also called an\n",
        "apostrophe depending on how it’s used, to make a contraction, and 3. A\n",
        "totally awesome/terrifying molecule you have to google to believe.\n",
        "\n",
        "OK, I’ll save you the trouble. [Prepare to lose most of a day’s\n",
        "productivity](https://www.science.org/content/blog-post/things-i-won-t-work-hexanitrohexaazaisowurtzitane).\n",
        "You’re welcome.\n",
        "\n",
        "(Derek has written gobs of articles on fun substances. [Here are some\n",
        "more.](https://www.science.org/topic/blog-category/things-i-wont-work-with)\n",
        ")\n",
        "\n",
        "There is one last kind of string literal. Sometimes you need a string\n",
        "that is several lines long. The “triple quote” is a way to do it. You\n",
        "have to use three double-quotes in a row:"
      ],
      "id": "5b5720d2-4d93-47c5-86cc-be3c345b58c4"
    },
    {
      "cell_type": "code",
      "execution_count": null,
      "metadata": {},
      "outputs": [],
      "source": [
        "gigantic = \"\"\"This is the first line,\n",
        "This is the second,\n",
        "and this is the third and final line of my string.\"\"\"\n",
        "print(gigantic)"
      ],
      "id": "5a967aae-73d7-48b4-b6b9-91e9c8863b59"
    },
    {
      "cell_type": "markdown",
      "metadata": {},
      "source": [
        "Triple quotes are also an easier way to embed mixed kinds of quotation\n",
        "marks into strings:"
      ],
      "id": "c31d9053-2ce5-43d0-b09c-2d79640e8d2b"
    },
    {
      "cell_type": "code",
      "execution_count": 5,
      "metadata": {},
      "outputs": [
        {
          "output_type": "stream",
          "name": "stdout",
          "text": [
            "I know people who say \"The Avengers\" isn’t a good movie, but I don’t agree."
          ]
        }
      ],
      "source": [
        "movie_opinion = \"\"\"I know people who say \"The Avengers\" isn’t a good movie, but I don’t agree.\"\"\"\n",
        "print(movie_opinion)"
      ],
      "id": "2652937d-4643-4c76-9f70-a364b9dc7cf2"
    },
    {
      "cell_type": "markdown",
      "metadata": {},
      "source": [
        "## Coming Up Next\n",
        "\n",
        "We just looked at enough of Python and Jupyter notebooks to use it as a\n",
        "basic calculator, but so far we can’t do any real, general-purpose\n",
        "programming with it. The “flow of control” sob far as been a straight\n",
        "line from top to bottom and we can’t change what we’re doing in response\n",
        "to different inputs. That’s about to change. In the next section we’ll\n",
        "look at the `if` statement and how to use it."
      ],
      "id": "5797ec45-a5ab-480a-afa7-1b1e8035973f"
    }
  ],
  "nbformat": 4,
  "nbformat_minor": 5,
  "metadata": {
    "kernelspec": {
      "name": "python3",
      "display_name": "Python 3 (ipykernel)",
      "language": "python"
    },
    "language_info": {
      "name": "python",
      "codemirror_mode": {
        "name": "ipython",
        "version": "3"
      },
      "file_extension": ".py",
      "mimetype": "text/x-python",
      "nbconvert_exporter": "python",
      "pygments_lexer": "ipython3",
      "version": "3.12.3"
    }
  }
}