{
  "cells": [
    {
      "cell_type": "markdown",
      "metadata": {},
      "source": [
        "# PE100-10: Dictionaries\n",
        "\n",
        "Dictionaries are, conceptually, a special type of list. A list has an\n",
        "order to it. Elements are placed into a list in a particular order.\n",
        "Removing and inserting items changes the order in a well understood way.\n",
        "Because of this, yoiu can always access a list by looking into it at a\n",
        "specific integer index. None of this is possible with a dictionary.\n",
        "Instead, dictionaries have a better trick: all access is by searching.\n",
        "\n",
        "Python’s dictionaries store each of their elements as a pair of things,\n",
        "a *key* and a *value*. The key is the thing that can be searched for,\n",
        "and the value is the information that will be retured when that element\n",
        "is read.\n",
        "\n",
        "An example will help:"
      ],
      "id": "90c66f6d-cc8e-4bf9-91a0-7c0ea952ee30"
    },
    {
      "cell_type": "code",
      "execution_count": 4,
      "metadata": {},
      "outputs": [
        {
          "output_type": "stream",
          "name": "stdout",
          "text": [
            "Ice Cream"
          ]
        }
      ],
      "source": [
        "favorite_food = { \"Alice\" : \"Apple Pie\", \\\n",
        "                 \"Bob\" : \"Ice Cream\",\\\n",
        "                 \"Charlie\" : \"Pizza\" }\n",
        "print(favorite_food[\"Bob\"])\n",
        "                 "
      ],
      "id": "5134aefa-7b05-49bc-8693-9749b9f0a3ae"
    },
    {
      "cell_type": "markdown",
      "metadata": {},
      "source": [
        "Let’s take that apart and see how it works.\n",
        "\n",
        "1.  We have the creation of the dictionary itself. We create a\n",
        "    dictionary literal much like we do a list, only here we use curly\n",
        "    brackets instead of square brackets.\n",
        "\n",
        "2.  We have key:value pairs. The keys we’re using are all strings\n",
        "    (people’s names, in fact) but they could just as well be numbers.\n",
        "    The values are also strings, but they can be anything we want. These\n",
        "    keys and values are separated by colons (`:`).\n",
        "\n",
        "3.  Between each of the key:value pairs there is a comma.\n",
        "\n",
        "4.  We see how to look up information in a dictionary. It looks like\n",
        "    indexing into a list to extract a particular element, except in this\n",
        "    case we don’t give a positional index number but rather we give it a\n",
        "    key to look up.\n",
        "\n",
        "When you think about it, looking for Bob’s favorite food by using\n",
        "`favorite_food[\"Bob\"]` is a pretty powerful tool. Rather than having to\n",
        "specify *where* to get something from, we can just specify *what* to\n",
        "get. This is why you’ll occasionally see dictionaries refered to as\n",
        "“Content Addressable Memory”. It’s nice to just get the data we want\n",
        "without having to step through every element of a list looking for it.\n",
        "It’s also faster: Python’s dictionaries use clever indexing so they can\n",
        "straight to what you’re looking for.\n",
        "\n",
        "Dictionaries get their name, by the way, from real-world physical\n",
        "dictionaries. Suppose you have Webster’s 9th New Collegiate Dictionary\n",
        "in front of you. There are a lot of keys in there - each one of those\n",
        "words in alphabetical order is a key. There’s not really any way to look\n",
        "up something by page number alone - there’s no algorithm to tell me what\n",
        "page the definition for brisance is on. There’s no way to look up a word\n",
        "by knowing which word number it is. If brisance is the 8000th word in\n",
        "the dictionary, that knowledge does me no good. On the other hand, there\n",
        "is an algorithm for finding that definition by looking up the key word.\n",
        "I go to the “B”s, look for the “Br” part, and so forth until I find\n",
        "brisance. I can only look up things by key, not by position.\n",
        "\n",
        "One of the great things about Python is its flexibility with data types.\n",
        "Lists can contain any data type. You can have lists of tuples of lists\n",
        "of strings if you want to. Dictionaries are similarly versatile. You can\n",
        "have dictionaries that contain, say, lists:"
      ],
      "id": "00a8e5e8-d9d2-4cec-b9ee-213d21ace2bd"
    },
    {
      "cell_type": "code",
      "execution_count": 6,
      "metadata": {},
      "outputs": [
        {
          "output_type": "stream",
          "name": "stdout",
          "text": [
            "['Jane', 'John', 'Alice', 'Bob']"
          ]
        }
      ],
      "source": [
        "family_info = { 'ages' : [6,8,36,38],\\\n",
        "               'names' : ['Jane', 'John', 'Alice', 'Bob'] }\n",
        "\n",
        "print(family_info[\"names\"])"
      ],
      "id": "ceb824c8-474b-4ab3-bff2-eb5585b36419"
    },
    {
      "cell_type": "markdown",
      "metadata": {},
      "source": [
        "You can even have dictionaries of dictionaries. They’re quite useful, in\n",
        "fact."
      ],
      "id": "695efbe3-42ae-4b57-afd0-2eac0e8e228f"
    },
    {
      "cell_type": "code",
      "execution_count": 9,
      "metadata": {},
      "outputs": [
        {
          "output_type": "stream",
          "name": "stdout",
          "text": [
            "99.5"
          ]
        }
      ],
      "source": [
        "fast_food = { \"McAwful\" : { \"address\" : \"1012 Western Blvd\",\\\n",
        "                            \"sanitation\" : 92} ,\\\n",
        "            \"Davids\" : { \"address\" : \"201 S Fayetteville St\",\\\n",
        "                         \"sanitation\" : 99.5 } }\n",
        "\n",
        "print (fast_food[\"Davids\"][\"sanitation\"])"
      ],
      "id": "01ffb362-a7b8-484c-916b-bb86c9754895"
    },
    {
      "cell_type": "markdown",
      "metadata": {},
      "source": [
        "Dictionaries give us the beginnings of a database. It’s not as powerful\n",
        "as a “real” database, but it’s good enough for a lot of things. Of\n",
        "course, a dictionary is like any iother variable: it only lasts as long\n",
        "as your program is running. You would have to combine a dictionary with\n",
        "some file access to have any permanent storage.\n",
        "\n",
        "What happens if we try to look up a key:value pair, and the key isn’t in\n",
        "the dictionary? Let’s see!"
      ],
      "id": "e0cc7b50-8973-48a4-bff6-39fe3bec55a7"
    },
    {
      "cell_type": "code",
      "execution_count": 10,
      "metadata": {},
      "outputs": [],
      "source": [
        "print(fast_food[\"Ruth's Chris\"])"
      ],
      "id": "5b2eaec2-c2ae-45e5-bb27-674992bba08e"
    },
    {
      "cell_type": "markdown",
      "metadata": {},
      "source": [
        "Yeah, we expected that by now, didn’t we? It threw a “KeyError”\n",
        "exception. What should we do about this? We could always wrap the access\n",
        "up in a try/except structure to catch the KeyError, but this is such a\n",
        "common problem that Python gives us a friendlier way to do it: the `in`\n",
        "operator.\n",
        "\n",
        "Remember using `in` to see if something was in a string? This is\n",
        "philosophically similar. Let’s try it:"
      ],
      "id": "5982d633-45ba-4d65-8b72-219270af7c45"
    },
    {
      "cell_type": "code",
      "execution_count": 11,
      "metadata": {},
      "outputs": [
        {
          "output_type": "stream",
          "name": "stdout",
          "text": [
            "that's a relief, actually."
          ]
        }
      ],
      "source": [
        "if \"Ruth's Chris\" in fast_food:\n",
        "    print(\"Surprised to see such an expensive place here!\")\n",
        "else:\n",
        "    print(\"that's a relief, actually.\")"
      ],
      "id": "d7d1009c-1a3b-4ec5-9f82-a4c4f8892bbd"
    },
    {
      "cell_type": "markdown",
      "metadata": {},
      "source": [
        "Adding to a dictionary is even easier than adding to a list. All you do\n",
        "is just act like the key was already there and assign it a value:"
      ],
      "id": "1a2c235f-dc68-415c-bcaf-f18056e32008"
    },
    {
      "cell_type": "code",
      "execution_count": 15,
      "metadata": {},
      "outputs": [
        {
          "output_type": "stream",
          "name": "stdout",
          "text": [
            "{'Alice': 'Apple Pie', 'Bob': 'Ice Cream', 'Charlie': 'Pizza', 'Dan': 'Fish'}\n",
            "\n",
            "Now we have:\n",
            "{'Alice': 'Apple Pie', 'Bob': 'Ice Cream', 'Charlie': 'Pizza', 'Dan': 'Fish'}"
          ]
        }
      ],
      "source": [
        "print(favorite_food)\n",
        "print()\n",
        "favorite_food[\"Dan\"] = 'Fish'\n",
        "print(\"Now we have:\")\n",
        "print(favorite_food)"
      ],
      "id": "100a035a-0cb0-422c-8417-7a25fa6f7b93"
    },
    {
      "cell_type": "markdown",
      "metadata": {},
      "source": [
        "What happens if we try to overwrite some data?"
      ],
      "id": "49eee94d-4ebb-4634-9960-3cb51a6acae0"
    },
    {
      "cell_type": "code",
      "execution_count": 16,
      "metadata": {},
      "outputs": [
        {
          "output_type": "stream",
          "name": "stdout",
          "text": [
            "{'Alice': 'Apple Pie', 'Bob': 'Ice Cream', 'Charlie': 'Soup', 'Dan': 'Fish'}"
          ]
        }
      ],
      "source": [
        "favorite_food[\"Charlie\"] = \"Soup\"\n",
        "print(favorite_food)"
      ],
      "id": "b4165600-9863-4dc7-b599-af80fb5dd385"
    },
    {
      "cell_type": "markdown",
      "metadata": {},
      "source": [
        "We can change what is stored in the “value” part of the key:value pair\n",
        "any time we want. We can’t change the key, though. At least, we can’t\n",
        "change it directly. We can always delete the existing key:value pair and\n",
        "replace it with a new one. Let’s say Charlie really wants to be known as\n",
        "Chuck. He has his reasons. So let’s fix the favorite_food dictionary:"
      ],
      "id": "b47bf54f-6ac3-430a-a967-3252f18144d4"
    },
    {
      "cell_type": "code",
      "execution_count": 17,
      "metadata": {},
      "outputs": [],
      "source": [
        "munchie = favorite_food[\"Charlie\"]\n",
        "del favorite_food[\"Charlie\"]\n",
        "favorite_food[\"Chuck\"]=munchie\n",
        "print(favorite_food)"
      ],
      "id": "19c2d54d-987b-43eb-bea4-895d2f098959"
    },
    {
      "cell_type": "markdown",
      "metadata": {},
      "source": [
        "What we did to accomplish that was 1. Look up Charlie’s favorite food\n",
        "and save that value. 2. use the built-in `del` operator to remove\n",
        "Charlie as a key and whatever value was associated with him. 3. Insert a\n",
        "new key:value pair whose key is “Chuck” and whose value is whatever we\n",
        "looked up before.\n",
        "\n",
        "Since every other Python data type that holds more than one thing can\n",
        "work with the built-in `len()` function, it stands to reason that\n",
        "dictionaries can, too. And as you would imagine, len() returns the\n",
        "number of entries in the dictionary."
      ],
      "id": "7ed3554b-67c0-4279-8583-d453dfd5812f"
    },
    {
      "cell_type": "code",
      "execution_count": 19,
      "metadata": {},
      "outputs": [
        {
          "output_type": "display_data",
          "metadata": {},
          "data": {
            "text/plain": [
              "4"
            ]
          }
        }
      ],
      "source": [
        "len(favorite_food)"
      ],
      "id": "c6fc890c-38d4-4e3c-b0bf-070a35483076"
    },
    {
      "cell_type": "markdown",
      "metadata": {},
      "source": [
        "### Looping and Iteration\n",
        "\n",
        "------------------------------------------------------------------------\n",
        "\n",
        "A dictionary is another type of *iterable*. This means we can write\n",
        "loops that traverse the entire dictionary, start to finish, and do\n",
        "something useful."
      ],
      "id": "622c6fed-9ccf-4684-82c9-377506c15d78"
    },
    {
      "cell_type": "code",
      "execution_count": 20,
      "metadata": {},
      "outputs": [
        {
          "output_type": "stream",
          "name": "stdout",
          "text": [
            "Alice\n",
            "Bob\n",
            "Dan\n",
            "Chuck"
          ]
        }
      ],
      "source": [
        "for key in favorite_food:\n",
        "    print(key)"
      ],
      "id": "11ba6289-7007-4c0d-858f-f086d1aaa5b7"
    },
    {
      "cell_type": "markdown",
      "metadata": {},
      "source": [
        "Notice that a traversal of a dictionary retrieves the keys. If you want\n",
        "to retrieve the values, just use the keys to look up the values.\n",
        "\n",
        "for key in favorite_food: print(favorite_food\\[key\\])"
      ],
      "id": "b4625627-ed7d-47e1-a832-ab9be8e8f653"
    }
  ],
  "nbformat": 4,
  "nbformat_minor": 5,
  "metadata": {
    "kernelspec": {
      "name": "python3",
      "display_name": "Python 3 (ipykernel)",
      "language": "python"
    },
    "language_info": {
      "name": "python",
      "codemirror_mode": {
        "name": "ipython",
        "version": "3"
      },
      "file_extension": ".py",
      "mimetype": "text/x-python",
      "nbconvert_exporter": "python",
      "pygments_lexer": "ipython3",
      "version": "3.12.3"
    }
  }
}