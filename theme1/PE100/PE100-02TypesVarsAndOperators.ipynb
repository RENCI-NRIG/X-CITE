{
 "cells": [
  {
   "cell_type": "markdown",
   "id": "09f4eac4-93a1-4b12-8524-fe397f7aec67",
   "metadata": {},
   "source": [
    "Niklaus Wirth was one of the founding giants of Computer Science. He wrote an introductory textbook whose title neatly summed up the act and art of programming: [Algorithms + Data Structures = Programs](https://en.wikipedia.org/wiki/Algorithms_%2B_Data_Structures_%3D_Programs). Data Structures are how information is stored in a computer, and algorithms are the instructions the computer applies to transform that data.\n",
    "\n",
    "Let's begin our exploration of Python by looking at a few basic kinds of data. Watch the video in the next cell (right below this one, even though it might not be obvious it's a second cell) and it will guide you through some experiments."
   ]
  },
  {
   "cell_type": "markdown",
   "id": "a122c50c-a867-4e93-9cca-6019c73fedbb",
   "metadata": {},
   "source": [
    "*Video for the next four code cells (ints, reals, strings, default action is printing) goes here*"
   ]
  },
  {
   "cell_type": "markdown",
   "id": "2f37dae2-3f6f-4331-8394-b2d141123de3",
   "metadata": {},
   "source": [
    "To run the code in a cell, first click in the cell to select it. Then you can either\n",
    "1. Go to the \"Run\" menu and choose \"Run Selected Cells\", or\n",
    "1. Just press Shift + Enter."
   ]
  },
  {
   "cell_type": "code",
   "execution_count": 1,
   "id": "e16d42ed-aee8-409f-a5ed-2bd58a262890",
   "metadata": {},
   "outputs": [
    {
     "name": "stdout",
     "output_type": "stream",
     "text": [
      "403.616\n"
     ]
    }
   ],
   "source": [
    "print (403.616)"
   ]
  },
  {
   "cell_type": "code",
   "execution_count": null,
   "id": "7d1fb3e9-c37d-4867-ac04-1b1a4f907cff",
   "metadata": {},
   "outputs": [],
   "source": [
    "403.616"
   ]
  },
  {
   "cell_type": "code",
   "execution_count": null,
   "id": "ce6d68bb-7c98-4dcf-894e-e519dc7fb367",
   "metadata": {},
   "outputs": [],
   "source": [
    "print (\"the quick brown fox\")"
   ]
  },
  {
   "cell_type": "code",
   "execution_count": null,
   "id": "b907d685-1c2b-4dc4-a627-bf8c98f2b872",
   "metadata": {},
   "outputs": [],
   "source": [
    "print ('jumped over the lazy dogs')"
   ]
  },
  {
   "cell_type": "markdown",
   "id": "b77ca3d5-4a91-4c88-8a51-ec08a020c3fe",
   "metadata": {},
   "source": [
    "At this point, we can use Python and Jupyter Lab as a scientific calculator. We have some *literals* of different types (int, real, and string, so far) and we can print them out with the ```print()``` *statement*. In fact, if we don't explicitly print anything at the end of a cell, Python will show us the last value that was computed.\n",
    "\n",
    "\n",
    "\n",
    "Take a look at the next video"
   ]
  },
  {
   "cell_type": "markdown",
   "id": "8c570718-4ec3-45a7-8fd7-5d1d4dd39d41",
   "metadata": {},
   "source": []
  },
  {
   "cell_type": "markdown",
   "id": "c20f366f-062b-435b-9d03-bd7f0d6624e7",
   "metadata": {},
   "source": [
    "Like any programming language, Python lets you \"do math\" and lots of other things. Let's take a look at some of the basic \"operators\". In all of the code-containing cells through this course, try to predict what will happen first, and then run the code."
   ]
  },
  {
   "cell_type": "code",
   "execution_count": null,
   "id": "99b2c0e4-14aa-466a-8a25-f22604271bb8",
   "metadata": {},
   "outputs": [],
   "source": [
    "2+2"
   ]
  },
  {
   "cell_type": "code",
   "execution_count": null,
   "id": "90383055-7b1b-47ca-8e6b-38fef949ee8f",
   "metadata": {},
   "outputs": [],
   "source": [
    "2*8"
   ]
  },
  {
   "cell_type": "code",
   "execution_count": 4,
   "id": "5c7336fe-ebd6-4596-8dd3-7d85e24c729d",
   "metadata": {},
   "outputs": [
    {
     "data": {
      "text/plain": [
       "2"
      ]
     },
     "execution_count": 4,
     "metadata": {},
     "output_type": "execute_result"
    }
   ],
   "source": [
    "6-4"
   ]
  },
  {
   "cell_type": "code",
   "execution_count": null,
   "id": "ffe5e208-cd79-46ba-9985-68f2b414aa5d",
   "metadata": {},
   "outputs": [],
   "source": [
    "7*6"
   ]
  },
  {
   "cell_type": "code",
   "execution_count": null,
   "id": "28754cd0-96b2-4e55-9cc7-b3eb978c2f93",
   "metadata": {},
   "outputs": [],
   "source": [
    "16/3"
   ]
  },
  {
   "cell_type": "markdown",
   "id": "86aaa49c-f380-4f39-b877-63835aa2a940",
   "metadata": {},
   "source": [
    "Besides the \"classic\" operators, there are some handy extras:"
   ]
  },
  {
   "cell_type": "code",
   "execution_count": null,
   "id": "59753692-d36a-40d7-858b-04fcd629b4c1",
   "metadata": {},
   "outputs": [],
   "source": [
    "16//3"
   ]
  },
  {
   "cell_type": "markdown",
   "id": "ee37f4fe-6000-4286-b292-58ee8b9b082e",
   "metadata": {},
   "source": [
    "What happened there?  The ```//``` operator does *integer division* - it returns the whole number part of the answer, just like when we learned division in elementary school."
   ]
  },
  {
   "cell_type": "code",
   "execution_count": null,
   "id": "dac9ed9b-95d6-41b3-ab3b-0b1229d8ef15",
   "metadata": {},
   "outputs": [],
   "source": [
    "16%3"
   ]
  },
  {
   "cell_type": "markdown",
   "id": "e6e3417e-4b4e-489d-b8a1-72a28a777090",
   "metadata": {},
   "source": [
    "The ```%``` operator returns the remainder. This is also called \"modulo\", and the above would be pronounced \"sixteen mod 3\"."
   ]
  },
  {
   "cell_type": "code",
   "execution_count": null,
   "id": "1177f56b-554c-4c41-b85a-af6a2bc73a6a",
   "metadata": {},
   "outputs": [],
   "source": [
    "2**8"
   ]
  },
  {
   "cell_type": "code",
   "execution_count": null,
   "id": "0b991148-b2ad-4f90-866a-ff1c7a227007",
   "metadata": {},
   "outputs": [],
   "source": [
    "4**2.718281828459045"
   ]
  },
  {
   "cell_type": "markdown",
   "id": "4593e2a6-b6e0-426a-b626-59422fbec5d4",
   "metadata": {},
   "source": [
    "The ```**``` operator does exponentiation. The *arguments* can be integers or they can be real numbers.\n",
    "Naturally, operators can be combined into arbitrarily long *expressions*."
   ]
  },
  {
   "cell_type": "code",
   "execution_count": null,
   "id": "f625e6fc-3ca6-47b7-ba35-76c420da2317",
   "metadata": {},
   "outputs": [],
   "source": [
    "3*4*5"
   ]
  },
  {
   "cell_type": "code",
   "execution_count": null,
   "id": "49d8fdb7-7d0c-43bb-9db8-b4dd3700fc5e",
   "metadata": {},
   "outputs": [],
   "source": [
    "6+4*5"
   ]
  },
  {
   "cell_type": "markdown",
   "id": "fc93163d-ae79-4b9f-af45-e7b2a6b1e002",
   "metadata": {},
   "source": [
    "Notice what happens when we use different operators. They are applied in the \"My Dear Aunt Sally\" order of precendence (multiplication, division, addition, subtraction).\n",
    "\n",
    "Order of operations:\n",
    "* Exponentiation:  ```**```\n",
    "* Multiplication, Division, Remainder:  ```* / // %```\n",
    "* Addition and Subtraction: ```+ -```\n",
    "\n",
    "Within the same level, operators are applied left-to-right.  8-5+2 is evaluated as 3+2 and yields 5. The exception is exponentiation: 2 ** 3 ** 4 is treated as 2 ** 81 and yeilds an annoyingly large number"
   ]
  },
  {
   "cell_type": "code",
   "execution_count": null,
   "id": "3f0ff4ca-da1e-4097-873e-cb61bbd7a22f",
   "metadata": {},
   "outputs": [],
   "source": [
    "print (2**3**4)"
   ]
  },
  {
   "cell_type": "code",
   "execution_count": null,
   "id": "4aebc6f8-d3c5-422e-8d31-6664552ad4ce",
   "metadata": {},
   "outputs": [],
   "source": [
    "print (2**81)"
   ]
  },
  {
   "cell_type": "markdown",
   "id": "21530437-db65-4639-a928-13808271cc0e",
   "metadata": {},
   "source": [
    "Unless we just use Jupyter as a big, expensive scientific calculator, we need a way to store data. *Variables* were invented for just that purpose, and virtually every language has them. Think of them as a place to store data of some kind, and that place has a name. They behave in Python just like you'd expect."
   ]
  },
  {
   "cell_type": "code",
   "execution_count": 5,
   "id": "6350b83c-2d85-4cc2-a54c-d8bf18c6d42c",
   "metadata": {},
   "outputs": [
    {
     "name": "stdout",
     "output_type": "stream",
     "text": [
      "42\n"
     ]
    }
   ],
   "source": [
    "answer = 42\n",
    "print(answer)"
   ]
  },
  {
   "cell_type": "markdown",
   "id": "c6b7e561-c1a0-4606-8210-6bf67d8a1dd4",
   "metadata": {},
   "source": [
    "We just created a variable named ```answer``` and gave it the value 42. Variables are long-lived - later we'll talk about just how long when we start writing our own functions, but until then our variables last as long as Python (or in our case, Jupyter) is running. Take a look - answer is still there."
   ]
  },
  {
   "cell_type": "code",
   "execution_count": null,
   "id": "56538fe2-b464-4fe1-a3e0-23ff1b555bda",
   "metadata": {},
   "outputs": [],
   "source": [
    "print(answer)"
   ]
  },
  {
   "cell_type": "markdown",
   "id": "2331f76d-50d7-4f93-82e5-67d339dc27a4",
   "metadata": {},
   "source": [
    "The value stored in a variable can change. It can even change type:"
   ]
  },
  {
   "cell_type": "code",
   "execution_count": null,
   "id": "58211df3-28e4-4829-b5ca-ab9174213bcd",
   "metadata": {},
   "outputs": [],
   "source": [
    "weight = 60\n",
    "weight = 70\n",
    "print(weight)\n",
    "weight = \"not very much.\"\n",
    "print(weight)"
   ]
  },
  {
   "cell_type": "markdown",
   "id": "50f4b8a8-d02f-496b-a59a-ed147ac30f28",
   "metadata": {},
   "source": [
    "We can declare many variables, and we can \"do things\" with them just like we can when we type in numbers or strings."
   ]
  },
  {
   "cell_type": "code",
   "execution_count": null,
   "id": "74124737-2572-46e4-a696-a91f35cea69b",
   "metadata": {},
   "outputs": [],
   "source": [
    "volts = 120\n",
    "amps = 4\n",
    "watts = volts * amps\n",
    "watts"
   ]
  },
  {
   "cell_type": "markdown",
   "id": "e60eb2cf-ffdd-42a6-aa53-3cb8ed98e673",
   "metadata": {},
   "source": [
    "In the last line, we just put ```watts``` because Jupyter automatically prints what the last line evaluates to (unless there has been a print statement before that).\n",
    "\n",
    "We can use variables to change the *order of operations*. Let's see the average price of two people's meals:"
   ]
  },
  {
   "cell_type": "code",
   "execution_count": null,
   "id": "1600a8b8-7222-4bf7-8f63-4fce4b3bd56d",
   "metadata": {},
   "outputs": [],
   "source": [
    "total = 22.41 + 19.45\n",
    "average = total / 2\n",
    "average"
   ]
  },
  {
   "cell_type": "markdown",
   "id": "0f7bf70a-a6dd-48b4-ac9a-8c55eab3fed2",
   "metadata": {},
   "source": [
    "That's the right answer. If we hadn't done that, we would have gotten"
   ]
  },
  {
   "cell_type": "code",
   "execution_count": null,
   "id": "199989df-a1c7-41fd-8088-19107e5025c3",
   "metadata": {},
   "outputs": [],
   "source": [
    "22.41 + 19.45 / 2"
   ]
  },
  {
   "cell_type": "markdown",
   "id": "5de1c48e-bab6-40c0-a35e-3692dda0c7ab",
   "metadata": {},
   "source": [
    "which is utterly wrong. Beware of the order of operations... it is a frequent source of bugs in scientific programming.\n",
    "\n",
    "For the most part, you can pick whatever name makes sense for a variable, but there *are* some rules. When choosing a name:\n",
    "1. No keywords (```False``` won't work.)\n",
    "1. No spaces (```sample thickness``` is invalid)\n",
    "1. The first character **must** be one of\n",
    "   * a-z, or A-Z, or _. (the underscore character)\n",
    "   * As a result, no numbers (3rd_sample_holder is invalid)\n",
    "1. **After** the first character, you can then have numbers (sample_holder_3 is perfectly valid)\n",
    "1. No other symbols are allowed (exploded&destroyed_spectrometers is invalid, and probably suggests it's time to review lab safety procedures).\n",
    "\n",
    "**Note: Uppercase vs. Lowercase matters!** ```Bevatron``` is not the same variable as ```bevatron```"
   ]
  },
  {
   "cell_type": "markdown",
   "id": "58272db5-10c0-4c33-afef-354cd9c83dfb",
   "metadata": {},
   "source": [
    "We've hinted that variables have a \"type\", and that the type can change if it needs to. The way it works is that variables keep track of what *type* they are (integer, real number, or string) and what their \"value\" is. We can even interrogate a variable as see what type it is:"
   ]
  },
  {
   "cell_type": "markdown",
   "id": "56a0db35-2a45-45ca-9b27-631b08f3f91a",
   "metadata": {},
   "source": [
    "Lines of code in any language can get very complicated (see \"scientific programming\", above). What happens when you run out of horizontal space and you need to go to the next line?  Let's see:"
   ]
  },
  {
   "cell_type": "code",
   "execution_count": null,
   "id": "2fc7b814-7512-4fb5-b81b-b103599d0cba",
   "metadata": {},
   "outputs": [],
   "source": [
    "my_number = 42\n",
    "my_string = \"was that really the right answer?\"\n",
    "\n",
    "first_type = type(my_number)\n",
    "second_type = type(my_string)\n",
    "print(first_type, second_type)"
   ]
  },
  {
   "cell_type": "markdown",
   "id": "6f477725-51ad-487a-8b9f-bdc8e520cb1a",
   "metadata": {},
   "source": [
    "The type of a variable matters. Let's create a variable with an integer in it and another with a string. Then let's do some math:"
   ]
  },
  {
   "cell_type": "code",
   "execution_count": null,
   "id": "9be5ce2d-e475-442c-bcdd-1ebe1668cf6b",
   "metadata": {},
   "outputs": [],
   "source": [
    "first_thing = 6\n",
    "second_thing = \"7\"\n",
    "\n",
    "print (first_thing + second_thing)"
   ]
  },
  {
   "cell_type": "markdown",
   "id": "f8ff396b-d067-485c-8c0a-f9069991d2dd",
   "metadata": {},
   "source": [
    "# TODO - type coercion"
   ]
  },
  {
   "cell_type": "code",
   "execution_count": null,
   "id": "c4e88656-191d-479f-9dcf-d5c8020a1cce",
   "metadata": {},
   "outputs": [],
   "source": [
    "4+2\n",
    "+3"
   ]
  },
  {
   "cell_type": "markdown",
   "id": "9552bdf3-e316-4151-859e-2428672a4e9d",
   "metadata": {},
   "source": [
    "That isn't right. The last line, ```+3```, was evaluated and printed as the result of running that cell. It turns out, if we need to continue an expression on the next line, we just end the line with a backslash ```\\``` and press enter. It has to be a backslash, by the way, and **cannot** be the forward slash like we use for division."
   ]
  },
  {
   "cell_type": "code",
   "execution_count": null,
   "id": "a3f81522-1f91-4fc5-92d8-02d8d88d208f",
   "metadata": {},
   "outputs": [],
   "source": [
    "4+2\\\n",
    "+3"
   ]
  },
  {
   "cell_type": "markdown",
   "id": "e7f8849e-ea52-460d-8e89-9be07b9f4433",
   "metadata": {},
   "source": [
    "Time for an exercise!  Try to predict what will be printed when you run the next cell. Then, run the next cell and see how you did. If you miss one, make sure you figure out what happened before you go. I know, we're professionals, I shouldn't have to say that..."
   ]
  },
  {
   "cell_type": "code",
   "execution_count": null,
   "id": "a7509f39-e1b5-4581-9294-6837652e2448",
   "metadata": {},
   "outputs": [],
   "source": [
    "print(1 + 3 + 5 * 4 / 2)\n",
    "print(7 % 2 * 10)\n",
    "big_num = 1 + 2 + 3 + 4 \\\n",
    "     + 5 + 6\n",
    "print(big_num)"
   ]
  },
  {
   "cell_type": "markdown",
   "id": "43f51975-6aa2-4965-9328-ec020dc9eb21",
   "metadata": {},
   "source": [
    "Now write an expression to average three numbers (12, 14, and 66), divide the result by three, and square it. You can use the code cell right below here:"
   ]
  },
  {
   "cell_type": "code",
   "execution_count": null,
   "id": "bcefed42-ccac-4fc4-9ae5-f55c3dd96138",
   "metadata": {},
   "outputs": [],
   "source": []
  },
  {
   "cell_type": "markdown",
   "id": "3f85735b-86f2-456c-9886-e93f8ee310d0",
   "metadata": {},
   "source": [
    "At the beginning of this notebook, we casually mentioned \"strings\" without saying what they are. They're just \"sequences of characters\". And these can be any kind of characters - the English alphabet, the Hungarian alphabet, hiragana... it doesn't matter."
   ]
  },
  {
   "cell_type": "code",
   "execution_count": null,
   "id": "2db2513c-9836-444f-bb61-0a8e65d12eac",
   "metadata": {},
   "outputs": [],
   "source": [
    "print(\"I'll see you mañana, assuming I don't get irradiated to death.\")"
   ]
  },
  {
   "cell_type": "markdown",
   "id": "413f8e00-ffb5-4304-820f-80fd214ac8dc",
   "metadata": {},
   "source": [
    "Some, probably most, languages contain strings inside \"double quotes\", ```\"```, which is shift+apostrophe on US English keyboards. Other languages (SQL and Pascal are the only two I can think of) use single quotes: ```'```. Python let's you use either one. You *do* have to be consistent in each string, but it can vary from one string to the next:"
   ]
  },
  {
   "cell_type": "code",
   "execution_count": null,
   "id": "614bce71-4826-4646-80b5-c8681aec3581",
   "metadata": {},
   "outputs": [],
   "source": [
    "print(\"double quotes work\")\n",
    "print('single quotes also work')\n",
    "print('but do not try to mix the two in one string!\""
   ]
  },
  {
   "cell_type": "markdown",
   "id": "8a4046d5-9174-4726-9fe2-26fa662fe8f6",
   "metadata": {},
   "source": [
    "Because we can use either type of quotation mark, we can exploit that to let us put quotation marks into strings:"
   ]
  },
  {
   "cell_type": "code",
   "execution_count": 3,
   "id": "d7be27f7-1a62-4e9f-a488-99fd10f3e424",
   "metadata": {},
   "outputs": [
    {
     "name": "stdout",
     "output_type": "stream",
     "text": [
      "Don't put explosive mixtures in the spectrometer, please.\n",
      "Of course he was warned... \"Do not turn the spectrometer into a bomb, please\" but I am sure he ignored that.\n"
     ]
    }
   ],
   "source": [
    "print(\"Don't put explosive mixtures in the spectrometer, please.\")\n",
    "print('Of course he was warned... \"Do not turn the spectrometer into a bomb, please\" but I am sure he ignored that.')"
   ]
  },
  {
   "cell_type": "markdown",
   "id": "168afacb-86ec-4ae6-9a89-ae4d27188e39",
   "metadata": {},
   "source": [
    "That lets us embed whichever kind of quotation mark we need into a string.\n",
    "\n",
    "But what if we need to embed **both** kinds of quotes into one string?  We're in luck: we can use the backslash character again to \"quote\" our quotation mark. In fact, we can quote any character with it if we need to."
   ]
  },
  {
   "cell_type": "code",
   "execution_count": 2,
   "id": "2cd4377a-518b-4df0-87f2-bb4931185921",
   "metadata": {},
   "outputs": [
    {
     "name": "stdout",
     "output_type": "stream",
     "text": [
      "We told him \"Hexanitrohexaazaisowurtzitane and spectrometers don't mix, buddy\", but we're pretty sure he ignored us.\n"
     ]
    }
   ],
   "source": [
    "print(\"We told him \\\"Hexanitrohexaazaisowurtzitane and spectrometers don't mix, buddy\\\", but we're pretty sure he ignored us.\")"
   ]
  },
  {
   "cell_type": "markdown",
   "id": "8e2e7c07-3faa-4e55-a76e-a33e95878380",
   "metadata": {},
   "source": [
    "That sentence contains three things, inside the string itself:\n",
    "1. Double Quotes to surround a direct quotation\n",
    "2. A single quote, also called an apostrophe depending on how it's used, to make a contraction, and\n",
    "3. A totally not incredibly awesome/terrifying molecule you have to google to believe.\n",
    "\n",
    "OK, I'll save you the trouble. [Prepare to lose most of a day's productivity](https://www.science.org/content/blog-post/things-i-won-t-work-hexanitrohexaazaisowurtzitane).  You're welcome."
   ]
  },
  {
   "cell_type": "markdown",
   "id": "08ded9db-0522-4fcf-a0ae-bfb6a51d2ae8",
   "metadata": {},
   "source": [
    "There is one last kind of string literal. Sometimes you need a string that is several lines long. The \"triple quote\" is a way to do it. You have to use three double-quotes in a row:"
   ]
  },
  {
   "cell_type": "code",
   "execution_count": null,
   "id": "5a967aae-73d7-48b4-b6b9-91e9c8863b59",
   "metadata": {},
   "outputs": [],
   "source": [
    "gigantic = \"\"\"This is the first line,\n",
    "This is the second,\n",
    "and this is the third and final line of my string.\"\"\"\n",
    "print(gigantic)"
   ]
  },
  {
   "cell_type": "markdown",
   "id": "9ee25637-2d26-4dc5-825f-f9dc4761e492",
   "metadata": {},
   "source": [
    "Triple quotes are also an easier way to embed mixed kinds of quotation marks into strings:"
   ]
  },
  {
   "cell_type": "code",
   "execution_count": null,
   "id": "2652937d-4643-4c76-9f70-a364b9dc7cf2",
   "metadata": {},
   "outputs": [],
   "source": [
    "\"\"\"I know people who say \"The Avengers\" isn’t a good movie, but I don’t agree.\"\"\"\n"
   ]
  },
  {
   "cell_type": "markdown",
   "id": "bc86c6dd-6b54-4803-b91a-11bae88c33b9",
   "metadata": {},
   "source": []
  },
  {
   "cell_type": "code",
   "execution_count": null,
   "id": "f3cb7279-f0ee-4e8b-ad40-0b5190dcdbcd",
   "metadata": {},
   "outputs": [],
   "source": []
  },
  {
   "cell_type": "code",
   "execution_count": null,
   "id": "a13c02dc-f8aa-4c1c-9948-c55ddcd9016c",
   "metadata": {},
   "outputs": [],
   "source": []
  }
 ],
 "metadata": {
  "kernelspec": {
   "display_name": "Python 3 (ipykernel)",
   "language": "python",
   "name": "python3"
  },
  "language_info": {
   "codemirror_mode": {
    "name": "ipython",
    "version": 3
   },
   "file_extension": ".py",
   "mimetype": "text/x-python",
   "name": "python",
   "nbconvert_exporter": "python",
   "pygments_lexer": "ipython3",
   "version": "3.12.3"
  }
 },
 "nbformat": 4,
 "nbformat_minor": 5
}
