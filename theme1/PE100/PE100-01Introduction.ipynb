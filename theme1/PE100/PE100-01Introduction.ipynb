{
 "cells": [
  {
   "cell_type": "markdown",
   "id": "a908d067-92b5-4fc8-9512-544368a3a67f",
   "metadata": {},
   "source": [
    "# Programming Essentials - Python Programming and Jupyter Notebooks (PE100)\n",
    "\n",
    "Welcome to the **Programming Essentials - Python Programming and Jupyter Notebooks** component of the X-CITE training materials. The intent behind this unit is to teach new CHESS users how to write programs in Python for experimental data analysis.\n",
    "\n",
    "Prerequisites? None.\n",
    "\n",
    "The training materials before you are designed both for scientists who may not have any programming experience whatsoever and for those who have at least some basic programming capability but in a language other than Python.\n",
    "\n",
    "Python's adoption has exploded in the last decade. Much of its success can be attributed to productivity. Many programming languages force the programmer to deal with very small details to do even the simplest things. Python's attitude is to just take care of all the minutae so we don't have to. On top of that, Python's popularity has resulted in hundreds of thousands of collections of useful code for specific tasks. If there is something you need to write a program for, it's almost definite someone else has had the same problem. There's a good chance at least one of those people neatly packaged up some of their code and made it available in one of the repositories on the internet. There's no reason for you to reinvent the proverbial wheel again - take advantage of their work (don't forget to cite it!) and get back to doing actual science that much sooner.\n",
    "\n",
    "You're currently looking at [PE100-01 Introduction](PE100-01Introduction.ipynb). If you are new to Python and especially if you're new to programming, you should work through each of the modules in order. More experienced programmers might benefit from skipping directly to topics that interest them. Select one of the following:\n",
    "\n",
    "- [PE100-02 Types, Variables, and Operators](PE100-02TypesVarsAndOperators.ipynb)\n",
    "- [PE100-03 Decision Structures](PE100-03DecisionStructures.ipynb)\n",
    "- [PE100-04 Repetition](PE100-04Repetition.ipynb)\n",
    "- [PE100-05 Functions](PE100-05Functions.ipynb)\n",
    "- [PE100-06 Files](PE100-06Files.ipynb)\n",
    "- [PE100-07 Exceptions](PE100-07Exceptions.ipynb)\n",
    "- [PE100-08 Lists](PE100-08Lists.ipynb)\n",
    "- [PE100-09 Strings](PE100-09Strings.ipynb)\n",
    "- [PE100-10 Dictionaries](PE100-10Dictionaries.ipynb)\n",
    "\n",
    "\n",
    "\n"
   ]
  },
  {
   "cell_type": "code",
   "execution_count": null,
   "id": "2af7e8d9-c5b5-4120-ab9f-38df7994cd24",
   "metadata": {},
   "outputs": [],
   "source": []
  }
 ],
 "metadata": {
  "kernelspec": {
   "display_name": "Python 3 (ipykernel)",
   "language": "python",
   "name": "python3"
  },
  "language_info": {
   "codemirror_mode": {
    "name": "ipython",
    "version": 3
   },
   "file_extension": ".py",
   "mimetype": "text/x-python",
   "name": "python",
   "nbconvert_exporter": "python",
   "pygments_lexer": "ipython3",
   "version": "3.12.3"
  }
 },
 "nbformat": 4,
 "nbformat_minor": 5
}
