{
 "cells": [
  {
   "cell_type": "markdown",
   "id": "26f2228a-1b8d-469f-8e71-5b1fc2cc7321",
   "metadata": {},
   "source": [
    "# PE100-08: Lists\n",
    "\n",
    "All of the variables we've seen so far store exactly one value. If you set the variable \"weight\" to 74.5, then 74.5 is the only value there is in \"weight\". Nice and simple. If we need to save several values then we can use several variables..."
   ]
  },
  {
   "cell_type": "code",
   "execution_count": 1,
   "id": "a283798c-64ab-4a68-a193-e52c4a6b3705",
   "metadata": {},
   "outputs": [],
   "source": [
    "weight_1 = 74.5\n",
    "weight_2 = 76.7\n",
    "weight_3 = 77.1"
   ]
  },
  {
   "cell_type": "markdown",
   "id": "1b990370-0a7f-47fb-b837-fef92c12c91f",
   "metadata": {},
   "source": [
    "As you can imagine, this turns tedious in a hurry. What if you had a thousand values to deal with? And even if you did all of that typing, doing any kind of non-trivial computation with it would be difficult, too. We need a way to store a bunch of values, but doing it in a way that makes it easy to manipulate the whole thing as a whole or each individual value. For doing that, Python provides us with *lists*.\n",
    "\n",
    "Python is one of the few languages that support lists deep down in the language itself. Because of that, they're easy to work with. Let's take a look, shall we?"
   ]
  },
  {
   "cell_type": "code",
   "execution_count": 6,
   "id": "36501626-4bae-42df-ba1f-32cac8808a72",
   "metadata": {},
   "outputs": [
    {
     "data": {
      "text/plain": [
       "['Alice', 'Bob', 'Candice', 'Dan']"
      ]
     },
     "execution_count": 6,
     "metadata": {},
     "output_type": "execute_result"
    }
   ],
   "source": [
    "names = ['Alice', 'Bob', 'Candice', 'Dan']\n",
    "names"
   ]
  },
  {
   "cell_type": "markdown",
   "id": "b632eb76-9d33-4899-a00b-59354d52e4af",
   "metadata": {},
   "source": [
    "Lists are represented with square brackets [ ] at the beginning and end, and with the values inside the brackets separated by commas."
   ]
  },
  {
   "cell_type": "code",
   "execution_count": 7,
   "id": "e3874600-a705-4ea6-a166-b563796f4faf",
   "metadata": {},
   "outputs": [],
   "source": [
    "odd_numbers = [1, 3, 5, 7, 9]\n",
    "ingredients = ['flour', 'lard', 'baking powder', 'milk']"
   ]
  },
  {
   "cell_type": "markdown",
   "id": "f5563090-0fdf-4606-8a69-fcade6fed326",
   "metadata": {},
   "source": [
    "The values in a list don't all have to be the same type. "
   ]
  },
  {
   "cell_type": "code",
   "execution_count": 8,
   "id": "38ee03f8-57cc-48b7-a8df-b5ac8ad050ed",
   "metadata": {},
   "outputs": [],
   "source": [
    "playing_card = [9, 'Diamonds']"
   ]
  },
  {
   "cell_type": "markdown",
   "id": "9a2e1fea-5abc-4d43-9f47-a36c395d4913",
   "metadata": {},
   "source": [
    "A list can have any number of values, limited only by the amount of memory in the computer that is hosting the Jupyter (or JupyterLab) server. Lists are even allowed to have no values in them."
   ]
  },
  {
   "cell_type": "code",
   "execution_count": 9,
   "id": "e34a6455-35e1-4a14-946c-03ffa75dc1dd",
   "metadata": {},
   "outputs": [],
   "source": [
    "empty_list = []"
   ]
  },
  {
   "cell_type": "markdown",
   "id": "b9dcd63c-724e-43a5-86cf-92d21d06dace",
   "metadata": {},
   "source": [
    "So far we've been creating lists using literal values, but we could use variables just as easily..."
   ]
  },
  {
   "cell_type": "code",
   "execution_count": 12,
   "id": "6bf54351-25cc-4acd-9840-2efb9e27b303",
   "metadata": {},
   "outputs": [
    {
     "name": "stdout",
     "output_type": "stream",
     "text": [
      "[16, 2, 6]\n"
     ]
    }
   ],
   "source": [
    "nimh = 16\n",
    "lithiumPrimary = 2\n",
    "carbonZinc = 6\n",
    "\n",
    "battery_inventory = [nimh, lithiumPrimary, carbonZinc]\n",
    "print(battery_inventory)"
   ]
  },
  {
   "cell_type": "markdown",
   "id": "8360504a-d419-442c-8595-062511dc2168",
   "metadata": {},
   "source": [
    "To find out how many elements are in a list, use the `len()` function:"
   ]
  },
  {
   "cell_type": "code",
   "execution_count": 13,
   "id": "4407c161-fc80-4380-b2e9-75839132d778",
   "metadata": {},
   "outputs": [
    {
     "name": "stdout",
     "output_type": "stream",
     "text": [
      "4\n",
      "3\n"
     ]
    }
   ],
   "source": [
    "number_of_ingredients = len(ingredients)\n",
    "print(number_of_ingredients)\n",
    "\n",
    "print(len(battery_inventory))"
   ]
  },
  {
   "cell_type": "markdown",
   "id": "ec4822ca-df76-4cbe-9e51-296249e8ce33",
   "metadata": {},
   "source": [
    "There are *operators* that act on lists. The `*` operator is used for repetition..."
   ]
  },
  {
   "cell_type": "code",
   "execution_count": 14,
   "id": "5d4ca5a5-9e59-4d82-806a-11a89392ecd2",
   "metadata": {},
   "outputs": [
    {
     "name": "stdout",
     "output_type": "stream",
     "text": [
      "[1, 2, 3, 1, 2, 3]\n",
      "[0, 0, 0, 0, 0, 0, 0, 0, 0, 0, 0, 0, 0, 0, 0, 0, 0, 0, 0, 0, 0, 0, 0, 0, 0]\n"
     ]
    }
   ],
   "source": [
    "my_list = [1, 2, 3] * 2\n",
    "print(my_list)\n",
    "many_zeros = [0] * 25\n",
    "print(many_zeros)"
   ]
  },
  {
   "cell_type": "markdown",
   "id": "6d094239-819c-4bbe-80ff-8351b1926861",
   "metadata": {},
   "source": [
    "...and the `+` operator combines two lists:"
   ]
  },
  {
   "cell_type": "code",
   "execution_count": 15,
   "id": "e65ba79f-76a5-4c2e-8adf-df84e7f43bb4",
   "metadata": {},
   "outputs": [
    {
     "name": "stdout",
     "output_type": "stream",
     "text": [
      "[1, 2, 3, 1, 2, 3, 0, 0, 0, 0, 0, 0, 0, 0, 0, 0, 0, 0, 0, 0, 0, 0, 0, 0, 0, 0, 0, 0, 0, 0, 0]\n"
     ]
    }
   ],
   "source": [
    "big_list = my_list + many_zeros\n",
    "print(big_list)"
   ]
  },
  {
   "cell_type": "markdown",
   "id": "6fdffa64-4cb5-4da5-ac60-b583488365b0",
   "metadata": {},
   "source": [
    "Lists are *iterables*, just like the results of the `range()` function, so they can be *iterated over* using a `for` loop:"
   ]
  },
  {
   "cell_type": "code",
   "execution_count": 17,
   "id": "7376d35a-a21a-4e43-ba87-b5924c37743b",
   "metadata": {},
   "outputs": [
    {
     "name": "stdout",
     "output_type": "stream",
     "text": [
      "David\n",
      "Bill\n",
      "Richard\n"
     ]
    }
   ],
   "source": [
    "for name in ['David', 'Bill', 'Richard']:\n",
    "    print(name)\n"
   ]
  },
  {
   "cell_type": "code",
   "execution_count": 18,
   "id": "8d396296-b78f-46a1-9704-dcf376172d57",
   "metadata": {},
   "outputs": [
    {
     "name": "stdout",
     "output_type": "stream",
     "text": [
      "flour\n",
      "lard\n",
      "baking powder\n",
      "milk\n",
      "flour\n",
      "lard\n",
      "baking powder\n",
      "milk\n",
      "flour\n",
      "lard\n",
      "baking powder\n",
      "milk\n"
     ]
    }
   ],
   "source": [
    "for ingr in ingredients * 3:\n",
    "    print(ingr)"
   ]
  },
  {
   "cell_type": "markdown",
   "id": "5c8d9629-e05b-43f3-a91c-497bc9e07fdc",
   "metadata": {},
   "source": [
    "It's fairly common to iterate over a list for things like sums and averages."
   ]
  },
  {
   "cell_type": "code",
   "execution_count": 19,
   "id": "ca250650-a8b5-4685-926a-d5fb3e43173f",
   "metadata": {},
   "outputs": [
    {
     "name": "stdout",
     "output_type": "stream",
     "text": [
      "16\n"
     ]
    }
   ],
   "source": [
    "total = 0\n",
    "for item in [4, 3, 4, 5]:\n",
    "    total += item\n",
    "print(total)"
   ]
  },
  {
   "cell_type": "markdown",
   "id": "c5550fac-745f-46bf-b493-141057680bf5",
   "metadata": {},
   "source": [
    "The above code steps its way over all of the values in the list. Each time it goes to a new value, it adds that value to `total`. When it gets to the end, all of the values have been added up. If we want an average, we don't have to count the values ourselves. We can just use the `len()` function."
   ]
  },
  {
   "cell_type": "code",
   "execution_count": 20,
   "id": "03c1ac89-fead-4b69-bc4c-f2d9c6542fb5",
   "metadata": {},
   "outputs": [
    {
     "name": "stdout",
     "output_type": "stream",
     "text": [
      "4.0\n"
     ]
    }
   ],
   "source": [
    "total = 0\n",
    "my_list = [4, 3, 4, 5]\n",
    "for item in my_list:\n",
    "    total += item\n",
    "avg = total / len(my_list)\n",
    "print(avg)"
   ]
  },
  {
   "cell_type": "markdown",
   "id": "4cc35a84-3d8c-4c7f-9655-3441e13ed3e7",
   "metadata": {},
   "source": [
    "Sometimes you need to use a particular value in a list and you don't want to iterate over the whole thing. For this, Python gives us *indexing*, letting us directly access any element of a list. The first (as it appears on screen, \"leftmost\") element in numbered zero and each one after that goes up by one. The highest numbered one is therefore the length of the list minus one."
   ]
  },
  {
   "cell_type": "code",
   "execution_count": 23,
   "id": "156c1ca0-3df8-46ce-83ac-3ee118a1ce1e",
   "metadata": {},
   "outputs": [
    {
     "name": "stdout",
     "output_type": "stream",
     "text": [
      "['flour', 'lard', 'baking powder', 'milk']\n",
      "\n",
      "Of all the biscuit ingredients, flour is the most important one.\n",
      "The second most important one is baking powder\n"
     ]
    }
   ],
   "source": [
    "print(ingredients)\n",
    "print()\n",
    "print(\"Of all the biscuit ingredients,\", ingredients[0] , \"is the most important one.\")\n",
    "print(\"The second most important one is\", ingredients[2])"
   ]
  },
  {
   "cell_type": "markdown",
   "id": "80eebb9b-afc2-45fd-a055-97cc13513d51",
   "metadata": {},
   "source": [
    "Like the majority of programming languages, Python uses square brackets to indicate the *index* into the list. Unlike the vast majority of languages, Python allows indexes to be negative! A negative number for an index means \"count backwards from the end\". `my_list[-1]` refers to the item at the end of the list. `my_list[-3]` refers to the third to last item."
   ]
  },
  {
   "cell_type": "code",
   "execution_count": 24,
   "id": "6995e7da-847d-4184-9b5d-caf2f78b9b65",
   "metadata": {},
   "outputs": [
    {
     "name": "stdout",
     "output_type": "stream",
     "text": [
      "milk\n",
      "lard\n"
     ]
    }
   ],
   "source": [
    "print(ingredients[-1])\n",
    "print(ingredients[-3])"
   ]
  },
  {
   "cell_type": "markdown",
   "id": "97a3984b-b03f-4d69-86aa-1aa919423b17",
   "metadata": {},
   "source": [
    "We've seen how to iterate over lists and also how to access individual list elements by using indexing. Python has a special indexing scheme, though, that lets us deal with small lists made from our original list. This is called *List Slicing* and can save you a lot of work sometimes. The overall syntax for this looks like `list_name[start:end]`\n",
    "\n",
    "An example is definitely called for here:"
   ]
  },
  {
   "cell_type": "code",
   "execution_count": 25,
   "id": "9118dd6a-702b-4565-ad1a-47342fa77dcc",
   "metadata": {},
   "outputs": [
    {
     "name": "stdout",
     "output_type": "stream",
     "text": [
      "[4, 6]\n"
     ]
    }
   ],
   "source": [
    "my_list = [2, 4, 6, 8, 10, 12]\n",
    "print(my_list[1:3])\n"
   ]
  },
  {
   "cell_type": "markdown",
   "id": "93a5f337-4ba5-4ea8-9a7c-74449f25c1eb",
   "metadata": {},
   "source": [
    "Remember that list indexes count from zero, and remember also that ranges in Python **include** the starting index (here, it's the 1) and will continue to the last value that is smaller than the one on the right side of the colon.\n",
    "\n",
    "Both the starting and the ending indexes are optional! If one of the two is missing, it will be interpreted as 0 or the list's length, respectively."
   ]
  },
  {
   "cell_type": "code",
   "execution_count": 27,
   "id": "f969e51d-90c6-4f58-ae82-b18b8f5742fd",
   "metadata": {},
   "outputs": [
    {
     "name": "stdout",
     "output_type": "stream",
     "text": [
      "[2, 4, 6, 8, 10, 12]\n",
      "\n",
      "[2, 4, 6]\n",
      "[4, 6, 8, 10, 12]\n",
      "[2, 4, 6, 8, 10, 12]\n"
     ]
    }
   ],
   "source": [
    "print(my_list)\n",
    "print()\n",
    "print(my_list[:3])\n",
    "print(my_list[1:])\n",
    "print(my_list[:])"
   ]
  },
  {
   "cell_type": "markdown",
   "id": "fd93734c-d47e-4a29-b8fa-d59d9edd928d",
   "metadata": {},
   "source": [
    "And finally, the `in` operator is used to test list membership."
   ]
  },
  {
   "cell_type": "code",
   "execution_count": 31,
   "id": "2142dcc9-fb24-4dce-b9d0-13f53bf60742",
   "metadata": {},
   "outputs": [
    {
     "name": "stdin",
     "output_type": "stream",
     "text": [
      "Enter your favorite number 8\n"
     ]
    },
    {
     "name": "stdout",
     "output_type": "stream",
     "text": [
      "Sorry! Better luck next time!\n"
     ]
    }
   ],
   "source": [
    "lucky_numbers = [2, 7, 17, 9]\n",
    "player_number = int(input('Enter your favorite number'))\n",
    "if player_number in lucky_numbers:\n",
    "    print(\"Your favorite number is lucky!\")\n",
    "else:\n",
    "    print(\"Sorry! Better luck next time!\")"
   ]
  },
  {
   "cell_type": "markdown",
   "id": "880293da-040b-4952-9f35-5ad318b491a7",
   "metadata": {},
   "source": [
    "### There's Method to the Madness\n",
    "\n",
    "-----------------\n",
    "\n",
    "There are two kinds of functions available for working with lists. Built-in functions are the ones that are part of Python itself. Methods, as you'll recall from the unit on files, are special functions that are situated inside of objects and only usable with that kind of object. Python lists are objects. They're *iterable objects*, in fact.\n",
    "\n",
    "Let's take a look at a few of the methods available for working with lists. First up is `append()`."
   ]
  },
  {
   "cell_type": "code",
   "execution_count": 32,
   "id": "99d805d3-1a83-41fd-b765-c0a0b3b5615c",
   "metadata": {},
   "outputs": [
    {
     "name": "stdout",
     "output_type": "stream",
     "text": [
      "[2, 7, 17, 9]\n"
     ]
    },
    {
     "data": {
      "text/plain": [
       "[2, 7, 17, 9, 106]"
      ]
     },
     "execution_count": 32,
     "metadata": {},
     "output_type": "execute_result"
    }
   ],
   "source": [
    "print(lucky_numbers)\n",
    "lucky_numbers.append(106)\n",
    "\n",
    "lucky_numbers"
   ]
  },
  {
   "cell_type": "markdown",
   "id": "73eb4130-b38e-4acb-a685-9fda66f988f3",
   "metadata": {},
   "source": [
    "Just as the name implies, `append()` adds an element to the end of a list.\n",
    "\n",
    "But what if we want to put a new element in a specific place? For that, there is `insert()`."
   ]
  },
  {
   "cell_type": "code",
   "execution_count": 33,
   "id": "408737e3-bce0-46d3-825a-c8d4f990d54d",
   "metadata": {},
   "outputs": [
    {
     "name": "stdout",
     "output_type": "stream",
     "text": [
      "[2, 7, 17, 9, 106]\n"
     ]
    },
    {
     "data": {
      "text/plain": [
       "[2, 7, 202, 17, 9, 106]"
      ]
     },
     "execution_count": 33,
     "metadata": {},
     "output_type": "execute_result"
    }
   ],
   "source": [
    "print(lucky_numbers)\n",
    "lucky_numbers.insert(2, 202)\n",
    "lucky_numbers"
   ]
  },
  {
   "cell_type": "markdown",
   "id": "0c7115fd-7c71-449d-9464-64940bba26dd",
   "metadata": {},
   "source": [
    "The insert function takes two arguments. The first is the position in the list where the insertion should happen. In the example above, it was at position 2. Remember, list indexes start at zero! The second argument is the element to insert. And when we look at the resulting list, we see that 202 is in position 2 now (which is the third position!) and all the other elements have been shifted to the right.\n",
    "\n",
    "We've been fetching elements from the list by location number, so far. How do we find something by searching for it?  The `index()` method does that."
   ]
  },
  {
   "cell_type": "code",
   "execution_count": 35,
   "id": "e585395b-d0a7-45d4-9933-6a5380fc87f6",
   "metadata": {},
   "outputs": [
    {
     "name": "stdout",
     "output_type": "stream",
     "text": [
      "2\n"
     ]
    }
   ],
   "source": [
    "where_found = lucky_numbers.index(202)\n",
    "print(where_found)"
   ]
  },
  {
   "cell_type": "markdown",
   "id": "08ad8fda-2066-423f-ad34-01d26bc4e28f",
   "metadata": {},
   "source": [
    "We passed the argument 202 to the index method. It searched the list and returned the index of the first occurence. That index is 2. Makes sense because we just inserted it there a minute ago!\n",
    "\n",
    "If we can insert things into a list then surely we can remove them too, right? Indeed we can with the `remove()` method."
   ]
  },
  {
   "cell_type": "code",
   "execution_count": 36,
   "id": "7da15997-b29d-406b-b410-69012f86412f",
   "metadata": {},
   "outputs": [
    {
     "name": "stdout",
     "output_type": "stream",
     "text": [
      "[2, 7, 202, 17, 9, 106]\n",
      "[2, 202, 17, 9, 106]\n"
     ]
    }
   ],
   "source": [
    "print(lucky_numbers)\n",
    "lucky_numbers.remove(7)\n",
    "print(lucky_numbers)"
   ]
  },
  {
   "cell_type": "markdown",
   "id": "ec592b57-f91f-4b8d-b733-e1e8d889189b",
   "metadata": {},
   "source": [
    "Watch out! `remove()` looks up an item, like `index()` does, and then removes it. It doesn't take a position number. In other words:"
   ]
  },
  {
   "cell_type": "code",
   "execution_count": 38,
   "id": "acdaeb65-db40-48c6-bb9e-64b04143fdf7",
   "metadata": {},
   "outputs": [
    {
     "name": "stdout",
     "output_type": "stream",
     "text": [
      "['David', 'Richard']\n"
     ]
    }
   ],
   "source": [
    "people = ['David', 'Bill', 'Richard']\n",
    "people.remove('Bill')\n",
    "print(people)"
   ]
  },
  {
   "cell_type": "markdown",
   "id": "8a91840d-e071-46ee-bb36-d3d03cacc83c",
   "metadata": {},
   "source": [
    "You might find yourself needing to sort the items in a list, and for that the `sort()` method exists:"
   ]
  },
  {
   "cell_type": "code",
   "execution_count": 39,
   "id": "c5f7a96e-9c99-4e21-b6e4-94481b087e84",
   "metadata": {},
   "outputs": [
    {
     "name": "stdout",
     "output_type": "stream",
     "text": [
      "[2, 202, 17, 9, 106]\n",
      "[2, 9, 17, 106, 202]\n"
     ]
    }
   ],
   "source": [
    "print(lucky_numbers)\n",
    "lucky_numbers.sort()\n",
    "print(lucky_numbers)"
   ]
  },
  {
   "cell_type": "markdown",
   "id": "c368ff01-16d1-414b-ba37-a9e45327c874",
   "metadata": {},
   "source": [
    "Finally, there are methods to find the greatest and smallest values in a list."
   ]
  },
  {
   "cell_type": "code",
   "execution_count": 40,
   "id": "0f2f3e77-d56b-4e5f-822b-bfcbce49e727",
   "metadata": {},
   "outputs": [
    {
     "name": "stdout",
     "output_type": "stream",
     "text": [
      "2\n",
      "202\n"
     ]
    }
   ],
   "source": [
    "print(min(lucky_numbers))\n",
    "print(max(lucky_numbers))"
   ]
  },
  {
   "cell_type": "markdown",
   "id": "4d0472ca-f511-403f-b734-15835cf47b36",
   "metadata": {},
   "source": [
    "Earlier we saw the use of `len()` to find out how many items are in a list. This is a built-in function and works on many types of variables, not just lists. There are two more built-in functions that are useful for working with lists: `min()` and `max()`."
   ]
  },
  {
   "cell_type": "code",
   "execution_count": 43,
   "id": "efd38af1-2b48-4e8f-a495-9bee08c04456",
   "metadata": {},
   "outputs": [
    {
     "name": "stdout",
     "output_type": "stream",
     "text": [
      "Bill\n",
      "Shirley\n"
     ]
    }
   ],
   "source": [
    "siblings = ['David', 'Bill', 'Shirley', 'Richard', 'Laverne']\n",
    "print(min(siblings))\n",
    "print(max(siblings))"
   ]
  },
  {
   "cell_type": "markdown",
   "id": "fa469af6-078a-4dc5-a4df-014a998d9fc6",
   "metadata": {},
   "source": [
    "### Lists and Functions\n",
    "\n",
    "--------------\n",
    "\n",
    "Functions have no problem accepting lists as arguments and they can also return lists as the function's value. There is a subtle \"gotcha\" when passing lists as an argument, though.\n",
    "\n",
    "First, let's look at a simple example:"
   ]
  },
  {
   "cell_type": "code",
   "execution_count": 45,
   "id": "24331a9b-7118-453d-b296-a33b61714ce4",
   "metadata": {},
   "outputs": [
    {
     "data": {
      "text/plain": [
       "15"
      ]
     },
     "execution_count": 45,
     "metadata": {},
     "output_type": "execute_result"
    }
   ],
   "source": [
    "original_list = [1, 2, 3, 9]\n",
    "\n",
    "def sum_of_list(list_to_sum):\n",
    "    sum = 0\n",
    "    for i in list_to_sum:\n",
    "        sum = sum + i\n",
    "    return sum\n",
    "\n",
    "the_sum = sum_of_list(original_list)\n",
    "the_sum"
   ]
  },
  {
   "cell_type": "markdown",
   "id": "a24dbf56-f486-45ff-967c-50d67b9a8eb5",
   "metadata": {},
   "source": [
    "That worked as expected - there's no problem passing lists into functions. What about returning lists from functions?"
   ]
  },
  {
   "cell_type": "code",
   "execution_count": 46,
   "id": "928d3bd8-3d3d-474e-af2d-0ecf696e5340",
   "metadata": {},
   "outputs": [
    {
     "name": "stdout",
     "output_type": "stream",
     "text": [
      "['goldfish', 'catfish', 'goldfish', 'catfish', 'goldfish', 'catfish', 'goldfish', 'catfish', 'goldfish', 'catfish']\n"
     ]
    }
   ],
   "source": [
    "def pet_factory(how_many_pairs):\n",
    "    pets = ['goldfish', 'catfish'] * how_many_pairs\n",
    "    return pets\n",
    "\n",
    "many_fish = pet_factory(5)\n",
    "print(many_fish)"
   ]
  },
  {
   "cell_type": "markdown",
   "id": "ddd2b673-52f3-4b53-aa08-83917353461f",
   "metadata": {},
   "source": [
    "Earlier, when we talked about functions in section 5, we said that if a function changes the value of one of its arguments then the effects of that change stay inside the function and aren't visible to anything when the function exits. That statement was mostly true. If you pass a list as an argument to a function and if that function changes the list then the change made there will be visible outside. Strings, floats, and integers asre protected, but lists are more exposed."
   ]
  },
  {
   "cell_type": "code",
   "execution_count": 48,
   "id": "bd1ffc7f-1275-4395-bb0f-9880b7b12fe5",
   "metadata": {},
   "outputs": [
    {
     "name": "stdout",
     "output_type": "stream",
     "text": [
      "[1, 2, 3, 9]\n",
      "[2, 4, 6, 18]\n"
     ]
    }
   ],
   "source": [
    "original_list = [1, 2, 3, 9]\n",
    "\n",
    "def doubler(numbers):\n",
    "    for i in range(len(numbers)):\n",
    "        numbers[i]=numbers[i]*2\n",
    "\n",
    "print(original_list)\n",
    "doubler(original_list)\n",
    "print(original_list)"
   ]
  },
  {
   "cell_type": "markdown",
   "id": "9704f5e1-a904-4dcd-96cb-b927e469ba05",
   "metadata": {},
   "source": [
    "Changing the value of an argument inside of a function usually isn't a great idea, but in the case of lists it can be useful. \n",
    "\n",
    "### No Funny Glasses Required\n",
    "\n",
    "---------------\n",
    "\n",
    "The lists we have worked with up to this point have all been one dimensional. Lists get a lot more interesting as the number of dimensions goes up. \n",
    "\n",
    "Unlike most programming languages, Python does not have a multi-dimensional list or array construction, *per se*. What Python does have is a list that is versatile enough to contain anything - and that includes containing other lists! A two-dimensional list in Python is just a \"list of lists\".\n",
    "\n",
    "Take a look:"
   ]
  },
  {
   "cell_type": "code",
   "execution_count": 50,
   "id": "24066c18-8c88-4f33-a2d4-532e14ca3fba",
   "metadata": {},
   "outputs": [],
   "source": [
    "first_presidents = [['George', 'Washington'], ['John', 'Adams'], ['Thomas', 'Jefferson']]"
   ]
  },
  {
   "cell_type": "markdown",
   "id": "4298aa82-dce3-4242-ac07-9e8ed232023a",
   "metadata": {},
   "source": [
    "Above, on that very long line, we've created a list with square brackets. Inside that list, we've put three more lists inside square brackets of their own. So we've made a list of lists.\n",
    "\n",
    "That long line is hard to read, isn't it? Python won't let us just split a long line of code across multiple lines... unless we explicitly tell it what we're doing. That is done by ending each line with a backslash and immediately pressing enter. It looks like this:"
   ]
  },
  {
   "cell_type": "code",
   "execution_count": 51,
   "id": "5a424a1e-e9df-47b6-8e4d-1739635fe830",
   "metadata": {},
   "outputs": [],
   "source": [
    "first_presidents = [['George', 'Washington'],\\\n",
    "                    ['John', 'Adams'],\\\n",
    "                    ['Thomas', 'Jefferson']]"
   ]
  },
  {
   "cell_type": "markdown",
   "id": "b737a198-bb1f-4233-b82b-4e632c14ba8c",
   "metadata": {},
   "source": [
    "Jupyter even goes to the trouble to line up the columns for us.\n",
    "\n",
    "Anyway, let's see what we've created."
   ]
  },
  {
   "cell_type": "code",
   "execution_count": 52,
   "id": "83c36c47-b859-46b3-8815-9a248f254c8c",
   "metadata": {},
   "outputs": [
    {
     "name": "stdout",
     "output_type": "stream",
     "text": [
      "[['George', 'Washington'], ['John', 'Adams'], ['Thomas', 'Jefferson']]\n"
     ]
    }
   ],
   "source": [
    "print(first_presidents)"
   ]
  },
  {
   "cell_type": "code",
   "execution_count": 54,
   "id": "bfd80fad-ec05-44e6-9c53-5595c91443a7",
   "metadata": {},
   "outputs": [
    {
     "name": "stdout",
     "output_type": "stream",
     "text": [
      "['George', 'Washington']\n"
     ]
    }
   ],
   "source": [
    "print(first_presidents[0])"
   ]
  },
  {
   "cell_type": "code",
   "execution_count": 55,
   "id": "c8bb201b-36fd-4c16-8b98-30f6fe49df73",
   "metadata": {},
   "outputs": [
    {
     "name": "stdout",
     "output_type": "stream",
     "text": [
      "['Thomas', 'Jefferson']\n"
     ]
    }
   ],
   "source": [
    "print(first_presidents[2])"
   ]
  },
  {
   "cell_type": "markdown",
   "id": "e6487cb4-621b-44b3-a4ab-0220ade2124a",
   "metadata": {},
   "source": [
    "We can index into the outer array, the one that contains the smaller lists, just like we normally would. We can also index into the inner array two different ways. The long way..."
   ]
  },
  {
   "cell_type": "code",
   "execution_count": 56,
   "id": "2d64f9fd-433f-44f6-bb83-191a2226c572",
   "metadata": {},
   "outputs": [
    {
     "data": {
      "text/plain": [
       "'George'"
      ]
     },
     "execution_count": 56,
     "metadata": {},
     "output_type": "execute_result"
    }
   ],
   "source": [
    "president_number_one = first_presidents[0]\n",
    "first_name = president_number_one[0]\n",
    "first_name"
   ]
  },
  {
   "cell_type": "markdown",
   "id": "180d15db-1340-4b8a-bb09-46721f326b5f",
   "metadata": {},
   "source": [
    "... or we can take the shortcut:"
   ]
  },
  {
   "cell_type": "code",
   "execution_count": 58,
   "id": "9a00496d-596e-48b1-99e4-04a448d02779",
   "metadata": {},
   "outputs": [
    {
     "data": {
      "text/plain": [
       "'George'"
      ]
     },
     "execution_count": 58,
     "metadata": {},
     "output_type": "execute_result"
    }
   ],
   "source": [
    "first_name = first_presidents[0][0]\n",
    "first_name"
   ]
  },
  {
   "cell_type": "markdown",
   "id": "ee808030-4d8e-4feb-b1b8-58d9aaa783c0",
   "metadata": {},
   "source": [
    "The first zero got us to the \"George\", \"Washington\" element, and the second zero indexed into that and gave us 'George'. Let's try some other combinations:"
   ]
  },
  {
   "cell_type": "code",
   "execution_count": 59,
   "id": "3c017b37-b383-4282-a390-4398d472b316",
   "metadata": {},
   "outputs": [
    {
     "data": {
      "text/plain": [
       "'John'"
      ]
     },
     "execution_count": 59,
     "metadata": {},
     "output_type": "execute_result"
    }
   ],
   "source": [
    "next_first_name = first_presidents[1][0]\n",
    "next_first_name"
   ]
  },
  {
   "cell_type": "code",
   "execution_count": 60,
   "id": "76b2e273-ffc9-4ecc-a8d9-f28193b9f7bb",
   "metadata": {},
   "outputs": [
    {
     "data": {
      "text/plain": [
       "'Adams'"
      ]
     },
     "execution_count": 60,
     "metadata": {},
     "output_type": "execute_result"
    }
   ],
   "source": [
    "another_name = first_presidents[1][1]\n",
    "another_name"
   ]
  },
  {
   "cell_type": "markdown",
   "id": "f5e4dab2-97d5-42d4-a8a3-7b6b72c9f445",
   "metadata": {},
   "source": [
    "It's easy to see how we're indexing into this two-dimensional list. In fact, it works roughly the same way as a 2-D array in most programming languages.\n",
    "\n",
    "It's so similar, in fact, that you're probably feeling the urge to do some Linear Algebra right now.\n",
    "\n",
    "Don't.  Not yet.\n",
    "\n",
    "Python's multidimensional list support is exactly that: support for lists. It can be pressed into service for arrays (in the linear algebraic sense of the term) but performance is pretty bad. In Programming Elements 101 we'll see a software library called \"numpy\". It is superior for arrays where you want to do some math.\n",
    "\n",
    "Now let's look at how to traverse multi-dimensional array. We'll create a 2-D list that look like this:\n",
    "\n",
    "```\n",
    "        Column 0  Column 1  Column 2  Column3\n",
    "Row 0.     A         B         C         D\n",
    "Row 1.     E         F         G         H\n",
    "Row 2.     I         J         K         L\n",
    "Row 3.     M         N         O         P\n",
    "```\n",
    "  "
   ]
  },
  {
   "cell_type": "code",
   "execution_count": 61,
   "id": "3cf9b6e7-a6af-461d-a5fe-82b219fc5906",
   "metadata": {},
   "outputs": [],
   "source": [
    "letter_table = [['A', 'B', 'C', 'D'],\\\n",
    "['E', 'F', 'G', 'H'],\\\n",
    "['I', 'J', 'K', 'L'],\\\n",
    "['M', 'N', 'O', 'P']]"
   ]
  },
  {
   "cell_type": "markdown",
   "id": "2854f7bc-47be-44c5-9409-121a1fb486b4",
   "metadata": {},
   "source": [
    "We can get a whole row:"
   ]
  },
  {
   "cell_type": "code",
   "execution_count": 62,
   "id": "f5e5d3ff-ed52-4581-8fa2-17b50e0f5dab",
   "metadata": {},
   "outputs": [
    {
     "name": "stdout",
     "output_type": "stream",
     "text": [
      "['E', 'F', 'G', 'H']\n"
     ]
    }
   ],
   "source": [
    "print(letter_table[1])"
   ]
  },
  {
   "cell_type": "markdown",
   "id": "496deab7-b51d-44e8-a709-51ec4f1993fe",
   "metadata": {},
   "source": [
    "or we can get a specific cell (the order is row, then column):"
   ]
  },
  {
   "cell_type": "code",
   "execution_count": 63,
   "id": "2cff7723-8178-4040-853c-5f0e50ab1ea8",
   "metadata": {},
   "outputs": [
    {
     "name": "stdout",
     "output_type": "stream",
     "text": [
      "J\n"
     ]
    }
   ],
   "source": [
    "print(letter_table[2][1])"
   ]
  },
  {
   "cell_type": "markdown",
   "id": "909e4a08-c3ee-4630-80ed-99e868f06f63",
   "metadata": {},
   "source": [
    "We can access the table by column, but it's not as easy. We'll have to write a loop that steps down a column and reads the values:"
   ]
  },
  {
   "cell_type": "code",
   "execution_count": 64,
   "id": "069aec83-d853-4879-8abc-86bb6c2581d9",
   "metadata": {},
   "outputs": [
    {
     "name": "stdout",
     "output_type": "stream",
     "text": [
      "D\n",
      "H\n",
      "L\n",
      "P\n"
     ]
    }
   ],
   "source": [
    "for i in range(len(letter_table)):\n",
    "    print(letter_table[i][3])\n"
   ]
  },
  {
   "cell_type": "markdown",
   "id": "47307bee-35b0-4759-ac1c-16326b02c43d",
   "metadata": {},
   "source": [
    "What if we want to access **all** of the cells in the array? For that, nested loops work."
   ]
  },
  {
   "cell_type": "code",
   "execution_count": 65,
   "id": "7bc31750-96ef-4f80-9def-3a3aa4670417",
   "metadata": {},
   "outputs": [
    {
     "name": "stdout",
     "output_type": "stream",
     "text": [
      "A\n",
      "B\n",
      "C\n",
      "D\n",
      "E\n",
      "F\n",
      "G\n",
      "H\n",
      "I\n",
      "J\n",
      "K\n",
      "L\n",
      "M\n",
      "N\n",
      "O\n",
      "P\n"
     ]
    }
   ],
   "source": [
    "for row in range(len(letter_table)):\n",
    "    for col in range(len(letter_table[row])):\n",
    "        print(letter_table[row][col])"
   ]
  },
  {
   "cell_type": "markdown",
   "id": "1aea7794-6d66-40d5-a40e-6500fd44a6fd",
   "metadata": {},
   "source": [
    "\"But wait!\", I hear you say. \"I need to store higher-dimensionality data!\" No problem. Python will allow arbitrarily deep nesting. We can have lists of lists of lists (3 dimensions) or lists of lists of lists of lists for four dimensions.  Accessing the cells is just a matter of adding more array indexes to the end of the name."
   ]
  },
  {
   "cell_type": "code",
   "execution_count": 70,
   "id": "ea622723-d293-4c11-adde-2309f6bc2597",
   "metadata": {},
   "outputs": [
    {
     "name": "stdout",
     "output_type": "stream",
     "text": [
      "Adams\n",
      "Aaron\n"
     ]
    }
   ],
   "source": [
    "first_vice_presidents = [[\"John\", \"Adams\"],\\\n",
    "                         [\"Thomas\", \"Jefferson\"],\\\n",
    "                         [\"Aaron\", \"Burr\"]]\n",
    "\n",
    "early_us_leaders = [first_presidents, first_vice_presidents]\n",
    "print(early_us_leaders[1][0][1])\n",
    "print(early_us_leaders[1][2][0])"
   ]
  },
  {
   "cell_type": "markdown",
   "id": "f9d27416-0b23-42b4-9dd8-7c5daf43eab6",
   "metadata": {},
   "source": [
    "It's easy to get confused with deeply nested lists. Three dimensions isn't bad, four is managable, but as the structures get deeper and deeper I have to resort to drawing pictures and frequent testing every step of the way.\n",
    "\n",
    "tl;dr: If you're a string theorist working in 21 dimensions or whatever, Python lists probably aren't the way to go. You should use numpy.\n",
    "\n",
    "### Tuples\n",
    "\n",
    "------------\n",
    "\n",
    "A \"double\", mathematically speaking, is two of something. A \"triple\" is three of them. If you don't know how many, or you don't want to specify, then it's generically called a \"tuple\" (pronounced \"Too pull\", according the The American Heritage Dictionary and, more importantly, everyone who has ever taught the database class).\n",
    "\n",
    "Python gracious provides us with tuples. Their syntax is just like a list, only using parentheses instead of square brackets.  For instance:\n"
   ]
  },
  {
   "cell_type": "code",
   "execution_count": 71,
   "id": "edc0a777-be4b-4ac7-bb75-a050b7c41815",
   "metadata": {},
   "outputs": [
    {
     "name": "stdout",
     "output_type": "stream",
     "text": [
      "8\n"
     ]
    }
   ],
   "source": [
    "my_tuple = (2, 8, 256)\n",
    "print(my_tuple[1])"
   ]
  },
  {
   "cell_type": "markdown",
   "id": "423b04a2-be02-4416-9c2e-0b16a3aa896c",
   "metadata": {},
   "source": [
    "Tuples have some restrictions when compared to lists.\n",
    "* You can't sort them.\n",
    "* You can't insert or delete from them\n",
    "* You can't change the values in them\n",
    "\n",
    "Why would we want tuples if they're so similar to lists, only somewhat disabled? In a word, **\"speed\"**. They're very fast compared to lists. That's why some Python functions require them. The most likely time you'll see tuples is when you're accessing data from a database. The second most common use is when you need to return multiple values from a function.\n",
    "\n",
    "Since tuples have the speed advantage but lists are more versatile, it's not unusual to see programmers use the `list()` and `tuple()` functions to convert between the two types:"
   ]
  },
  {
   "cell_type": "code",
   "execution_count": 72,
   "id": "93680696-8152-4323-b650-c7009c4d7393",
   "metadata": {},
   "outputs": [
    {
     "data": {
      "text/plain": [
       "[2, 8, 256]"
      ]
     },
     "execution_count": 72,
     "metadata": {},
     "output_type": "execute_result"
    }
   ],
   "source": [
    "my_tuple = (2, 8, 256)\n",
    "list_version = list(my_tuple)\n",
    "list_version"
   ]
  },
  {
   "cell_type": "code",
   "execution_count": 73,
   "id": "15644bdc-464f-4ae5-afc6-46686d90c194",
   "metadata": {},
   "outputs": [
    {
     "data": {
      "text/plain": [
       "(2, 4, 6, 8)"
      ]
     },
     "execution_count": 73,
     "metadata": {},
     "output_type": "execute_result"
    }
   ],
   "source": [
    "my_list=[2, 4, 6, 8]\n",
    "tuple_version = tuple(my_list)\n",
    "tuple_version"
   ]
  },
  {
   "cell_type": "markdown",
   "id": "d4903eba-8319-4e04-ba83-b67ccd7c204d",
   "metadata": {},
   "source": [
    "Returning multiple values from a function feels like cheating the first time you do it. After all, `sin(x)` returns exactly one number, right?\n",
    "\n",
    "What if you wrote a function that returns a complex number, like 1.105+7.3i ? That's one number (albeit one on the complex plane) but it's written like two pieces of data being returned.\n",
    "\n",
    "What if you got really fancy and wrote a function that returned a column vector? That would be like returning a lot of numbers all at once, wouldn't it?\n",
    "\n",
    "So returning multiple values at once isn't that bad, is it? Especially if the values all have related meaning and \"belong\" together."
   ]
  },
  {
   "cell_type": "code",
   "execution_count": 75,
   "id": "20abac93-edc0-41bf-b10d-36885a06d85b",
   "metadata": {},
   "outputs": [
    {
     "name": "stdout",
     "output_type": "stream",
     "text": [
      "2\n",
      "7\n"
     ]
    }
   ],
   "source": [
    "def get_extremes(number_list):\n",
    "    min_val = min(number_list)\n",
    "    max_val = max(number_list)\n",
    "    return (min_val, max_val)\n",
    "\n",
    "numbers = [5, 3, 2, 7, 2, 5]\n",
    "low, high = get_extremes(numbers)\n",
    "print(low)\n",
    "print(high)\n"
   ]
  },
  {
   "cell_type": "markdown",
   "id": "4fb5aaf8-d268-4402-95c3-8590fe94ba91",
   "metadata": {},
   "source": [
    "A couple of things to note.  First, notice how the function creates a tuple and returns it. The parentheses indicate a tuple is being constructed and the min_val and max_val variables are put into the tuple as the first and second elements.\n",
    "\n",
    "Second, look at how that tuple is returned to the caller, taken apart, and stored in a pair of variables. You'll see the syntax `first_variable, second_variable, third_variable = func()` when a tuple is returned from a function. The first element of the tuple is placed in `first_variable` and so on.\n",
    "\n",
    "### Coming Up Next\n",
    "\n",
    "--------------\n",
    "\n",
    "We've made it to the end of this section. Take a moment, breathe, and relax... this is the longest module in the \"Python and Jupyter\" series. Next up we have lots of information on strings. We've been using strings a lot already without really looking at what they are and what they can do. It's time to remedy that.\n",
    "\n",
    "(pssst. Want a hint? Strings are just tuples of letters!)"
   ]
  }
 ],
 "metadata": {
  "kernelspec": {
   "display_name": "Python 3 (ipykernel)",
   "language": "python",
   "name": "python3"
  },
  "language_info": {
   "codemirror_mode": {
    "name": "ipython",
    "version": 3
   },
   "file_extension": ".py",
   "mimetype": "text/x-python",
   "name": "python",
   "nbconvert_exporter": "python",
   "pygments_lexer": "ipython3",
   "version": "3.12.3"
  }
 },
 "nbformat": 4,
 "nbformat_minor": 5
}
