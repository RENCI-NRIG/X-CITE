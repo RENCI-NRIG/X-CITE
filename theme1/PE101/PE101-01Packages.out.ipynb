{
  "cells": [
    {
      "cell_type": "markdown",
      "metadata": {},
      "source": [
        "# PE101-01: Using Python Packages and Modules\n",
        "\n",
        "By itself, Python provides everything you need to write programs. These\n",
        "programs won’t have a fancy user interface and they may not run very\n",
        "fast, but they’ll work. If that’s all Python offered, it might have\n",
        "become a popular language but it wouldn’t have taken over most of the\n",
        "world the way it has. No, what Python has going for it is a simple way\n",
        "to take commonly-used chunks of code, wrap them up neatly into sharable\n",
        "budles, and distribute those bundles far and wide. The mechanism for\n",
        "doing this in Python is called **packages**.\n",
        "\n",
        "In this training unit, PE101-01, we’re going to look at some of the\n",
        "packages that come with Python. These are packages that you can count on\n",
        "being available anywhere you can run Python. In the next unit, PE101-02,\n",
        "we’ll look at how to find and use packages hosted in *repositories*\n",
        "available to anyone but not necessarily already installed where you’re\n",
        "running your programs.\n",
        "\n",
        "Python is, by itself, a rather simple language. The PE100 series of\n",
        "units has introduced you to almost all of the language. The language is\n",
        "kept small by moving the “nice to have, but not really necessary” parts\n",
        "into their own independent packages. Let’s start with an example:"
      ],
      "id": "cece66b4-087a-4e9e-b0eb-d8aafdc5bb08"
    },
    {
      "cell_type": "code",
      "execution_count": 4,
      "metadata": {},
      "outputs": [
        {
          "output_type": "stream",
          "name": "stdout",
          "text": [
            "pi equals 3.141592653589793\n",
            "There are 2652 possible outcomes when drawing two cards from a deck\n",
            "The natural logarithm of 7.994 is 2.0786912602891316"
          ]
        }
      ],
      "source": [
        "import math\n",
        "\n",
        "print(\"pi equals\", math.pi)\n",
        "print(\"There are\", math.perm(52,2), \"possible outcomes when drawing two cards from a deck\")\n",
        "print(\"The natural logarithm of 7.994 is\", math.log(7.994))"
      ],
      "id": "cell-2"
    },
    {
      "cell_type": "markdown",
      "metadata": {},
      "source": [
        "## Packages\n",
        "\n",
        "There are literally oodles of mathematical functions already implemented\n",
        "for you in the `math` package. To see a list of them as they stand\n",
        "currently, see ” [math - mathematical\n",
        "functions](https://docs.python.org/3/library/math.html) ” in the current\n",
        "Python documentation.\n",
        "\n",
        "Taking a look at the code above, the first thing we notice is the line\n",
        "`import math`. This tells the Python interpreter to find the package\n",
        "named “math” and to open it up and make its contents available to this\n",
        "session. The things in the package we can get to will all be named by\n",
        "the word “math”, a period, and then the name of the actual part of the\n",
        "package to use. We would say the package “math” is imported into the\n",
        "“math namespace”. This is the default behavior, but we can change that.\n",
        "Indeed:"
      ],
      "id": "7da3e93e-1470-4083-ba6d-f5989431ea92"
    },
    {
      "cell_type": "code",
      "execution_count": 5,
      "metadata": {},
      "outputs": [
        {
          "output_type": "stream",
          "name": "stdout",
          "text": [
            "0.5728159131285796"
          ]
        }
      ],
      "source": [
        "import random as rand\n",
        "\n",
        "print(rand.random())"
      ],
      "id": "cell-4"
    },
    {
      "cell_type": "markdown",
      "metadata": {},
      "source": [
        "By using the `as` keyword in our `import` statement, we’re telling\n",
        "Python to load the “random” package but let us refer to everything as\n",
        "though its name was “rand”. In a little more detail, we’re creating a\n",
        "namespace “rand” instead of just letting Python automatically create a\n",
        "namespace with the same name as the package and load everything into\n",
        "that space.\n",
        "\n",
        "To see a current list of the packages that come with a standard Python\n",
        "installation, take a look at [this comprehensive\n",
        "list](https://docs.python.org/3/library/). In the first few sections it\n",
        "will list “built-in” capabilities - this is what you can do without\n",
        "importing anything. The rest of the page lists the available packages.\n",
        "Click on any of them for details.\n",
        "\n",
        "## Modules\n",
        "\n",
        "So far we’ve seen functions and constants placed into packages and\n",
        "directly accessible with just the package name. If you have a large\n",
        "package, or a package that has lots of custom changes to manage, it can\n",
        "be helpful to break things up into **modules**. Think of a module as a\n",
        "“sub-package”. Package and module names are separated by periods. Let’s\n",
        "take a look…"
      ],
      "id": "4427821c-be78-468a-9795-579dd116e747"
    },
    {
      "cell_type": "code",
      "execution_count": 6,
      "metadata": {},
      "outputs": [
        {
          "output_type": "stream",
          "name": "stdout",
          "text": [
            "all is good."
          ]
        }
      ],
      "source": [
        "import os.path as op\n",
        "\n",
        "if op.exists(\"/usr/bin\"):\n",
        "    print(\"all is good.\")\n",
        "else:\n",
        "    print(\"I don't even know how the server booted!\")\n",
        "    "
      ],
      "id": "cell-6"
    },
    {
      "cell_type": "markdown",
      "metadata": {},
      "source": [
        "We imported the “path” module from the “os” package and loaded it into a\n",
        "namespace called “op”. Then we were able to use that namespace to get to\n",
        "the `exists()` function. We checked to see if the “/usr/bin” directory\n",
        "exists. That is, as you might suspect, a critically important directory.\n",
        "\n",
        "## Coming up next: Packages from the outside world\n",
        "\n",
        "As we keep saying, one of the biggest (if not **the** biggest) strengths\n",
        "of Python is the half million packages that people have written and made\n",
        "publicly available. In the next unit, [PE101-02: Repositories, Sharing,\n",
        "and Conda](PE101-02CondaRepos.ipynb), we’ll take a look at how to find\n",
        "those packages, copy them to CHESS servers, and use them in your own\n",
        "notebooks."
      ],
      "id": "3d43ee04-62c6-45c9-bc13-211f57045bec"
    }
  ],
  "nbformat": 4,
  "nbformat_minor": 5,
  "metadata": {
    "kernelspec": {
      "name": "python3",
      "display_name": "Python 3 (ipykernel)",
      "language": "python"
    },
    "language_info": {
      "name": "python",
      "codemirror_mode": {
        "name": "ipython",
        "version": "3"
      },
      "file_extension": ".py",
      "mimetype": "text/x-python",
      "nbconvert_exporter": "python",
      "pygments_lexer": "ipython3",
      "version": "3.12.3"
    }
  }
}